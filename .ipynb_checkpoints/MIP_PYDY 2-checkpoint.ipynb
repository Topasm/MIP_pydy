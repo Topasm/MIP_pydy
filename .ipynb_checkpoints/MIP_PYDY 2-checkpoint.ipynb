{
 "cells": [
  {
   "cell_type": "markdown",
   "metadata": {},
   "source": [
    "# Mobile inverted pendulum python dynamics\n",
    "author:SeongHyeon Kim\n",
    "\n",
    "program:PYDY balancing robot simulator\n"
   ]
  },
  {
   "cell_type": "markdown",
   "metadata": {},
   "source": [
    "필요한 라이브러리 포함\n"
   ]
  },
  {
   "cell_type": "code",
   "execution_count": 4,
   "metadata": {},
   "outputs": [],
   "source": [
    "from sympy import sin, cos, symbols, solve, Matrix, init_printing\n",
    "from sympy.physics.mechanics import *\n",
    "from sympy.physics.vector import ReferenceFrame\n",
    "import sympy.physics.mechanics as me\n",
    "import sympy as sm\n",
    "import math as m\n",
    "import numpy as np"
   ]
  },
  {
   "cell_type": "code",
   "execution_count": 5,
   "metadata": {},
   "outputs": [],
   "source": [
    "init_vprinting()"
   ]
  },
  {
   "cell_type": "markdown",
   "metadata": {},
   "source": [
    "# Reference frames"
   ]
  },
  {
   "cell_type": "markdown",
   "metadata": {},
   "source": [
    "N은 외부의 기준 프레임. 속도를 0으로"
   ]
  },
  {
   "cell_type": "code",
   "execution_count": 6,
   "metadata": {},
   "outputs": [],
   "source": [
    "#Newtonian reference frame\n",
    "N=ReferenceFrame('N')\n",
    "\n",
    "# Define a world coordinate origin\n",
    "No = Point('No')\n",
    "No.set_vel(N, 0)"
   ]
  },
  {
   "cell_type": "code",
   "execution_count": 7,
   "metadata": {},
   "outputs": [],
   "source": [
    "F = ReferenceFrame('F')\n",
    "\n",
    "P = ReferenceFrame('P')"
   ]
  },
  {
   "cell_type": "markdown",
   "metadata": {},
   "source": [
    "F = N.orientnew('F', 'Axis',[psi, N.z] )     # Intermediate reference frame\n",
    "\n",
    "P = F.orientnew('P', 'Axis', [theta, F.y])   # Inverted Pendulum"
   ]
  },
  {
   "cell_type": "markdown",
   "metadata": {},
   "source": [
    "기준프레임.dcm(상대프레임)"
   ]
  },
  {
   "cell_type": "markdown",
   "metadata": {},
   "source": [
    "## Newtonian, Bodies, Frames, Particles, Points\n"
   ]
  },
  {
   "cell_type": "code",
   "execution_count": 8,
   "metadata": {},
   "outputs": [],
   "source": [
    "Mp =sm.symbols('Mp')\n",
    "M = sm.symbols('M')\n",
    "\n",
    "body_p_cm = me.Point('p_cm')\n",
    "body_p_f = me.ReferenceFrame('p_f')\n",
    "body_p = me.RigidBody('p', body_p_cm, body_p_f, Mp, (me.outer(body_p_f.x,body_p_f.x),body_p_cm))\n",
    "body_l_cm = me.Point('l_cm')\n",
    "body_l_f = me.ReferenceFrame('l_f')\n",
    "body_l = me.RigidBody('l', body_l_cm, body_l_f, M, (me.outer(body_l_f.x,body_l_f.x),body_l_cm))\n",
    "body_r_cm = me.Point('r_cm')\n",
    "body_r_f = me.ReferenceFrame('r_f')\n",
    "body_r = me.RigidBody('r', body_r_cm, body_r_f, M, (me.outer(body_r_f.x,body_r_f.x),body_r_cm))\n",
    "frame_f = me.ReferenceFrame('f')\n",
    "I = me.Point('i')\n",
    "LN = me.Point('ln')\n",
    "RN = me.Point('rn')"
   ]
  },
  {
   "cell_type": "markdown",
   "metadata": {},
   "source": [
    "## Variables, Constants and Specified"
   ]
  },
  {
   "cell_type": "code",
   "execution_count": 9,
   "metadata": {
    "scrolled": true
   },
   "outputs": [],
   "source": [
    "x = me.dynamicsymbols('x')            # F1> measure number of Velocity of P in N\n",
    "xd = me.dynamicsymbols('xd')\n",
    "xd2 = me.dynamicsymbols('xdd')\n",
    "theta = me.dynamicsymbols('theta')    # F2> measure number of Angular velocity of P in N\n",
    "thetad = me.dynamicsymbols('thetad')\n",
    "thetad2 = me.dynamicsymbols('thetadd')\n",
    "delta = me.dynamicsymbols('delta')    # N3> measure number of Angular velocity of P in N\n",
    "deltad = me.dynamicsymbols('deltad')\n",
    "deltad2 = me.dynamicsymbols('deltadd')\n",
    "wL = me.dynamicsymbols('wL')          # Angular velocity of L in N\n",
    "wLd = me.dynamicsymbols('wL', 1)\n",
    "wLd2 = me.dynamicsymbols('wL', 2)\n",
    "wR = me.dynamicsymbols('wR')          # Angular velocity of R in N\n",
    "wRd = me.dynamicsymbols('wR', 1)\n",
    "wRd2 = me.dynamicsymbols('wR', 2)\n",
    "TL, TR = me.dynamicsymbols('tL tR')   #Torques on L, R\n",
    "g = sm.symbols('g', real=True)        #Gravitational acceleration\n",
    "d = sm.symbols('d', real=True)        # Distance from point I to Lo (or Ro)\n",
    "R = sm.symbols('r', real=True)        #Radius of wheels\n",
    "l = sm.symbols('l', real=True)        # Distance from point I to mass center of P\n",
    "t = sm.symbols('t')"
   ]
  },
  {
   "cell_type": "markdown",
   "metadata": {},
   "source": [
    "## Mass and Inertia"
   ]
  },
  {
   "cell_type": "code",
   "execution_count": null,
   "metadata": {},
   "outputs": [],
   "source": []
  },
  {
   "cell_type": "code",
   "execution_count": null,
   "metadata": {},
   "outputs": [],
   "source": []
  },
  {
   "cell_type": "code",
   "execution_count": null,
   "metadata": {},
   "outputs": [],
   "source": []
  },
  {
   "cell_type": "code",
   "execution_count": null,
   "metadata": {},
   "outputs": [],
   "source": []
  },
  {
   "cell_type": "markdown",
   "metadata": {},
   "source": [
    "###  Geometry relating unit vectors"
   ]
  },
  {
   "cell_type": "code",
   "execution_count": 10,
   "metadata": {},
   "outputs": [],
   "source": [
    "F.orient(N, 'Axis', [delta, N.z])"
   ]
  },
  {
   "cell_type": "code",
   "execution_count": 11,
   "metadata": {},
   "outputs": [],
   "source": [
    "P.orient(F, 'Axis', [theta, F.y])"
   ]
  },
  {
   "cell_type": "code",
   "execution_count": 12,
   "metadata": {
    "scrolled": true
   },
   "outputs": [
    {
     "data": {
      "text/latex": [
       "$\\displaystyle \\left[\\begin{matrix}\\operatorname{cos}\\left(\\delta\\right) & - \\operatorname{sin}\\left(\\delta\\right) & 0\\\\\\operatorname{sin}\\left(\\delta\\right) & \\operatorname{cos}\\left(\\delta\\right) & 0\\\\0 & 0 & 1\\end{matrix}\\right]$"
      ],
      "text/plain": [
       "⎡cos(δ)  -sin(δ)  0⎤\n",
       "⎢                  ⎥\n",
       "⎢sin(δ)  cos(δ)   0⎥\n",
       "⎢                  ⎥\n",
       "⎣  0        0     1⎦"
      ]
     },
     "execution_count": 12,
     "metadata": {},
     "output_type": "execute_result"
    }
   ],
   "source": [
    "N.dcm(F)"
   ]
  },
  {
   "cell_type": "code",
   "execution_count": 13,
   "metadata": {
    "scrolled": false
   },
   "outputs": [
    {
     "data": {
      "text/latex": [
       "$\\displaystyle \\left[\\begin{matrix}\\operatorname{cos}\\left(\\theta\\right) & 0 & \\operatorname{sin}\\left(\\theta\\right)\\\\0 & 1 & 0\\\\- \\operatorname{sin}\\left(\\theta\\right) & 0 & \\operatorname{cos}\\left(\\theta\\right)\\end{matrix}\\right]$"
      ],
      "text/plain": [
       "⎡cos(θ)   0  sin(θ)⎤\n",
       "⎢                  ⎥\n",
       "⎢   0     1    0   ⎥\n",
       "⎢                  ⎥\n",
       "⎣-sin(θ)  0  cos(θ)⎦"
      ]
     },
     "execution_count": 13,
     "metadata": {},
     "output_type": "execute_result"
    }
   ],
   "source": [
    "F.dcm(P)"
   ]
  },
  {
   "cell_type": "markdown",
   "metadata": {},
   "source": [
    "## Position vectors"
   ]
  },
  {
   "cell_type": "markdown",
   "metadata": {},
   "source": [
    "P_No_I = x*F.x    # Point No to I\n",
    "P_I_Po = l*P.z    # Point I to mass center of P\n",
    "P_I_Lo = d*F.y    # Point I to center of wheel L\n",
    "P_I_Ro = -d*F.y   # Point I to center of wheel R\n",
    "P_Lo_LN = -R*F.z   # Center of wheel L to contact point LN\n",
    "P_Ro_RN = -R*F.z   # Center of wheel R to contact point RN"
   ]
  },
  {
   "cell_type": "code",
   "execution_count": 14,
   "metadata": {},
   "outputs": [],
   "source": [
    "I = No.locatenew('I', x*F.x)      # Point No to I\n",
    "\n",
    "Po = I.locatenew('Po', l*P.z)     # Point I to mass center of P\n",
    "\n",
    "Lo = I.locatenew('Lo', d*F.y)     # Point I to center of wheel L\n",
    "\n",
    "Ro = I.locatenew('Ro', -d*F.y)    # Point I to center of wheel R\n",
    "\n",
    "LN = Lo.locatenew('LN', -R*F.z)   # Center of wheel L to contact point LN\n",
    "\n",
    "RN = Ro.locatenew('RN', -R*F.z)   # Center of wheel R to contact point RN"
   ]
  },
  {
   "cell_type": "markdown",
   "metadata": {},
   "source": [
    "## Angular Velocities\n"
   ]
  },
  {
   "cell_type": "code",
   "execution_count": 15,
   "metadata": {},
   "outputs": [],
   "source": [
    "F.set_ang_vel(N, deltad*N.z)        # Angular velocity of F in N\n",
    "P.set_ang_vel(F, thetad*F.y)        # Angular velocity of P in F\n",
    "body_l_f.set_ang_vel(F, wLd*F.y)    # wL is related to w and v due to rolling\n",
    "body_r_f.set_ang_vel(F, wRd*F.y)    # wR is related to w and v due to rolling"
   ]
  },
  {
   "cell_type": "markdown",
   "metadata": {},
   "source": [
    "## Velocities of relevant points"
   ]
  },
  {
   "cell_type": "code",
   "execution_count": 16,
   "metadata": {},
   "outputs": [
    {
     "data": {
      "image/png": "[encoded data removed]",
      "text/latex": [
       "$\\displaystyle xd\\mathbf{\\hat{f}_x} + l thetad\\mathbf{\\hat{p}_x} + l deltad \\operatorname{sin}\\left(\\theta\\right)\\mathbf{\\hat{p}_y}$"
      ],
      "text/plain": [
       "xd f_x + l⋅thetad p_x + l⋅deltad⋅sin(θ) p_y"
      ]
     },
     "execution_count": 16,
     "metadata": {},
     "output_type": "execute_result"
    }
   ],
   "source": [
    "V_I_N = I.set_vel(N, xd*F.x)             # Velocity of point I in N\n",
    "\n",
    "V_PO_N = Po.v2pt_theory(I,N,P)           # Velocity of center of mass of P\n",
    "\n",
    "V_LO_N = Lo.v2pt_theory(I, N,P,)         # Velocity of center of L\n",
    "\n",
    "V_RO_N = Ro.v2pt_theory(I,N,P)           # Velocity of center of R\n",
    "\n",
    "V_LN_N = LN.v2pt_theory(Lo,N,body_l_f)          # Velocity of contact point of L\n",
    "\n",
    "V_RN_N = RN.v2pt_theory(Ro,N,body_r_f)          # Velocity of contact point of R\n",
    "\n",
    "V_PO_N\n"
   ]
  },
  {
   "cell_type": "markdown",
   "metadata": {},
   "source": [
    "## Motion Constraints (relates wL and wR to w and v)\n"
   ]
  },
  {
   "cell_type": "code",
   "execution_count": 17,
   "metadata": {},
   "outputs": [
    {
     "data": {
      "image/png": "[encoded data removed]",
      "text/latex": [
       "$\\displaystyle \\left[ - d deltad - r \\dot{wL} + xd, \\  d deltad - r \\dot{wR} + xd\\right]$"
      ],
      "text/plain": [
       "[-d⋅deltad - r⋅wL̇ + xd, d⋅deltad - r⋅wṘ + xd]"
      ]
     },
     "execution_count": 17,
     "metadata": {},
     "output_type": "execute_result"
    }
   ],
   "source": [
    " D1 = dot(V_LN_N, F.x)     #Rolling without slipping condition of L\n",
    "    \n",
    "# Dependent[1] = x' - d*delta' - R*wL'\n",
    " D2 = dot(V_RN_N, F.x)    #Rolling without slipping condition of R\n",
    "\n",
    " #Dependent[2] = x' + d*delta' - R*wR'\n",
    " [D1,D2]\n",
    " "
   ]
  },
  {
   "cell_type": "code",
   "execution_count": 18,
   "metadata": {},
   "outputs": [],
   "source": [
    "#Constrain(Dependent[wLd,wRd])     ???\n",
    "wLd = (xd-d*deltad)/R\n",
    "wRd = (xd+d*deltad)/R\n",
    "wLd2 = (xd2-d*deltad2)/R\n",
    "wRd2 = (xd2+d*deltad2)/R\n"
   ]
  },
  {
   "cell_type": "markdown",
   "metadata": {},
   "source": [
    "### Forces"
   ]
  },
  {
   "cell_type": "code",
   "execution_count": 19,
   "metadata": {
    "scrolled": false
   },
   "outputs": [],
   "source": [
    "#중력벡터\n",
    "Gravity = -g * N.z\n",
    "fL = []\n",
    "\n",
    "fL.extend([(body_p_f, -g*Mp*N.z),(body_r_f, -g*M*N.z),(body_l_f, -g*M*N.z)],)"
   ]
  },
  {
   "cell_type": "code",
   "execution_count": 20,
   "metadata": {},
   "outputs": [
    {
     "data": {
      "text/plain": [
       "[(p_f, - Mp*g*N.z),\n",
       " (r_f, - M*g*N.z),\n",
       " (l_f, - M*g*N.z),\n",
       " [(p_f, - tL*F.y), (l_f, tL*F.y)],\n",
       " [(p_f, - tR*F.y), (r_f, tR*F.y)]]"
      ]
     },
     "execution_count": 20,
     "metadata": {},
     "output_type": "execute_result"
    }
   ],
   "source": [
    "\n",
    "fL.append([(body_p_f, -TL*F.y), (body_l_f, TL*F.y)])     #Torques on L\n",
    "\n",
    "    \n",
    "fL.append([(body_p_f, -TR*F.y), (body_r_f, TR*F.y)])    #Torques on R\n",
    "\n",
    "fL"
   ]
  },
  {
   "cell_type": "markdown",
   "metadata": {},
   "source": [
    "## Kane's equations of motion\n"
   ]
  },
  {
   "cell_type": "code",
   "execution_count": 21,
   "metadata": {},
   "outputs": [],
   "source": [
    "from sympy import trigsimp\n",
    "from sympy.physics.mechanics import KanesMethod"
   ]
  },
  {
   "cell_type": "code",
   "execution_count": 22,
   "metadata": {},
   "outputs": [
    {
     "data": {
      "image/png": "[encoded data removed]",
      "text/latex": [
       "$\\displaystyle \\left[ x, \\  \\theta, \\  \\delta\\right]$"
      ],
      "text/plain": [
       "[x, θ, δ]"
      ]
     },
     "execution_count": 22,
     "metadata": {},
     "output_type": "execute_result"
    }
   ],
   "source": [
    "q = [x, theta, delta]\n",
    "q"
   ]
  },
  {
   "cell_type": "code",
   "execution_count": 27,
   "metadata": {},
   "outputs": [
    {
     "data": {
      "image/png": "[encoded data removed]",
      "text/latex": [
       "$\\displaystyle \\left[ xd, \\  thetad, \\  deltad\\right]$"
      ],
      "text/plain": [
       "[xd, thetad, deltad]"
      ]
     },
     "execution_count": 27,
     "metadata": {},
     "output_type": "execute_result"
    }
   ],
   "source": [
    "qd = [xd, thetad, deltad]\n",
    "qd"
   ]
  },
  {
   "cell_type": "code",
   "execution_count": 39,
   "metadata": {
    "scrolled": true
   },
   "outputs": [
    {
     "data": {
      "image/png": "[encoded data removed]",
      "text/latex": [
       "$\\displaystyle thetad\\mathbf{\\hat{f}_y} + deltad\\mathbf{\\hat{n}_z}$"
      ],
      "text/plain": [
       "thetad f_y + deltad n_z"
      ]
     },
     "execution_count": 39,
     "metadata": {},
     "output_type": "execute_result"
    }
   ],
   "source": [
    "kd= [q[0]-qd[0],]          # List to hold kinematic ODE's\n",
    "P.ang_vel_in(N)"
   ]
  },
  {
   "cell_type": "code",
   "execution_count": 41,
   "metadata": {},
   "outputs": [
    {
     "data": {
      "image/png": "[encoded data removed]",
      "text/latex": [
       "$\\displaystyle \\left[ - l thetad \\operatorname{cos}\\left(\\theta\\right) - xd, \\  - l deltad \\operatorname{sin}\\left(\\theta\\right) + thetad, \\  l thetad \\operatorname{sin}\\left(\\theta\\right) + deltad\\right]$"
      ],
      "text/plain": [
       "[-l⋅thetad⋅cos(θ) - xd, -l⋅deltad⋅sin(θ) + thetad, l⋅thetad⋅sin(θ) + deltad]"
      ]
     },
     "execution_count": 41,
     "metadata": {},
     "output_type": "execute_result"
    }
   ],
   "source": [
    "kd=[dot(P.ang_vel_in(N)-V_PO_N, uv) for uv in F]\n",
    "kd"
   ]
  },
  {
   "cell_type": "code",
   "execution_count": 42,
   "metadata": {},
   "outputs": [
    {
     "ename": "NotImplementedError",
     "evalue": "Underdetermined systems not supported.",
     "output_type": "error",
     "traceback": [
      "\u001b[1;31m---------------------------------------------------------------------------\u001b[0m",
      "\u001b[1;31mValueError\u001b[0m                                Traceback (most recent call last)",
      "\u001b[1;32mC:\\ProgramData\\Anaconda3\\lib\\site-packages\\sympy\\matrices\\matrices.py\u001b[0m in \u001b[0;36mLUsolve\u001b[1;34m(self, rhs, iszerofunc)\u001b[0m\n\u001b[0;32m   3764\u001b[0m             A, perm = self.LUdecomposition_Simple(\n\u001b[1;32m-> 3765\u001b[1;33m                 iszerofunc=_iszero, rankcheck=True)\n\u001b[0m\u001b[0;32m   3766\u001b[0m         \u001b[1;32mexcept\u001b[0m \u001b[0mValueError\u001b[0m\u001b[1;33m:\u001b[0m\u001b[1;33m\u001b[0m\u001b[1;33m\u001b[0m\u001b[0m\n",
      "\u001b[1;32mC:\\ProgramData\\Anaconda3\\lib\\site-packages\\sympy\\matrices\\matrices.py\u001b[0m in \u001b[0;36mLUdecomposition_Simple\u001b[1;34m(self, iszerofunc, simpfunc, rankcheck)\u001b[0m\n\u001b[0;32m   3603\u001b[0m                 \u001b[1;31m# ValueError.\u001b[0m\u001b[1;33m\u001b[0m\u001b[1;33m\u001b[0m\u001b[1;33m\u001b[0m\u001b[0m\n\u001b[1;32m-> 3604\u001b[1;33m                 raise ValueError(\"Rank of matrix is strictly less than\"\n\u001b[0m\u001b[0;32m   3605\u001b[0m                                  \u001b[1;34m\" number of rows or columns.\"\u001b[0m\u001b[1;33m\u001b[0m\u001b[1;33m\u001b[0m\u001b[0m\n",
      "\u001b[1;31mValueError\u001b[0m: Rank of matrix is strictly less than number of rows or columns. Pass keyword argument rankcheck=False to compute the LU decomposition of this matrix.",
      "\nDuring handling of the above exception, another exception occurred:\n",
      "\u001b[1;31mNotImplementedError\u001b[0m                       Traceback (most recent call last)",
      "\u001b[1;32m<ipython-input-42-cc5c3aa3ff16>\u001b[0m in \u001b[0;36m<module>\u001b[1;34m\u001b[0m\n\u001b[1;32m----> 1\u001b[1;33m \u001b[0mKM\u001b[0m \u001b[1;33m=\u001b[0m \u001b[0mKanesMethod\u001b[0m\u001b[1;33m(\u001b[0m\u001b[0mN\u001b[0m\u001b[1;33m,\u001b[0m \u001b[0mq\u001b[0m\u001b[1;33m,\u001b[0m \u001b[0mqd\u001b[0m\u001b[1;33m,\u001b[0m \u001b[0mkd\u001b[0m\u001b[1;33m)\u001b[0m\u001b[1;33m\u001b[0m\u001b[1;33m\u001b[0m\u001b[0m\n\u001b[0m",
      "\u001b[1;32mC:\\ProgramData\\Anaconda3\\lib\\site-packages\\sympy\\physics\\mechanics\\kane.py\u001b[0m in \u001b[0;36m__init__\u001b[1;34m(self, frame, q_ind, u_ind, kd_eqs, q_dependent, configuration_constraints, u_dependent, velocity_constraints, acceleration_constraints, u_auxiliary)\u001b[0m\n\u001b[0;32m    138\u001b[0m         self._initialize_vectors(q_ind, q_dependent, u_ind, u_dependent,\n\u001b[0;32m    139\u001b[0m                 u_auxiliary)\n\u001b[1;32m--> 140\u001b[1;33m         \u001b[0mself\u001b[0m\u001b[1;33m.\u001b[0m\u001b[0m_initialize_kindiffeq_matrices\u001b[0m\u001b[1;33m(\u001b[0m\u001b[0mkd_eqs\u001b[0m\u001b[1;33m)\u001b[0m\u001b[1;33m\u001b[0m\u001b[1;33m\u001b[0m\u001b[0m\n\u001b[0m\u001b[0;32m    141\u001b[0m         self._initialize_constraint_matrices(configuration_constraints,\n\u001b[0;32m    142\u001b[0m                 velocity_constraints, acceleration_constraints)\n",
      "\u001b[1;32mC:\\ProgramData\\Anaconda3\\lib\\site-packages\\sympy\\physics\\mechanics\\kane.py\u001b[0m in \u001b[0;36m_initialize_kindiffeq_matrices\u001b[1;34m(self, kdeqs)\u001b[0m\n\u001b[0;32m    254\u001b[0m             \u001b[0mk_kqdot\u001b[0m \u001b[1;33m=\u001b[0m \u001b[1;33m(\u001b[0m\u001b[0mmsubs\u001b[0m\u001b[1;33m(\u001b[0m\u001b[0mkdeqs\u001b[0m\u001b[1;33m,\u001b[0m \u001b[0mu_zero\u001b[0m\u001b[1;33m)\u001b[0m \u001b[1;33m-\u001b[0m \u001b[0mf_k\u001b[0m\u001b[1;33m)\u001b[0m\u001b[1;33m.\u001b[0m\u001b[0mjacobian\u001b[0m\u001b[1;33m(\u001b[0m\u001b[0mqdot\u001b[0m\u001b[1;33m)\u001b[0m\u001b[1;33m\u001b[0m\u001b[1;33m\u001b[0m\u001b[0m\n\u001b[0;32m    255\u001b[0m \u001b[1;33m\u001b[0m\u001b[0m\n\u001b[1;32m--> 256\u001b[1;33m             \u001b[0mf_k\u001b[0m \u001b[1;33m=\u001b[0m \u001b[0mk_kqdot\u001b[0m\u001b[1;33m.\u001b[0m\u001b[0mLUsolve\u001b[0m\u001b[1;33m(\u001b[0m\u001b[0mf_k\u001b[0m\u001b[1;33m)\u001b[0m\u001b[1;33m\u001b[0m\u001b[1;33m\u001b[0m\u001b[0m\n\u001b[0m\u001b[0;32m    257\u001b[0m             \u001b[0mk_ku\u001b[0m \u001b[1;33m=\u001b[0m \u001b[0mk_kqdot\u001b[0m\u001b[1;33m.\u001b[0m\u001b[0mLUsolve\u001b[0m\u001b[1;33m(\u001b[0m\u001b[0mk_ku\u001b[0m\u001b[1;33m)\u001b[0m\u001b[1;33m\u001b[0m\u001b[1;33m\u001b[0m\u001b[0m\n\u001b[0;32m    258\u001b[0m             \u001b[0mk_kqdot\u001b[0m \u001b[1;33m=\u001b[0m \u001b[0meye\u001b[0m\u001b[1;33m(\u001b[0m\u001b[0mlen\u001b[0m\u001b[1;33m(\u001b[0m\u001b[0mqdot\u001b[0m\u001b[1;33m)\u001b[0m\u001b[1;33m)\u001b[0m\u001b[1;33m\u001b[0m\u001b[1;33m\u001b[0m\u001b[0m\n",
      "\u001b[1;32mC:\\ProgramData\\Anaconda3\\lib\\site-packages\\sympy\\matrices\\matrices.py\u001b[0m in \u001b[0;36mLUsolve\u001b[1;34m(self, rhs, iszerofunc)\u001b[0m\n\u001b[0;32m   3765\u001b[0m                 iszerofunc=_iszero, rankcheck=True)\n\u001b[0;32m   3766\u001b[0m         \u001b[1;32mexcept\u001b[0m \u001b[0mValueError\u001b[0m\u001b[1;33m:\u001b[0m\u001b[1;33m\u001b[0m\u001b[1;33m\u001b[0m\u001b[0m\n\u001b[1;32m-> 3767\u001b[1;33m             \u001b[1;32mraise\u001b[0m \u001b[0mNotImplementedError\u001b[0m\u001b[1;33m(\u001b[0m\u001b[1;34m\"Underdetermined systems not supported.\"\u001b[0m\u001b[1;33m)\u001b[0m\u001b[1;33m\u001b[0m\u001b[1;33m\u001b[0m\u001b[0m\n\u001b[0m\u001b[0;32m   3768\u001b[0m \u001b[1;33m\u001b[0m\u001b[0m\n\u001b[0;32m   3769\u001b[0m         \u001b[0mb\u001b[0m \u001b[1;33m=\u001b[0m \u001b[0mrhs\u001b[0m\u001b[1;33m.\u001b[0m\u001b[0mpermute_rows\u001b[0m\u001b[1;33m(\u001b[0m\u001b[0mperm\u001b[0m\u001b[1;33m)\u001b[0m\u001b[1;33m.\u001b[0m\u001b[0mas_mutable\u001b[0m\u001b[1;33m(\u001b[0m\u001b[1;33m)\u001b[0m\u001b[1;33m\u001b[0m\u001b[1;33m\u001b[0m\u001b[0m\n",
      "\u001b[1;31mNotImplementedError\u001b[0m: Underdetermined systems not supported."
     ]
    }
   ],
   "source": [
    "KM = KanesMethod(N, q, qd, kd)"
   ]
  },
  {
   "cell_type": "code",
   "execution_count": null,
   "metadata": {},
   "outputs": [],
   "source": [
    "bodies = [body_p, body_r, body_l]\n",
    "bodies"
   ]
  },
  {
   "cell_type": "code",
   "execution_count": null,
   "metadata": {},
   "outputs": [],
   "source": [
    "fr, frstar = KM.kanes_equations(bodies, fL)"
   ]
  },
  {
   "cell_type": "code",
   "execution_count": null,
   "metadata": {},
   "outputs": [],
   "source": []
  },
  {
   "cell_type": "code",
   "execution_count": null,
   "metadata": {},
   "outputs": [],
   "source": []
  }
 ],
 "metadata": {
  "kernelspec": {
   "display_name": "Python 3",
   "language": "python",
   "name": "python3"
  },
  "language_info": {
   "codemirror_mode": {
    "name": "ipython",
    "version": 3
   },
   "file_extension": ".py",
   "mimetype": "text/x-python",
   "name": "python",
   "nbconvert_exporter": "python",
   "pygments_lexer": "ipython3",
   "version": "3.7.4"
  }
 },
 "nbformat": 4,
 "nbformat_minor": 2
}
