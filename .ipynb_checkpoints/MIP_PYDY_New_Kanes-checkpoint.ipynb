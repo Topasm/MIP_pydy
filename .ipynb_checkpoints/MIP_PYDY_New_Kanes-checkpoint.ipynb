{
 "cells": [
  {
   "cell_type": "markdown",
   "metadata": {},
   "source": [
    "# Mobile inverted pendulum python dynamics new\n",
    "\n",
    "author:SeongHyeon Kim\n",
    "\n",
    "program:PYDY balancing robot simulator\n"
   ]
  },
  {
   "cell_type": "markdown",
   "metadata": {},
   "source": [
    "필요한 라이브러리 포함\n"
   ]
  },
  {
   "cell_type": "code",
   "execution_count": 1,
   "metadata": {},
   "outputs": [],
   "source": [
    "from sympy import sin, cos, symbols, solve, Matrix, init_printing\n",
    "from sympy.physics.mechanics import *\n",
    "from sympy.physics.vector import ReferenceFrame\n",
    "import sympy.physics.mechanics as me\n",
    "import sympy as sm\n",
    "import math as m\n",
    "import numpy as np"
   ]
  },
  {
   "cell_type": "code",
   "execution_count": 2,
   "metadata": {},
   "outputs": [],
   "source": [
    "init_vprinting()"
   ]
  },
  {
   "cell_type": "markdown",
   "metadata": {},
   "source": [
    "# Reference frames"
   ]
  },
  {
   "cell_type": "markdown",
   "metadata": {},
   "source": [
    "N은 외부의 기준 프레임. 속도를 0으로"
   ]
  },
  {
   "cell_type": "code",
   "execution_count": 3,
   "metadata": {},
   "outputs": [],
   "source": [
    "#Newtonian reference frame\n",
    "N=ReferenceFrame('N')\n",
    "\n",
    "# Define a world coordinate origin\n",
    "No = Point('No')\n",
    "No.set_vel(N, 0)"
   ]
  },
  {
   "cell_type": "code",
   "execution_count": 4,
   "metadata": {},
   "outputs": [],
   "source": [
    "F = ReferenceFrame('F')\n",
    "\n",
    "P = ReferenceFrame('P')"
   ]
  },
  {
   "cell_type": "markdown",
   "metadata": {},
   "source": [
    "F = N.orientnew('F', 'Axis',[psi, N.z] )     # Intermediate reference frame\n",
    "\n",
    "P = F.orientnew('P', 'Axis', [theta, F.y])   # Inverted Pendulum"
   ]
  },
  {
   "cell_type": "markdown",
   "metadata": {},
   "source": [
    "기준프레임.dcm(상대프레임)"
   ]
  },
  {
   "cell_type": "markdown",
   "metadata": {
    "tags": []
   },
   "source": [
    "## Newtonian, Bodies, Frames, Particles, Points\n"
   ]
  },
  {
   "cell_type": "code",
   "execution_count": 5,
   "metadata": {},
   "outputs": [],
   "source": [
    "Mp =sm.symbols('Mp')\n",
    "M = sm.symbols('M')\n",
    "\n",
    "Po = me.Point('p_cm')\n",
    "Lo = me.Point('L_cm')\n",
    "body_l_f = me.ReferenceFrame('L_f')\n",
    "\n",
    "Ro = me.Point('R_cm')\n",
    "body_r_f = me.ReferenceFrame('R_f')\n",
    "\n",
    "frame_f = me.ReferenceFrame('f')\n",
    "Ip = me.Point('I_p')\n",
    "LN = me.Point('ln')\n",
    "RN = me.Point('rn')"
   ]
  },
  {
   "cell_type": "markdown",
   "metadata": {},
   "source": [
    "## Variables, Constants and Specified\n"
   ]
  },
  {
   "cell_type": "code",
   "execution_count": 6,
   "metadata": {
    "scrolled": true
   },
   "outputs": [],
   "source": [
    "x = me.dynamicsymbols('x')            # F1> measure number of Position of P in N\n",
    "theta = me.dynamicsymbols('theta')    # F2> measure number of Angular Position of P in N\n",
    "delta = me.dynamicsymbols('delta')    # N3> measure number of Angular Position of P in N\n",
    "wL = me.dynamicsymbols('wL')          # Angular Position of L in N\n",
    "wR = me.dynamicsymbols('wR')          # Angular Position of R in N\n",
    "\n",
    "\n",
    "g = sm.symbols('g', real=True)        #Gravitational acceleration\n",
    "d = sm.symbols('d', real=True)        # Distance from point I to Lo (or Ro)\n",
    "R = sm.symbols('r', real=True)        #Radius of wheels\n",
    "l = sm.symbols('l', real=True)        # Distance from point I to mass center of P\n",
    "t = sm.symbols('t')\n",
    "\n",
    "\n",
    "# Create q vectors\n",
    "q = Matrix([x, theta, delta])\n"
   ]
  },
  {
   "cell_type": "markdown",
   "metadata": {},
   "source": [
    "## Generalized speed"
   ]
  },
  {
   "cell_type": "code",
   "execution_count": 7,
   "metadata": {},
   "outputs": [],
   "source": [
    "u1 = me.dynamicsymbols('u1')           #x-dot\n",
    "u2 = me.dynamicsymbols('u2')           #theta-dot     \n",
    "u3 = me.dynamicsymbols('u3')           #delta-dot   \n",
    "u4 = me.dynamicsymbols('u4')           #wL-dot\n",
    "u5 = me.dynamicsymbols('u5')           #wR-dot\n",
    "uL = Matrix([u1, u2, u3])"
   ]
  },
  {
   "cell_type": "markdown",
   "metadata": {},
   "source": [
    "## Mass and Inertia\n",
    "\n",
    "관성모멘트함수=inertia(기준 좌표, xx, yy,zz회전)"
   ]
  },
  {
   "cell_type": "code",
   "execution_count": 8,
   "metadata": {},
   "outputs": [],
   "source": [
    "K,J = symbols('K J')"
   ]
  },
  {
   "cell_type": "code",
   "execution_count": 9,
   "metadata": {},
   "outputs": [],
   "source": [
    "I_L = inertia(F, K,J,K)                          #Wheel inertia \n",
    "I_R = inertia(F, K,J,K)\n"
   ]
  },
  {
   "cell_type": "code",
   "execution_count": 10,
   "metadata": {},
   "outputs": [],
   "source": [
    "m_b = symbols('m_b')                              #Mass of the body\n",
    "I1, I2, I3 = symbols('I1 I2 I3')                  #Moments of inertia of body"
   ]
  },
  {
   "cell_type": "code",
   "execution_count": 11,
   "metadata": {},
   "outputs": [],
   "source": [
    "# Calculate inertia of body\n",
    "Ib = inertia(F, I1, I2, I3)"
   ]
  },
  {
   "cell_type": "markdown",
   "metadata": {},
   "source": [
    "###  Geometry relating unit vectors"
   ]
  },
  {
   "cell_type": "code",
   "execution_count": 12,
   "metadata": {},
   "outputs": [],
   "source": [
    "F.orient(N, 'Axis', [delta, N.z])"
   ]
  },
  {
   "cell_type": "code",
   "execution_count": 13,
   "metadata": {},
   "outputs": [],
   "source": [
    "P.orient(F, 'Axis', [theta, F.y])"
   ]
  },
  {
   "cell_type": "code",
   "execution_count": 14,
   "metadata": {
    "scrolled": true
   },
   "outputs": [
    {
     "data": {
      "text/latex": [
       "$\\displaystyle \\left[\\begin{matrix}\\cos{\\left(\\delta \\right)} & - \\sin{\\left(\\delta \\right)} & 0\\\\\\sin{\\left(\\delta \\right)} & \\cos{\\left(\\delta \\right)} & 0\\\\0 & 0 & 1\\end{matrix}\\right]$"
      ],
      "text/plain": [
       "⎡cos(δ)  -sin(δ)  0⎤\n",
       "⎢                  ⎥\n",
       "⎢sin(δ)  cos(δ)   0⎥\n",
       "⎢                  ⎥\n",
       "⎣  0        0     1⎦"
      ]
     },
     "execution_count": 14,
     "metadata": {},
     "output_type": "execute_result"
    }
   ],
   "source": [
    "N.dcm(F)"
   ]
  },
  {
   "cell_type": "code",
   "execution_count": 15,
   "metadata": {},
   "outputs": [
    {
     "data": {
      "text/latex": [
       "$\\displaystyle \\left[\\begin{matrix}\\cos{\\left(\\theta \\right)} & 0 & \\sin{\\left(\\theta \\right)}\\\\0 & 1 & 0\\\\- \\sin{\\left(\\theta \\right)} & 0 & \\cos{\\left(\\theta \\right)}\\end{matrix}\\right]$"
      ],
      "text/plain": [
       "⎡cos(θ)   0  sin(θ)⎤\n",
       "⎢                  ⎥\n",
       "⎢   0     1    0   ⎥\n",
       "⎢                  ⎥\n",
       "⎣-sin(θ)  0  cos(θ)⎦"
      ]
     },
     "execution_count": 15,
     "metadata": {},
     "output_type": "execute_result"
    }
   ],
   "source": [
    "F.dcm(P)"
   ]
  },
  {
   "cell_type": "markdown",
   "metadata": {},
   "source": [
    "## Position vectors\n",
    "\n",
    "기준.locatenew('이름', 이동*단위백터)"
   ]
  },
  {
   "cell_type": "code",
   "execution_count": 16,
   "metadata": {},
   "outputs": [],
   "source": [
    "I = No.locatenew('I', x*F.x)      # Point No to I\n",
    "\n",
    "Po = I.locatenew('Po', l*P.z)     # Point I to mass center of P\n",
    "\n",
    "Lo = I.locatenew('Lo', d*F.y)     # Point I to center of wheel L\n",
    "\n",
    "Ro = I.locatenew('Ro', -d*F.y)    # Point I to center of wheel R"
   ]
  },
  {
   "cell_type": "code",
   "execution_count": 17,
   "metadata": {},
   "outputs": [],
   "source": [
    "LN = Lo.locatenew('LN', -R*F.z)   # Center of wheel L to contact point LN\n",
    "\n",
    "RN = Ro.locatenew('RN', -R*F.z)   # Center of wheel R to contact point RN"
   ]
  },
  {
   "cell_type": "markdown",
   "metadata": {},
   "source": [
    "## Angular Velocities\n"
   ]
  },
  {
   "cell_type": "code",
   "execution_count": 18,
   "metadata": {},
   "outputs": [],
   "source": [
    "F.set_ang_vel(N, u3*N.z)        # Angular velocity of F in N\n",
    "\n",
    "P.set_ang_vel(F, u2*F.y)        # Angular velocity of P in F\n",
    "\n",
    "body_l_f.set_ang_vel(F, u4*F.y)    # wL is related to w and v due to rolling\n",
    "\n",
    "body_r_f.set_ang_vel(F, u5*F.y)    # wR is related to w and v due to rolling"
   ]
  },
  {
   "cell_type": "markdown",
   "metadata": {},
   "source": [
    "## Velocities of relevant points"
   ]
  },
  {
   "cell_type": "markdown",
   "metadata": {},
   "source": [
    "\n",
    "v2pt_theory는 선속도를 의미\n",
    "\n",
    "\n",
    "$$^I\\mathbf{v}^{P_2} = ^I\\mathbf{v}^{P_1} + ^I\\omega^A \\times \\mathbf{r}^{\\frac{P_2}{P_1}}$$\n",
    "\n",
    "The `Point.v2pt_theory()` method makes it easy to do this calculation.\n",
    "\n",
    "측정점.v2pt_theory(회전 중심점, 관찰틀, 회전틀(돌아가는 애))\n",
    "\n",
    "\n",
    "\n",
    "속도를 측정하는게 아니고 부여하는거 같다 좀더 알아보자"
   ]
  },
  {
   "cell_type": "code",
   "execution_count": 19,
   "metadata": {},
   "outputs": [],
   "source": [
    "V_I_N = I.set_vel(N, u1*F.x)             # Velocity of point I in N\n",
    "\n",
    "V_PO_N = Po.v2pt_theory(I,N,P)           # Velocity of center of mass of P\n",
    "\n",
    "V_LO_N = Lo.v2pt_theory(I, N,P,)         # Velocity of center of L\n",
    "\n",
    "V_RO_N = Ro.v2pt_theory(I,N,P)           # Velocity of center of R\n",
    "\n",
    "V_LN_N = LN.v2pt_theory(Lo,N,body_l_f)          # Velocity of contact point of L\n",
    "\n",
    "V_RN_N = RN.v2pt_theory(Ro,N,body_r_f)          # Velocity of contact point of R"
   ]
  },
  {
   "cell_type": "markdown",
   "metadata": {},
   "source": [
    "RigidBody =강체 선언 (입자로 저장된다고 한다)\n",
    "\n",
    "\n",
    " B = RigidBody ( '이름' ,질량 중심, 프레임 ,질량, ( I , P ))\n",
    " "
   ]
  },
  {
   "cell_type": "code",
   "execution_count": 20,
   "metadata": {
    "tags": []
   },
   "outputs": [],
   "source": [
    "body_p = me.RigidBody('p', Po, P, Mp, (Ib, Po))\n",
    "body_l = me.RigidBody('l', Lo, body_l_f, M, (I_L, Lo))\n",
    "body_r = me.RigidBody('r', Ro, body_r_f, M,(I_R, Ro))"
   ]
  },
  {
   "cell_type": "markdown",
   "metadata": {
    "tags": []
   },
   "source": [
    "### Forces"
   ]
  },
  {
   "cell_type": "markdown",
   "metadata": {},
   "source": [
    "#### gravity"
   ]
  },
  {
   "cell_type": "code",
   "execution_count": 21,
   "metadata": {},
   "outputs": [],
   "source": [
    "#중력벡터\n",
    "Gravity = -g * N.z      #Gravity Vector"
   ]
  },
  {
   "cell_type": "code",
   "execution_count": 22,
   "metadata": {},
   "outputs": [],
   "source": [
    "body_gravity_vector =-g*Mp*N.z"
   ]
  },
  {
   "cell_type": "code",
   "execution_count": 23,
   "metadata": {},
   "outputs": [],
   "source": [
    "leftwheel_gravity_vector = - M*g*N.z"
   ]
  },
  {
   "cell_type": "code",
   "execution_count": 24,
   "metadata": {},
   "outputs": [],
   "source": [
    "rightwheel_gravity_vector = - M*g*N.z"
   ]
  },
  {
   "cell_type": "code",
   "execution_count": 25,
   "metadata": {},
   "outputs": [],
   "source": [
    "b_g_f = (Po, body_gravity_vector)"
   ]
  },
  {
   "cell_type": "code",
   "execution_count": 26,
   "metadata": {},
   "outputs": [],
   "source": [
    "l_g_f = (Lo, leftwheel_gravity_vector)"
   ]
  },
  {
   "cell_type": "code",
   "execution_count": 27,
   "metadata": {},
   "outputs": [],
   "source": [
    "r_g_f = (Ro, rightwheel_gravity_vector)"
   ]
  },
  {
   "cell_type": "code",
   "execution_count": 28,
   "metadata": {
    "tags": []
   },
   "outputs": [
    {
     "data": {
      "text/plain": [
       "sympy.physics.vector.point.Point"
      ]
     },
     "execution_count": 28,
     "metadata": {},
     "output_type": "execute_result"
    }
   ],
   "source": [
    "type(Po)"
   ]
  },
  {
   "cell_type": "code",
   "execution_count": 29,
   "metadata": {},
   "outputs": [
    {
     "data": {
      "text/plain": [
       "sympy.physics.vector.vector.Vector"
      ]
     },
     "execution_count": 29,
     "metadata": {},
     "output_type": "execute_result"
    }
   ],
   "source": [
    "type(body_gravity_vector)"
   ]
  },
  {
   "cell_type": "markdown",
   "metadata": {},
   "source": [
    "### Torques"
   ]
  },
  {
   "cell_type": "markdown",
   "metadata": {
    "tags": []
   },
   "source": [
    "바퀴가 받는 토크, 바퀴에 의해 생기는 몸의 반작용 토크"
   ]
  },
  {
   "cell_type": "code",
   "execution_count": 30,
   "metadata": {},
   "outputs": [],
   "source": [
    "body_torque_scala, Lwheel_torque_scala, Rwheel_torque_scala = dynamicsymbols('T_b, T_r, T_l')"
   ]
  },
  {
   "cell_type": "code",
   "execution_count": 31,
   "metadata": {},
   "outputs": [],
   "source": [
    "Lwheel_torque_vector = Lwheel_torque_scala * F.y"
   ]
  },
  {
   "cell_type": "code",
   "execution_count": 32,
   "metadata": {},
   "outputs": [],
   "source": [
    "Rwheel_torque_vector = Rwheel_torque_scala * F.y"
   ]
  },
  {
   "cell_type": "code",
   "execution_count": 33,
   "metadata": {},
   "outputs": [],
   "source": [
    "body_torque_vector = -Lwheel_torque_vector -Rwheel_torque_vector"
   ]
  },
  {
   "cell_type": "code",
   "execution_count": 34,
   "metadata": {},
   "outputs": [],
   "source": [
    "Lwheel_torque = (body_l_f, Lwheel_torque_vector)"
   ]
  },
  {
   "cell_type": "code",
   "execution_count": 35,
   "metadata": {},
   "outputs": [],
   "source": [
    "Rwheel_torque = (body_r_f, Rwheel_torque_vector)"
   ]
  },
  {
   "cell_type": "code",
   "execution_count": 36,
   "metadata": {},
   "outputs": [],
   "source": [
    "body_torque = (P, body_torque_vector)"
   ]
  },
  {
   "cell_type": "code",
   "execution_count": 37,
   "metadata": {
    "tags": []
   },
   "outputs": [
    {
     "data": {
      "text/plain": [
       "(P, (-T_l(t) - T_r(t))*F.y)"
      ]
     },
     "execution_count": 37,
     "metadata": {},
     "output_type": "execute_result"
    }
   ],
   "source": [
    "body_torque"
   ]
  },
  {
   "cell_type": "code",
   "execution_count": 38,
   "metadata": {},
   "outputs": [
    {
     "data": {
      "image/png": "[encoded data removed]",
      "text/latex": [
       "$\\displaystyle T_{r}\\mathbf{\\hat{f}_y}$"
      ],
      "text/plain": [
       "Tᵣ f_y"
      ]
     },
     "execution_count": 38,
     "metadata": {},
     "output_type": "execute_result"
    }
   ],
   "source": [
    "Lwheel_torque_vector"
   ]
  },
  {
   "cell_type": "markdown",
   "metadata": {
    "tags": []
   },
   "source": [
    "### Equations of Motions"
   ]
  },
  {
   "cell_type": "markdown",
   "metadata": {},
   "source": [
    "q는 위치 dq 속력"
   ]
  },
  {
   "cell_type": "code",
   "execution_count": 39,
   "metadata": {},
   "outputs": [
    {
     "data": {
      "text/latex": [
       "$\\displaystyle \\left[\\begin{matrix}x\\\\\\theta\\\\\\delta\\end{matrix}\\right]$"
      ],
      "text/plain": [
       "⎡x⎤\n",
       "⎢ ⎥\n",
       "⎢θ⎥\n",
       "⎢ ⎥\n",
       "⎣δ⎦"
      ]
     },
     "execution_count": 39,
     "metadata": {},
     "output_type": "execute_result"
    }
   ],
   "source": [
    "q"
   ]
  },
  {
   "cell_type": "code",
   "execution_count": 40,
   "metadata": {},
   "outputs": [
    {
     "data": {
      "text/plain": [
       "[(Po, - Mp*g*N.z),\n",
       " (Ro, - M*g*N.z),\n",
       " (Lo, - M*g*N.z),\n",
       " (L_f, T_r(t)*F.y),\n",
       " (R_f, T_l(t)*F.y),\n",
       " (P, (-T_l(t) - T_r(t))*F.y)]"
      ]
     },
     "execution_count": 40,
     "metadata": {},
     "output_type": "execute_result"
    }
   ],
   "source": [
    "FL = [b_g_f,\n",
    "         r_g_f,\n",
    "         l_g_f,\n",
    "         Lwheel_torque,\n",
    "         Rwheel_torque,\n",
    "         body_torque]\n",
    "FL"
   ]
  },
  {
   "cell_type": "markdown",
   "metadata": {},
   "source": [
    "## Constraints"
   ]
  },
  {
   "cell_type": "markdown",
   "metadata": {},
   "source": [
    "어떤 곳에 구속되어있는걸 Holonomic 이라고 하는듯 바퀴를 평면에 구속해야함"
   ]
  },
  {
   "cell_type": "markdown",
   "metadata": {},
   "source": [
    "### holomic"
   ]
  },
  {
   "cell_type": "code",
   "execution_count": 41,
   "metadata": {},
   "outputs": [],
   "source": [
    "Dependent1 =dot(V_LN_N ,F.x)"
   ]
  },
  {
   "cell_type": "code",
   "execution_count": 42,
   "metadata": {},
   "outputs": [],
   "source": [
    "Dependent2 = dot(V_RN_N, F.x)"
   ]
  },
  {
   "cell_type": "code",
   "execution_count": 43,
   "metadata": {},
   "outputs": [
    {
     "data": {
      "image/png": "[encoded data removed]",
      "text/latex": [
       "$\\displaystyle \\left[ - d u_{3} - r u_{4} + u_{1}, \\  d u_{3} - r u_{5} + u_{1}\\right]$"
      ],
      "text/plain": [
       "[-d⋅u₃ - r⋅u₄ + u₁, d⋅u₃ - r⋅u₅ + u₁]"
      ]
     },
     "execution_count": 43,
     "metadata": {},
     "output_type": "execute_result"
    }
   ],
   "source": [
    "v_cons = [Dependent1,\n",
    "          Dependent2]\n",
    "\n",
    "v_cons"
   ]
  },
  {
   "cell_type": "code",
   "execution_count": 44,
   "metadata": {},
   "outputs": [],
   "source": [
    "acc_cons = [Dependent1.diff(t),Dependent2.diff(t)] "
   ]
  },
  {
   "cell_type": "code",
   "execution_count": 45,
   "metadata": {},
   "outputs": [],
   "source": [
    "u_aux = [u4.diff(t), u5.diff(t)]"
   ]
  },
  {
   "cell_type": "markdown",
   "metadata": {},
   "source": [
    "### nonholomic"
   ]
  },
  {
   "cell_type": "code",
   "execution_count": 46,
   "metadata": {},
   "outputs": [],
   "source": [
    "nonholonomic = [LN.vel(N).dot(F.x),\n",
    "                LN.vel(N).dot(F.y),\n",
    "                LN.vel(N).dot(F.z)]"
   ]
  },
  {
   "cell_type": "code",
   "execution_count": 47,
   "metadata": {},
   "outputs": [
    {
     "data": {
      "image/png": "[encoded data removed]",
      "text/latex": [
       "$\\displaystyle \\left[ - d u_{3} - r u_{4} + u_{1}, \\  0, \\  0\\right]$"
      ],
      "text/plain": [
       "[-d⋅u₃ - r⋅u₄ + u₁, 0, 0]"
      ]
     },
     "execution_count": 47,
     "metadata": {},
     "output_type": "execute_result"
    }
   ],
   "source": [
    "nonholonomic"
   ]
  },
  {
   "cell_type": "code",
   "execution_count": null,
   "metadata": {},
   "outputs": [],
   "source": []
  },
  {
   "cell_type": "markdown",
   "metadata": {
    "tags": []
   },
   "source": [
    "# Kinematical Differential Equations"
   ]
  },
  {
   "cell_type": "code",
   "execution_count": 48,
   "metadata": {},
   "outputs": [
    {
     "data": {
      "image/png": "[encoded data removed]",
      "text/latex": [
       "$\\displaystyle \\left[ - u_{1} + \\dot{x}, \\  - u_{2} + \\dot{\\theta}, \\  - u_{3} + \\dot{\\delta}\\right]$"
      ],
      "text/plain": [
       "[-u₁ + ẋ, -u₂ + θ̇, -u₃ + δ̇]"
      ]
     },
     "execution_count": 48,
     "metadata": {},
     "output_type": "execute_result"
    }
   ],
   "source": [
    "kde = [x.diff() - u1,\n",
    "       theta.diff() - u2,\n",
    "       delta.diff() - u3]\n",
    "kde"
   ]
  },
  {
   "cell_type": "markdown",
   "metadata": {
    "tags": []
   },
   "source": [
    "# 운동방정식으로 만들자"
   ]
  },
  {
   "cell_type": "markdown",
   "metadata": {},
   "source": [
    "## Generalized Forces"
   ]
  },
  {
   "cell_type": "markdown",
   "metadata": {},
   "source": [
    "[토크힘] x [속도,각속도]\n",
    "\n",
    "[Cm속도, 앞바퀴각속도, 뒷바퀴각속도, 몸체 각속도] x [중력, 앞바퀴토크, 뒷바퀴토크, Cm토크] \n",
    "\n",
    "VnWxTnF"
   ]
  },
  {
   "cell_type": "code",
   "execution_count": 49,
   "metadata": {},
   "outputs": [],
   "source": [
    "from __future__ import print_function, division"
   ]
  },
  {
   "cell_type": "code",
   "execution_count": 50,
   "metadata": {},
   "outputs": [],
   "source": [
    "from sympy import trigsimp\n",
    "from sympy.physics.mechanics import KanesMethod\n",
    "from sympy.functions import transpose"
   ]
  },
  {
   "cell_type": "code",
   "execution_count": 51,
   "metadata": {},
   "outputs": [],
   "source": [
    "from sympy.physics.vector import init_vprinting"
   ]
  },
  {
   "cell_type": "code",
   "execution_count": 52,
   "metadata": {},
   "outputs": [
    {
     "data": {
      "text/plain": [
       "[p, l, r]"
      ]
     },
     "execution_count": 52,
     "metadata": {},
     "output_type": "execute_result"
    }
   ],
   "source": [
    "BL = [body_p,body_l,body_r]\n",
    "BL"
   ]
  },
  {
   "cell_type": "code",
   "execution_count": 53,
   "metadata": {},
   "outputs": [],
   "source": [
    "kane = KanesMethod(\n",
    "    N,\n",
    "    q,\n",
    "    uL,\n",
    "    kd_eqs=kde,\n",
    "    q_dependent=None,\n",
    "    configuration_constraints=None,\n",
    "    u_dependent=[u4,u5],\n",
    "    velocity_constraints=v_cons,\n",
    "    acceleration_constraints=acc_cons,\n",
    "    u_auxiliary=u_aux,\n",
    "    bodies=None,\n",
    "    forcelist=None,\n",
    ")"
   ]
  },
  {
   "cell_type": "code",
   "execution_count": 54,
   "metadata": {
    "tags": []
   },
   "outputs": [],
   "source": [
    "fr, frstar = kane.kanes_equations( BL, FL)"
   ]
  },
  {
   "cell_type": "code",
   "execution_count": 55,
   "metadata": {},
   "outputs": [
    {
     "data": {
      "image/png": "[encoded data removed]",
      "text/latex": [
       "$\\displaystyle \\left\\{ \\dot{\\delta} : u_{3}, \\  \\dot{\\theta} : u_{2}, \\  \\dot{x} : u_{1}\\right\\}$"
      ],
      "text/plain": [
       "{δ̇: u₃, θ̇: u₂, ẋ: u₁}"
      ]
     },
     "execution_count": 55,
     "metadata": {},
     "output_type": "execute_result"
    }
   ],
   "source": [
    "kane.kindiffdict()"
   ]
  },
  {
   "cell_type": "markdown",
   "metadata": {
    "tags": []
   },
   "source": [
    "### F + F* =0 식 (Kanes equation)"
   ]
  },
  {
   "cell_type": "code",
   "execution_count": 56,
   "metadata": {
    "scrolled": true
   },
   "outputs": [],
   "source": [
    "kanearray = trigsimp(fr + frstar)"
   ]
  },
  {
   "cell_type": "code",
   "execution_count": 58,
   "metadata": {},
   "outputs": [],
   "source": [
    "update0 =kanearray.expand()"
   ]
  },
  {
   "cell_type": "code",
   "execution_count": 59,
   "metadata": {},
   "outputs": [],
   "source": [
    "update1=update0.subs(sin(theta) , theta)"
   ]
  },
  {
   "cell_type": "code",
   "execution_count": 60,
   "metadata": {},
   "outputs": [],
   "source": [
    "update2 = update1.subs(cos(theta) , 1)"
   ]
  },
  {
   "cell_type": "code",
   "execution_count": 61,
   "metadata": {},
   "outputs": [],
   "source": [
    "update3 = update2.subs(sin(2*theta) , 2 *theta)"
   ]
  },
  {
   "cell_type": "code",
   "execution_count": 62,
   "metadata": {},
   "outputs": [
    {
     "data": {
      "text/latex": [
       "$\\displaystyle \\left[\\begin{matrix}- \\frac{J \\dot{u}_{4}}{r} - \\frac{J \\dot{u}_{5}}{r} - 2 M \\dot{u}_{1} + Mp l \\theta u_{2}^{2} + Mp l \\theta u_{3}^{2} - Mp l \\dot{u}_{2} - Mp \\dot{u}_{1} + \\frac{T_{l}}{r} + \\frac{T_{r}}{r}\\\\- I_{2} \\dot{u}_{2} + Mp g l \\theta + Mp l^{2} \\theta u_{3}^{2} - Mp l^{2} \\dot{u}_{2} - Mp l \\dot{u}_{1} - T_{l} - T_{r}\\\\- I_{3} \\dot{u}_{3} + \\frac{J d \\dot{u}_{4}}{r} - \\frac{J d \\dot{u}_{5}}{r} - 2 K \\dot{u}_{3} - 2 M d^{2} \\dot{u}_{3} - Mp l^{2} \\theta^{2} \\dot{u}_{3} - 2 Mp l^{2} \\theta u_{2} u_{3} - Mp l \\theta u_{1} u_{3} + \\frac{d T_{l}}{r} - \\frac{d T_{r}}{r}\\\\0\\\\0\\end{matrix}\\right]$"
      ],
      "text/plain": [
       "⎡                 J⋅u₄̇   J⋅u₅̇                     2            2            \n",
       "⎢               - ──── - ──── - 2⋅M⋅u₁̇ + Mp⋅l⋅θ⋅u₂  + Mp⋅l⋅θ⋅u₃  - Mp⋅l⋅u₂̇ -\n",
       "⎢                  r      r                                                   \n",
       "⎢                                                                             \n",
       "⎢                                              2     2       2                \n",
       "⎢                      -I₂⋅u₂̇ + Mp⋅g⋅l⋅θ + Mp⋅l ⋅θ⋅u₃  - Mp⋅l ⋅u₂̇ - Mp⋅l⋅u₁̇\n",
       "⎢                                                                             \n",
       "⎢         J⋅d⋅u₄̇   J⋅d⋅u₅̇                 2          2  2            2      \n",
       "⎢-I₃⋅u₃̇ + ────── - ────── - 2⋅K⋅u₃̇ - 2⋅M⋅d ⋅u₃̇ - Mp⋅l ⋅θ ⋅u₃̇ - 2⋅Mp⋅l ⋅θ⋅u\n",
       "⎢           r        r                                                        \n",
       "⎢                                                                             \n",
       "⎢                                                    0                        \n",
       "⎢                                                                             \n",
       "⎣                                                    0                        \n",
       "\n",
       "         Tₗ   Tᵣ               ⎤\n",
       " Mp⋅u₁̇ + ── + ──               ⎥\n",
       "       r    r                ⎥\n",
       "                             ⎥\n",
       "                             ⎥\n",
       " - Tₗ - Tᵣ                      ⎥\n",
       "                             ⎥\n",
       "                    d⋅Tₗ   d⋅Tᵣ⎥\n",
       "₂⋅u₃ - Mp⋅l⋅θ⋅u₁⋅u₃ + ──── - ────⎥\n",
       "                   r      r  ⎥\n",
       "                             ⎥\n",
       "                             ⎥\n",
       "                             ⎥\n",
       "                             ⎦"
      ]
     },
     "execution_count": 62,
     "metadata": {},
     "output_type": "execute_result"
    }
   ],
   "source": [
    "update3"
   ]
  },
  {
   "cell_type": "code",
   "execution_count": 63,
   "metadata": {
    "tags": []
   },
   "outputs": [],
   "source": [
    "update4 = update3.row_del(3)"
   ]
  },
  {
   "cell_type": "code",
   "execution_count": 65,
   "metadata": {
    "tags": []
   },
   "outputs": [],
   "source": [
    "update5 = update4.row_del(3)"
   ]
  },
  {
   "cell_type": "code",
   "execution_count": 66,
   "metadata": {},
   "outputs": [],
   "source": [
    "update6 = update5.subs(theta*u3,0)"
   ]
  },
  {
   "cell_type": "code",
   "execution_count": 67,
   "metadata": {},
   "outputs": [],
   "source": [
    "update7 = update6.subs(theta*u1,0)"
   ]
  },
  {
   "cell_type": "code",
   "execution_count": 70,
   "metadata": {},
   "outputs": [],
   "source": [
    "linear = update7.subs(theta*u3.diff(),0)"
   ]
  },
  {
   "cell_type": "code",
   "execution_count": 94,
   "metadata": {},
   "outputs": [
    {
     "data": {
      "text/latex": [
       "$\\displaystyle \\left[\\begin{matrix}- \\frac{J \\dot{u}_{4}}{r} - \\frac{J \\dot{u}_{5}}{r} - 2 M \\dot{u}_{1} + Mp l \\theta u_{2}^{2} - Mp l \\dot{u}_{2} - Mp \\dot{u}_{1} + \\frac{T_{l}}{r} + \\frac{T_{r}}{r}\\\\- I_{2} \\dot{u}_{2} + Mp g l \\theta - Mp l^{2} \\dot{u}_{2} - Mp l \\dot{u}_{1} - T_{l} - T_{r}\\\\- I_{3} \\dot{u}_{3} + \\frac{J d \\dot{u}_{4}}{r} - \\frac{J d \\dot{u}_{5}}{r} - 2 K \\dot{u}_{3} - 2 M d^{2} \\dot{u}_{3} + \\frac{d T_{l}}{r} - \\frac{d T_{r}}{r}\\end{matrix}\\right]$"
      ],
      "text/plain": [
       "⎡  J⋅u₄̇   J⋅u₅̇                     2                     Tₗ   Tᵣ⎤\n",
       "⎢- ──── - ──── - 2⋅M⋅u₁̇ + Mp⋅l⋅θ⋅u₂  - Mp⋅l⋅u₂̇ - Mp⋅u₁̇ + ── + ──⎥\n",
       "⎢   r      r                                             r    r ⎥\n",
       "⎢                                                               ⎥\n",
       "⎢                               2                               ⎥\n",
       "⎢       -I₂⋅u₂̇ + Mp⋅g⋅l⋅θ - Mp⋅l ⋅u₂̇ - Mp⋅l⋅u₁̇ - Tₗ - Tᵣ        ⎥\n",
       "⎢                                                               ⎥\n",
       "⎢           J⋅d⋅u₄̇   J⋅d⋅u₅̇                 2      d⋅Tₗ   d⋅Tᵣ  ⎥\n",
       "⎢  -I₃⋅u₃̇ + ────── - ────── - 2⋅K⋅u₃̇ - 2⋅M⋅d ⋅u₃̇ + ──── - ────  ⎥\n",
       "⎣             r        r                            r      r    ⎦"
      ]
     },
     "execution_count": 94,
     "metadata": {},
     "output_type": "execute_result"
    }
   ],
   "source": [
    "linear = trigsimp(linear)\n",
    "linear"
   ]
  },
  {
   "cell_type": "code",
   "execution_count": 95,
   "metadata": {},
   "outputs": [
    {
     "data": {
      "text/latex": [
       "$\\displaystyle \\left[\\begin{matrix}\\dot{u}_{1}\\\\\\dot{u}_{2}\\\\\\dot{u}_{3}\\end{matrix}\\right]$"
      ],
      "text/plain": [
       "⎡u₁̇⎤\n",
       "⎢  ⎥\n",
       "⎢u₂̇⎥\n",
       "⎢  ⎥\n",
       "⎣u₃̇⎦"
      ]
     },
     "execution_count": 95,
     "metadata": {},
     "output_type": "execute_result"
    }
   ],
   "source": [
    "uL.diff()"
   ]
  },
  {
   "cell_type": "code",
   "execution_count": 96,
   "metadata": {},
   "outputs": [
    {
     "data": {
      "text/latex": [
       "$\\displaystyle \\left[\\begin{matrix}x\\\\\\theta\\\\\\delta\\end{matrix}\\right]$"
      ],
      "text/plain": [
       "⎡x⎤\n",
       "⎢ ⎥\n",
       "⎢θ⎥\n",
       "⎢ ⎥\n",
       "⎣δ⎦"
      ]
     },
     "execution_count": 96,
     "metadata": {},
     "output_type": "execute_result"
    }
   ],
   "source": [
    "q"
   ]
  },
  {
   "cell_type": "code",
   "execution_count": 97,
   "metadata": {},
   "outputs": [
    {
     "data": {
      "text/latex": [
       "$\\displaystyle \\left[\\begin{matrix}- 2 M - Mp & - Mp l & 0\\\\- Mp l & - I_{2} - Mp l^{2} & 0\\\\0 & 0 & - I_{3} - 2 K - 2 M d^{2}\\end{matrix}\\right]$"
      ],
      "text/plain": [
       "⎡-2⋅M - Mp     -Mp⋅l             0         ⎤\n",
       "⎢                                          ⎥\n",
       "⎢                     2                    ⎥\n",
       "⎢  -Mp⋅l    -I₂ - Mp⋅l           0         ⎥\n",
       "⎢                                          ⎥\n",
       "⎢                                         2⎥\n",
       "⎣    0           0       -I₃ - 2⋅K - 2⋅M⋅d ⎦"
      ]
     },
     "execution_count": 97,
     "metadata": {},
     "output_type": "execute_result"
    }
   ],
   "source": [
    "linear.jacobian(uL.diff())"
   ]
  },
  {
   "cell_type": "code",
   "execution_count": 98,
   "metadata": {},
   "outputs": [
    {
     "data": {
      "text/latex": [
       "$\\displaystyle \\left[\\begin{matrix}T_{r}\\\\T_{l}\\end{matrix}\\right]$"
      ],
      "text/plain": [
       "⎡Tᵣ⎤\n",
       "⎢  ⎥\n",
       "⎣Tₗ⎦"
      ]
     },
     "execution_count": 98,
     "metadata": {},
     "output_type": "execute_result"
    }
   ],
   "source": [
    "torques = Matrix([Lwheel_torque_scala,Rwheel_torque_scala])\n",
    "torques"
   ]
  },
  {
   "cell_type": "code",
   "execution_count": 99,
   "metadata": {},
   "outputs": [
    {
     "data": {
      "text/latex": [
       "$\\displaystyle \\left[\\begin{matrix}\\frac{1}{r} & \\frac{1}{r}\\\\-1 & -1\\\\- \\frac{d}{r} & \\frac{d}{r}\\end{matrix}\\right]$"
      ],
      "text/plain": [
       "⎡ 1   1 ⎤\n",
       "⎢ ─   ─ ⎥\n",
       "⎢ r   r ⎥\n",
       "⎢       ⎥\n",
       "⎢-1   -1⎥\n",
       "⎢       ⎥\n",
       "⎢-d   d ⎥\n",
       "⎢───  ─ ⎥\n",
       "⎣ r   r ⎦"
      ]
     },
     "execution_count": 99,
     "metadata": {},
     "output_type": "execute_result"
    }
   ],
   "source": [
    "linear.jacobian(torques)"
   ]
  },
  {
   "cell_type": "code",
   "execution_count": 100,
   "metadata": {},
   "outputs": [
    {
     "data": {
      "text/latex": [
       "$\\displaystyle \\left[\\begin{matrix}0 & Mp l u_{2}^{2} & 0\\\\0 & Mp g l & 0\\\\0 & 0 & 0\\end{matrix}\\right]$"
      ],
      "text/plain": [
       "⎡          2   ⎤\n",
       "⎢0  Mp⋅l⋅u₂   0⎥\n",
       "⎢              ⎥\n",
       "⎢0   Mp⋅g⋅l   0⎥\n",
       "⎢              ⎥\n",
       "⎣0     0      0⎦"
      ]
     },
     "execution_count": 100,
     "metadata": {},
     "output_type": "execute_result"
    }
   ],
   "source": [
    "linear.jacobian(q)"
   ]
  },
  {
   "cell_type": "code",
   "execution_count": 101,
   "metadata": {},
   "outputs": [
    {
     "data": {
      "text/latex": [
       "$\\displaystyle \\left[\\begin{matrix}u_{1}\\\\u_{2}\\\\u_{3}\\end{matrix}\\right]$"
      ],
      "text/plain": [
       "⎡u₁⎤\n",
       "⎢  ⎥\n",
       "⎢u₂⎥\n",
       "⎢  ⎥\n",
       "⎣u₃⎦"
      ]
     },
     "execution_count": 101,
     "metadata": {},
     "output_type": "execute_result"
    }
   ],
   "source": [
    "uL"
   ]
  },
  {
   "cell_type": "code",
   "execution_count": 125,
   "metadata": {},
   "outputs": [],
   "source": [
    "xdotform = Matrix([1,2,3])"
   ]
  },
  {
   "cell_type": "code",
   "execution_count": 126,
   "metadata": {
    "tags": []
   },
   "outputs": [],
   "source": [
    "sols = sm.linsolve(linear,u1.diff(),u2.diff(), u3.diff())"
   ]
  },
  {
   "cell_type": "code",
   "execution_count": 127,
   "metadata": {},
   "outputs": [],
   "source": [
    "(xdotform[0], xdotform[1], xdotform[2]) = tuple(*sols)"
   ]
  },
  {
   "cell_type": "markdown",
   "metadata": {},
   "source": [
    "u2,u3 에서 nonlinear 로 안풀린다"
   ]
  },
  {
   "cell_type": "code",
   "execution_count": 130,
   "metadata": {},
   "outputs": [
    {
     "data": {
      "text/latex": [
       "$\\displaystyle \\left[\\begin{matrix}0 & \\frac{2 Mp l \\left(I_{2} + Mp l^{2}\\right) \\theta u_{2}}{2 I_{2} M + I_{2} Mp + 2 M Mp l^{2}} & 0\\\\0 & - \\frac{2 Mp^{2} l^{2} \\theta u_{2}}{2 I_{2} M + I_{2} Mp + 2 M Mp l^{2}} & 0\\\\0 & 0 & 0\\end{matrix}\\right]$"
      ],
      "text/plain": [
       "⎡           ⎛         2⎞         ⎤\n",
       "⎢    2⋅Mp⋅l⋅⎝I₂ + Mp⋅l ⎠⋅θ⋅u₂    ⎥\n",
       "⎢0  ──────────────────────────  0⎥\n",
       "⎢                            2   ⎥\n",
       "⎢   2⋅I₂⋅M + I₂⋅Mp + 2⋅M⋅Mp⋅l    ⎥\n",
       "⎢                                ⎥\n",
       "⎢             2  2               ⎥\n",
       "⎢        -2⋅Mp ⋅l ⋅θ⋅u₂          ⎥\n",
       "⎢0  ──────────────────────────  0⎥\n",
       "⎢                            2   ⎥\n",
       "⎢   2⋅I₂⋅M + I₂⋅Mp + 2⋅M⋅Mp⋅l    ⎥\n",
       "⎢                                ⎥\n",
       "⎣0              0               0⎦"
      ]
     },
     "execution_count": 130,
     "metadata": {},
     "output_type": "execute_result"
    }
   ],
   "source": [
    "A = xdotform.jacobian(uL)\n",
    "A.simplify()\n",
    "A"
   ]
  },
  {
   "cell_type": "code",
   "execution_count": 131,
   "metadata": {},
   "outputs": [
    {
     "data": {
      "text/latex": [
       "$\\displaystyle \\left[\\begin{matrix}\\frac{I_{2} + Mp l^{2} + Mp l r}{r \\left(2 I_{2} M + I_{2} Mp + 2 M Mp l^{2}\\right)} & \\frac{I_{2} + Mp l^{2} + Mp l r}{r \\left(2 I_{2} M + I_{2} Mp + 2 M Mp l^{2}\\right)}\\\\- \\frac{2 M r + Mp l + Mp r}{r \\left(2 I_{2} M + I_{2} Mp + 2 M Mp l^{2}\\right)} & - \\frac{2 M r + Mp l + Mp r}{r \\left(2 I_{2} M + I_{2} Mp + 2 M Mp l^{2}\\right)}\\\\- \\frac{d}{r \\left(I_{3} + 2 K + 2 M d^{2}\\right)} & \\frac{d}{r \\left(I_{3} + 2 K + 2 M d^{2}\\right)}\\end{matrix}\\right]$"
      ],
      "text/plain": [
       "⎡              2                               2               ⎤\n",
       "⎢     I₂ + Mp⋅l  + Mp⋅l⋅r             I₂ + Mp⋅l  + Mp⋅l⋅r      ⎥\n",
       "⎢──────────────────────────────  ──────────────────────────────⎥\n",
       "⎢  ⎛                         2⎞    ⎛                         2⎞⎥\n",
       "⎢r⋅⎝2⋅I₂⋅M + I₂⋅Mp + 2⋅M⋅Mp⋅l ⎠  r⋅⎝2⋅I₂⋅M + I₂⋅Mp + 2⋅M⋅Mp⋅l ⎠⎥\n",
       "⎢                                                              ⎥\n",
       "⎢   -(2⋅M⋅r + Mp⋅l + Mp⋅r)          -(2⋅M⋅r + Mp⋅l + Mp⋅r)     ⎥\n",
       "⎢──────────────────────────────  ──────────────────────────────⎥\n",
       "⎢  ⎛                         2⎞    ⎛                         2⎞⎥\n",
       "⎢r⋅⎝2⋅I₂⋅M + I₂⋅Mp + 2⋅M⋅Mp⋅l ⎠  r⋅⎝2⋅I₂⋅M + I₂⋅Mp + 2⋅M⋅Mp⋅l ⎠⎥\n",
       "⎢                                                              ⎥\n",
       "⎢             -d                               d               ⎥\n",
       "⎢    ─────────────────────           ─────────────────────     ⎥\n",
       "⎢      ⎛                2⎞             ⎛                2⎞     ⎥\n",
       "⎣    r⋅⎝I₃ + 2⋅K + 2⋅M⋅d ⎠           r⋅⎝I₃ + 2⋅K + 2⋅M⋅d ⎠     ⎦"
      ]
     },
     "execution_count": 131,
     "metadata": {},
     "output_type": "execute_result"
    }
   ],
   "source": [
    "B = xdotform.jacobian(torques)\n",
    "B.simplify()\n",
    "B"
   ]
  },
  {
   "cell_type": "markdown",
   "metadata": {},
   "source": [
    "# Simulation"
   ]
  },
  {
   "cell_type": "code",
   "execution_count": null,
   "metadata": {},
   "outputs": [],
   "source": [
    "from sympy import Dummy, lambdify\n",
    "from numpy import array, hstack, zeros, linspace, pi\n",
    "from numpy.linalg import solve\n",
    "from scipy.integrate import odeint"
   ]
  },
  {
   "cell_type": "markdown",
   "metadata": {},
   "source": [
    "# Motor Dynamics"
   ]
  },
  {
   "cell_type": "code",
   "execution_count": null,
   "metadata": {},
   "outputs": [],
   "source": [
    "Kt = symbols('Kt')     #motor torque constant\n",
    "\n",
    "I_r, I_l = sm.symbols('I_r, I_l')       #motor amp\n",
    "\n",
    "#모터 토크선언\n",
    "L_torque, R_torque = dynamicsymbols('tau_f, tau_r')\n",
    "\n",
    "L_torque = Kt * I_l\n",
    "\n",
    "R_torque = Kt * I_r\n",
    "\n",
    "#토크벡터 (바퀴>몸체로 전달하는 토크)\n",
    "motor_L = L_torque/R * F.y\n",
    "motor_R = R_torque/R * F.y\n",
    "di = [motor_L,\n",
    "      motor_R]\n"
   ]
  },
  {
   "cell_type": "code",
   "execution_count": null,
   "metadata": {},
   "outputs": [],
   "source": [
    "aug_rhs = linear.col_join(di)"
   ]
  },
  {
   "cell_type": "code",
   "execution_count": null,
   "metadata": {},
   "outputs": [],
   "source": []
  },
  {
   "cell_type": "code",
   "execution_count": null,
   "metadata": {},
   "outputs": [],
   "source": []
  },
  {
   "cell_type": "code",
   "execution_count": null,
   "metadata": {},
   "outputs": [],
   "source": []
  },
  {
   "cell_type": "code",
   "execution_count": null,
   "metadata": {},
   "outputs": [],
   "source": []
  },
  {
   "cell_type": "code",
   "execution_count": null,
   "metadata": {},
   "outputs": [],
   "source": []
  },
  {
   "cell_type": "markdown",
   "metadata": {},
   "source": [
    "### System parameter"
   ]
  },
  {
   "cell_type": "code",
   "execution_count": null,
   "metadata": {},
   "outputs": [],
   "source": [
    "parameters= [g, m_b ,m_wf, m_wr]\n",
    "parameter_vals=[9.81, 10., 5., 3.]\n",
    "parameter_dict = dict(zip(parameters, parameter_vals))\n",
    "parameter_dict"
   ]
  },
  {
   "cell_type": "code",
   "execution_count": null,
   "metadata": {},
   "outputs": [],
   "source": []
  },
  {
   "cell_type": "code",
   "execution_count": null,
   "metadata": {},
   "outputs": [],
   "source": []
  }
 ],
 "metadata": {
  "kernelspec": {
   "display_name": "Python 3",
   "language": "python",
   "name": "python3"
  },
  "language_info": {
   "codemirror_mode": {
    "name": "ipython",
    "version": 3
   },
   "file_extension": ".py",
   "mimetype": "text/x-python",
   "name": "python",
   "nbconvert_exporter": "python",
   "pygments_lexer": "ipython3",
   "version": "3.9.5"
  }
 },
 "nbformat": 4,
 "nbformat_minor": 4
}
