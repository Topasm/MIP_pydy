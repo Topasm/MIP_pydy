{
 "cells": [
  {
   "cell_type": "markdown",
   "metadata": {},
   "source": [
    "# Mobile inverted pendulum python dynamics new\n",
    "\n",
    "author:SeongHyeon Kim\n",
    "\n",
    "program:PYDY balancing robot simulator\n"
   ]
  },
  {
   "cell_type": "markdown",
   "metadata": {},
   "source": [
    "필요한 라이브러리 포함\n"
   ]
  },
  {
   "cell_type": "code",
   "execution_count": 1,
   "metadata": {},
   "outputs": [],
   "source": [
    "from sympy import sin, cos, symbols, solve, Matrix, init_printing\n",
    "from sympy.physics.mechanics import *\n",
    "from sympy.physics.vector import ReferenceFrame\n",
    "import sympy.physics.mechanics as me\n",
    "import sympy as sm\n",
    "import math as m\n",
    "import numpy as np"
   ]
  },
  {
   "cell_type": "code",
   "execution_count": 2,
   "metadata": {},
   "outputs": [],
   "source": [
    "init_vprinting()"
   ]
  },
  {
   "cell_type": "markdown",
   "metadata": {},
   "source": [
    "# Reference frames"
   ]
  },
  {
   "cell_type": "markdown",
   "metadata": {},
   "source": [
    "N은 외부의 기준 프레임. 속도를 0으로"
   ]
  },
  {
   "cell_type": "code",
   "execution_count": 3,
   "metadata": {},
   "outputs": [],
   "source": [
    "#Newtonian reference frame\n",
    "N=ReferenceFrame('N')\n",
    "\n",
    "# Define a world coordinate origin\n",
    "No = Point('No')\n",
    "No.set_vel(N, 0)"
   ]
  },
  {
   "cell_type": "code",
   "execution_count": 4,
   "metadata": {},
   "outputs": [],
   "source": [
    "F = ReferenceFrame('F')\n",
    "\n",
    "P = ReferenceFrame('P')"
   ]
  },
  {
   "cell_type": "markdown",
   "metadata": {},
   "source": [
    "F = N.orientnew('F', 'Axis',[psi, N.z] )     # Intermediate reference frame\n",
    "\n",
    "P = F.orientnew('P', 'Axis', [theta, F.y])   # Inverted Pendulum"
   ]
  },
  {
   "cell_type": "markdown",
   "metadata": {},
   "source": [
    "기준프레임.dcm(상대프레임)"
   ]
  },
  {
   "cell_type": "markdown",
   "metadata": {
    "tags": []
   },
   "source": [
    "## Newtonian, Bodies, Frames, Particles, Points\n"
   ]
  },
  {
   "cell_type": "code",
   "execution_count": 5,
   "metadata": {},
   "outputs": [],
   "source": [
    "Mp =sm.symbols('Mp')  #body mass\n",
    "M = sm.symbols('M') #wheel mass\n",
    "\n",
    "Po = me.Point('p_cm')\n",
    "Lo = me.Point('L_cm')\n",
    "body_l_f = me.ReferenceFrame('L_f')\n",
    "\n",
    "Ro = me.Point('R_cm')\n",
    "body_r_f = me.ReferenceFrame('R_f')\n",
    "\n",
    "frame_f = me.ReferenceFrame('f')\n",
    "Ip = me.Point('I_p')\n",
    "LN = me.Point('ln')\n",
    "RN = me.Point('rn')"
   ]
  },
  {
   "cell_type": "markdown",
   "metadata": {},
   "source": [
    "## Variables, Constants and Specified\n"
   ]
  },
  {
   "cell_type": "code",
   "execution_count": 6,
   "metadata": {
    "scrolled": true
   },
   "outputs": [],
   "source": [
    "\n",
    "\n",
    "x = me.dynamicsymbols('x')            # F1> measure number of Velocity of P in N\n",
    "xd = me.dynamicsymbols('x', 1)\n",
    "xd2 = me.dynamicsymbols('x', 2)\n",
    "theta = me.dynamicsymbols('theta')    # F2> measure number of Angular velocity of P in N\n",
    "thetad = me.dynamicsymbols('theta', 1)\n",
    "thetad2 = me.dynamicsymbols('theta', 2)\n",
    "delta = me.dynamicsymbols('delta')    # N3> measure number of Angular velocity of P in N\n",
    "deltad = me.dynamicsymbols('delta', 1)\n",
    "deltad2 = me.dynamicsymbols('delta', 2)\n",
    "\n",
    "wL = me.dynamicsymbols('wL')          # Angular Position of L in N\n",
    "wR = me.dynamicsymbols('wR')          # Angular Position of R in N\n",
    "\n",
    "\n",
    "g = sm.symbols('g', real=True)        #Gravitational acceleration\n",
    "d = sm.symbols('d', real=True)        # Distance from point I to Lo (or Ro)\n",
    "R = sm.symbols('r', real=True)        #Radius of wheels\n",
    "l = sm.symbols('l', real=True)        # Distance from point I to mass center of P\n",
    "t = sm.symbols('t')\n",
    "\n",
    "\n",
    "# Create q vectors\n",
    "q = Matrix([x, theta, delta])\n",
    "qd = q.diff()"
   ]
  },
  {
   "cell_type": "markdown",
   "metadata": {},
   "source": [
    "## Generalized speed"
   ]
  },
  {
   "cell_type": "code",
   "execution_count": 7,
   "metadata": {},
   "outputs": [],
   "source": [
    "u1 = me.dynamicsymbols('u1')           #x-dot\n",
    "u2 = me.dynamicsymbols('u2')           #theta-dot     \n",
    "u3 = me.dynamicsymbols('u3')           #delta-dot   \n",
    "u4 = me.dynamicsymbols('u4')           #wL-dot\n",
    "u5 = me.dynamicsymbols('u5')           #wR-dot\n",
    "uL = Matrix([u1, u2, u3])"
   ]
  },
  {
   "cell_type": "markdown",
   "metadata": {},
   "source": [
    "## Mass and Inertia\n",
    "\n",
    "관성모멘트함수=inertia(기준 좌표, xx, yy,zz회전)"
   ]
  },
  {
   "cell_type": "code",
   "execution_count": 8,
   "metadata": {},
   "outputs": [],
   "source": [
    "K,J = symbols('K J')"
   ]
  },
  {
   "cell_type": "code",
   "execution_count": 9,
   "metadata": {},
   "outputs": [],
   "source": [
    "I_L = inertia(F, K,J,K)                          #Wheel inertia \n",
    "I_R = inertia(F, K,J,K)\n"
   ]
  },
  {
   "cell_type": "code",
   "execution_count": 10,
   "metadata": {},
   "outputs": [],
   "source": [
    "m_b = symbols('m_b')                              #Mass of the body\n",
    "I1, I2, I3 = symbols('I1 I2 I3')                  #Moments of inertia of body"
   ]
  },
  {
   "cell_type": "code",
   "execution_count": 11,
   "metadata": {},
   "outputs": [],
   "source": [
    "# Calculate inertia of body\n",
    "Ib = inertia(F, I1, I2, I3)"
   ]
  },
  {
   "cell_type": "markdown",
   "metadata": {},
   "source": [
    "###  Geometry relating unit vectors"
   ]
  },
  {
   "cell_type": "code",
   "execution_count": 12,
   "metadata": {},
   "outputs": [],
   "source": [
    "F.orient(N, 'Axis', [delta, N.z])"
   ]
  },
  {
   "cell_type": "code",
   "execution_count": 13,
   "metadata": {},
   "outputs": [],
   "source": [
    "P.orient(F, 'Axis', [theta, F.y])"
   ]
  },
  {
   "cell_type": "code",
   "execution_count": 14,
   "metadata": {
    "scrolled": true
   },
   "outputs": [
    {
     "data": {
      "text/latex": [
       "$\\displaystyle \\left[\\begin{matrix}\\cos{\\left(\\delta \\right)} & - \\sin{\\left(\\delta \\right)} & 0\\\\\\sin{\\left(\\delta \\right)} & \\cos{\\left(\\delta \\right)} & 0\\\\0 & 0 & 1\\end{matrix}\\right]$"
      ],
      "text/plain": [
       "⎡cos(δ)  -sin(δ)  0⎤\n",
       "⎢                  ⎥\n",
       "⎢sin(δ)  cos(δ)   0⎥\n",
       "⎢                  ⎥\n",
       "⎣  0        0     1⎦"
      ]
     },
     "execution_count": 14,
     "metadata": {},
     "output_type": "execute_result"
    }
   ],
   "source": [
    "N.dcm(F)"
   ]
  },
  {
   "cell_type": "code",
   "execution_count": 15,
   "metadata": {},
   "outputs": [
    {
     "data": {
      "text/latex": [
       "$\\displaystyle \\left[\\begin{matrix}\\cos{\\left(\\theta \\right)} & 0 & \\sin{\\left(\\theta \\right)}\\\\0 & 1 & 0\\\\- \\sin{\\left(\\theta \\right)} & 0 & \\cos{\\left(\\theta \\right)}\\end{matrix}\\right]$"
      ],
      "text/plain": [
       "⎡cos(θ)   0  sin(θ)⎤\n",
       "⎢                  ⎥\n",
       "⎢   0     1    0   ⎥\n",
       "⎢                  ⎥\n",
       "⎣-sin(θ)  0  cos(θ)⎦"
      ]
     },
     "execution_count": 15,
     "metadata": {},
     "output_type": "execute_result"
    }
   ],
   "source": [
    "F.dcm(P)"
   ]
  },
  {
   "cell_type": "markdown",
   "metadata": {},
   "source": [
    "## Position vectors\n",
    "\n",
    "기준.locatenew('이름', 이동*단위백터)"
   ]
  },
  {
   "cell_type": "code",
   "execution_count": 16,
   "metadata": {},
   "outputs": [],
   "source": [
    "I = No.locatenew('I', x*F.x)      # Point No to I\n",
    "\n",
    "Po = I.locatenew('Po', l*P.z)     # Point I to mass center of P\n",
    "\n",
    "Lo = I.locatenew('Lo', d*F.y)     # Point I to center of wheel L\n",
    "\n",
    "Ro = I.locatenew('Ro', -d*F.y)    # Point I to center of wheel R"
   ]
  },
  {
   "cell_type": "code",
   "execution_count": 17,
   "metadata": {},
   "outputs": [],
   "source": [
    "LN = Lo.locatenew('LN', -R*F.z)   # Center of wheel L to contact point LN\n",
    "\n",
    "RN = Ro.locatenew('RN', -R*F.z)   # Center of wheel R to contact point RN"
   ]
  },
  {
   "cell_type": "markdown",
   "metadata": {},
   "source": [
    "## Angular Velocities\n"
   ]
  },
  {
   "cell_type": "code",
   "execution_count": 18,
   "metadata": {},
   "outputs": [],
   "source": [
    "F.set_ang_vel(N, u3*N.z)        # Angular velocity of F in N\n",
    "\n",
    "P.set_ang_vel(F, u2*F.y)        # Angular velocity of P in F\n",
    "\n",
    "body_l_f.set_ang_vel(F, u4*F.y)    # wL is related to w and v due to rolling\n",
    "\n",
    "body_r_f.set_ang_vel(F, u5*F.y)    # wR is related to w and v due to rolling"
   ]
  },
  {
   "cell_type": "markdown",
   "metadata": {},
   "source": [
    "## Velocities of relevant points"
   ]
  },
  {
   "cell_type": "markdown",
   "metadata": {},
   "source": [
    "\n",
    "v2pt_theory는 선속도를 의미\n",
    "\n",
    "\n",
    "$$^I\\mathbf{v}^{P_2} = ^I\\mathbf{v}^{P_1} + ^I\\omega^A \\times \\mathbf{r}^{\\frac{P_2}{P_1}}$$\n",
    "\n",
    "The `Point.v2pt_theory()` method makes it easy to do this calculation.\n",
    "\n",
    "측정점.v2pt_theory(회전 중심점, 관찰틀, 회전틀(돌아가는 애))\n",
    "\n",
    "\n",
    "\n",
    "속도를 측정하는게 아니고 부여하는거 같다 좀더 알아보자"
   ]
  },
  {
   "cell_type": "code",
   "execution_count": 19,
   "metadata": {},
   "outputs": [],
   "source": [
    "V_I_N = I.set_vel(N, u1*F.x)             # Velocity of point I in N\n",
    "\n",
    "V_PO_N = Po.v2pt_theory(I,N,P)           # Velocity of center of mass of P\n",
    "\n",
    "V_LO_N = Lo.v2pt_theory(I, N,P,)         # Velocity of center of L\n",
    "\n",
    "V_RO_N = Ro.v2pt_theory(I,N,P)           # Velocity of center of R\n",
    "\n",
    "V_LN_N = LN.v2pt_theory(Lo,N,body_l_f)          # Velocity of contact point of L\n",
    "\n",
    "V_RN_N = RN.v2pt_theory(Ro,N,body_r_f)          # Velocity of contact point of R"
   ]
  },
  {
   "cell_type": "markdown",
   "metadata": {},
   "source": [
    "RigidBody =강체 선언 (입자로 저장된다고 한다)\n",
    "\n",
    "\n",
    " B = RigidBody ( '이름' ,질량 중심, 프레임 ,질량, ( I , P ))\n",
    " "
   ]
  },
  {
   "cell_type": "code",
   "execution_count": 20,
   "metadata": {
    "tags": []
   },
   "outputs": [],
   "source": [
    "body_p = me.RigidBody('body_p', Po, P, Mp, (Ib, Po))\n",
    "body_l = me.RigidBody('body_l', Lo, body_l_f, M, (I_L, Lo))\n",
    "body_r = me.RigidBody('body_r', Ro, body_r_f, M,(I_R, Ro))"
   ]
  },
  {
   "cell_type": "markdown",
   "metadata": {
    "tags": []
   },
   "source": [
    "### Forces"
   ]
  },
  {
   "cell_type": "markdown",
   "metadata": {},
   "source": [
    "#### gravity"
   ]
  },
  {
   "cell_type": "code",
   "execution_count": 21,
   "metadata": {},
   "outputs": [],
   "source": [
    "#중력벡터\n",
    "Gravity = -g * N.z      #Gravity Vector"
   ]
  },
  {
   "cell_type": "code",
   "execution_count": 22,
   "metadata": {},
   "outputs": [],
   "source": [
    "body_gravity_vector =-g*Mp*N.z"
   ]
  },
  {
   "cell_type": "code",
   "execution_count": 23,
   "metadata": {},
   "outputs": [],
   "source": [
    "leftwheel_gravity_vector = - M*g*N.z"
   ]
  },
  {
   "cell_type": "code",
   "execution_count": 24,
   "metadata": {},
   "outputs": [],
   "source": [
    "rightwheel_gravity_vector = - M*g*N.z"
   ]
  },
  {
   "cell_type": "code",
   "execution_count": 25,
   "metadata": {},
   "outputs": [],
   "source": [
    "b_g_f = (Po, body_gravity_vector)"
   ]
  },
  {
   "cell_type": "code",
   "execution_count": 26,
   "metadata": {},
   "outputs": [],
   "source": [
    "l_g_f = (Lo, leftwheel_gravity_vector)"
   ]
  },
  {
   "cell_type": "code",
   "execution_count": 27,
   "metadata": {},
   "outputs": [],
   "source": [
    "r_g_f = (Ro, rightwheel_gravity_vector)"
   ]
  },
  {
   "cell_type": "code",
   "execution_count": 28,
   "metadata": {
    "tags": []
   },
   "outputs": [
    {
     "data": {
      "text/plain": [
       "sympy.physics.vector.point.Point"
      ]
     },
     "execution_count": 28,
     "metadata": {},
     "output_type": "execute_result"
    }
   ],
   "source": [
    "type(Po)"
   ]
  },
  {
   "cell_type": "code",
   "execution_count": 29,
   "metadata": {},
   "outputs": [
    {
     "data": {
      "text/plain": [
       "sympy.physics.vector.vector.Vector"
      ]
     },
     "execution_count": 29,
     "metadata": {},
     "output_type": "execute_result"
    }
   ],
   "source": [
    "type(body_gravity_vector)"
   ]
  },
  {
   "cell_type": "markdown",
   "metadata": {},
   "source": [
    "### Torques"
   ]
  },
  {
   "cell_type": "markdown",
   "metadata": {
    "tags": []
   },
   "source": [
    "바퀴가 받는 토크, 바퀴에 의해 생기는 몸의 반작용 토크"
   ]
  },
  {
   "cell_type": "code",
   "execution_count": 30,
   "metadata": {},
   "outputs": [],
   "source": [
    "body_torque_scala, Lwheel_torque_scala, Rwheel_torque_scala = dynamicsymbols('T_b, T_r, T_l')"
   ]
  },
  {
   "cell_type": "code",
   "execution_count": 31,
   "metadata": {},
   "outputs": [],
   "source": [
    "Lwheel_torque_vector = Lwheel_torque_scala * F.y"
   ]
  },
  {
   "cell_type": "code",
   "execution_count": 32,
   "metadata": {},
   "outputs": [],
   "source": [
    "Rwheel_torque_vector = Rwheel_torque_scala * F.y"
   ]
  },
  {
   "cell_type": "code",
   "execution_count": 33,
   "metadata": {},
   "outputs": [],
   "source": [
    "body_torque_vector = -Lwheel_torque_vector -Rwheel_torque_vector"
   ]
  },
  {
   "cell_type": "code",
   "execution_count": 34,
   "metadata": {},
   "outputs": [],
   "source": [
    "Lwheel_torque = (body_l_f, Lwheel_torque_vector)"
   ]
  },
  {
   "cell_type": "code",
   "execution_count": 35,
   "metadata": {},
   "outputs": [],
   "source": [
    "Rwheel_torque = (body_r_f, Rwheel_torque_vector)"
   ]
  },
  {
   "cell_type": "code",
   "execution_count": 36,
   "metadata": {},
   "outputs": [],
   "source": [
    "body_torque = (P, body_torque_vector)"
   ]
  },
  {
   "cell_type": "code",
   "execution_count": 37,
   "metadata": {
    "tags": []
   },
   "outputs": [
    {
     "data": {
      "text/plain": [
       "(P, (-T_l(t) - T_r(t))*F.y)"
      ]
     },
     "execution_count": 37,
     "metadata": {},
     "output_type": "execute_result"
    }
   ],
   "source": [
    "body_torque"
   ]
  },
  {
   "cell_type": "code",
   "execution_count": 38,
   "metadata": {},
   "outputs": [
    {
     "data": {
      "image/png": "[encoded data removed]",
      "text/latex": [
       "$\\displaystyle T_{r}\\mathbf{\\hat{f}_y}$"
      ],
      "text/plain": [
       "Tᵣ f_y"
      ]
     },
     "execution_count": 38,
     "metadata": {},
     "output_type": "execute_result"
    }
   ],
   "source": [
    "Lwheel_torque_vector"
   ]
  },
  {
   "cell_type": "markdown",
   "metadata": {
    "tags": []
   },
   "source": [
    "### Equations of Motions"
   ]
  },
  {
   "cell_type": "markdown",
   "metadata": {},
   "source": [
    "q는 위치 dq 속력"
   ]
  },
  {
   "cell_type": "code",
   "execution_count": 39,
   "metadata": {},
   "outputs": [
    {
     "data": {
      "text/latex": [
       "$\\displaystyle \\left[\\begin{matrix}x\\\\\\theta\\\\\\delta\\end{matrix}\\right]$"
      ],
      "text/plain": [
       "⎡x⎤\n",
       "⎢ ⎥\n",
       "⎢θ⎥\n",
       "⎢ ⎥\n",
       "⎣δ⎦"
      ]
     },
     "execution_count": 39,
     "metadata": {},
     "output_type": "execute_result"
    }
   ],
   "source": [
    "q"
   ]
  },
  {
   "cell_type": "code",
   "execution_count": 40,
   "metadata": {},
   "outputs": [
    {
     "data": {
      "text/plain": [
       "[(Po, - Mp*g*N.z),\n",
       " (Ro, - M*g*N.z),\n",
       " (Lo, - M*g*N.z),\n",
       " (L_f, T_r(t)*F.y),\n",
       " (R_f, T_l(t)*F.y),\n",
       " (P, (-T_l(t) - T_r(t))*F.y)]"
      ]
     },
     "execution_count": 40,
     "metadata": {},
     "output_type": "execute_result"
    }
   ],
   "source": [
    "FL = [b_g_f,\n",
    "         r_g_f,\n",
    "         l_g_f,\n",
    "         Lwheel_torque,\n",
    "         Rwheel_torque,\n",
    "         body_torque]\n",
    "FL"
   ]
  },
  {
   "cell_type": "markdown",
   "metadata": {},
   "source": [
    "## Constraints"
   ]
  },
  {
   "cell_type": "markdown",
   "metadata": {},
   "source": [
    "어떤 곳에 구속되어있는걸 Holonomic 이라고 하는듯 바퀴를 평면에 구속해야함"
   ]
  },
  {
   "cell_type": "markdown",
   "metadata": {},
   "source": [
    "### holomic"
   ]
  },
  {
   "cell_type": "code",
   "execution_count": 41,
   "metadata": {},
   "outputs": [],
   "source": [
    "Dependent1 =dot(V_LN_N ,F.x)"
   ]
  },
  {
   "cell_type": "code",
   "execution_count": 42,
   "metadata": {},
   "outputs": [],
   "source": [
    "Dependent2 = dot(V_RN_N, F.x)"
   ]
  },
  {
   "cell_type": "code",
   "execution_count": 43,
   "metadata": {},
   "outputs": [
    {
     "data": {
      "image/png": "[encoded data removed]",
      "text/latex": [
       "$\\displaystyle \\left[ - d u_{3} - r u_{4} + u_{1}, \\  d u_{3} - r u_{5} + u_{1}\\right]$"
      ],
      "text/plain": [
       "[-d⋅u₃ - r⋅u₄ + u₁, d⋅u₃ - r⋅u₅ + u₁]"
      ]
     },
     "execution_count": 43,
     "metadata": {},
     "output_type": "execute_result"
    }
   ],
   "source": [
    "v_cons = [Dependent1,\n",
    "          Dependent2]\n",
    "\n",
    "v_cons"
   ]
  },
  {
   "cell_type": "code",
   "execution_count": 44,
   "metadata": {},
   "outputs": [],
   "source": [
    "acc_cons = [Dependent1.diff(t),Dependent2.diff(t)] "
   ]
  },
  {
   "cell_type": "code",
   "execution_count": 45,
   "metadata": {},
   "outputs": [],
   "source": [
    "u_aux = [u4.diff(t), u5.diff(t)]"
   ]
  },
  {
   "cell_type": "markdown",
   "metadata": {
    "tags": []
   },
   "source": [
    "# Kinematical Differential Equations"
   ]
  },
  {
   "cell_type": "code",
   "execution_count": 46,
   "metadata": {},
   "outputs": [
    {
     "data": {
      "image/png": "[encoded data removed]",
      "text/latex": [
       "$\\displaystyle \\left[ - u_{1} + \\dot{x}, \\  - u_{2} + \\dot{\\theta}, \\  - u_{3} + \\dot{\\delta}\\right]$"
      ],
      "text/plain": [
       "[-u₁ + ẋ, -u₂ + θ̇, -u₃ + δ̇]"
      ]
     },
     "execution_count": 46,
     "metadata": {},
     "output_type": "execute_result"
    }
   ],
   "source": [
    "kde = [x.diff() - u1,\n",
    "       theta.diff() - u2,\n",
    "       delta.diff() - u3]\n",
    "kde"
   ]
  },
  {
   "cell_type": "markdown",
   "metadata": {
    "tags": []
   },
   "source": [
    "# 운동방정식으로 만들자"
   ]
  },
  {
   "cell_type": "markdown",
   "metadata": {},
   "source": [
    "## Generalized Forces"
   ]
  },
  {
   "cell_type": "markdown",
   "metadata": {},
   "source": [
    "[토크힘] x [속도,각속도]\n",
    "\n",
    "[Cm속도, 앞바퀴각속도, 뒷바퀴각속도, 몸체 각속도] x [중력, 앞바퀴토크, 뒷바퀴토크, Cm토크] \n",
    "\n",
    "VnWxTnF"
   ]
  },
  {
   "cell_type": "code",
   "execution_count": 47,
   "metadata": {},
   "outputs": [],
   "source": [
    "from __future__ import print_function, division"
   ]
  },
  {
   "cell_type": "code",
   "execution_count": 48,
   "metadata": {},
   "outputs": [],
   "source": [
    "from sympy import trigsimp\n",
    "from sympy.physics.mechanics import KanesMethod\n",
    "from sympy.functions import transpose"
   ]
  },
  {
   "cell_type": "code",
   "execution_count": 49,
   "metadata": {},
   "outputs": [],
   "source": [
    "from sympy.physics.vector import init_vprinting"
   ]
  },
  {
   "cell_type": "code",
   "execution_count": 50,
   "metadata": {},
   "outputs": [
    {
     "data": {
      "text/plain": [
       "[body_p, body_l, body_r]"
      ]
     },
     "execution_count": 50,
     "metadata": {},
     "output_type": "execute_result"
    }
   ],
   "source": [
    "BL = [body_p,body_l,body_r]\n",
    "BL"
   ]
  },
  {
   "cell_type": "code",
   "execution_count": 51,
   "metadata": {},
   "outputs": [],
   "source": [
    "kane = KanesMethod(\n",
    "    N,\n",
    "    q,\n",
    "    uL,\n",
    "    kd_eqs=kde,\n",
    "    q_dependent=None,\n",
    "    configuration_constraints=None,\n",
    "    u_dependent=[u4,u5],\n",
    "    velocity_constraints=v_cons,\n",
    "    acceleration_constraints=acc_cons,\n",
    "    u_auxiliary=u_aux,\n",
    "    bodies=None,\n",
    "    forcelist=None,\n",
    ")"
   ]
  },
  {
   "cell_type": "code",
   "execution_count": 52,
   "metadata": {
    "tags": []
   },
   "outputs": [],
   "source": [
    "fr, frstar = kane.kanes_equations( BL, FL)"
   ]
  },
  {
   "cell_type": "code",
   "execution_count": 53,
   "metadata": {},
   "outputs": [
    {
     "data": {
      "image/png": "[encoded data removed]",
      "text/latex": [
       "$\\displaystyle \\left\\{ \\dot{\\delta} : u_{3}, \\  \\dot{\\theta} : u_{2}, \\  \\dot{x} : u_{1}\\right\\}$"
      ],
      "text/plain": [
       "{δ̇: u₃, θ̇: u₂, ẋ: u₁}"
      ]
     },
     "execution_count": 53,
     "metadata": {},
     "output_type": "execute_result"
    }
   ],
   "source": [
    "kane.kindiffdict()"
   ]
  },
  {
   "cell_type": "markdown",
   "metadata": {
    "tags": []
   },
   "source": [
    "F + F* =0 식 (Kanes equation)"
   ]
  },
  {
   "cell_type": "code",
   "execution_count": 54,
   "metadata": {
    "scrolled": true
   },
   "outputs": [],
   "source": [
    "kanearray = trigsimp(fr + frstar)\n",
    "kanearray = kanearray.subs(u4.diff(), (u1.diff()-d*u3.diff())/R)\n",
    "kanearray = kanearray.subs(u5.diff(), (u1.diff()+d*u3.diff())/R)   #holonomic constrains"
   ]
  },
  {
   "cell_type": "markdown",
   "metadata": {},
   "source": [
    "## Linearization\n",
    "\n",
    "3.52 식 참고"
   ]
  },
  {
   "cell_type": "code",
   "execution_count": 55,
   "metadata": {},
   "outputs": [],
   "source": [
    "update0 =kanearray.expand()"
   ]
  },
  {
   "cell_type": "markdown",
   "metadata": {},
   "source": [
    "a = msubs(rhs, {d: 0}) # 0과 1에서만 작동"
   ]
  },
  {
   "cell_type": "code",
   "execution_count": 56,
   "metadata": {},
   "outputs": [],
   "source": [
    "update1=update0.subs(sin(theta) , theta)"
   ]
  },
  {
   "cell_type": "code",
   "execution_count": 57,
   "metadata": {},
   "outputs": [],
   "source": [
    "update2 = update1.subs(cos(theta) , 1)"
   ]
  },
  {
   "cell_type": "code",
   "execution_count": 58,
   "metadata": {},
   "outputs": [],
   "source": [
    "update3 = update2.subs(sin(2*theta) , 2 *theta)"
   ]
  },
  {
   "cell_type": "code",
   "execution_count": 59,
   "metadata": {},
   "outputs": [
    {
     "data": {
      "text/latex": [
       "$\\displaystyle \\left[\\begin{matrix}- \\frac{2 J \\dot{u}_{1}}{r^{2}} - 2 M \\dot{u}_{1} + Mp l \\theta u_{2}^{2} + Mp l \\theta u_{3}^{2} - Mp l \\dot{u}_{2} - Mp \\dot{u}_{1} + \\frac{T_{l}}{r} + \\frac{T_{r}}{r}\\\\- I_{2} \\dot{u}_{2} + Mp g l \\theta + Mp l^{2} \\theta u_{3}^{2} - Mp l^{2} \\dot{u}_{2} - Mp l \\dot{u}_{1} - T_{l} - T_{r}\\\\- I_{3} \\dot{u}_{3} - \\frac{2 J d^{2} \\dot{u}_{3}}{r^{2}} - 2 K \\dot{u}_{3} - 2 M d^{2} \\dot{u}_{3} - Mp l^{2} \\theta^{2} \\dot{u}_{3} - 2 Mp l^{2} \\theta u_{2} u_{3} - Mp l \\theta u_{1} u_{3} + \\frac{d T_{l}}{r} - \\frac{d T_{r}}{r}\\\\0\\\\0\\end{matrix}\\right]$"
      ],
      "text/plain": [
       "⎡                2⋅J⋅u₁̇                     2            2                   \n",
       "⎢              - ────── - 2⋅M⋅u₁̇ + Mp⋅l⋅θ⋅u₂  + Mp⋅l⋅θ⋅u₃  - Mp⋅l⋅u₂̇ - Mp⋅u₁\n",
       "⎢                   2                                                         \n",
       "⎢                  r                                                          \n",
       "⎢                                                                             \n",
       "⎢                                           2     2       2                   \n",
       "⎢                   -I₂⋅u₂̇ + Mp⋅g⋅l⋅θ + Mp⋅l ⋅θ⋅u₃  - Mp⋅l ⋅u₂̇ - Mp⋅l⋅u₁̇ - \n",
       "⎢                                                                             \n",
       "⎢              2                                                              \n",
       "⎢         2⋅J⋅d ⋅u₃̇                 2          2  2            2             \n",
       "⎢-I₃⋅u₃̇ - ───────── - 2⋅K⋅u₃̇ - 2⋅M⋅d ⋅u₃̇ - Mp⋅l ⋅θ ⋅u₃̇ - 2⋅Mp⋅l ⋅θ⋅u₂⋅u₃ -\n",
       "⎢              2                                                              \n",
       "⎢             r                                                               \n",
       "⎢                                                                             \n",
       "⎢                                                 0                           \n",
       "⎢                                                                             \n",
       "⎣                                                 0                           \n",
       "\n",
       "  Tₗ   Tᵣ               ⎤\n",
       "̇ + ── + ──               ⎥\n",
       " r    r                ⎥\n",
       "                       ⎥\n",
       "                       ⎥\n",
       "                       ⎥\n",
       "Tₗ - Tᵣ                   ⎥\n",
       "                       ⎥\n",
       "                       ⎥\n",
       "             d⋅Tₗ   d⋅Tᵣ⎥\n",
       " Mp⋅l⋅θ⋅u₁⋅u₃ + ──── - ────⎥\n",
       "             r      r  ⎥\n",
       "                       ⎥\n",
       "                       ⎥\n",
       "                       ⎥\n",
       "                       ⎥\n",
       "                       ⎦"
      ]
     },
     "execution_count": 59,
     "metadata": {},
     "output_type": "execute_result"
    }
   ],
   "source": [
    "update3"
   ]
  },
  {
   "cell_type": "code",
   "execution_count": 60,
   "metadata": {
    "tags": []
   },
   "outputs": [],
   "source": [
    "update4 = update3.row_del(3)"
   ]
  },
  {
   "cell_type": "code",
   "execution_count": 61,
   "metadata": {
    "tags": []
   },
   "outputs": [],
   "source": [
    "update5 = update4.row_del(3)"
   ]
  },
  {
   "cell_type": "code",
   "execution_count": 62,
   "metadata": {},
   "outputs": [],
   "source": [
    "update6 = update5.subs(theta*u3,0)"
   ]
  },
  {
   "cell_type": "code",
   "execution_count": 63,
   "metadata": {},
   "outputs": [],
   "source": [
    "update7 = update6.subs(theta*u1,0)"
   ]
  },
  {
   "cell_type": "code",
   "execution_count": 64,
   "metadata": {},
   "outputs": [],
   "source": [
    "linear = update7.subs(theta*u3.diff(),0)"
   ]
  },
  {
   "cell_type": "code",
   "execution_count": 65,
   "metadata": {},
   "outputs": [],
   "source": [
    "linear = linear.subs(u1, x.diff())\n",
    "linear = linear.subs(u2, theta.diff())\n",
    "linear = linear.subs(u3, delta.diff())\n",
    "linear = linear.subs(thetad*thetad,0)         #이유를 잘 모르겠다이건"
   ]
  },
  {
   "cell_type": "code",
   "execution_count": 66,
   "metadata": {},
   "outputs": [
    {
     "data": {
      "text/latex": [
       "$\\displaystyle \\left[\\begin{matrix}- \\frac{2 J \\ddot{x}}{r^{2}} - 2 M \\ddot{x} - Mp l \\ddot{\\theta} - Mp \\ddot{x} + \\frac{T_{l}}{r} + \\frac{T_{r}}{r}\\\\- I_{2} \\ddot{\\theta} + Mp g l \\theta - Mp l^{2} \\ddot{\\theta} - Mp l \\ddot{x} - T_{l} - T_{r}\\\\- I_{3} \\ddot{\\delta} - \\frac{2 J d^{2} \\ddot{\\delta}}{r^{2}} - 2 K \\ddot{\\delta} - 2 M d^{2} \\ddot{\\delta} + \\frac{d T_{l}}{r} - \\frac{d T_{r}}{r}\\end{matrix}\\right]$"
      ],
      "text/plain": [
       "⎡      2⋅J⋅ẍ                           Tₗ   Tᵣ    ⎤\n",
       "⎢    - ───── - 2⋅M⋅ẍ - Mp⋅l⋅θ̈ - Mp⋅ẍ + ── + ──    ⎥\n",
       "⎢         2                            r    r     ⎥\n",
       "⎢        r                                        ⎥\n",
       "⎢                                                 ⎥\n",
       "⎢                         2                       ⎥\n",
       "⎢  -I₂⋅θ̈ + Mp⋅g⋅l⋅θ - Mp⋅l ⋅θ̈ - Mp⋅l⋅ẍ - Tₗ - Tᵣ  ⎥\n",
       "⎢                                                 ⎥\n",
       "⎢             2                                   ⎥\n",
       "⎢        2⋅J⋅d ⋅δ̈                2     d⋅Tₗ   d⋅Tᵣ⎥\n",
       "⎢-I₃⋅δ̈ - ──────── - 2⋅K⋅δ̈ - 2⋅M⋅d ⋅δ̈ + ──── - ────⎥\n",
       "⎢            2                          r      r  ⎥\n",
       "⎣           r                                     ⎦"
      ]
     },
     "execution_count": 66,
     "metadata": {},
     "output_type": "execute_result"
    }
   ],
   "source": [
    "linear = trigsimp(linear)\n",
    "linear"
   ]
  },
  {
   "cell_type": "markdown",
   "metadata": {},
   "source": [
    "Equilibrium Point 에서 선형화한 식과 같다.3.21"
   ]
  },
  {
   "cell_type": "markdown",
   "metadata": {},
   "source": [
    "## Modeling\n",
    "\n",
    "3.26"
   ]
  },
  {
   "cell_type": "code",
   "execution_count": 67,
   "metadata": {},
   "outputs": [
    {
     "data": {
      "text/latex": [
       "$\\displaystyle \\left[\\begin{matrix}T_{r}\\\\T_{l}\\end{matrix}\\right]$"
      ],
      "text/plain": [
       "⎡Tᵣ⎤\n",
       "⎢  ⎥\n",
       "⎣Tₗ⎦"
      ]
     },
     "execution_count": 67,
     "metadata": {},
     "output_type": "execute_result"
    }
   ],
   "source": [
    "torques = Matrix([Lwheel_torque_scala,Rwheel_torque_scala])\n",
    "torques"
   ]
  },
  {
   "cell_type": "code",
   "execution_count": 68,
   "metadata": {},
   "outputs": [
    {
     "data": {
      "text/latex": [
       "$\\displaystyle \\left[\\begin{matrix}\\dot{x}\\\\\\dot{\\theta}\\\\\\dot{\\delta}\\end{matrix}\\right]$"
      ],
      "text/plain": [
       "⎡ẋ⎤\n",
       "⎢ ⎥\n",
       "⎢θ̇⎥\n",
       "⎢ ⎥\n",
       "⎣δ̇⎦"
      ]
     },
     "execution_count": 68,
     "metadata": {},
     "output_type": "execute_result"
    }
   ],
   "source": [
    "qd"
   ]
  },
  {
   "cell_type": "code",
   "execution_count": 69,
   "metadata": {},
   "outputs": [],
   "source": [
    "xdotform = Matrix([1,2,3])"
   ]
  },
  {
   "cell_type": "code",
   "execution_count": 70,
   "metadata": {
    "tags": []
   },
   "outputs": [],
   "source": [
    "sols = sm.linsolve(linear,xd2,thetad2, deltad2)"
   ]
  },
  {
   "cell_type": "code",
   "execution_count": 71,
   "metadata": {},
   "outputs": [],
   "source": [
    "(xdotform[0], xdotform[1], xdotform[2]) = tuple(*sols)"
   ]
  },
  {
   "cell_type": "markdown",
   "metadata": {},
   "source": [
    "u2,u3 에서 nonlinear 로 안풀린다"
   ]
  },
  {
   "cell_type": "code",
   "execution_count": 72,
   "metadata": {},
   "outputs": [
    {
     "data": {
      "text/latex": [
       "$\\displaystyle \\left[\\begin{matrix}0 & 0 & 0\\\\0 & 0 & 0\\\\0 & 0 & 0\\end{matrix}\\right]$"
      ],
      "text/plain": [
       "⎡0  0  0⎤\n",
       "⎢       ⎥\n",
       "⎢0  0  0⎥\n",
       "⎢       ⎥\n",
       "⎣0  0  0⎦"
      ]
     },
     "execution_count": 72,
     "metadata": {},
     "output_type": "execute_result"
    }
   ],
   "source": [
    "Ad = xdotform.jacobian(qd)\n",
    "Ad.simplify()\n",
    "Ad"
   ]
  },
  {
   "cell_type": "code",
   "execution_count": 73,
   "metadata": {},
   "outputs": [
    {
     "data": {
      "text/latex": [
       "$\\displaystyle \\left[\\begin{matrix}0 & - \\frac{Mp^{2} g l^{2} r^{2}}{2 I_{2} J + 2 I_{2} M r^{2} + I_{2} Mp r^{2} + 2 J Mp l^{2} + 2 M Mp l^{2} r^{2}} & 0\\\\0 & \\frac{Mp g l \\left(2 J + 2 M r^{2} + Mp r^{2}\\right)}{2 I_{2} J + 2 I_{2} M r^{2} + I_{2} Mp r^{2} + 2 J Mp l^{2} + 2 M Mp l^{2} r^{2}} & 0\\\\0 & 0 & 0\\end{matrix}\\right]$"
      ],
      "text/plain": [
       "⎡                           2    2  2                          ⎤\n",
       "⎢                        -Mp ⋅g⋅l ⋅r                           ⎥\n",
       "⎢0  ────────────────────────────────────────────────────────  0⎥\n",
       "⎢                    2          2           2           2  2   ⎥\n",
       "⎢   2⋅I₂⋅J + 2⋅I₂⋅M⋅r  + I₂⋅Mp⋅r  + 2⋅J⋅Mp⋅l  + 2⋅M⋅Mp⋅l ⋅r    ⎥\n",
       "⎢                                                              ⎥\n",
       "⎢                       ⎛           2       2⎞                 ⎥\n",
       "⎢                Mp⋅g⋅l⋅⎝2⋅J + 2⋅M⋅r  + Mp⋅r ⎠                 ⎥\n",
       "⎢0  ────────────────────────────────────────────────────────  0⎥\n",
       "⎢                    2          2           2           2  2   ⎥\n",
       "⎢   2⋅I₂⋅J + 2⋅I₂⋅M⋅r  + I₂⋅Mp⋅r  + 2⋅J⋅Mp⋅l  + 2⋅M⋅Mp⋅l ⋅r    ⎥\n",
       "⎢                                                              ⎥\n",
       "⎣0                             0                              0⎦"
      ]
     },
     "execution_count": 73,
     "metadata": {},
     "output_type": "execute_result"
    }
   ],
   "source": [
    "Ac = xdotform.jacobian(q)\n",
    "Ac.simplify()\n",
    "Ac"
   ]
  },
  {
   "cell_type": "code",
   "execution_count": 74,
   "metadata": {},
   "outputs": [
    {
     "data": {
      "text/latex": [
       "$\\displaystyle \\left[\\begin{matrix}1 & 0 & 0\\\\0 & 1 & 0\\\\0 & 0 & 1\\end{matrix}\\right]$"
      ],
      "text/plain": [
       "⎡1  0  0⎤\n",
       "⎢       ⎥\n",
       "⎢0  1  0⎥\n",
       "⎢       ⎥\n",
       "⎣0  0  1⎦"
      ]
     },
     "execution_count": 74,
     "metadata": {},
     "output_type": "execute_result"
    }
   ],
   "source": [
    "Ab = sm.eye(3)\n",
    "Ab"
   ]
  },
  {
   "cell_type": "code",
   "execution_count": 75,
   "metadata": {},
   "outputs": [
    {
     "data": {
      "text/latex": [
       "$\\displaystyle \\left[\\begin{matrix}0 & 0 & 0\\\\0 & 0 & 0\\\\0 & 0 & 0\\end{matrix}\\right]$"
      ],
      "text/plain": [
       "⎡0  0  0⎤\n",
       "⎢       ⎥\n",
       "⎢0  0  0⎥\n",
       "⎢       ⎥\n",
       "⎣0  0  0⎦"
      ]
     },
     "execution_count": 75,
     "metadata": {},
     "output_type": "execute_result"
    }
   ],
   "source": [
    "Aa = sm.zeros(3)\n",
    "Aa"
   ]
  },
  {
   "cell_type": "code",
   "execution_count": 76,
   "metadata": {},
   "outputs": [],
   "source": [
    "A = Matrix([[Aa,Ab],\n",
    "           [Ac,Ad]])"
   ]
  },
  {
   "cell_type": "code",
   "execution_count": 77,
   "metadata": {},
   "outputs": [
    {
     "data": {
      "text/latex": [
       "$\\displaystyle \\left[\\begin{matrix}0 & 0 & 0 & 1 & 0 & 0\\\\0 & 0 & 0 & 0 & 1 & 0\\\\0 & 0 & 0 & 0 & 0 & 1\\\\0 & - \\frac{Mp^{2} g l^{2} r^{2}}{2 I_{2} J + 2 I_{2} M r^{2} + I_{2} Mp r^{2} + 2 J Mp l^{2} + 2 M Mp l^{2} r^{2}} & 0 & 0 & 0 & 0\\\\0 & \\frac{Mp g l \\left(2 J + 2 M r^{2} + Mp r^{2}\\right)}{2 I_{2} J + 2 I_{2} M r^{2} + I_{2} Mp r^{2} + 2 J Mp l^{2} + 2 M Mp l^{2} r^{2}} & 0 & 0 & 0 & 0\\\\0 & 0 & 0 & 0 & 0 & 0\\end{matrix}\\right]$"
      ],
      "text/plain": [
       "⎡0                             0                              0  1  0  0⎤\n",
       "⎢                                                                       ⎥\n",
       "⎢0                             0                              0  0  1  0⎥\n",
       "⎢                                                                       ⎥\n",
       "⎢0                             0                              0  0  0  1⎥\n",
       "⎢                                                                       ⎥\n",
       "⎢                           2    2  2                                   ⎥\n",
       "⎢                        -Mp ⋅g⋅l ⋅r                                    ⎥\n",
       "⎢0  ────────────────────────────────────────────────────────  0  0  0  0⎥\n",
       "⎢                    2          2           2           2  2            ⎥\n",
       "⎢   2⋅I₂⋅J + 2⋅I₂⋅M⋅r  + I₂⋅Mp⋅r  + 2⋅J⋅Mp⋅l  + 2⋅M⋅Mp⋅l ⋅r             ⎥\n",
       "⎢                                                                       ⎥\n",
       "⎢                       ⎛           2       2⎞                          ⎥\n",
       "⎢                Mp⋅g⋅l⋅⎝2⋅J + 2⋅M⋅r  + Mp⋅r ⎠                          ⎥\n",
       "⎢0  ────────────────────────────────────────────────────────  0  0  0  0⎥\n",
       "⎢                    2          2           2           2  2            ⎥\n",
       "⎢   2⋅I₂⋅J + 2⋅I₂⋅M⋅r  + I₂⋅Mp⋅r  + 2⋅J⋅Mp⋅l  + 2⋅M⋅Mp⋅l ⋅r             ⎥\n",
       "⎢                                                                       ⎥\n",
       "⎣0                             0                              0  0  0  0⎦"
      ]
     },
     "execution_count": 77,
     "metadata": {},
     "output_type": "execute_result"
    }
   ],
   "source": [
    "A"
   ]
  },
  {
   "cell_type": "code",
   "execution_count": 78,
   "metadata": {},
   "outputs": [
    {
     "data": {
      "text/latex": [
       "$\\displaystyle \\left[\\begin{matrix}\\frac{r \\left(I_{2} + Mp l^{2} + Mp l r\\right)}{2 I_{2} J + 2 I_{2} M r^{2} + I_{2} Mp r^{2} + 2 J Mp l^{2} + 2 M Mp l^{2} r^{2}} & \\frac{r \\left(I_{2} + Mp l^{2} + Mp l r\\right)}{2 I_{2} J + 2 I_{2} M r^{2} + I_{2} Mp r^{2} + 2 J Mp l^{2} + 2 M Mp l^{2} r^{2}}\\\\- \\frac{2 J + 2 M r^{2} + Mp l r + Mp r^{2}}{2 I_{2} J + 2 I_{2} M r^{2} + I_{2} Mp r^{2} + 2 J Mp l^{2} + 2 M Mp l^{2} r^{2}} & - \\frac{2 J + 2 M r^{2} + Mp l r + Mp r^{2}}{2 I_{2} J + 2 I_{2} M r^{2} + I_{2} Mp r^{2} + 2 J Mp l^{2} + 2 M Mp l^{2} r^{2}}\\\\- \\frac{d r}{I_{3} r^{2} + 2 J d^{2} + 2 K r^{2} + 2 M d^{2} r^{2}} & \\frac{d r}{I_{3} r^{2} + 2 J d^{2} + 2 K r^{2} + 2 M d^{2} r^{2}}\\end{matrix}\\right]$"
      ],
      "text/plain": [
       "⎡                  ⎛         2         ⎞                                     ⎛\n",
       "⎢                r⋅⎝I₂ + Mp⋅l  + Mp⋅l⋅r⎠                                   r⋅⎝\n",
       "⎢────────────────────────────────────────────────────────  ───────────────────\n",
       "⎢                 2          2           2           2  2                   2 \n",
       "⎢2⋅I₂⋅J + 2⋅I₂⋅M⋅r  + I₂⋅Mp⋅r  + 2⋅J⋅Mp⋅l  + 2⋅M⋅Mp⋅l ⋅r   2⋅I₂⋅J + 2⋅I₂⋅M⋅r  \n",
       "⎢                                                                             \n",
       "⎢            ⎛           2                2⎞                           ⎛      \n",
       "⎢           -⎝2⋅J + 2⋅M⋅r  + Mp⋅l⋅r + Mp⋅r ⎠                          -⎝2⋅J + \n",
       "⎢────────────────────────────────────────────────────────  ───────────────────\n",
       "⎢                 2          2           2           2  2                   2 \n",
       "⎢2⋅I₂⋅J + 2⋅I₂⋅M⋅r  + I₂⋅Mp⋅r  + 2⋅J⋅Mp⋅l  + 2⋅M⋅Mp⋅l ⋅r   2⋅I₂⋅J + 2⋅I₂⋅M⋅r  \n",
       "⎢                                                                             \n",
       "⎢                         -d⋅r                                                \n",
       "⎢          ───────────────────────────────────                       ─────────\n",
       "⎢              2        2        2        2  2                           2    \n",
       "⎣          I₃⋅r  + 2⋅J⋅d  + 2⋅K⋅r  + 2⋅M⋅d ⋅r                        I₃⋅r  + 2\n",
       "\n",
       "         2         ⎞                 ⎤\n",
       "I₂ + Mp⋅l  + Mp⋅l⋅r⎠                 ⎥\n",
       "─────────────────────────────────────⎥\n",
       "         2           2           2  2⎥\n",
       "+ I₂⋅Mp⋅r  + 2⋅J⋅Mp⋅l  + 2⋅M⋅Mp⋅l ⋅r ⎥\n",
       "                                     ⎥\n",
       "     2                2⎞             ⎥\n",
       "2⋅M⋅r  + Mp⋅l⋅r + Mp⋅r ⎠             ⎥\n",
       "─────────────────────────────────────⎥\n",
       "         2           2           2  2⎥\n",
       "+ I₂⋅Mp⋅r  + 2⋅J⋅Mp⋅l  + 2⋅M⋅Mp⋅l ⋅r ⎥\n",
       "                                     ⎥\n",
       "       d⋅r                           ⎥\n",
       "──────────────────────────           ⎥\n",
       "    2        2        2  2           ⎥\n",
       "⋅J⋅d  + 2⋅K⋅r  + 2⋅M⋅d ⋅r            ⎦"
      ]
     },
     "execution_count": 78,
     "metadata": {},
     "output_type": "execute_result"
    }
   ],
   "source": [
    "B = xdotform.jacobian(torques)\n",
    "B.simplify()\n",
    "B"
   ]
  },
  {
   "cell_type": "markdown",
   "metadata": {},
   "source": [
    " 토크는 논문과 완전히 같은값이 나옴 pendulum과 rotation  나눠야함"
   ]
  },
  {
   "cell_type": "markdown",
   "metadata": {
    "tags": []
   },
   "source": [
    "## State variable equation"
   ]
  },
  {
   "cell_type": "code",
   "execution_count": 79,
   "metadata": {},
   "outputs": [],
   "source": [
    "control_vector_u = Matrix([[1,1],\n",
    "                          [1, -1]])"
   ]
  },
  {
   "cell_type": "code",
   "execution_count": 80,
   "metadata": {},
   "outputs": [
    {
     "data": {
      "text/latex": [
       "$\\displaystyle \\left[\\begin{matrix}\\frac{r \\left(I_{2} + Mp l^{2} + Mp l r\\right)}{2 I_{2} J + 2 I_{2} M r^{2} + I_{2} Mp r^{2} + 2 J Mp l^{2} + 2 M Mp l^{2} r^{2}} & 0\\\\- \\frac{2 J + 2 M r^{2} + Mp l r + Mp r^{2}}{2 I_{2} J + 2 I_{2} M r^{2} + I_{2} Mp r^{2} + 2 J Mp l^{2} + 2 M Mp l^{2} r^{2}} & 0\\\\0 & - \\frac{d r}{I_{3} r^{2} + 2 J d^{2} + 2 K r^{2} + 2 M d^{2} r^{2}}\\end{matrix}\\right]$"
      ],
      "text/plain": [
       "⎡                  ⎛         2         ⎞                                      \n",
       "⎢                r⋅⎝I₂ + Mp⋅l  + Mp⋅l⋅r⎠                                      \n",
       "⎢────────────────────────────────────────────────────────                   0 \n",
       "⎢                 2          2           2           2  2                     \n",
       "⎢2⋅I₂⋅J + 2⋅I₂⋅M⋅r  + I₂⋅Mp⋅r  + 2⋅J⋅Mp⋅l  + 2⋅M⋅Mp⋅l ⋅r                      \n",
       "⎢                                                                             \n",
       "⎢            ⎛           2                2⎞                                  \n",
       "⎢           -⎝2⋅J + 2⋅M⋅r  + Mp⋅l⋅r + Mp⋅r ⎠                                  \n",
       "⎢────────────────────────────────────────────────────────                   0 \n",
       "⎢                 2          2           2           2  2                     \n",
       "⎢2⋅I₂⋅J + 2⋅I₂⋅M⋅r  + I₂⋅Mp⋅r  + 2⋅J⋅Mp⋅l  + 2⋅M⋅Mp⋅l ⋅r                      \n",
       "⎢                                                                             \n",
       "⎢                                                                         -d⋅r\n",
       "⎢                           0                              ───────────────────\n",
       "⎢                                                              2        2     \n",
       "⎣                                                          I₃⋅r  + 2⋅J⋅d  + 2⋅\n",
       "\n",
       "                ⎤\n",
       "                ⎥\n",
       "                ⎥\n",
       "                ⎥\n",
       "                ⎥\n",
       "                ⎥\n",
       "                ⎥\n",
       "                ⎥\n",
       "                ⎥\n",
       "                ⎥\n",
       "                ⎥\n",
       "                ⎥\n",
       "                ⎥\n",
       "────────────────⎥\n",
       "   2        2  2⎥\n",
       "K⋅r  + 2⋅M⋅d ⋅r ⎦"
      ]
     },
     "execution_count": 80,
     "metadata": {},
     "output_type": "execute_result"
    }
   ],
   "source": [
    "BU = B* control_vector_u/2\n",
    "BU"
   ]
  },
  {
   "cell_type": "code",
   "execution_count": 81,
   "metadata": {},
   "outputs": [],
   "source": [
    "BU = BU.col_del(1)"
   ]
  },
  {
   "cell_type": "code",
   "execution_count": 82,
   "metadata": {},
   "outputs": [],
   "source": [
    "BU"
   ]
  },
  {
   "cell_type": "code",
   "execution_count": 83,
   "metadata": {},
   "outputs": [
    {
     "data": {
      "text/latex": [
       "$\\displaystyle \\left[\\begin{matrix}x\\\\\\theta\\\\\\dot{x}\\\\\\dot{\\theta}\\end{matrix}\\right]$"
      ],
      "text/plain": [
       "⎡x⎤\n",
       "⎢ ⎥\n",
       "⎢θ⎥\n",
       "⎢ ⎥\n",
       "⎢ẋ⎥\n",
       "⎢ ⎥\n",
       "⎣θ̇⎦"
      ]
     },
     "execution_count": 83,
     "metadata": {},
     "output_type": "execute_result"
    }
   ],
   "source": [
    "penx = Matrix([x , theta, xd, thetad])\n",
    "penx"
   ]
  },
  {
   "cell_type": "code",
   "execution_count": 84,
   "metadata": {},
   "outputs": [
    {
     "data": {
      "text/latex": [
       "$\\displaystyle \\left[\\begin{matrix}0 & - \\frac{Mp^{2} g l^{2} r^{2}}{2 I_{2} J + 2 I_{2} M r^{2} + I_{2} Mp r^{2} + 2 J Mp l^{2} + 2 M Mp l^{2} r^{2}} & 0 & 0\\\\0 & \\frac{Mp g l \\left(2 J + 2 M r^{2} + Mp r^{2}\\right)}{2 I_{2} J + 2 I_{2} M r^{2} + I_{2} Mp r^{2} + 2 J Mp l^{2} + 2 M Mp l^{2} r^{2}} & 0 & 0\\\\0 & 0 & 0 & 0\\end{matrix}\\right]$"
      ],
      "text/plain": [
       "⎡                           2    2  2                             ⎤\n",
       "⎢                        -Mp ⋅g⋅l ⋅r                              ⎥\n",
       "⎢0  ────────────────────────────────────────────────────────  0  0⎥\n",
       "⎢                    2          2           2           2  2      ⎥\n",
       "⎢   2⋅I₂⋅J + 2⋅I₂⋅M⋅r  + I₂⋅Mp⋅r  + 2⋅J⋅Mp⋅l  + 2⋅M⋅Mp⋅l ⋅r       ⎥\n",
       "⎢                                                                 ⎥\n",
       "⎢                       ⎛           2       2⎞                    ⎥\n",
       "⎢                Mp⋅g⋅l⋅⎝2⋅J + 2⋅M⋅r  + Mp⋅r ⎠                    ⎥\n",
       "⎢0  ────────────────────────────────────────────────────────  0  0⎥\n",
       "⎢                    2          2           2           2  2      ⎥\n",
       "⎢   2⋅I₂⋅J + 2⋅I₂⋅M⋅r  + I₂⋅Mp⋅r  + 2⋅J⋅Mp⋅l  + 2⋅M⋅Mp⋅l ⋅r       ⎥\n",
       "⎢                                                                 ⎥\n",
       "⎣0                             0                              0  0⎦"
      ]
     },
     "execution_count": 84,
     "metadata": {},
     "output_type": "execute_result"
    }
   ],
   "source": [
    "pen_sys = xdotform.jacobian(penx)\n",
    "pen_sys.simplify()\n",
    "pen_sys"
   ]
  },
  {
   "cell_type": "markdown",
   "metadata": {},
   "source": [
    "26페이지 31페이지 3.57과 식이 다름"
   ]
  },
  {
   "cell_type": "markdown",
   "metadata": {},
   "source": [
    "# Motor Dynamics"
   ]
  },
  {
   "cell_type": "markdown",
   "metadata": {},
   "source": [
    "마찰은 0"
   ]
  },
  {
   "cell_type": "code",
   "execution_count": 85,
   "metadata": {},
   "outputs": [],
   "source": [
    "# Create dynamic symbols for current and voltage\n",
    "im = dynamicsymbols('im')        # Currents through motor 1 and 2\n",
    "Vm = symbols('Vm')               # Voltages across the motor terminals\n",
    "Nm = symbols('Nm')                             # Gear ratio\n",
    "# Define some motor constants.\n",
    "# Assuming motor 1 and 2 are the same:\n",
    "Rm = symbols('Rm')                             # Coil resistance\n",
    "Kt = symbols('Kt')                           # Motor constant\n",
    "Ke = symbols('Ke')                           #역기전력 상수\n",
    "Tm =  me.dynamicsymbols('Tm')                         #motor torque\n",
    "Wm =  me.dynamicsymbols('Wm')                 #rotor position\n",
    "Wmd = me.dynamicsymbols('Wm',1)\n",
    "Wmd2 = me.dynamicsymbols('Wm',2)\n",
    "Jm = me.dynamicsymbols('Jm')                 #rotor inertia\n",
    "Bm = me.dynamicsymbols('Bm')      #모터의 감쇠상수\n",
    "\n",
    "\n",
    "\n",
    "Ww =  me.dynamicsymbols('phi')            # Wheel position\n",
    "Wwd = me.dynamicsymbols('phi', 1)\n",
    "Wwd2 = me.dynamicsymbols('phi', 2)\n",
    "Tw =  me.dynamicsymbols('Tw')              #torque wheel\n",
    "\n",
    "Mlhs =  Kt*Vm/Rm + Ke*Kt*Wmd/Rm\n",
    "Mrhs = Jm*Wmd2 + Bm*Wmd + Tm"
   ]
  },
  {
   "cell_type": "markdown",
   "metadata": {},
   "source": [
    "Tm = Tw/Nm\n",
    "Wm = Nm*(Ww - theta)"
   ]
  },
  {
   "cell_type": "code",
   "execution_count": 86,
   "metadata": {
    "tags": []
   },
   "outputs": [],
   "source": [
    "Mrhs = Mrhs.subs(Wm , Nm*(Ww - theta))"
   ]
  },
  {
   "cell_type": "code",
   "execution_count": 87,
   "metadata": {},
   "outputs": [],
   "source": [
    "Mrhs = Mrhs.subs(Tm, (Tw/Nm))"
   ]
  },
  {
   "cell_type": "code",
   "execution_count": 88,
   "metadata": {},
   "outputs": [
    {
     "data": {
      "text/latex": [
       "$\\displaystyle \\frac{Ke Kt \\dot{Wm}}{Rm} + \\frac{Kt Vm}{Rm} - Bm \\left(Nm \\left(\\dot{\\phi} - \\dot{\\theta}\\right)\\right) - Jm \\left(Nm \\left(\\ddot{\\phi} - \\ddot{\\theta}\\right)\\right) - \\frac{Tw}{Nm}$"
      ],
      "text/plain": [
       "                                            2                 \n",
       "Ke⋅Kt⋅Wṁ   Kt⋅Vm      ∂                    ∂                Tw\n",
       "──────── + ───── - Bm⋅──(Nm⋅(φ - θ)) - Jm⋅───(Nm⋅(φ - θ)) - ──\n",
       "   Rm        Rm       ∂t                    2               Nm\n",
       "                                          ∂t                  "
      ]
     },
     "execution_count": 88,
     "metadata": {},
     "output_type": "execute_result"
    }
   ],
   "source": [
    "motoreq = Mlhs-Mrhs\n",
    "motoreq"
   ]
  },
  {
   "cell_type": "code",
   "execution_count": 89,
   "metadata": {},
   "outputs": [
    {
     "data": {
      "text/latex": [
       "$\\displaystyle \\frac{Ke Kt \\left(\\dot{\\phi} - \\dot{\\theta}\\right)}{Rm} + \\frac{Kt Vm}{Rm} - Bm \\left(Nm \\left(\\dot{\\phi} - \\dot{\\theta}\\right)\\right) - Jm \\left(Nm \\left(\\ddot{\\phi} - \\ddot{\\theta}\\right)\\right) - \\frac{Tw}{Nm}$"
      ],
      "text/plain": [
       "                                                 2                 \n",
       "Ke⋅Kt⋅(φ̇ - θ̇)   Kt⋅Vm      ∂                    ∂                Tw\n",
       "───────────── + ───── - Bm⋅──(Nm⋅(φ - θ)) - Jm⋅───(Nm⋅(φ - θ)) - ──\n",
       "      Rm          Rm       ∂t                    2               Nm\n",
       "                                               ∂t                  "
      ]
     },
     "execution_count": 89,
     "metadata": {},
     "output_type": "execute_result"
    }
   ],
   "source": [
    "motoreq = motoreq.subs(Wm.diff() , Nm.diff()*(Ww.diff() - theta.diff()))\n",
    "motoreq"
   ]
  },
  {
   "cell_type": "code",
   "execution_count": 90,
   "metadata": {},
   "outputs": [
    {
     "data": {
      "image/png": "[encoded data removed]",
      "text/latex": [
       "$\\displaystyle \\left[ \\frac{Nm \\left(Ke Kt \\dot{\\phi} - Ke Kt \\dot{\\theta} + Kt Vm - Rm \\left(Nm \\left(\\dot{\\phi} - \\dot{\\theta}\\right) Bm + Nm \\left(\\ddot{\\phi} - \\ddot{\\theta}\\right) Jm\\right)\\right)}{Rm}\\right]$"
      ],
      "text/plain": [
       "⎡Nm⋅(Ke⋅Kt⋅φ̇ - Ke⋅Kt⋅θ̇ + Kt⋅Vm - Rm⋅(Nm⋅(φ̇ - θ̇)⋅Bm + Nm⋅(φ̈ - θ̈)⋅Jm))⎤\n",
       "⎢───────────────────────────────────────────────────────────────────⎥\n",
       "⎣                                 Rm                                ⎦"
      ]
     },
     "execution_count": 90,
     "metadata": {},
     "output_type": "execute_result"
    }
   ],
   "source": [
    "Twe = sm.solve(motoreq, Tw)\n",
    "Twe "
   ]
  },
  {
   "cell_type": "code",
   "execution_count": 91,
   "metadata": {},
   "outputs": [
    {
     "data": {
      "image/png": "[encoded data removed]",
      "text/latex": [
       "$\\displaystyle \\frac{Nm \\left(Ke Kt \\dot{\\phi} - Ke Kt \\dot{\\theta} + Kt Vm - Rm \\left(Nm \\left(\\dot{\\phi} - \\dot{\\theta}\\right) Bm + Nm \\left(\\ddot{\\phi} - \\ddot{\\theta}\\right) Jm\\right)\\right)}{Rm}$"
      ],
      "text/plain": [
       "Nm⋅(Ke⋅Kt⋅φ̇ - Ke⋅Kt⋅θ̇ + Kt⋅Vm - Rm⋅(Nm⋅(φ̇ - θ̇)⋅Bm + Nm⋅(φ̈ - θ̈)⋅Jm))\n",
       "───────────────────────────────────────────────────────────────────\n",
       "                                 Rm                                "
      ]
     },
     "execution_count": 91,
     "metadata": {},
     "output_type": "execute_result"
    }
   ],
   "source": [
    "motoreq = (motoreq * Nm) + Tw\n",
    "motoreq = motoreq.expand()\n",
    "motoreq = motoreq.simplify()\n",
    "motoreq"
   ]
  },
  {
   "cell_type": "markdown",
   "metadata": {},
   "source": [
    "무엇이 제어 입력 대상인지가 애매하다 30page 까지 완료"
   ]
  },
  {
   "cell_type": "markdown",
   "metadata": {},
   "source": [
    "xdot =  AX + Bu/ Y=CX(?)   /u = Twe"
   ]
  },
  {
   "cell_type": "markdown",
   "metadata": {},
   "source": [
    "## Dynamic equation\n",
    "\n",
    "3.57식으로 만들기"
   ]
  },
  {
   "cell_type": "code",
   "execution_count": 92,
   "metadata": {},
   "outputs": [
    {
     "data": {
      "text/latex": [
       "$\\displaystyle \\left[\\begin{matrix}- \\frac{2 J \\ddot{\\phi}}{r} - 2 M r \\ddot{\\phi} - Mp l \\ddot{\\theta} - Mp r \\ddot{\\phi} + \\frac{2 Tw}{r}\\\\- I_{2} \\ddot{\\theta} + Mp g l \\theta - Mp l^{2} \\ddot{\\theta} - Mp l r \\ddot{\\phi} - 2 Tw\\\\0\\end{matrix}\\right]$"
      ],
      "text/plain": [
       "⎡   2⋅J⋅φ̈                               2⋅Tw ⎤\n",
       "⎢ - ───── - 2⋅M⋅r⋅φ̈ - Mp⋅l⋅θ̈ - Mp⋅r⋅φ̈ + ──── ⎥\n",
       "⎢     r                                  r   ⎥\n",
       "⎢                                            ⎥\n",
       "⎢                       2                    ⎥\n",
       "⎢-I₂⋅θ̈ + Mp⋅g⋅l⋅θ - Mp⋅l ⋅θ̈ - Mp⋅l⋅r⋅φ̈ - 2⋅Tw⎥\n",
       "⎢                                            ⎥\n",
       "⎣                     0                      ⎦"
      ]
     },
     "execution_count": 92,
     "metadata": {},
     "output_type": "execute_result"
    }
   ],
   "source": [
    "dyn_eq = linear\n",
    "dyn_eq = dyn_eq.subs(delta, 0)\n",
    "dyn_eq = dyn_eq.subs(deltad,0)\n",
    "dyn_eq = dyn_eq.subs(deltad2,0)\n",
    "dyn_eq = dyn_eq.subs(Lwheel_torque_scala, Tw)\n",
    "dyn_eq = dyn_eq.subs(Rwheel_torque_scala, Tw)\n",
    "dyn_eq = dyn_eq.subs(x, R* Ww)\n",
    "dyn_eq = dyn_eq.subs(xd, R* Wwd)\n",
    "dyn_eq = dyn_eq.subs(xd2, R* Wwd2)\n",
    "\n",
    "\n",
    "dyn_eq = dyn_eq.simplify()\n",
    "dyn_eq"
   ]
  },
  {
   "cell_type": "code",
   "execution_count": 93,
   "metadata": {},
   "outputs": [],
   "source": [
    "dyn_eq = dyn_eq.row_del(2)"
   ]
  },
  {
   "cell_type": "code",
   "execution_count": 94,
   "metadata": {},
   "outputs": [
    {
     "data": {
      "text/latex": [
       "$\\displaystyle \\left[\\begin{matrix}- \\frac{2 J \\ddot{\\phi}}{r} - 2 M r \\ddot{\\phi} - Mp l \\ddot{\\theta} - Mp r \\ddot{\\phi} + \\frac{2 Nm \\left(Ke Kt \\dot{\\phi} - Ke Kt \\dot{\\theta} + Kt Vm - Rm \\left(Nm \\left(\\dot{\\phi} - \\dot{\\theta}\\right) Bm + Nm \\left(\\ddot{\\phi} - \\ddot{\\theta}\\right) Jm\\right)\\right)}{Rm r}\\\\- I_{2} \\ddot{\\theta} + Mp g l \\theta - Mp l^{2} \\ddot{\\theta} - Mp l r \\ddot{\\phi} - \\frac{2 Nm \\left(Ke Kt \\dot{\\phi} - Ke Kt \\dot{\\theta} + Kt Vm - Rm \\left(Nm \\left(\\dot{\\phi} - \\dot{\\theta}\\right) Bm + Nm \\left(\\ddot{\\phi} - \\ddot{\\theta}\\right) Jm\\right)\\right)}{Rm}\\end{matrix}\\right]$"
      ],
      "text/plain": [
       "⎡   2⋅J⋅φ̈                               2⋅Nm⋅(Ke⋅Kt⋅φ̇ - Ke⋅Kt⋅θ̇ + Kt⋅Vm - R\n",
       "⎢ - ───── - 2⋅M⋅r⋅φ̈ - Mp⋅l⋅θ̈ - Mp⋅r⋅φ̈ + ───────────────────────────────────\n",
       "⎢     r                                                                  Rm⋅r \n",
       "⎢                                                                             \n",
       "⎢                       2                2⋅Nm⋅(Ke⋅Kt⋅φ̇ - Ke⋅Kt⋅θ̇ + Kt⋅Vm - R\n",
       "⎢-I₂⋅θ̈ + Mp⋅g⋅l⋅θ - Mp⋅l ⋅θ̈ - Mp⋅l⋅r⋅φ̈ - ──────────────────────────────────\n",
       "⎣                                                                          Rm \n",
       "\n",
       "m⋅(Nm⋅(φ̇ - θ̇)⋅Bm + Nm⋅(φ̈ - θ̈)⋅Jm)) ⎤\n",
       "────────────────────────────────── ⎥\n",
       "                                ⎥\n",
       "                                ⎥\n",
       "m⋅(Nm⋅(φ̇ - θ̇)⋅Bm + Nm⋅(φ̈ - θ̈)⋅Jm))⎥\n",
       "───────────────────────────────────⎥\n",
       "                                ⎦"
      ]
     },
     "execution_count": 94,
     "metadata": {},
     "output_type": "execute_result"
    }
   ],
   "source": [
    "dyn_eq = dyn_eq.subs(Tw, motoreq)\n",
    "dyn_eq"
   ]
  },
  {
   "cell_type": "code",
   "execution_count": 95,
   "metadata": {},
   "outputs": [],
   "source": [
    "dynsol = Matrix([0,1])\n",
    "dyn = sm.linsolve(dyn_eq,Wwd2,thetad2)\n",
    "(dynsol[0],dynsol[1]) = tuple(*dyn)"
   ]
  },
  {
   "cell_type": "code",
   "execution_count": 96,
   "metadata": {},
   "outputs": [
    {
     "data": {
      "text/latex": [
       "$\\displaystyle \\left[\\begin{matrix}\\phi\\\\\\dot{\\phi}\\\\\\theta\\\\\\dot{\\theta}\\end{matrix}\\right]$"
      ],
      "text/plain": [
       "⎡φ⎤\n",
       "⎢ ⎥\n",
       "⎢φ̇⎥\n",
       "⎢ ⎥\n",
       "⎢θ⎥\n",
       "⎢ ⎥\n",
       "⎣θ̇⎦"
      ]
     },
     "execution_count": 96,
     "metadata": {},
     "output_type": "execute_result"
    }
   ],
   "source": [
    "stateX = Matrix([Ww, Wwd, theta, thetad])\n",
    "stateX"
   ]
  },
  {
   "cell_type": "code",
   "execution_count": 97,
   "metadata": {},
   "outputs": [
    {
     "data": {
      "text/latex": [
       "$\\displaystyle \\left[\\begin{matrix}0 & \\frac{2 Nm \\left(I_{2} Ke Kt - I_{2} Nm Rm Bm + Ke Kt Mp l^{2} + Ke Kt Mp l r - Mp Nm Rm l^{2} Bm - Mp Nm Rm l r Bm\\right)}{Rm \\left(2 I_{2} J + 2 I_{2} M r^{2} + I_{2} Mp r^{2} + 2 I_{2} Nm^{2} Jm + 2 J Mp l^{2} + 4 J Nm^{2} Jm + 2 M Mp l^{2} r^{2} + 4 M Nm^{2} r^{2} Jm + 2 Mp Nm^{2} l^{2} Jm + 4 Mp Nm^{2} l r Jm + 2 Mp Nm^{2} r^{2} Jm\\right)} & \\frac{Mp g l \\left(- Mp l r + 2 Nm^{2} Jm\\right)}{2 I_{2} J + 2 I_{2} M r^{2} + I_{2} Mp r^{2} + 2 I_{2} Nm^{2} Jm + 2 J Mp l^{2} + 4 J Nm^{2} Jm + 2 M Mp l^{2} r^{2} + 4 M Nm^{2} r^{2} Jm + 2 Mp Nm^{2} l^{2} Jm + 4 Mp Nm^{2} l r Jm + 2 Mp Nm^{2} r^{2} Jm} & \\frac{2 Nm \\left(- I_{2} Ke Kt + I_{2} Nm Rm Bm - Ke Kt Mp l^{2} - Ke Kt Mp l r + Mp Nm Rm l^{2} Bm + Mp Nm Rm l r Bm\\right)}{Rm \\left(2 I_{2} J + 2 I_{2} M r^{2} + I_{2} Mp r^{2} + 2 I_{2} Nm^{2} Jm + 2 J Mp l^{2} + 4 J Nm^{2} Jm + 2 M Mp l^{2} r^{2} + 4 M Nm^{2} r^{2} Jm + 2 Mp Nm^{2} l^{2} Jm + 4 Mp Nm^{2} l r Jm + 2 Mp Nm^{2} r^{2} Jm\\right)}\\\\0 & \\frac{2 Nm \\left(- 2 J Ke Kt + 2 J Nm Rm Bm - 2 Ke Kt M r^{2} - Ke Kt Mp l r - Ke Kt Mp r^{2} + 2 M Nm Rm r^{2} Bm + Mp Nm Rm l r Bm + Mp Nm Rm r^{2} Bm\\right)}{Rm \\left(2 I_{2} J + 2 I_{2} M r^{2} + I_{2} Mp r^{2} + 2 I_{2} Nm^{2} Jm + 2 J Mp l^{2} + 4 J Nm^{2} Jm + 2 M Mp l^{2} r^{2} + 4 M Nm^{2} r^{2} Jm + 2 Mp Nm^{2} l^{2} Jm + 4 Mp Nm^{2} l r Jm + 2 Mp Nm^{2} r^{2} Jm\\right)} & \\frac{Mp g l \\left(2 J + 2 M r^{2} + Mp r^{2} + 2 Nm^{2} Jm\\right)}{2 I_{2} J + 2 I_{2} M r^{2} + I_{2} Mp r^{2} + 2 I_{2} Nm^{2} Jm + 2 J Mp l^{2} + 4 J Nm^{2} Jm + 2 M Mp l^{2} r^{2} + 4 M Nm^{2} r^{2} Jm + 2 Mp Nm^{2} l^{2} Jm + 4 Mp Nm^{2} l r Jm + 2 Mp Nm^{2} r^{2} Jm} & \\frac{2 Nm \\left(2 J Ke Kt - 2 J Nm Rm Bm + 2 Ke Kt M r^{2} + Ke Kt Mp l r + Ke Kt Mp r^{2} - 2 M Nm Rm r^{2} Bm - Mp Nm Rm l r Bm - Mp Nm Rm r^{2} Bm\\right)}{Rm \\left(2 I_{2} J + 2 I_{2} M r^{2} + I_{2} Mp r^{2} + 2 I_{2} Nm^{2} Jm + 2 J Mp l^{2} + 4 J Nm^{2} Jm + 2 M Mp l^{2} r^{2} + 4 M Nm^{2} r^{2} Jm + 2 Mp Nm^{2} l^{2} Jm + 4 Mp Nm^{2} l r Jm + 2 Mp Nm^{2} r^{2} Jm\\right)}\\end{matrix}\\right]$"
      ],
      "text/plain": [
       "⎡                                       ⎛                                   2 \n",
       "⎢                                  2⋅Nm⋅⎝I₂⋅Ke⋅Kt - I₂⋅Nm⋅Rm⋅Bm + Ke⋅Kt⋅Mp⋅l  \n",
       "⎢0  ──────────────────────────────────────────────────────────────────────────\n",
       "⎢      ⎛                 2          2          2              2         2     \n",
       "⎢   Rm⋅⎝2⋅I₂⋅J + 2⋅I₂⋅M⋅r  + I₂⋅Mp⋅r  + 2⋅I₂⋅Nm ⋅Jm + 2⋅J⋅Mp⋅l  + 4⋅J⋅Nm ⋅Jm +\n",
       "⎢                                                                             \n",
       "⎢                     ⎛                                       2               \n",
       "⎢                2⋅Nm⋅⎝-2⋅J⋅Ke⋅Kt + 2⋅J⋅Nm⋅Rm⋅Bm - 2⋅Ke⋅Kt⋅M⋅r  - Ke⋅Kt⋅Mp⋅l⋅r\n",
       "⎢0  ──────────────────────────────────────────────────────────────────────────\n",
       "⎢      ⎛                 2          2          2              2         2     \n",
       "⎣   Rm⋅⎝2⋅I₂⋅J + 2⋅I₂⋅M⋅r  + I₂⋅Mp⋅r  + 2⋅I₂⋅Nm ⋅Jm + 2⋅J⋅Mp⋅l  + 4⋅J⋅Nm ⋅Jm +\n",
       "\n",
       "                           2                     ⎞                            \n",
       "+ Ke⋅Kt⋅Mp⋅l⋅r - Mp⋅Nm⋅Rm⋅l ⋅Bm - Mp⋅Nm⋅Rm⋅l⋅r⋅Bm⎠                            \n",
       "──────────────────────────────────────────────────────────────────────────────\n",
       "         2  2         2  2             2  2             2                 2  2\n",
       " 2⋅M⋅Mp⋅l ⋅r  + 4⋅M⋅Nm ⋅r ⋅Jm + 2⋅Mp⋅Nm ⋅l ⋅Jm + 4⋅Mp⋅Nm ⋅l⋅r⋅Jm + 2⋅Mp⋅Nm ⋅r \n",
       "                                                                              \n",
       "             2              2                                  2   ⎞          \n",
       " - Ke⋅Kt⋅Mp⋅r  + 2⋅M⋅Nm⋅Rm⋅r ⋅Bm + Mp⋅Nm⋅Rm⋅l⋅r⋅Bm + Mp⋅Nm⋅Rm⋅r ⋅Bm⎠          \n",
       "──────────────────────────────────────────────────────────────────────────────\n",
       "         2  2         2  2             2  2             2                 2  2\n",
       " 2⋅M⋅Mp⋅l ⋅r  + 4⋅M⋅Nm ⋅r ⋅Jm + 2⋅Mp⋅Nm ⋅l ⋅Jm + 4⋅Mp⋅Nm ⋅l⋅r⋅Jm + 2⋅Mp⋅Nm ⋅r \n",
       "\n",
       "                                                                           ⎛  \n",
       "                                                                    Mp⋅g⋅l⋅⎝-M\n",
       "────  ────────────────────────────────────────────────────────────────────────\n",
       "   ⎞                   2          2          2              2         2       \n",
       "⋅Jm⎠  2⋅I₂⋅J + 2⋅I₂⋅M⋅r  + I₂⋅Mp⋅r  + 2⋅I₂⋅Nm ⋅Jm + 2⋅J⋅Mp⋅l  + 4⋅J⋅Nm ⋅Jm + 2\n",
       "                                                                              \n",
       "                                                                     ⎛        \n",
       "                                                              Mp⋅g⋅l⋅⎝2⋅J + 2⋅\n",
       "────  ────────────────────────────────────────────────────────────────────────\n",
       "   ⎞                   2          2          2              2         2       \n",
       "⋅Jm⎠  2⋅I₂⋅J + 2⋅I₂⋅M⋅r  + I₂⋅Mp⋅r  + 2⋅I₂⋅Nm ⋅Jm + 2⋅J⋅Mp⋅l  + 4⋅J⋅Nm ⋅Jm + 2\n",
       "\n",
       "            2   ⎞                                                             \n",
       "p⋅l⋅r + 2⋅Nm ⋅Jm⎠                                                             \n",
       "──────────────────────────────────────────────────────────────────────────────\n",
       "       2  2         2  2             2  2             2                 2  2  \n",
       "⋅M⋅Mp⋅l ⋅r  + 4⋅M⋅Nm ⋅r ⋅Jm + 2⋅Mp⋅Nm ⋅l ⋅Jm + 4⋅Mp⋅Nm ⋅l⋅r⋅Jm + 2⋅Mp⋅Nm ⋅r ⋅J\n",
       "                                                                              \n",
       "   2       2       2   ⎞                                                      \n",
       "M⋅r  + Mp⋅r  + 2⋅Nm ⋅Jm⎠                                                      \n",
       "──────────────────────────────────────────────────────────────────────────────\n",
       "       2  2         2  2             2  2             2                 2  2  \n",
       "⋅M⋅Mp⋅l ⋅r  + 4⋅M⋅Nm ⋅r ⋅Jm + 2⋅Mp⋅Nm ⋅l ⋅Jm + 4⋅Mp⋅Nm ⋅l⋅r⋅Jm + 2⋅Mp⋅Nm ⋅r ⋅J\n",
       "\n",
       "                                       ⎛                                    2 \n",
       "                                  2⋅Nm⋅⎝-I₂⋅Ke⋅Kt + I₂⋅Nm⋅Rm⋅Bm - Ke⋅Kt⋅Mp⋅l  \n",
       "─  ───────────────────────────────────────────────────────────────────────────\n",
       "      ⎛                 2          2          2              2         2      \n",
       "m  Rm⋅⎝2⋅I₂⋅J + 2⋅I₂⋅M⋅r  + I₂⋅Mp⋅r  + 2⋅I₂⋅Nm ⋅Jm + 2⋅J⋅Mp⋅l  + 4⋅J⋅Nm ⋅Jm + \n",
       "                                                                              \n",
       "                      ⎛                                      2                \n",
       "                 2⋅Nm⋅⎝2⋅J⋅Ke⋅Kt - 2⋅J⋅Nm⋅Rm⋅Bm + 2⋅Ke⋅Kt⋅M⋅r  + Ke⋅Kt⋅Mp⋅l⋅r \n",
       "─  ───────────────────────────────────────────────────────────────────────────\n",
       "      ⎛                 2          2          2              2         2      \n",
       "m  Rm⋅⎝2⋅I₂⋅J + 2⋅I₂⋅M⋅r  + I₂⋅Mp⋅r  + 2⋅I₂⋅Nm ⋅Jm + 2⋅J⋅Mp⋅l  + 4⋅J⋅Nm ⋅Jm + \n",
       "\n",
       "                           2                     ⎞                            \n",
       "- Ke⋅Kt⋅Mp⋅l⋅r + Mp⋅Nm⋅Rm⋅l ⋅Bm + Mp⋅Nm⋅Rm⋅l⋅r⋅Bm⎠                            \n",
       "──────────────────────────────────────────────────────────────────────────────\n",
       "        2  2         2  2             2  2             2                 2  2 \n",
       "2⋅M⋅Mp⋅l ⋅r  + 4⋅M⋅Nm ⋅r ⋅Jm + 2⋅Mp⋅Nm ⋅l ⋅Jm + 4⋅Mp⋅Nm ⋅l⋅r⋅Jm + 2⋅Mp⋅Nm ⋅r ⋅\n",
       "                                                                              \n",
       "            2              2                                  2   ⎞           \n",
       "+ Ke⋅Kt⋅Mp⋅r  - 2⋅M⋅Nm⋅Rm⋅r ⋅Bm - Mp⋅Nm⋅Rm⋅l⋅r⋅Bm - Mp⋅Nm⋅Rm⋅r ⋅Bm⎠           \n",
       "──────────────────────────────────────────────────────────────────────────────\n",
       "        2  2         2  2             2  2             2                 2  2 \n",
       "2⋅M⋅Mp⋅l ⋅r  + 4⋅M⋅Nm ⋅r ⋅Jm + 2⋅Mp⋅Nm ⋅l ⋅Jm + 4⋅Mp⋅Nm ⋅l⋅r⋅Jm + 2⋅Mp⋅Nm ⋅r ⋅\n",
       "\n",
       "   ⎤\n",
       "   ⎥\n",
       "───⎥\n",
       "  ⎞⎥\n",
       "Jm⎠⎥\n",
       "   ⎥\n",
       "   ⎥\n",
       "   ⎥\n",
       "───⎥\n",
       "  ⎞⎥\n",
       "Jm⎠⎦"
      ]
     },
     "execution_count": 97,
     "metadata": {},
     "output_type": "execute_result"
    }
   ],
   "source": [
    "stateA = dynsol.jacobian(stateX)\n",
    "stateA.simplify()\n",
    "stateA"
   ]
  },
  {
   "cell_type": "code",
   "execution_count": 98,
   "metadata": {},
   "outputs": [],
   "source": [
    "Vm = Matrix([Vm])"
   ]
  },
  {
   "cell_type": "markdown",
   "metadata": {},
   "source": [
    "tw = V로 정리되어 있다"
   ]
  },
  {
   "cell_type": "code",
   "execution_count": 99,
   "metadata": {},
   "outputs": [
    {
     "data": {
      "text/latex": [
       "$\\displaystyle \\left[\\begin{matrix}\\frac{2 Kt Nm \\left(I_{2} + Mp l^{2} + Mp l r\\right)}{Rm \\left(2 I_{2} J + 2 I_{2} M r^{2} + I_{2} Mp r^{2} + 2 I_{2} Nm^{2} Jm + 2 J Mp l^{2} + 4 J Nm^{2} Jm + 2 M Mp l^{2} r^{2} + 4 M Nm^{2} r^{2} Jm + 2 Mp Nm^{2} l^{2} Jm + 4 Mp Nm^{2} l r Jm + 2 Mp Nm^{2} r^{2} Jm\\right)}\\\\- \\frac{2 Kt Nm \\left(2 J + 2 M r^{2} + Mp l r + Mp r^{2}\\right)}{Rm \\left(2 I_{2} J + 2 I_{2} M r^{2} + I_{2} Mp r^{2} + 2 I_{2} Nm^{2} Jm + 2 J Mp l^{2} + 4 J Nm^{2} Jm + 2 M Mp l^{2} r^{2} + 4 M Nm^{2} r^{2} Jm + 2 Mp Nm^{2} l^{2} Jm + 4 Mp Nm^{2} l r Jm + 2 Mp Nm^{2} r^{2} Jm\\right)}\\end{matrix}\\right]$"
      ],
      "text/plain": [
       "⎡                                                                       ⎛     \n",
       "⎢                                                               2⋅Kt⋅Nm⋅⎝I₂ + \n",
       "⎢─────────────────────────────────────────────────────────────────────────────\n",
       "⎢   ⎛                 2          2          2              2         2        \n",
       "⎢Rm⋅⎝2⋅I₂⋅J + 2⋅I₂⋅M⋅r  + I₂⋅Mp⋅r  + 2⋅I₂⋅Nm ⋅Jm + 2⋅J⋅Mp⋅l  + 4⋅J⋅Nm ⋅Jm + 2⋅\n",
       "⎢                                                                             \n",
       "⎢                                                                  ⎛          \n",
       "⎢                                                         -2⋅Kt⋅Nm⋅⎝2⋅J + 2⋅M⋅\n",
       "⎢─────────────────────────────────────────────────────────────────────────────\n",
       "⎢   ⎛                 2          2          2              2         2        \n",
       "⎣Rm⋅⎝2⋅I₂⋅J + 2⋅I₂⋅M⋅r  + I₂⋅Mp⋅r  + 2⋅I₂⋅Nm ⋅Jm + 2⋅J⋅Mp⋅l  + 4⋅J⋅Nm ⋅Jm + 2⋅\n",
       "\n",
       "    2         ⎞                                                               \n",
       "Mp⋅l  + Mp⋅l⋅r⎠                                                               \n",
       "──────────────────────────────────────────────────────────────────────────────\n",
       "      2  2         2  2             2  2             2                 2  2   \n",
       "M⋅Mp⋅l ⋅r  + 4⋅M⋅Nm ⋅r ⋅Jm + 2⋅Mp⋅Nm ⋅l ⋅Jm + 4⋅Mp⋅Nm ⋅l⋅r⋅Jm + 2⋅Mp⋅Nm ⋅r ⋅Jm\n",
       "                                                                              \n",
       " 2                2⎞                                                          \n",
       "r  + Mp⋅l⋅r + Mp⋅r ⎠                                                          \n",
       "──────────────────────────────────────────────────────────────────────────────\n",
       "      2  2         2  2             2  2             2                 2  2   \n",
       "M⋅Mp⋅l ⋅r  + 4⋅M⋅Nm ⋅r ⋅Jm + 2⋅Mp⋅Nm ⋅l ⋅Jm + 4⋅Mp⋅Nm ⋅l⋅r⋅Jm + 2⋅Mp⋅Nm ⋅r ⋅Jm\n",
       "\n",
       " ⎤\n",
       " ⎥\n",
       "─⎥\n",
       "⎞⎥\n",
       "⎠⎥\n",
       " ⎥\n",
       " ⎥\n",
       " ⎥\n",
       "─⎥\n",
       "⎞⎥\n",
       "⎠⎦"
      ]
     },
     "execution_count": 99,
     "metadata": {},
     "output_type": "execute_result"
    }
   ],
   "source": [
    "stateB = dynsol.jacobian(Vm)\n",
    "stateB.simplify()\n",
    "stateB"
   ]
  },
  {
   "cell_type": "code",
   "execution_count": 100,
   "metadata": {},
   "outputs": [
    {
     "data": {
      "text/latex": [
       "$\\displaystyle \\left[\\begin{matrix}0 & 0 & 1 & 0\\\\0 & 0 & 0 & 1\\end{matrix}\\right]$"
      ],
      "text/plain": [
       "⎡0  0  1  0⎤\n",
       "⎢          ⎥\n",
       "⎣0  0  0  1⎦"
      ]
     },
     "execution_count": 100,
     "metadata": {},
     "output_type": "execute_result"
    }
   ],
   "source": [
    "addA = Matrix([[sm.zeros(2),sm.eye(2)]])\n",
    "addA"
   ]
  },
  {
   "cell_type": "code",
   "execution_count": 101,
   "metadata": {},
   "outputs": [
    {
     "data": {
      "text/latex": [
       "$\\displaystyle \\left[\\begin{matrix}0\\\\0\\end{matrix}\\right]$"
      ],
      "text/plain": [
       "⎡0⎤\n",
       "⎢ ⎥\n",
       "⎣0⎦"
      ]
     },
     "execution_count": 101,
     "metadata": {},
     "output_type": "execute_result"
    }
   ],
   "source": [
    "addB = Matrix([0,0])\n",
    "addB"
   ]
  },
  {
   "cell_type": "code",
   "execution_count": 102,
   "metadata": {},
   "outputs": [
    {
     "data": {
      "text/latex": [
       "$\\displaystyle \\left[\\begin{matrix}0 & 0 & 1 & 0\\\\0 & 0 & 0 & 1\\\\0 & \\frac{2 Nm \\left(I_{2} Ke Kt - I_{2} Nm Rm Bm + Ke Kt Mp l^{2} + Ke Kt Mp l r - Mp Nm Rm l^{2} Bm - Mp Nm Rm l r Bm\\right)}{Rm \\left(2 I_{2} J + 2 I_{2} M r^{2} + I_{2} Mp r^{2} + 2 I_{2} Nm^{2} Jm + 2 J Mp l^{2} + 4 J Nm^{2} Jm + 2 M Mp l^{2} r^{2} + 4 M Nm^{2} r^{2} Jm + 2 Mp Nm^{2} l^{2} Jm + 4 Mp Nm^{2} l r Jm + 2 Mp Nm^{2} r^{2} Jm\\right)} & \\frac{Mp g l \\left(- Mp l r + 2 Nm^{2} Jm\\right)}{2 I_{2} J + 2 I_{2} M r^{2} + I_{2} Mp r^{2} + 2 I_{2} Nm^{2} Jm + 2 J Mp l^{2} + 4 J Nm^{2} Jm + 2 M Mp l^{2} r^{2} + 4 M Nm^{2} r^{2} Jm + 2 Mp Nm^{2} l^{2} Jm + 4 Mp Nm^{2} l r Jm + 2 Mp Nm^{2} r^{2} Jm} & \\frac{2 Nm \\left(- I_{2} Ke Kt + I_{2} Nm Rm Bm - Ke Kt Mp l^{2} - Ke Kt Mp l r + Mp Nm Rm l^{2} Bm + Mp Nm Rm l r Bm\\right)}{Rm \\left(2 I_{2} J + 2 I_{2} M r^{2} + I_{2} Mp r^{2} + 2 I_{2} Nm^{2} Jm + 2 J Mp l^{2} + 4 J Nm^{2} Jm + 2 M Mp l^{2} r^{2} + 4 M Nm^{2} r^{2} Jm + 2 Mp Nm^{2} l^{2} Jm + 4 Mp Nm^{2} l r Jm + 2 Mp Nm^{2} r^{2} Jm\\right)}\\\\0 & \\frac{2 Nm \\left(- 2 J Ke Kt + 2 J Nm Rm Bm - 2 Ke Kt M r^{2} - Ke Kt Mp l r - Ke Kt Mp r^{2} + 2 M Nm Rm r^{2} Bm + Mp Nm Rm l r Bm + Mp Nm Rm r^{2} Bm\\right)}{Rm \\left(2 I_{2} J + 2 I_{2} M r^{2} + I_{2} Mp r^{2} + 2 I_{2} Nm^{2} Jm + 2 J Mp l^{2} + 4 J Nm^{2} Jm + 2 M Mp l^{2} r^{2} + 4 M Nm^{2} r^{2} Jm + 2 Mp Nm^{2} l^{2} Jm + 4 Mp Nm^{2} l r Jm + 2 Mp Nm^{2} r^{2} Jm\\right)} & \\frac{Mp g l \\left(2 J + 2 M r^{2} + Mp r^{2} + 2 Nm^{2} Jm\\right)}{2 I_{2} J + 2 I_{2} M r^{2} + I_{2} Mp r^{2} + 2 I_{2} Nm^{2} Jm + 2 J Mp l^{2} + 4 J Nm^{2} Jm + 2 M Mp l^{2} r^{2} + 4 M Nm^{2} r^{2} Jm + 2 Mp Nm^{2} l^{2} Jm + 4 Mp Nm^{2} l r Jm + 2 Mp Nm^{2} r^{2} Jm} & \\frac{2 Nm \\left(2 J Ke Kt - 2 J Nm Rm Bm + 2 Ke Kt M r^{2} + Ke Kt Mp l r + Ke Kt Mp r^{2} - 2 M Nm Rm r^{2} Bm - Mp Nm Rm l r Bm - Mp Nm Rm r^{2} Bm\\right)}{Rm \\left(2 I_{2} J + 2 I_{2} M r^{2} + I_{2} Mp r^{2} + 2 I_{2} Nm^{2} Jm + 2 J Mp l^{2} + 4 J Nm^{2} Jm + 2 M Mp l^{2} r^{2} + 4 M Nm^{2} r^{2} Jm + 2 Mp Nm^{2} l^{2} Jm + 4 Mp Nm^{2} l r Jm + 2 Mp Nm^{2} r^{2} Jm\\right)}\\end{matrix}\\right]$"
      ],
      "text/plain": [
       "⎡0                                                                            \n",
       "⎢                                                                             \n",
       "⎢0                                                                            \n",
       "⎢                                                                             \n",
       "⎢                                       ⎛                                   2 \n",
       "⎢                                  2⋅Nm⋅⎝I₂⋅Ke⋅Kt - I₂⋅Nm⋅Rm⋅Bm + Ke⋅Kt⋅Mp⋅l  \n",
       "⎢0  ──────────────────────────────────────────────────────────────────────────\n",
       "⎢      ⎛                 2          2          2              2         2     \n",
       "⎢   Rm⋅⎝2⋅I₂⋅J + 2⋅I₂⋅M⋅r  + I₂⋅Mp⋅r  + 2⋅I₂⋅Nm ⋅Jm + 2⋅J⋅Mp⋅l  + 4⋅J⋅Nm ⋅Jm +\n",
       "⎢                                                                             \n",
       "⎢                     ⎛                                       2               \n",
       "⎢                2⋅Nm⋅⎝-2⋅J⋅Ke⋅Kt + 2⋅J⋅Nm⋅Rm⋅Bm - 2⋅Ke⋅Kt⋅M⋅r  - Ke⋅Kt⋅Mp⋅l⋅r\n",
       "⎢0  ──────────────────────────────────────────────────────────────────────────\n",
       "⎢      ⎛                 2          2          2              2         2     \n",
       "⎣   Rm⋅⎝2⋅I₂⋅J + 2⋅I₂⋅M⋅r  + I₂⋅Mp⋅r  + 2⋅I₂⋅Nm ⋅Jm + 2⋅J⋅Mp⋅l  + 4⋅J⋅Nm ⋅Jm +\n",
       "\n",
       "   0                                                                          \n",
       "                                                                              \n",
       "   0                                                                          \n",
       "                                                                              \n",
       "                           2                     ⎞                            \n",
       "+ Ke⋅Kt⋅Mp⋅l⋅r - Mp⋅Nm⋅Rm⋅l ⋅Bm - Mp⋅Nm⋅Rm⋅l⋅r⋅Bm⎠                            \n",
       "──────────────────────────────────────────────────────────────────────────────\n",
       "         2  2         2  2             2  2             2                 2  2\n",
       " 2⋅M⋅Mp⋅l ⋅r  + 4⋅M⋅Nm ⋅r ⋅Jm + 2⋅Mp⋅Nm ⋅l ⋅Jm + 4⋅Mp⋅Nm ⋅l⋅r⋅Jm + 2⋅Mp⋅Nm ⋅r \n",
       "                                                                              \n",
       "             2              2                                  2   ⎞          \n",
       " - Ke⋅Kt⋅Mp⋅r  + 2⋅M⋅Nm⋅Rm⋅r ⋅Bm + Mp⋅Nm⋅Rm⋅l⋅r⋅Bm + Mp⋅Nm⋅Rm⋅r ⋅Bm⎠          \n",
       "──────────────────────────────────────────────────────────────────────────────\n",
       "         2  2         2  2             2  2             2                 2  2\n",
       " 2⋅M⋅Mp⋅l ⋅r  + 4⋅M⋅Nm ⋅r ⋅Jm + 2⋅Mp⋅Nm ⋅l ⋅Jm + 4⋅Mp⋅Nm ⋅l⋅r⋅Jm + 2⋅Mp⋅Nm ⋅r \n",
       "\n",
       "                                                                              \n",
       "                                                                              \n",
       "                                                                              \n",
       "                                                                              \n",
       "                                                                           ⎛  \n",
       "                                                                    Mp⋅g⋅l⋅⎝-M\n",
       "────  ────────────────────────────────────────────────────────────────────────\n",
       "   ⎞                   2          2          2              2         2       \n",
       "⋅Jm⎠  2⋅I₂⋅J + 2⋅I₂⋅M⋅r  + I₂⋅Mp⋅r  + 2⋅I₂⋅Nm ⋅Jm + 2⋅J⋅Mp⋅l  + 4⋅J⋅Nm ⋅Jm + 2\n",
       "                                                                              \n",
       "                                                                     ⎛        \n",
       "                                                              Mp⋅g⋅l⋅⎝2⋅J + 2⋅\n",
       "────  ────────────────────────────────────────────────────────────────────────\n",
       "   ⎞                   2          2          2              2         2       \n",
       "⋅Jm⎠  2⋅I₂⋅J + 2⋅I₂⋅M⋅r  + I₂⋅Mp⋅r  + 2⋅I₂⋅Nm ⋅Jm + 2⋅J⋅Mp⋅l  + 4⋅J⋅Nm ⋅Jm + 2\n",
       "\n",
       "   1                                                                          \n",
       "                                                                              \n",
       "   0                                                                          \n",
       "                                                                              \n",
       "            2   ⎞                                                             \n",
       "p⋅l⋅r + 2⋅Nm ⋅Jm⎠                                                             \n",
       "──────────────────────────────────────────────────────────────────────────────\n",
       "       2  2         2  2             2  2             2                 2  2  \n",
       "⋅M⋅Mp⋅l ⋅r  + 4⋅M⋅Nm ⋅r ⋅Jm + 2⋅Mp⋅Nm ⋅l ⋅Jm + 4⋅Mp⋅Nm ⋅l⋅r⋅Jm + 2⋅Mp⋅Nm ⋅r ⋅J\n",
       "                                                                              \n",
       "   2       2       2   ⎞                                                      \n",
       "M⋅r  + Mp⋅r  + 2⋅Nm ⋅Jm⎠                                                      \n",
       "──────────────────────────────────────────────────────────────────────────────\n",
       "       2  2         2  2             2  2             2                 2  2  \n",
       "⋅M⋅Mp⋅l ⋅r  + 4⋅M⋅Nm ⋅r ⋅Jm + 2⋅Mp⋅Nm ⋅l ⋅Jm + 4⋅Mp⋅Nm ⋅l⋅r⋅Jm + 2⋅Mp⋅Nm ⋅r ⋅J\n",
       "\n",
       "                                                                              \n",
       "                                                                              \n",
       "                                                                              \n",
       "                                                                              \n",
       "                                       ⎛                                    2 \n",
       "                                  2⋅Nm⋅⎝-I₂⋅Ke⋅Kt + I₂⋅Nm⋅Rm⋅Bm - Ke⋅Kt⋅Mp⋅l  \n",
       "─  ───────────────────────────────────────────────────────────────────────────\n",
       "      ⎛                 2          2          2              2         2      \n",
       "m  Rm⋅⎝2⋅I₂⋅J + 2⋅I₂⋅M⋅r  + I₂⋅Mp⋅r  + 2⋅I₂⋅Nm ⋅Jm + 2⋅J⋅Mp⋅l  + 4⋅J⋅Nm ⋅Jm + \n",
       "                                                                              \n",
       "                      ⎛                                      2                \n",
       "                 2⋅Nm⋅⎝2⋅J⋅Ke⋅Kt - 2⋅J⋅Nm⋅Rm⋅Bm + 2⋅Ke⋅Kt⋅M⋅r  + Ke⋅Kt⋅Mp⋅l⋅r \n",
       "─  ───────────────────────────────────────────────────────────────────────────\n",
       "      ⎛                 2          2          2              2         2      \n",
       "m  Rm⋅⎝2⋅I₂⋅J + 2⋅I₂⋅M⋅r  + I₂⋅Mp⋅r  + 2⋅I₂⋅Nm ⋅Jm + 2⋅J⋅Mp⋅l  + 4⋅J⋅Nm ⋅Jm + \n",
       "\n",
       "  0                                                                           \n",
       "                                                                              \n",
       "  1                                                                           \n",
       "                                                                              \n",
       "                           2                     ⎞                            \n",
       "- Ke⋅Kt⋅Mp⋅l⋅r + Mp⋅Nm⋅Rm⋅l ⋅Bm + Mp⋅Nm⋅Rm⋅l⋅r⋅Bm⎠                            \n",
       "──────────────────────────────────────────────────────────────────────────────\n",
       "        2  2         2  2             2  2             2                 2  2 \n",
       "2⋅M⋅Mp⋅l ⋅r  + 4⋅M⋅Nm ⋅r ⋅Jm + 2⋅Mp⋅Nm ⋅l ⋅Jm + 4⋅Mp⋅Nm ⋅l⋅r⋅Jm + 2⋅Mp⋅Nm ⋅r ⋅\n",
       "                                                                              \n",
       "            2              2                                  2   ⎞           \n",
       "+ Ke⋅Kt⋅Mp⋅r  - 2⋅M⋅Nm⋅Rm⋅r ⋅Bm - Mp⋅Nm⋅Rm⋅l⋅r⋅Bm - Mp⋅Nm⋅Rm⋅r ⋅Bm⎠           \n",
       "──────────────────────────────────────────────────────────────────────────────\n",
       "        2  2         2  2             2  2             2                 2  2 \n",
       "2⋅M⋅Mp⋅l ⋅r  + 4⋅M⋅Nm ⋅r ⋅Jm + 2⋅Mp⋅Nm ⋅l ⋅Jm + 4⋅Mp⋅Nm ⋅l⋅r⋅Jm + 2⋅Mp⋅Nm ⋅r ⋅\n",
       "\n",
       "   ⎤\n",
       "   ⎥\n",
       "   ⎥\n",
       "   ⎥\n",
       "   ⎥\n",
       "   ⎥\n",
       "───⎥\n",
       "  ⎞⎥\n",
       "Jm⎠⎥\n",
       "   ⎥\n",
       "   ⎥\n",
       "   ⎥\n",
       "───⎥\n",
       "  ⎞⎥\n",
       "Jm⎠⎦"
      ]
     },
     "execution_count": 102,
     "metadata": {},
     "output_type": "execute_result"
    }
   ],
   "source": [
    "stateA = stateA.row_insert(0,addA)\n",
    "stateA"
   ]
  },
  {
   "cell_type": "code",
   "execution_count": 103,
   "metadata": {},
   "outputs": [
    {
     "data": {
      "text/latex": [
       "$\\displaystyle \\left[\\begin{matrix}0\\\\0\\\\\\frac{2 Kt Nm \\left(I_{2} + Mp l^{2} + Mp l r\\right)}{Rm \\left(2 I_{2} J + 2 I_{2} M r^{2} + I_{2} Mp r^{2} + 2 I_{2} Nm^{2} Jm + 2 J Mp l^{2} + 4 J Nm^{2} Jm + 2 M Mp l^{2} r^{2} + 4 M Nm^{2} r^{2} Jm + 2 Mp Nm^{2} l^{2} Jm + 4 Mp Nm^{2} l r Jm + 2 Mp Nm^{2} r^{2} Jm\\right)}\\\\- \\frac{2 Kt Nm \\left(2 J + 2 M r^{2} + Mp l r + Mp r^{2}\\right)}{Rm \\left(2 I_{2} J + 2 I_{2} M r^{2} + I_{2} Mp r^{2} + 2 I_{2} Nm^{2} Jm + 2 J Mp l^{2} + 4 J Nm^{2} Jm + 2 M Mp l^{2} r^{2} + 4 M Nm^{2} r^{2} Jm + 2 Mp Nm^{2} l^{2} Jm + 4 Mp Nm^{2} l r Jm + 2 Mp Nm^{2} r^{2} Jm\\right)}\\end{matrix}\\right]$"
      ],
      "text/plain": [
       "⎡                                                                             \n",
       "⎢                                                                             \n",
       "⎢                                                                             \n",
       "⎢                                                                             \n",
       "⎢                                                                       ⎛     \n",
       "⎢                                                               2⋅Kt⋅Nm⋅⎝I₂ + \n",
       "⎢─────────────────────────────────────────────────────────────────────────────\n",
       "⎢   ⎛                 2          2          2              2         2        \n",
       "⎢Rm⋅⎝2⋅I₂⋅J + 2⋅I₂⋅M⋅r  + I₂⋅Mp⋅r  + 2⋅I₂⋅Nm ⋅Jm + 2⋅J⋅Mp⋅l  + 4⋅J⋅Nm ⋅Jm + 2⋅\n",
       "⎢                                                                             \n",
       "⎢                                                                  ⎛          \n",
       "⎢                                                         -2⋅Kt⋅Nm⋅⎝2⋅J + 2⋅M⋅\n",
       "⎢─────────────────────────────────────────────────────────────────────────────\n",
       "⎢   ⎛                 2          2          2              2         2        \n",
       "⎣Rm⋅⎝2⋅I₂⋅J + 2⋅I₂⋅M⋅r  + I₂⋅Mp⋅r  + 2⋅I₂⋅Nm ⋅Jm + 2⋅J⋅Mp⋅l  + 4⋅J⋅Nm ⋅Jm + 2⋅\n",
       "\n",
       "0                                                                             \n",
       "                                                                              \n",
       "0                                                                             \n",
       "                                                                              \n",
       "    2         ⎞                                                               \n",
       "Mp⋅l  + Mp⋅l⋅r⎠                                                               \n",
       "──────────────────────────────────────────────────────────────────────────────\n",
       "      2  2         2  2             2  2             2                 2  2   \n",
       "M⋅Mp⋅l ⋅r  + 4⋅M⋅Nm ⋅r ⋅Jm + 2⋅Mp⋅Nm ⋅l ⋅Jm + 4⋅Mp⋅Nm ⋅l⋅r⋅Jm + 2⋅Mp⋅Nm ⋅r ⋅Jm\n",
       "                                                                              \n",
       " 2                2⎞                                                          \n",
       "r  + Mp⋅l⋅r + Mp⋅r ⎠                                                          \n",
       "──────────────────────────────────────────────────────────────────────────────\n",
       "      2  2         2  2             2  2             2                 2  2   \n",
       "M⋅Mp⋅l ⋅r  + 4⋅M⋅Nm ⋅r ⋅Jm + 2⋅Mp⋅Nm ⋅l ⋅Jm + 4⋅Mp⋅Nm ⋅l⋅r⋅Jm + 2⋅Mp⋅Nm ⋅r ⋅Jm\n",
       "\n",
       " ⎤\n",
       " ⎥\n",
       " ⎥\n",
       " ⎥\n",
       " ⎥\n",
       " ⎥\n",
       "─⎥\n",
       "⎞⎥\n",
       "⎠⎥\n",
       " ⎥\n",
       " ⎥\n",
       " ⎥\n",
       "─⎥\n",
       "⎞⎥\n",
       "⎠⎦"
      ]
     },
     "execution_count": 103,
     "metadata": {},
     "output_type": "execute_result"
    }
   ],
   "source": [
    "stateB = stateB.row_insert(0,addB)\n",
    "stateB"
   ]
  },
  {
   "cell_type": "code",
   "execution_count": 104,
   "metadata": {},
   "outputs": [
    {
     "data": {
      "text/latex": [
       "$\\displaystyle \\left[\\begin{matrix}1 & 0 & 0 & 0\\\\0 & 1 & 0 & 0\\\\0 & 0 & 1 & 0\\\\0 & 0 & 0 & 1\\end{matrix}\\right]$"
      ],
      "text/plain": [
       "⎡1  0  0  0⎤\n",
       "⎢          ⎥\n",
       "⎢0  1  0  0⎥\n",
       "⎢          ⎥\n",
       "⎢0  0  1  0⎥\n",
       "⎢          ⎥\n",
       "⎣0  0  0  1⎦"
      ]
     },
     "execution_count": 104,
     "metadata": {},
     "output_type": "execute_result"
    }
   ],
   "source": [
    "C = sm.eye(4)\n",
    "C"
   ]
  },
  {
   "cell_type": "markdown",
   "metadata": {},
   "source": [
    "## Control System Development"
   ]
  },
  {
   "cell_type": "code",
   "execution_count": 105,
   "metadata": {},
   "outputs": [],
   "source": [
    "# M = 0.5; \n",
    "# m = 0.2; \n",
    "# L = 0.3; \n",
    "#I = 0.006; \n",
    "#b = 0.1; \n",
    " #g = 9.8; \n",
    "## 물성치 \n",
    "# syms M m Lc L I J r g n Jm Bm Kt Ke Rm \n",
    "\n",
    "\n",
    "m1 = 24.0; # 몸체무게 - 배터리, 모터, frame - 2nd 모델 총 31.4 kg \n",
    "m2 = 4; # 무게추 고정 밑판 \n",
    "m3 = 2; # 무게추 봉 무게 \n",
    "m4 = 12.3; # 추무게 12Kg \n",
    "L1 = -0.085; # 모터 위치로의 수정치 & L을 Signed value로 봄. meter \n",
    "L2 = 0.034; \n",
    "L3 = 0.5; \n",
    "L4 = 0.65; # 추무게중심 12Kg \n",
    "I1_com = 0.2105; # body swing 1.15Hz로 부터 수정값 kg*m^2 \n",
    "I2_com = 0.023; \n",
    "I3_com = 0.167; \n",
    "I4_com = 0.03315; # 추무게중심 12Kg \n",
    "## Center of mass and Inertia calculation \n",
    "#Mp = m1 + m2 + m3 + m4 \n",
    "Lcom = (m1*L1+m2*L2+m3*L3+m4*L4)/0.5 \n",
    "Icom = I1_com+I2_com+I3_com+I4_com+m1*(Lcom-L1)**2+m2*(L2-Lcom)**2+m3*(L3-Lcom)**2+m4*(L4-Lcom)**2 \n",
    "#M = 3.7; # wheel 무게 + 풀리(대). kg \n",
    "#r = 0.20; # wheel radius [meter] \n",
    "##J = 1/2*m*r^2 # wheel inertia, Kg*m^2 \n",
    "#J = 0.116 # wheel inertia, Kg*m^2 - time constant 실험에 의해 조정된값 \n",
    "#g = 9.8; # m/s^2 \n",
    "\n",
    "\n",
    "#Nm=13.715; # Gear ratio \n",
    "#Jm=1.412e-4; # MOI of motor from spec, Kg*m^2 \n",
    "#Bm=3.78e-4; # motor friction coefficient Nm/rad/s \n",
    "#Kt=3.756e-2; # torque constant of motor from spec, Nm/A \n",
    "#Ke=3.756e-2; # electric constant of motor from spec, Vsec/rad \n",
    "#Rm=0.0788;  # terminal resistance of motor from spec, ohms "
   ]
  },
  {
   "cell_type": "code",
   "execution_count": 106,
   "metadata": {},
   "outputs": [],
   "source": [
    "values={Mp : m1 + m2 + m3 + m4 ,\n",
    "        M : 3.7,\n",
    "        R : 0.20,\n",
    "        J : 0.116,\n",
    "        g : 9.8,\n",
    "        l : 0.3,\n",
    "        I2:  I1_com + I2_com + I3_com + I4_com,\n",
    "        Nm : 13.715,\n",
    "        Jm : 1.412e-4,\n",
    "        Bm : 3.78e-4,\n",
    "        Kt : 3.756e-2,\n",
    "        Ke : 3.756e-2,\n",
    "        Rm : 0.0788}"
   ]
  },
  {
   "cell_type": "code",
   "execution_count": 107,
   "metadata": {},
   "outputs": [
    {
     "data": {
      "image/png": "[encoded data removed]",
      "text/latex": [
       "$\\displaystyle \\left\\{ I_{2} : 0.43365, \\  J : 0.116, \\  Ke : 0.03756, \\  Kt : 0.03756, \\  M : 3.7, \\  Mp : 42.3, \\  Nm : 13.715, \\  Rm : 0.0788, \\  g : 9.8, \\  l : 0.3, \\  r : 0.2, \\  Bm : 0.000378, \\  Jm : 0.0001412\\right\\}$"
      ],
      "text/plain": [
       "{I₂: 0.43365, J: 0.116, Ke: 0.03756, Kt: 0.03756, M: 3.7, Mp: 42.3, Nm: 13.715\n",
       ", Rm: 0.0788, g: 9.8, l: 0.3, r: 0.2, Bm: 0.000378, Jm: 0.0001412}"
      ]
     },
     "execution_count": 107,
     "metadata": {},
     "output_type": "execute_result"
    }
   ],
   "source": [
    "values"
   ]
  },
  {
   "cell_type": "code",
   "execution_count": 108,
   "metadata": {},
   "outputs": [
    {
     "data": {
      "text/latex": [
       "$\\displaystyle \\left[\\begin{matrix}0 & 0 & 1 & 0\\\\0 & 0 & 0 & 1\\\\0 & 0.659548720472757 & -86.1843647709728 & -0.659548720472757\\\\0 & -0.462943626239646 & 78.8397700988086 & 0.462943626239646\\end{matrix}\\right]$"
      ],
      "text/plain": [
       "⎡0          0                   1                  0         ⎤\n",
       "⎢                                                            ⎥\n",
       "⎢0          0                   0                  1         ⎥\n",
       "⎢                                                            ⎥\n",
       "⎢0  0.659548720472757   -86.1843647709728  -0.659548720472757⎥\n",
       "⎢                                                            ⎥\n",
       "⎣0  -0.462943626239646  78.8397700988086   0.462943626239646 ⎦"
      ]
     },
     "execution_count": 108,
     "metadata": {},
     "output_type": "execute_result"
    }
   ],
   "source": [
    "stateA = stateA.subs(values)\n",
    "stateA"
   ]
  },
  {
   "cell_type": "code",
   "execution_count": 109,
   "metadata": {},
   "outputs": [
    {
     "data": {
      "text/latex": [
       "$\\displaystyle \\left[\\begin{matrix}0\\\\0\\\\24.7174528038815\\\\-17.3494191971659\\end{matrix}\\right]$"
      ],
      "text/plain": [
       "⎡        0        ⎤\n",
       "⎢                 ⎥\n",
       "⎢        0        ⎥\n",
       "⎢                 ⎥\n",
       "⎢24.7174528038815 ⎥\n",
       "⎢                 ⎥\n",
       "⎣-17.3494191971659⎦"
      ]
     },
     "execution_count": 109,
     "metadata": {},
     "output_type": "execute_result"
    }
   ],
   "source": [
    "stateB = stateB.subs(values)\n",
    "stateB"
   ]
  },
  {
   "cell_type": "code",
   "execution_count": 110,
   "metadata": {},
   "outputs": [
    {
     "data": {
      "text/latex": [
       "$\\displaystyle \\left[\\begin{matrix}1 & 0 & 0 & 0\\\\0 & 1 & 0 & 0\\\\0 & 0 & 1 & 0\\\\0 & 0 & 0 & 1\\end{matrix}\\right]$"
      ],
      "text/plain": [
       "⎡1  0  0  0⎤\n",
       "⎢          ⎥\n",
       "⎢0  1  0  0⎥\n",
       "⎢          ⎥\n",
       "⎢0  0  1  0⎥\n",
       "⎢          ⎥\n",
       "⎣0  0  0  1⎦"
      ]
     },
     "execution_count": 110,
     "metadata": {},
     "output_type": "execute_result"
    }
   ],
   "source": [
    "C"
   ]
  },
  {
   "cell_type": "code",
   "execution_count": 111,
   "metadata": {},
   "outputs": [],
   "source": [
    "Q1 = sm.diag(10 , 50 , 10 , 1)"
   ]
  },
  {
   "cell_type": "code",
   "execution_count": 112,
   "metadata": {},
   "outputs": [
    {
     "data": {
      "text/latex": [
       "$\\displaystyle \\left[\\begin{matrix}10 & 0 & 0 & 0\\\\0 & 50 & 0 & 0\\\\0 & 0 & 10 & 0\\\\0 & 0 & 0 & 1\\end{matrix}\\right]$"
      ],
      "text/plain": [
       "⎡10  0   0   0⎤\n",
       "⎢             ⎥\n",
       "⎢0   50  0   0⎥\n",
       "⎢             ⎥\n",
       "⎢0   0   10  0⎥\n",
       "⎢             ⎥\n",
       "⎣0   0   0   1⎦"
      ]
     },
     "execution_count": 112,
     "metadata": {},
     "output_type": "execute_result"
    }
   ],
   "source": [
    "Q1"
   ]
  },
  {
   "cell_type": "code",
   "execution_count": 113,
   "metadata": {},
   "outputs": [],
   "source": [
    "R1 = 1"
   ]
  },
  {
   "cell_type": "markdown",
   "metadata": {},
   "source": [
    "Control"
   ]
  },
  {
   "cell_type": "code",
   "execution_count": 114,
   "metadata": {},
   "outputs": [],
   "source": [
    "import control as con"
   ]
  },
  {
   "cell_type": "code",
   "execution_count": 115,
   "metadata": {},
   "outputs": [],
   "source": [
    "sys = con.lqr(stateA,stateB,Q1,R1)"
   ]
  },
  {
   "cell_type": "code",
   "execution_count": 116,
   "metadata": {},
   "outputs": [
    {
     "data": {
      "text/plain": [
       "array([[2.38418579e-07, 7.09780168e+00, 3.35748182e+00, 2.48658350e+00]])"
      ]
     },
     "execution_count": 116,
     "metadata": {},
     "output_type": "execute_result"
    }
   ],
   "source": [
    "sys[0]"
   ]
  },
  {
   "cell_type": "code",
   "execution_count": 117,
   "metadata": {},
   "outputs": [
    {
     "data": {
      "text/plain": [
       "array([[ 1.56099457e+08, -5.45073993e-01, -5.97225213e+06,\n",
       "        -8.50857649e+06],\n",
       "       [-5.45073993e-01,  1.77723202e+01,  2.16318998e+00,\n",
       "         2.67275486e+00],\n",
       "       [-5.97225213e+06,  2.16318998e+00,  2.28494647e+05,\n",
       "         3.25532644e+05],\n",
       "       [-8.50857649e+06,  2.67275486e+00,  3.25532644e+05,\n",
       "         4.63781247e+05]])"
      ]
     },
     "execution_count": 117,
     "metadata": {},
     "output_type": "execute_result"
    }
   ],
   "source": [
    "sys[1]"
   ]
  },
  {
   "cell_type": "code",
   "execution_count": 118,
   "metadata": {},
   "outputs": [
    {
     "data": {
      "text/plain": [
       "array([-1.17119259e+02+0.j        , -1.36321040e-15+0.j        ,\n",
       "       -4.22489040e+00+3.08685855j, -4.22489040e+00-3.08685855j])"
      ]
     },
     "execution_count": 118,
     "metadata": {},
     "output_type": "execute_result"
    }
   ],
   "source": [
    "sys[2]"
   ]
  },
  {
   "cell_type": "code",
   "execution_count": 119,
   "metadata": {},
   "outputs": [
    {
     "data": {
      "text/plain": [
       "tuple"
      ]
     },
     "execution_count": 119,
     "metadata": {},
     "output_type": "execute_result"
    }
   ],
   "source": [
    "type(sys)"
   ]
  },
  {
   "cell_type": "code",
   "execution_count": null,
   "metadata": {},
   "outputs": [],
   "source": []
  }
 ],
 "metadata": {
  "kernelspec": {
   "display_name": "Python 3",
   "language": "python",
   "name": "python3"
  },
  "language_info": {
   "codemirror_mode": {
    "name": "ipython",
    "version": 3
   },
   "file_extension": ".py",
   "mimetype": "text/x-python",
   "name": "python",
   "nbconvert_exporter": "python",
   "pygments_lexer": "ipython3",
   "version": "3.9.5"
  }
 },
 "nbformat": 4,
 "nbformat_minor": 4
}
