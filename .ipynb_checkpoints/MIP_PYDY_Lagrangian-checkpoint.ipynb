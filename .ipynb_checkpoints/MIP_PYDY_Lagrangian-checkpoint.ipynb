{
 "cells": [
  {
   "cell_type": "markdown",
   "metadata": {},
   "source": [
    "# Mobile inverted pendulum python dynamics\n",
    "author:SeongHyeon Kim\n",
    "\n",
    "program:PYDY balancing robot simulator\n"
   ]
  },
  {
   "cell_type": "markdown",
   "metadata": {},
   "source": [
    "필요한 라이브러리 포함\n"
   ]
  },
  {
   "cell_type": "code",
   "execution_count": 1,
   "metadata": {},
   "outputs": [],
   "source": [
    "from sympy import sin, cos, symbols, solve, Matrix, init_printing\n",
    "from sympy.physics.mechanics import *\n",
    "from sympy.physics.vector import ReferenceFrame\n",
    "import sympy.physics.mechanics as me\n",
    "import sympy as sm\n",
    "import math as m\n",
    "import numpy as np"
   ]
  },
  {
   "cell_type": "code",
   "execution_count": 2,
   "metadata": {},
   "outputs": [],
   "source": [
    "init_vprinting()"
   ]
  },
  {
   "cell_type": "markdown",
   "metadata": {},
   "source": [
    "# Reference frames"
   ]
  },
  {
   "cell_type": "markdown",
   "metadata": {},
   "source": [
    "N은 외부의 기준 프레임. 속도를 0으로"
   ]
  },
  {
   "cell_type": "code",
   "execution_count": 3,
   "metadata": {},
   "outputs": [],
   "source": [
    "#Newtonian reference frame\n",
    "N=ReferenceFrame('N')\n",
    "\n",
    "# Define a world coordinate origin\n",
    "No = Point('No')\n",
    "No.set_vel(N, 0)"
   ]
  },
  {
   "cell_type": "code",
   "execution_count": 4,
   "metadata": {},
   "outputs": [],
   "source": [
    "F = ReferenceFrame('F')\n",
    "\n",
    "P = ReferenceFrame('P')"
   ]
  },
  {
   "cell_type": "markdown",
   "metadata": {},
   "source": [
    "F = N.orientnew('F', 'Axis',[psi, N.z] )     # Intermediate reference frame\n",
    "\n",
    "P = F.orientnew('P', 'Axis', [theta, F.y])   # Inverted Pendulum"
   ]
  },
  {
   "cell_type": "markdown",
   "metadata": {},
   "source": [
    "기준프레임.dcm(상대프레임)"
   ]
  },
  {
   "cell_type": "markdown",
   "metadata": {},
   "source": [
    "## Newtonian, Bodies, Frames, Particles, Points\n"
   ]
  },
  {
   "cell_type": "code",
   "execution_count": 5,
   "metadata": {},
   "outputs": [],
   "source": [
    "Mp =sm.symbols('Mp')\n",
    "M = sm.symbols('M')\n",
    "\n",
    "Po = me.Point('p_cm')\n",
    "Lo = me.Point('L_cm')\n",
    "body_l_f = me.ReferenceFrame('L_f')\n",
    "\n",
    "Ro = me.Point('R_cm')\n",
    "body_r_f = me.ReferenceFrame('R_f')\n",
    "\n",
    "frame_f = me.ReferenceFrame('f')\n",
    "Ip = me.Point('I_p')\n",
    "LN = me.Point('ln')\n",
    "RN = me.Point('rn')"
   ]
  },
  {
   "cell_type": "markdown",
   "metadata": {},
   "source": [
    "## Variables, Constants and Specified"
   ]
  },
  {
   "cell_type": "code",
   "execution_count": 6,
   "metadata": {
    "scrolled": true
   },
   "outputs": [],
   "source": [
    "x = me.dynamicsymbols('x')            # F1> measure number of Velocity of P in N\n",
    "xd = me.dynamicsymbols('x', 1)\n",
    "xd2 = me.dynamicsymbols('x', 2)\n",
    "theta = me.dynamicsymbols('theta')    # F2> measure number of Angular velocity of P in N\n",
    "thetad = me.dynamicsymbols('theta', 1)\n",
    "thetad2 = me.dynamicsymbols('theta', 2)\n",
    "delta = me.dynamicsymbols('delta')    # N3> measure number of Angular velocity of P in N\n",
    "deltad = me.dynamicsymbols('delta', 1)\n",
    "deltad2 = me.dynamicsymbols('delta', 2)\n",
    "wL = me.dynamicsymbols('wL')          # Angular velocity of L in N\n",
    "wLd = me.dynamicsymbols('wL', 1)\n",
    "wLd2 = me.dynamicsymbols('wL', 2)\n",
    "wR = me.dynamicsymbols('wR')          # Angular velocity of R in N\n",
    "wRd = me.dynamicsymbols('wR', 1)\n",
    "wRd2 = me.dynamicsymbols('wR', 2)\n",
    "TL, TR = me.dynamicsymbols('tL tR')   #Torques on L, R\n",
    "g = sm.symbols('g', real=True)        #Gravitational acceleration\n",
    "d = sm.symbols('d', real=True)        # Distance from point I to Lo (or Ro)\n",
    "R = sm.symbols('r', real=True)        #Radius of wheels\n",
    "l = sm.symbols('l', real=True)        # Distance from point I to mass center of P\n",
    "t = sm.symbols('t')\n",
    "\n",
    "\n",
    "# Create q and dq vectors\n",
    "q = Matrix([x, theta, delta, wL, wR])\n",
    "dq = q.diff()"
   ]
  },
  {
   "cell_type": "markdown",
   "metadata": {},
   "source": [
    "## Mass and Inertia"
   ]
  },
  {
   "cell_type": "code",
   "execution_count": 7,
   "metadata": {},
   "outputs": [],
   "source": [
    "K,J = symbols('K J')"
   ]
  },
  {
   "cell_type": "code",
   "execution_count": 8,
   "metadata": {},
   "outputs": [],
   "source": [
    "I_L = inertia(F, K,J,K)                          #Wheel inertia \n",
    "I_R = inertia(F, K,J,K)\n"
   ]
  },
  {
   "cell_type": "code",
   "execution_count": 9,
   "metadata": {},
   "outputs": [],
   "source": [
    "m_b = symbols('m_b')                              #Mass of the body\n",
    "I1, I2, I3 = symbols('I1 I2 I3')                  #Moments of inertia of body"
   ]
  },
  {
   "cell_type": "code",
   "execution_count": 10,
   "metadata": {},
   "outputs": [],
   "source": [
    "# Calculate inertia of body\n",
    "Ib = inertia(F, I1, I2, I3)"
   ]
  },
  {
   "cell_type": "markdown",
   "metadata": {},
   "source": [
    "###  Geometry relating unit vectors"
   ]
  },
  {
   "cell_type": "code",
   "execution_count": 11,
   "metadata": {},
   "outputs": [],
   "source": [
    "F.orient(N, 'Axis', [delta, N.z])"
   ]
  },
  {
   "cell_type": "code",
   "execution_count": 12,
   "metadata": {},
   "outputs": [],
   "source": [
    "P.orient(F, 'Axis', [theta, F.y])"
   ]
  },
  {
   "cell_type": "code",
   "execution_count": 13,
   "metadata": {
    "scrolled": true
   },
   "outputs": [
    {
     "data": {
      "text/latex": [
       "$\\displaystyle \\left[\\begin{matrix}\\operatorname{cos}\\left(\\delta\\right) & - \\operatorname{sin}\\left(\\delta\\right) & 0\\\\\\operatorname{sin}\\left(\\delta\\right) & \\operatorname{cos}\\left(\\delta\\right) & 0\\\\0 & 0 & 1\\end{matrix}\\right]$"
      ],
      "text/plain": [
       "⎡cos(δ)  -sin(δ)  0⎤\n",
       "⎢                  ⎥\n",
       "⎢sin(δ)  cos(δ)   0⎥\n",
       "⎢                  ⎥\n",
       "⎣  0        0     1⎦"
      ]
     },
     "execution_count": 13,
     "metadata": {},
     "output_type": "execute_result"
    }
   ],
   "source": [
    "N.dcm(F)"
   ]
  },
  {
   "cell_type": "code",
   "execution_count": 14,
   "metadata": {
    "scrolled": false
   },
   "outputs": [
    {
     "data": {
      "text/latex": [
       "$\\displaystyle \\left[\\begin{matrix}\\operatorname{cos}\\left(\\theta\\right) & 0 & \\operatorname{sin}\\left(\\theta\\right)\\\\0 & 1 & 0\\\\- \\operatorname{sin}\\left(\\theta\\right) & 0 & \\operatorname{cos}\\left(\\theta\\right)\\end{matrix}\\right]$"
      ],
      "text/plain": [
       "⎡cos(θ)   0  sin(θ)⎤\n",
       "⎢                  ⎥\n",
       "⎢   0     1    0   ⎥\n",
       "⎢                  ⎥\n",
       "⎣-sin(θ)  0  cos(θ)⎦"
      ]
     },
     "execution_count": 14,
     "metadata": {},
     "output_type": "execute_result"
    }
   ],
   "source": [
    "F.dcm(P)"
   ]
  },
  {
   "cell_type": "markdown",
   "metadata": {},
   "source": [
    "## Position vectors"
   ]
  },
  {
   "cell_type": "code",
   "execution_count": 15,
   "metadata": {},
   "outputs": [],
   "source": [
    "I = No.locatenew('I', x*F.x)      # Point No to I\n",
    "\n",
    "Po = I.locatenew('Po', l*P.z)     # Point I to mass center of P\n",
    "\n",
    "Lo = I.locatenew('Lo', d*F.y)     # Point I to center of wheel L\n",
    "\n",
    "Ro = I.locatenew('Ro', -d*F.y)    # Point I to center of wheel R\n",
    "\n",
    "LN = Lo.locatenew('LN', -R*F.z)   # Center of wheel L to contact point LN\n",
    "\n",
    "RN = Ro.locatenew('RN', -R*F.z)   # Center of wheel R to contact point RN"
   ]
  },
  {
   "cell_type": "markdown",
   "metadata": {},
   "source": [
    "## Angular Velocities\n"
   ]
  },
  {
   "cell_type": "code",
   "execution_count": 16,
   "metadata": {},
   "outputs": [],
   "source": [
    "F.set_ang_vel(N, deltad*N.z)        # Angular velocity of F in N\n",
    "P.set_ang_vel(F, thetad*F.y)        # Angular velocity of P in F\n",
    "body_l_f.set_ang_vel(F, wLd*F.y)    # wL is related to w and v due to rolling\n",
    "body_r_f.set_ang_vel(F, wRd*F.y)    # wR is related to w and v due to rolling"
   ]
  },
  {
   "cell_type": "markdown",
   "metadata": {},
   "source": [
    "## Velocities of relevant points"
   ]
  },
  {
   "cell_type": "code",
   "execution_count": 17,
   "metadata": {},
   "outputs": [
    {
     "data": {
      "image/png": "[encoded data removed]",
      "text/latex": [
       "$\\displaystyle \\dot{x}\\mathbf{\\hat{f}_x} + l \\dot{\\theta}\\mathbf{\\hat{p}_x} + l \\operatorname{sin}\\left(\\theta\\right) \\dot{\\delta}\\mathbf{\\hat{p}_y}$"
      ],
      "text/plain": [
       "ẋ f_x + l⋅θ̇ p_x + l⋅sin(θ)⋅δ̇ p_y"
      ]
     },
     "execution_count": 17,
     "metadata": {},
     "output_type": "execute_result"
    }
   ],
   "source": [
    "V_I_N = I.set_vel(N, xd*F.x)             # Velocity of point I in N\n",
    "\n",
    "V_PO_N = Po.v2pt_theory(I,N,P)           # Velocity of center of mass of P\n",
    "\n",
    "V_LO_N = Lo.v2pt_theory(I, N,P,)         # Velocity of center of L\n",
    "\n",
    "V_RO_N = Ro.v2pt_theory(I,N,P)           # Velocity of center of R\n",
    "\n",
    "V_LN_N = LN.v2pt_theory(Lo,N,body_l_f)          # Velocity of contact point of L\n",
    "\n",
    "V_RN_N = RN.v2pt_theory(Ro,N,body_r_f)          # Velocity of contact point of R\n",
    "\n",
    "V_PO_N\n"
   ]
  },
  {
   "cell_type": "code",
   "execution_count": 18,
   "metadata": {},
   "outputs": [],
   "source": [
    "\n",
    "body_p = me.RigidBody('p', Po, P, Mp, (Ib, Po))\n",
    "body_l = me.RigidBody('l', Lo, body_l_f, M, (I_L, Lo))\n",
    "body_r = me.RigidBody('r', Ro, body_r_f, M,(I_R, Ro))"
   ]
  },
  {
   "cell_type": "markdown",
   "metadata": {},
   "source": [
    "### Forces"
   ]
  },
  {
   "cell_type": "code",
   "execution_count": 19,
   "metadata": {
    "scrolled": false
   },
   "outputs": [],
   "source": [
    "#중력벡터\n",
    "Gravity = -g * N.z\n",
    "fL = []\n",
    "\n",
    "fL.extend([(P, -g*Mp*N.z),(Lo, -g*M*N.z),(Ro, -g*M*N.z)],)"
   ]
  },
  {
   "cell_type": "code",
   "execution_count": 20,
   "metadata": {
    "scrolled": true
   },
   "outputs": [],
   "source": [
    "fL.append((P, -TL*F.y))\n",
    "fL.append((Lo, TL*F.y))     #Torques on L\n",
    "fL.append((P, -TR*F.y))\n",
    "fL.append((Ro, TR*F.y))    #Torques on R\n",
    "\n",
    "fL\n",
    "# Define forces on system:\n",
    "T1, T2 = symbols('tau_1, tau_2')              # Torques from the wheels\n",
    "fl = [(Lo, T1/R*P.y),\n",
    "      (Ro, T2/R*P.y)]"
   ]
  },
  {
   "cell_type": "markdown",
   "metadata": {},
   "source": [
    "## Nonholonomic Constranits"
   ]
  },
  {
   "cell_type": "markdown",
   "metadata": {},
   "source": [
    "LN.vel(N)    N에서 측정한 LN(왼쪽 바퀴와 지면이 닿는점의 속도)\n",
    "\n",
    "\n",
    "+.express(N)  N좌표계로 나타냄\n",
    "\n",
    "\n",
    "+.args[0][0]   argument 의 약자 구성요소를 세분화 해서 저장 x y z 벡터 3가지 이므로 각각 순서대로 분리해서 저장한다.\n"
   ]
  },
  {
   "cell_type": "code",
   "execution_count": 21,
   "metadata": {
    "scrolled": true
   },
   "outputs": [
    {
     "data": {
      "text/latex": [
       "$\\displaystyle \\left[\\begin{matrix}\\left(- d \\dot{\\delta} - r \\dot{wL} + \\dot{x}\\right) \\operatorname{cos}\\left(\\delta\\right)\\\\\\left(- d \\dot{\\delta} - r \\dot{wL} + \\dot{x}\\right) \\operatorname{sin}\\left(\\delta\\right)\\\\0\\\\\\left(d \\dot{\\delta} - r \\dot{wR} + \\dot{x}\\right) \\operatorname{cos}\\left(\\delta\\right)\\\\\\left(d \\dot{\\delta} - r \\dot{wR} + \\dot{x}\\right) \\operatorname{sin}\\left(\\delta\\right)\\\\0\\end{matrix}\\right]$"
      ],
      "text/plain": [
       "⎡(-d⋅δ̇ - r⋅wL̇ + ẋ)⋅cos(δ)⎤\n",
       "⎢                           ⎥\n",
       "⎢(-d⋅δ̇ - r⋅wL̇ + ẋ)⋅sin(δ)⎥\n",
       "⎢                           ⎥\n",
       "⎢             0             ⎥\n",
       "⎢                           ⎥\n",
       "⎢(d⋅δ̇ - r⋅wṘ + ẋ)⋅cos(δ) ⎥\n",
       "⎢                           ⎥\n",
       "⎢(d⋅δ̇ - r⋅wṘ + ẋ)⋅sin(δ) ⎥\n",
       "⎢                           ⎥\n",
       "⎣             0             ⎦"
      ]
     },
     "execution_count": 21,
     "metadata": {},
     "output_type": "execute_result"
    }
   ],
   "source": [
    "# Express the velocity of points in the inertial frame\n",
    "con1 = LN.vel(N).express(N).args[0][0]\n",
    "con2 = RN.vel(N).express(N).args[0][0]\n",
    "# Create a matrix of constraints\n",
    "constraints = con1.col_join(con2)\n",
    "constraints"
   ]
  },
  {
   "cell_type": "markdown",
   "metadata": {},
   "source": [
    "A.col_join(B)\n",
    "\n",
    "A행렬 아래에 B를 붙임"
   ]
  },
  {
   "cell_type": "code",
   "execution_count": 22,
   "metadata": {},
   "outputs": [
    {
     "data": {
      "text/latex": [
       "$\\displaystyle \\left[\\begin{matrix}\\left(- d \\dot{\\delta} - r \\dot{wL} + \\dot{x}\\right) \\operatorname{cos}\\left(\\delta\\right)\\\\\\left(- d \\dot{\\delta} - r \\dot{wL} + \\dot{x}\\right) \\operatorname{sin}\\left(\\delta\\right)\\\\0\\end{matrix}\\right]$"
      ],
      "text/plain": [
       "⎡(-d⋅δ̇ - r⋅wL̇ + ẋ)⋅cos(δ)⎤\n",
       "⎢                           ⎥\n",
       "⎢(-d⋅δ̇ - r⋅wL̇ + ẋ)⋅sin(δ)⎥\n",
       "⎢                           ⎥\n",
       "⎣             0             ⎦"
      ]
     },
     "execution_count": 22,
     "metadata": {},
     "output_type": "execute_result"
    }
   ],
   "source": [
    "con1"
   ]
  },
  {
   "cell_type": "code",
   "execution_count": 23,
   "metadata": {
    "scrolled": true
   },
   "outputs": [
    {
     "data": {
      "text/latex": [
       "$\\displaystyle \\left[\\begin{matrix}- d \\dot{\\delta} - r \\dot{wL} + \\dot{x}\\\\0\\\\0\\end{matrix}\\right]$"
      ],
      "text/plain": [
       "⎡-d⋅δ̇ - r⋅wL̇ + ẋ⎤\n",
       "⎢                  ⎥\n",
       "⎢        0         ⎥\n",
       "⎢                  ⎥\n",
       "⎣        0         ⎦"
      ]
     },
     "execution_count": 23,
     "metadata": {},
     "output_type": "execute_result"
    }
   ],
   "source": [
    "LN.vel(N).args[0][0]"
   ]
  },
  {
   "cell_type": "markdown",
   "metadata": {},
   "source": [
    "solve(식,변수)\n",
    "\n",
    "식,또는 함수\n",
    "\n",
    "식의 해를 구하기위한 변수\n",
    "\n",
    "sol.values() 변수의 해\n",
    "sol.keys() 변수"
   ]
  },
  {
   "cell_type": "code",
   "execution_count": 24,
   "metadata": {
    "scrolled": true
   },
   "outputs": [
    {
     "data": {
      "image/png": "[encoded data removed]",
      "text/latex": [
       "$\\displaystyle \\left[ \\dot{x}, \\  \\dot{\\theta}, \\  \\dot{\\delta}\\right]$"
      ],
      "text/plain": [
       "[ẋ, θ̇, δ̇]"
      ]
     },
     "execution_count": 24,
     "metadata": {},
     "output_type": "execute_result"
    }
   ],
   "source": [
    "# Solve for dx, dtheta, and ddelta in terms of wL and wR\n",
    "sol = solve(constraints, dq[:3])\n",
    "\n",
    "# Split the resulting dict into a rhs and lhs, that are equivalent\n",
    "sol_rhs = Matrix(list(sol.values()))\n",
    "sol_lhs = Matrix(list(sol.keys()))\n",
    "\n",
    "# Since sol_rhs = sol_lhs --> sol_rhs - sol_lhs = 0\n",
    "# This forms the basis of our constraint matrix.\n",
    "# Combining, and solving for a linear representation:\n",
    "c = (sol_rhs - sol_lhs).jacobian(dq[:5])\n",
    "\n",
    "dq[:3]"
   ]
  },
  {
   "cell_type": "code",
   "execution_count": 25,
   "metadata": {
    "scrolled": true
   },
   "outputs": [
    {
     "data": {
      "image/png": "[encoded data removed]",
      "text/latex": [
       "$\\displaystyle \\left\\{ \\dot{\\delta} : - \\frac{r \\left(\\dot{wL} - \\dot{wR}\\right)}{2 d}, \\  \\dot{x} : \\frac{r \\left(\\dot{wL} + \\dot{wR}\\right)}{2}\\right\\}$"
      ],
      "text/plain": [
       "⎧    -r⋅(wL̇ - wṘ)       r⋅(wL̇ + wṘ)⎫\n",
       "⎨δ̇: ───────────────, ẋ: ─────────────⎬\n",
       "⎩          2⋅d                  2      ⎭"
      ]
     },
     "execution_count": 25,
     "metadata": {},
     "output_type": "execute_result"
    }
   ],
   "source": [
    "sol"
   ]
  },
  {
   "cell_type": "code",
   "execution_count": 26,
   "metadata": {
    "scrolled": true
   },
   "outputs": [
    {
     "data": {
      "text/latex": [
       "$\\displaystyle \\left[\\begin{matrix}- \\frac{r \\left(\\dot{wL} - \\dot{wR}\\right)}{2 d}\\\\\\frac{r \\left(\\dot{wL} + \\dot{wR}\\right)}{2}\\end{matrix}\\right]$"
      ],
      "text/plain": [
       "⎡-r⋅(wL̇ - wṘ) ⎤\n",
       "⎢───────────────⎥\n",
       "⎢      2⋅d      ⎥\n",
       "⎢               ⎥\n",
       "⎢ r⋅(wL̇ + wṘ) ⎥\n",
       "⎢ ───────────── ⎥\n",
       "⎣       2       ⎦"
      ]
     },
     "execution_count": 26,
     "metadata": {},
     "output_type": "execute_result"
    }
   ],
   "source": [
    "sol_rhs"
   ]
  },
  {
   "cell_type": "code",
   "execution_count": 27,
   "metadata": {},
   "outputs": [
    {
     "data": {
      "text/latex": [
       "$\\displaystyle \\left[\\begin{matrix}0 & 0 & -1 & - \\frac{r}{2 d} & \\frac{r}{2 d}\\\\-1 & 0 & 0 & \\frac{r}{2} & \\frac{r}{2}\\end{matrix}\\right]$"
      ],
      "text/plain": [
       "⎡           -r    r ⎤\n",
       "⎢0   0  -1  ───  ───⎥\n",
       "⎢           2⋅d  2⋅d⎥\n",
       "⎢                   ⎥\n",
       "⎢            r    r ⎥\n",
       "⎢-1  0  0    ─    ─ ⎥\n",
       "⎣            2    2 ⎦"
      ]
     },
     "execution_count": 27,
     "metadata": {},
     "output_type": "execute_result"
    }
   ],
   "source": [
    "c"
   ]
  },
  {
   "cell_type": "code",
   "execution_count": 28,
   "metadata": {},
   "outputs": [
    {
     "data": {
      "text/latex": [
       "$\\displaystyle \\left[\\begin{matrix}- \\dot{\\delta} - \\frac{r \\dot{wL}}{2 d} + \\frac{r \\dot{wR}}{2 d}\\\\\\frac{r \\dot{wL}}{2} + \\frac{r \\dot{wR}}{2} - \\dot{x}\\end{matrix}\\right]$"
      ],
      "text/plain": [
       "⎡      r⋅wL̇   r⋅wṘ⎤\n",
       "⎢-δ̇ - ───── + ─────⎥\n",
       "⎢       2⋅d     2⋅d ⎥\n",
       "⎢                   ⎥\n",
       "⎢r⋅wL̇   r⋅wṘ      ⎥\n",
       "⎢───── + ───── - ẋ ⎥\n",
       "⎣  2       2        ⎦"
      ]
     },
     "execution_count": 28,
     "metadata": {},
     "output_type": "execute_result"
    }
   ],
   "source": [
    "# Constraint Equations\n",
    "coneqs = (c*dq)\n",
    "coneqs"
   ]
  },
  {
   "cell_type": "code",
   "execution_count": 29,
   "metadata": {},
   "outputs": [
    {
     "data": {
      "text/plain": [
       "[(P, - Mp*g*N.z),\n",
       " (Lo, - M*g*N.z),\n",
       " (Ro, - M*g*N.z),\n",
       " (P, - tL*F.y),\n",
       " (Lo, tL*F.y),\n",
       " (P, - tR*F.y),\n",
       " (Ro, tR*F.y)]"
      ]
     },
     "execution_count": 29,
     "metadata": {},
     "output_type": "execute_result"
    }
   ],
   "source": [
    "fL"
   ]
  },
  {
   "cell_type": "markdown",
   "metadata": {},
   "source": [
    "## Lagrangian equations of motion\n"
   ]
  },
  {
   "cell_type": "code",
   "execution_count": 30,
   "metadata": {},
   "outputs": [],
   "source": [
    "Lag = Lagrangian(N, body_l, body_r, body_p)"
   ]
  },
  {
   "cell_type": "code",
   "execution_count": 31,
   "metadata": {},
   "outputs": [
    {
     "data": {
      "image/png": "[encoded data removed]",
      "text/latex": [
       "$\\displaystyle \\frac{I_{2} \\dot{\\theta}^{2}}{2} + \\frac{I_{3} \\dot{\\delta}^{2}}{2} + \\frac{J \\dot{wL}^{2}}{2} + \\frac{J \\dot{wR}^{2}}{2} + K \\dot{\\delta}^{2} + \\frac{M \\left(- d \\dot{\\delta} + \\dot{x}\\right)^{2}}{2} + \\frac{M \\left(d \\dot{\\delta} + \\dot{x}\\right)^{2}}{2} + \\frac{Mp \\left(l^{2} \\operatorname{sin}^{2}\\left(\\theta\\right) \\dot{\\delta}^{2} + l^{2} \\dot{\\theta}^{2} + 2 l \\operatorname{cos}\\left(\\theta\\right) \\dot{\\theta} \\dot{x} + \\dot{x}^{2}\\right)}{2}$"
      ],
      "text/plain": [
       "     2        2        2        2                         2                2  \n",
       "I₂⋅θ̇    I₃⋅δ̇    J⋅wL̇    J⋅wṘ        2   M⋅(-d⋅δ̇ + ẋ)    M⋅(d⋅δ̇ + ẋ)   \n",
       "────── + ────── + ────── + ────── + K⋅δ̇  + ─────────────── + ────────────── +\n",
       "  2        2        2        2                     2                2         \n",
       "\n",
       "    ⎛ 2    2      2    2   2                        2⎞\n",
       " Mp⋅⎝l ⋅sin (θ)⋅δ̇  + l ⋅θ̇  + 2⋅l⋅cos(θ)⋅θ̇⋅ẋ + ẋ ⎠\n",
       " ─────────────────────────────────────────────────────\n",
       "                           2                          "
      ]
     },
     "execution_count": 31,
     "metadata": {},
     "output_type": "execute_result"
    }
   ],
   "source": [
    "Lag"
   ]
  },
  {
   "cell_type": "code",
   "execution_count": 32,
   "metadata": {},
   "outputs": [],
   "source": [
    "lm = LagrangesMethod(Lag, q[:3], nonhol_coneqs=coneqs, forcelist=fL, frame=N)"
   ]
  },
  {
   "cell_type": "code",
   "execution_count": 33,
   "metadata": {
    "scrolled": true
   },
   "outputs": [
    {
     "data": {
      "text/latex": [
       "$\\displaystyle \\left[\\begin{matrix}\\frac{M \\left(- 2 d \\ddot{\\delta} + 2 \\ddot{x}\\right)}{2} + \\frac{M \\left(2 d \\ddot{\\delta} + 2 \\ddot{x}\\right)}{2} + \\frac{Mp \\left(- 2 l \\operatorname{sin}\\left(\\theta\\right) \\dot{\\theta}^{2} + 2 l \\operatorname{cos}\\left(\\theta\\right) \\ddot{\\theta} + 2 \\ddot{x}\\right)}{2} - lam_{2}\\\\I_{2} \\ddot{\\theta} - \\frac{Mp \\left(2 l^{2} \\operatorname{sin}\\left(\\theta\\right) \\operatorname{cos}\\left(\\theta\\right) \\dot{\\delta}^{2} - 2 l \\operatorname{sin}\\left(\\theta\\right) \\dot{\\theta} \\dot{x}\\right)}{2} + \\frac{Mp \\left(2 l^{2} \\ddot{\\theta} - 2 l \\operatorname{sin}\\left(\\theta\\right) \\dot{\\theta} \\dot{x} + 2 l \\operatorname{cos}\\left(\\theta\\right) \\ddot{x}\\right)}{2} + tL + tR\\\\I_{3} \\ddot{\\delta} + 2 K \\ddot{\\delta} - M d \\left(- d \\ddot{\\delta} + \\ddot{x}\\right) + M d \\left(d \\ddot{\\delta} + \\ddot{x}\\right) + Mp g + Mp l^{2} \\operatorname{sin}^{2}\\left(\\theta\\right) \\ddot{\\delta} + 2 Mp l^{2} \\operatorname{sin}\\left(\\theta\\right) \\operatorname{cos}\\left(\\theta\\right) \\dot{\\delta} \\dot{\\theta} - lam_{1}\\end{matrix}\\right]$"
      ],
      "text/plain": [
       "⎡                                                       ⎛               2     \n",
       "⎢           M⋅(-2⋅d⋅δ̈ + 2⋅ẍ)   M⋅(2⋅d⋅δ̈ + 2⋅ẍ)   Mp⋅⎝- 2⋅l⋅sin(θ)⋅θ̇  + 2⋅\n",
       "⎢           ────────────────── + ───────────────── + ─────────────────────────\n",
       "⎢                   2                    2                                2   \n",
       "⎢                                                                             \n",
       "⎢           ⎛   2                 2                   ⎞      ⎛   2            \n",
       "⎢        Mp⋅⎝2⋅l ⋅sin(θ)⋅cos(θ)⋅δ̇  - 2⋅l⋅sin(θ)⋅θ̇⋅ẋ⎠   Mp⋅⎝2⋅l ⋅θ̈ - 2⋅l⋅si\n",
       "⎢I₂⋅θ̈ - ────────────────────────────────────────────── + ────────────────────\n",
       "⎢                              2                                              \n",
       "⎢                                                                             \n",
       "⎢                                                                 2    2      \n",
       "⎣I₃⋅δ̈ + 2⋅K⋅δ̈ - M⋅d⋅(-d⋅δ̈ + ẍ) + M⋅d⋅(d⋅δ̈ + ẍ) + Mp⋅g + Mp⋅l ⋅sin (θ)⋅δ̈\n",
       "\n",
       "                  ⎞                  ⎤\n",
       "l⋅cos(θ)⋅θ̈ + 2⋅ẍ⎠                  ⎥\n",
       "─────────────────── - lam₂           ⎥\n",
       "                                     ⎥\n",
       "                                     ⎥\n",
       "                          ⎞          ⎥\n",
       "n(θ)⋅θ̇⋅ẋ + 2⋅l⋅cos(θ)⋅ẍ⎠          ⎥\n",
       "─────────────────────────── + tL + tR⎥\n",
       "   2                                 ⎥\n",
       "                                     ⎥\n",
       "         2                           ⎥\n",
       " + 2⋅Mp⋅l ⋅sin(θ)⋅cos(θ)⋅δ̇⋅θ̇ - lam₁⎦"
      ]
     },
     "execution_count": 33,
     "metadata": {},
     "output_type": "execute_result"
    }
   ],
   "source": [
    "le = lm.form_lagranges_equations()\n",
    "le"
   ]
  },
  {
   "cell_type": "code",
   "execution_count": 34,
   "metadata": {},
   "outputs": [],
   "source": [
    "le.simplify()"
   ]
  },
  {
   "cell_type": "code",
   "execution_count": 35,
   "metadata": {},
   "outputs": [
    {
     "data": {
      "text/latex": [
       "$\\displaystyle \\left[\\begin{matrix}2 M \\ddot{x} - Mp l \\operatorname{sin}\\left(\\theta\\right) \\dot{\\theta}^{2} + Mp l \\operatorname{cos}\\left(\\theta\\right) \\ddot{\\theta} + Mp \\ddot{x} - lam_{2}\\\\I_{2} \\ddot{\\theta} - \\frac{Mp l^{2} \\operatorname{sin}\\left(2 \\theta\\right) \\dot{\\delta}^{2}}{2} + Mp l^{2} \\ddot{\\theta} + Mp l \\operatorname{cos}\\left(\\theta\\right) \\ddot{x} + tL + tR\\\\I_{3} \\ddot{\\delta} + 2 K \\ddot{\\delta} + 2 M d^{2} \\ddot{\\delta} + Mp g + Mp l^{2} \\operatorname{sin}^{2}\\left(\\theta\\right) \\ddot{\\delta} + Mp l^{2} \\operatorname{sin}\\left(2 \\theta\\right) \\dot{\\delta} \\dot{\\theta} - lam_{1}\\end{matrix}\\right]$"
      ],
      "text/plain": [
       "⎡                                    2                                        \n",
       "⎢             2⋅M⋅ẍ - Mp⋅l⋅sin(θ)⋅θ̇  + Mp⋅l⋅cos(θ)⋅θ̈ + Mp⋅ẍ - lam₂        \n",
       "⎢                                                                             \n",
       "⎢                     2            2                                          \n",
       "⎢                 Mp⋅l ⋅sin(2⋅θ)⋅δ̇        2                                  \n",
       "⎢         I₂⋅θ̈ - ────────────────── + Mp⋅l ⋅θ̈ + Mp⋅l⋅cos(θ)⋅ẍ + tL + tR    \n",
       "⎢                         2                                                   \n",
       "⎢                                                                             \n",
       "⎢                      2                 2    2             2                 \n",
       "⎣I₃⋅δ̈ + 2⋅K⋅δ̈ + 2⋅M⋅d ⋅δ̈ + Mp⋅g + Mp⋅l ⋅sin (θ)⋅δ̈ + Mp⋅l ⋅sin(2⋅θ)⋅δ̇⋅θ̇ -\n",
       "\n",
       "     ⎤\n",
       "     ⎥\n",
       "     ⎥\n",
       "     ⎥\n",
       "     ⎥\n",
       "     ⎥\n",
       "     ⎥\n",
       "     ⎥\n",
       "     ⎥\n",
       " lam₁⎦"
      ]
     },
     "execution_count": 35,
     "metadata": {},
     "output_type": "execute_result"
    }
   ],
   "source": [
    "le"
   ]
  },
  {
   "cell_type": "code",
   "execution_count": 47,
   "metadata": {},
   "outputs": [
    {
     "data": {
      "text/latex": [
       "$\\displaystyle \\left[\\begin{matrix}1 & 0 & 0 & 0 & 0 & 0 & 0 & 0\\\\0 & 1 & 0 & 0 & 0 & 0 & 0 & 0\\\\0 & 0 & 1 & 0 & 0 & 0 & 0 & 0\\\\0 & 0 & 0 & 2 M + Mp & Mp l \\operatorname{cos}\\left(\\theta\\right) & 0 & 0 & 1\\\\0 & 0 & 0 & Mp l \\operatorname{cos}\\left(\\theta\\right) & I_{2} + Mp l^{2} & 0 & 0 & 0\\\\0 & 0 & 0 & 0 & 0 & I_{3} + 2 K + 2 M d^{2} + Mp l^{2} \\operatorname{sin}^{2}\\left(\\theta\\right) & 1 & 0\\\\0 & 0 & 0 & 0 & 0 & -1 & 0 & 0\\\\0 & 0 & 0 & -1 & 0 & 0 & 0 & 0\\end{matrix}\\right]$"
      ],
      "text/plain": [
       "⎡1  0  0       0            0                       0                  0  0⎤\n",
       "⎢                                                                          ⎥\n",
       "⎢0  1  0       0            0                       0                  0  0⎥\n",
       "⎢                                                                          ⎥\n",
       "⎢0  0  1       0            0                       0                  0  0⎥\n",
       "⎢                                                                          ⎥\n",
       "⎢0  0  0   2⋅M + Mp    Mp⋅l⋅cos(θ)                  0                  0  1⎥\n",
       "⎢                                                                          ⎥\n",
       "⎢                               2                                          ⎥\n",
       "⎢0  0  0  Mp⋅l⋅cos(θ)  I₂ + Mp⋅l                    0                  0  0⎥\n",
       "⎢                                                                          ⎥\n",
       "⎢                                                   2       2    2         ⎥\n",
       "⎢0  0  0       0            0       I₃ + 2⋅K + 2⋅M⋅d  + Mp⋅l ⋅sin (θ)  1  0⎥\n",
       "⎢                                                                          ⎥\n",
       "⎢0  0  0       0            0                      -1                  0  0⎥\n",
       "⎢                                                                          ⎥\n",
       "⎣0  0  0      -1            0                       0                  0  0⎦"
      ]
     },
     "execution_count": 47,
     "metadata": {},
     "output_type": "execute_result"
    }
   ],
   "source": [
    "lm.mass_matrix_full.simplify()\n",
    "lm.mass_matrix_full"
   ]
  },
  {
   "cell_type": "code",
   "execution_count": 37,
   "metadata": {},
   "outputs": [
    {
     "data": {
      "text/latex": [
       "$\\displaystyle \\left[\\begin{matrix}\\dot{x}\\\\\\dot{\\theta}\\\\\\dot{\\delta}\\\\Mp l \\operatorname{sin}\\left(\\theta\\right) \\dot{\\theta}^{2}\\\\Mp l \\operatorname{sin}\\left(\\theta\\right) \\dot{\\theta} \\dot{x} + \\frac{Mp \\left(2 l^{2} \\operatorname{sin}\\left(\\theta\\right) \\operatorname{cos}\\left(\\theta\\right) \\dot{\\delta}^{2} - 2 l \\operatorname{sin}\\left(\\theta\\right) \\dot{\\theta} \\dot{x}\\right)}{2} - tL - tR\\\\- Mp g - 2 Mp l^{2} \\operatorname{sin}\\left(\\theta\\right) \\operatorname{cos}\\left(\\theta\\right) \\dot{\\delta} \\dot{\\theta}\\\\\\frac{r \\ddot{wL}}{2 d} - \\frac{r \\ddot{wR}}{2 d}\\\\- \\frac{r \\ddot{wL}}{2} - \\frac{r \\ddot{wR}}{2}\\end{matrix}\\right]$"
      ],
      "text/plain": [
       "⎡                                     ẋ                                     ⎤\n",
       "⎢                                                                            ⎥\n",
       "⎢                                     θ̇                                     ⎥\n",
       "⎢                                                                            ⎥\n",
       "⎢                                     δ̇                                     ⎥\n",
       "⎢                                                                            ⎥\n",
       "⎢                                            2                               ⎥\n",
       "⎢                              Mp⋅l⋅sin(θ)⋅θ̇                                ⎥\n",
       "⎢                                                                            ⎥\n",
       "⎢                       ⎛   2                 2                   ⎞          ⎥\n",
       "⎢                    Mp⋅⎝2⋅l ⋅sin(θ)⋅cos(θ)⋅δ̇  - 2⋅l⋅sin(θ)⋅θ̇⋅ẋ⎠          ⎥\n",
       "⎢Mp⋅l⋅sin(θ)⋅θ̇⋅ẋ + ────────────────────────────────────────────── - tL - tR⎥\n",
       "⎢                                          2                                 ⎥\n",
       "⎢                                                                            ⎥\n",
       "⎢                                  2                                         ⎥\n",
       "⎢                    -Mp⋅g - 2⋅Mp⋅l ⋅sin(θ)⋅cos(θ)⋅δ̇⋅θ̇                     ⎥\n",
       "⎢                                                                            ⎥\n",
       "⎢                               r⋅wL̈   r⋅wR̈                                ⎥\n",
       "⎢                               ───── - ─────                                ⎥\n",
       "⎢                                2⋅d     2⋅d                                 ⎥\n",
       "⎢                                                                            ⎥\n",
       "⎢                                r⋅wL̈   r⋅wR̈                               ⎥\n",
       "⎢                              - ───── - ─────                               ⎥\n",
       "⎣                                  2       2                                 ⎦"
      ]
     },
     "execution_count": 37,
     "metadata": {},
     "output_type": "execute_result"
    }
   ],
   "source": [
    "lm.forcing_full"
   ]
  },
  {
   "cell_type": "code",
   "execution_count": 38,
   "metadata": {},
   "outputs": [],
   "source": [
    "op_point = {x: 0, theta: 0, delta: 0}"
   ]
  },
  {
   "cell_type": "code",
   "execution_count": 39,
   "metadata": {},
   "outputs": [],
   "source": [
    "lam_op = lm.solve_multipliers(op_point=op_point)"
   ]
  },
  {
   "cell_type": "code",
   "execution_count": 40,
   "metadata": {},
   "outputs": [
    {
     "data": {
      "image/png": "[encoded data removed]",
      "text/latex": [
       "$\\displaystyle \\left\\{ lam_{1} : Mp g - \\left(- \\frac{r \\ddot{wL}}{2 d} + \\frac{r \\ddot{wR}}{2 d}\\right) \\left(- I_{3} - 2 K - 2 M d^{2}\\right), \\  lam_{2} : - \\frac{Mp l \\left(Mp l \\left(\\frac{r \\ddot{wL}}{2} + \\frac{r \\ddot{wR}}{2}\\right) + tL + tR\\right)}{I_{2} + Mp l^{2}} - \\left(- 2 M - Mp\\right) \\left(\\frac{r \\ddot{wL}}{2} + \\frac{r \\ddot{wR}}{2}\\right)\\right\\}$"
      ],
      "text/plain": [
       "⎧                                                                  ⎛     ⎛r⋅wL\n",
       "⎪                                                             Mp⋅l⋅⎜Mp⋅l⋅⎜────\n",
       "⎪             ⎛  r⋅wL̈   r⋅wR̈⎞ ⎛                 2⎞               ⎝     ⎝  2 \n",
       "⎨lam₁: Mp⋅g - ⎜- ───── + ─────⎟⋅⎝-I₃ - 2⋅K - 2⋅M⋅d ⎠, lam₂: - ────────────────\n",
       "⎪             ⎝   2⋅d     2⋅d ⎠                                               \n",
       "⎪                                                                           I₂\n",
       "⎩                                                                             \n",
       "\n",
       "̈   r⋅wR̈⎞          ⎞                              ⎫\n",
       "─ + ─────⎟ + tL + tR⎟                              ⎪\n",
       "      2  ⎠          ⎠               ⎛r⋅wL̈   r⋅wR̈⎞⎪\n",
       "───────────────────── - (-2⋅M - Mp)⋅⎜───── + ─────⎟⎬\n",
       "       2                            ⎝  2       2  ⎠⎪\n",
       " + Mp⋅l                                            ⎪\n",
       "                                                   ⎭"
      ]
     },
     "execution_count": 40,
     "metadata": {},
     "output_type": "execute_result"
    }
   ],
   "source": [
    "lam_op"
   ]
  },
  {
   "cell_type": "code",
   "execution_count": 41,
   "metadata": {},
   "outputs": [
    {
     "data": {
      "image/png": "[encoded data removed]",
      "text/latex": [
       "$\\displaystyle \\left\\{ \\delta : 0, \\  lam_{1} : Mp g - \\left(- \\frac{r \\ddot{wL}}{2 d} + \\frac{r \\ddot{wR}}{2 d}\\right) \\left(- I_{3} - 2 K - 2 M d^{2}\\right), \\  lam_{2} : - \\frac{Mp l \\left(Mp l \\left(\\frac{r \\ddot{wL}}{2} + \\frac{r \\ddot{wR}}{2}\\right) + tL + tR\\right)}{I_{2} + Mp l^{2}} - \\left(- 2 M - Mp\\right) \\left(\\frac{r \\ddot{wL}}{2} + \\frac{r \\ddot{wR}}{2}\\right), \\  \\theta : 0, \\  x : 0\\right\\}$"
      ],
      "text/plain": [
       "⎧                                                                        ⎛    \n",
       "⎪                                                                   Mp⋅l⋅⎜Mp⋅l\n",
       "⎪                   ⎛  r⋅wL̈   r⋅wR̈⎞ ⎛                 2⎞               ⎝    \n",
       "⎨δ: 0, lam₁: Mp⋅g - ⎜- ───── + ─────⎟⋅⎝-I₃ - 2⋅K - 2⋅M⋅d ⎠, lam₂: - ──────────\n",
       "⎪                   ⎝   2⋅d     2⋅d ⎠                                         \n",
       "⎪                                                                             \n",
       "⎩                                                                             \n",
       "\n",
       " ⎛r⋅wL̈   r⋅wR̈⎞          ⎞                                          ⎫\n",
       "⋅⎜───── + ─────⎟ + tL + tR⎟                                          ⎪\n",
       " ⎝  2       2  ⎠          ⎠               ⎛r⋅wL̈   r⋅wR̈⎞            ⎪\n",
       "─────────────────────────── - (-2⋅M - Mp)⋅⎜───── + ─────⎟, θ: 0, x: 0⎬\n",
       "             2                            ⎝  2       2  ⎠            ⎪\n",
       "    I₂ + Mp⋅l                                                        ⎪\n",
       "                                                                     ⎭"
      ]
     },
     "execution_count": 41,
     "metadata": {},
     "output_type": "execute_result"
    }
   ],
   "source": [
    "op_point.update(lam_op)\n",
    "op_point"
   ]
  },
  {
   "cell_type": "code",
   "execution_count": 42,
   "metadata": {
    "scrolled": true
   },
   "outputs": [
    {
     "ename": "ValueError",
     "evalue": "Must supply 0 dependent coordinates, and 2 dependent speeds",
     "output_type": "error",
     "traceback": [
      "\u001b[1;31m---------------------------------------------------------------------------\u001b[0m",
      "\u001b[1;31mValueError\u001b[0m                                Traceback (most recent call last)",
      "\u001b[1;32m<ipython-input-42-b462ee058b97>\u001b[0m in \u001b[0;36m<module>\u001b[1;34m\u001b[0m\n\u001b[1;32m----> 1\u001b[1;33m \u001b[0mlinearizer\u001b[0m \u001b[1;33m=\u001b[0m \u001b[0mlm\u001b[0m\u001b[1;33m.\u001b[0m\u001b[0mto_linearizer\u001b[0m\u001b[1;33m(\u001b[0m\u001b[0mop_point\u001b[0m\u001b[1;33m.\u001b[0m\u001b[0mupdate\u001b[0m\u001b[1;33m(\u001b[0m\u001b[0mlam_op\u001b[0m\u001b[1;33m)\u001b[0m\u001b[1;33m)\u001b[0m\u001b[1;33m\u001b[0m\u001b[1;33m\u001b[0m\u001b[0m\n\u001b[0m",
      "\u001b[1;32mC:\\ProgramData\\Anaconda3\\lib\\site-packages\\sympy\\physics\\mechanics\\lagrange.py\u001b[0m in \u001b[0;36mto_linearizer\u001b[1;34m(self, q_ind, qd_ind, q_dep, qd_dep)\u001b[0m\n\u001b[0;32m    323\u001b[0m         \u001b[1;32mif\u001b[0m \u001b[0mlen\u001b[0m\u001b[1;33m(\u001b[0m\u001b[0mq_d\u001b[0m\u001b[1;33m)\u001b[0m \u001b[1;33m!=\u001b[0m \u001b[0mlen\u001b[0m\u001b[1;33m(\u001b[0m\u001b[0mf_c\u001b[0m\u001b[1;33m)\u001b[0m \u001b[1;32mor\u001b[0m \u001b[0mlen\u001b[0m\u001b[1;33m(\u001b[0m\u001b[0mu_d\u001b[0m\u001b[1;33m)\u001b[0m \u001b[1;33m!=\u001b[0m \u001b[0mlen\u001b[0m\u001b[1;33m(\u001b[0m\u001b[0mf_v\u001b[0m\u001b[1;33m)\u001b[0m\u001b[1;33m:\u001b[0m\u001b[1;33m\u001b[0m\u001b[1;33m\u001b[0m\u001b[0m\n\u001b[0;32m    324\u001b[0m             raise ValueError((\"Must supply {:} dependent coordinates, and \" +\n\u001b[1;32m--> 325\u001b[1;33m                     \"{:} dependent speeds\").format(len(f_c), len(f_v)))\n\u001b[0m\u001b[0;32m    326\u001b[0m         \u001b[1;32mif\u001b[0m \u001b[0mset\u001b[0m\u001b[1;33m(\u001b[0m\u001b[0mMatrix\u001b[0m\u001b[1;33m(\u001b[0m\u001b[1;33m[\u001b[0m\u001b[0mq_i\u001b[0m\u001b[1;33m,\u001b[0m \u001b[0mq_d\u001b[0m\u001b[1;33m]\u001b[0m\u001b[1;33m)\u001b[0m\u001b[1;33m)\u001b[0m \u001b[1;33m!=\u001b[0m \u001b[0mset\u001b[0m\u001b[1;33m(\u001b[0m\u001b[0mq\u001b[0m\u001b[1;33m)\u001b[0m\u001b[1;33m:\u001b[0m\u001b[1;33m\u001b[0m\u001b[1;33m\u001b[0m\u001b[0m\n\u001b[0;32m    327\u001b[0m             raise ValueError(\"Must partition q into q_ind and q_dep, with \" +\n",
      "\u001b[1;31mValueError\u001b[0m: Must supply 0 dependent coordinates, and 2 dependent speeds"
     ]
    }
   ],
   "source": [
    "linearizer = lm.to_linearizer(op_point.update(lam_op))"
   ]
  },
  {
   "cell_type": "code",
   "execution_count": 43,
   "metadata": {},
   "outputs": [
    {
     "ename": "NameError",
     "evalue": "name 'linearizer' is not defined",
     "output_type": "error",
     "traceback": [
      "\u001b[1;31m---------------------------------------------------------------------------\u001b[0m",
      "\u001b[1;31mNameError\u001b[0m                                 Traceback (most recent call last)",
      "\u001b[1;32m<ipython-input-43-411e3de3c2c2>\u001b[0m in \u001b[0;36m<module>\u001b[1;34m\u001b[0m\n\u001b[1;32m----> 1\u001b[1;33m \u001b[0mA\u001b[0m\u001b[1;33m,\u001b[0m \u001b[0mB\u001b[0m \u001b[1;33m=\u001b[0m \u001b[0mlinearizer\u001b[0m\u001b[1;33m.\u001b[0m\u001b[0mlinearize\u001b[0m\u001b[1;33m(\u001b[0m \u001b[0mop_point\u001b[0m\u001b[1;33m=\u001b[0m\u001b[0mop_point\u001b[0m\u001b[1;33m)\u001b[0m\u001b[1;33m\u001b[0m\u001b[1;33m\u001b[0m\u001b[0m\n\u001b[0m",
      "\u001b[1;31mNameError\u001b[0m: name 'linearizer' is not defined"
     ]
    }
   ],
   "source": [
    "A, B = linearizer.linearize( op_point=op_point)"
   ]
  },
  {
   "cell_type": "code",
   "execution_count": 44,
   "metadata": {},
   "outputs": [
    {
     "data": {
      "text/latex": [
       "$\\displaystyle \\left[\\begin{matrix}\\dot{x}\\\\\\dot{\\theta}\\\\\\dot{\\delta}\\\\\\frac{r \\ddot{wL}}{2} + \\frac{r \\ddot{wR}}{2}\\\\\\frac{Mp l \\left(- \\frac{r \\ddot{wL}}{2} - \\frac{r \\ddot{wR}}{2}\\right) - tL - tR}{I_{2} + Mp l^{2}}\\\\- \\frac{r \\ddot{wL}}{2 d} + \\frac{r \\ddot{wR}}{2 d}\\\\- Mp g - \\left(\\frac{r \\ddot{wL}}{2 d} - \\frac{r \\ddot{wR}}{2 d}\\right) \\left(- I_{3} - 2 K - 2 M d^{2}\\right)\\\\- \\frac{Mp l \\left(Mp l \\left(- \\frac{r \\ddot{wL}}{2} - \\frac{r \\ddot{wR}}{2}\\right) - tL - tR\\right)}{I_{2} + Mp l^{2}} - \\left(- 2 M - Mp\\right) \\left(- \\frac{r \\ddot{wL}}{2} - \\frac{r \\ddot{wR}}{2}\\right)\\end{matrix}\\right]$"
      ],
      "text/plain": [
       "⎡                                   ẋ                                    ⎤\n",
       "⎢                                                                         ⎥\n",
       "⎢                                   θ̇                                    ⎥\n",
       "⎢                                                                         ⎥\n",
       "⎢                                   δ̇                                    ⎥\n",
       "⎢                                                                         ⎥\n",
       "⎢                              r⋅wL̈   r⋅wR̈                              ⎥\n",
       "⎢                              ───── + ─────                              ⎥\n",
       "⎢                                2       2                                ⎥\n",
       "⎢                                                                         ⎥\n",
       "⎢                         ⎛  r⋅wL̈   r⋅wR̈⎞                               ⎥\n",
       "⎢                    Mp⋅l⋅⎜- ───── - ─────⎟ - tL - tR                     ⎥\n",
       "⎢                         ⎝    2       2  ⎠                               ⎥\n",
       "⎢                    ────────────────────────────────                     ⎥\n",
       "⎢                                        2                                ⎥\n",
       "⎢                               I₂ + Mp⋅l                                 ⎥\n",
       "⎢                                                                         ⎥\n",
       "⎢                               r⋅wL̈   r⋅wR̈                             ⎥\n",
       "⎢                             - ───── + ─────                             ⎥\n",
       "⎢                                2⋅d     2⋅d                              ⎥\n",
       "⎢                                                                         ⎥\n",
       "⎢                      ⎛r⋅wL̈   r⋅wR̈⎞ ⎛                 2⎞               ⎥\n",
       "⎢              -Mp⋅g - ⎜───── - ─────⎟⋅⎝-I₃ - 2⋅K - 2⋅M⋅d ⎠               ⎥\n",
       "⎢                      ⎝ 2⋅d     2⋅d ⎠                                    ⎥\n",
       "⎢                                                                         ⎥\n",
       "⎢       ⎛     ⎛  r⋅wL̈   r⋅wR̈⎞          ⎞                                ⎥\n",
       "⎢  Mp⋅l⋅⎜Mp⋅l⋅⎜- ───── - ─────⎟ - tL - tR⎟                                ⎥\n",
       "⎢       ⎝     ⎝    2       2  ⎠          ⎠               ⎛  r⋅wL̈   r⋅wR̈⎞⎥\n",
       "⎢- ─────────────────────────────────────── - (-2⋅M - Mp)⋅⎜- ───── - ─────⎟⎥\n",
       "⎢                          2                             ⎝    2       2  ⎠⎥\n",
       "⎣                 I₂ + Mp⋅l                                               ⎦"
      ]
     },
     "execution_count": 44,
     "metadata": {},
     "output_type": "execute_result"
    }
   ],
   "source": [
    "# Solve for the rhs:\n",
    "rhs = lm.rhs()\n",
    "\n",
    "# Substitute in d = 0\n",
    "rhs = msubs(rhs, {x: 0, theta: 0, delta: 0})\n",
    "rhs"
   ]
  },
  {
   "cell_type": "code",
   "execution_count": 45,
   "metadata": {},
   "outputs": [
    {
     "data": {
      "text/latex": [
       "$\\displaystyle \\left[\\begin{matrix}\\dot{x}\\\\\\dot{\\theta}\\\\\\dot{\\delta}\\\\\\frac{r \\left(\\ddot{wL} + \\ddot{wR}\\right)}{2}\\\\- \\frac{\\frac{Mp l r \\left(\\ddot{wL} + \\ddot{wR}\\right)}{2} + tL + tR}{I_{2} + Mp l^{2}}\\\\\\frac{r \\left(- \\ddot{wL} + \\ddot{wR}\\right)}{2 d}\\\\\\frac{- Mp d g + \\frac{r \\left(\\ddot{wL} - \\ddot{wR}\\right) \\left(I_{3} + 2 K + 2 M d^{2}\\right)}{2}}{d}\\\\\\frac{Mp l \\left(Mp l r \\left(\\ddot{wL} + \\ddot{wR}\\right) + 2 tL + 2 tR\\right) - r \\left(I_{2} + Mp l^{2}\\right) \\left(2 M + Mp\\right) \\left(\\ddot{wL} + \\ddot{wR}\\right)}{2 \\left(I_{2} + Mp l^{2}\\right)}\\end{matrix}\\right]$"
      ],
      "text/plain": [
       "⎡                                      ẋ                                     \n",
       "⎢                                                                             \n",
       "⎢                                      θ̇                                     \n",
       "⎢                                                                             \n",
       "⎢                                      δ̇                                     \n",
       "⎢                                                                             \n",
       "⎢                                 r⋅(wL̈ + wR̈)                               \n",
       "⎢                                 ─────────────                               \n",
       "⎢                                       2                                     \n",
       "⎢                                                                             \n",
       "⎢                        ⎛Mp⋅l⋅r⋅(wL̈ + wR̈)          ⎞                       \n",
       "⎢                       -⎜────────────────── + tL + tR⎟                       \n",
       "⎢                        ⎝        2                   ⎠                       \n",
       "⎢                       ────────────────────────────────                      \n",
       "⎢                                           2                                 \n",
       "⎢                                  I₂ + Mp⋅l                                  \n",
       "⎢                                                                             \n",
       "⎢                                r⋅(-wL̈ + wR̈)                               \n",
       "⎢                                ──────────────                               \n",
       "⎢                                     2⋅d                                     \n",
       "⎢                                                                             \n",
       "⎢                                          ⎛                2⎞                \n",
       "⎢                            r⋅(wL̈ - wR̈)⋅⎝I₃ + 2⋅K + 2⋅M⋅d ⎠                \n",
       "⎢                  -Mp⋅d⋅g + ─────────────────────────────────                \n",
       "⎢                                            2                                \n",
       "⎢                  ───────────────────────────────────────────                \n",
       "⎢                                       d                                     \n",
       "⎢                                                                             \n",
       "⎢                                            ⎛         2⎞                     \n",
       "⎢Mp⋅l⋅(Mp⋅l⋅r⋅(wL̈ + wR̈) + 2⋅tL + 2⋅tR) - r⋅⎝I₂ + Mp⋅l ⎠⋅(2⋅M + Mp)⋅(wL̈ + wR\n",
       "⎢─────────────────────────────────────────────────────────────────────────────\n",
       "⎢                                   ⎛         2⎞                              \n",
       "⎣                                 2⋅⎝I₂ + Mp⋅l ⎠                              \n",
       "\n",
       "  ⎤\n",
       "  ⎥\n",
       "  ⎥\n",
       "  ⎥\n",
       "  ⎥\n",
       "  ⎥\n",
       "  ⎥\n",
       "  ⎥\n",
       "  ⎥\n",
       "  ⎥\n",
       "  ⎥\n",
       "  ⎥\n",
       "  ⎥\n",
       "  ⎥\n",
       "  ⎥\n",
       "  ⎥\n",
       "  ⎥\n",
       "  ⎥\n",
       "  ⎥\n",
       "  ⎥\n",
       "  ⎥\n",
       "  ⎥\n",
       "  ⎥\n",
       "  ⎥\n",
       "  ⎥\n",
       "  ⎥\n",
       "  ⎥\n",
       "  ⎥\n",
       "  ⎥\n",
       "̈)⎥\n",
       "──⎥\n",
       "  ⎥\n",
       "  ⎦"
      ]
     },
     "execution_count": 45,
     "metadata": {},
     "output_type": "execute_result"
    }
   ],
   "source": [
    "rhs.simplify()\n",
    "rhs"
   ]
  },
  {
   "cell_type": "code",
   "execution_count": null,
   "metadata": {},
   "outputs": [],
   "source": []
  },
  {
   "cell_type": "code",
   "execution_count": null,
   "metadata": {},
   "outputs": [],
   "source": []
  },
  {
   "cell_type": "code",
   "execution_count": null,
   "metadata": {},
   "outputs": [],
   "source": []
  }
 ],
 "metadata": {
  "kernelspec": {
   "display_name": "Python 3",
   "language": "python",
   "name": "python3"
  },
  "language_info": {
   "codemirror_mode": {
    "name": "ipython",
    "version": 3
   },
   "file_extension": ".py",
   "mimetype": "text/x-python",
   "name": "python",
   "nbconvert_exporter": "python",
   "pygments_lexer": "ipython3",
   "version": "3.7.4"
  }
 },
 "nbformat": 4,
 "nbformat_minor": 2
}
