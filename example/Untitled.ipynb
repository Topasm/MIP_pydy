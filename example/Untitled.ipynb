{
 "cells": [
  {
   "cell_type": "code",
   "execution_count": 1,
   "metadata": {},
   "outputs": [],
   "source": [
    "from sympy.parsing.autolev import parse_autolev"
   ]
  },
  {
   "cell_type": "code",
   "execution_count": 2,
   "metadata": {},
   "outputs": [
    {
     "name": "stdout",
     "output_type": "stream",
     "text": [
      "ANTLR runtime and generated code versions disagree: 4.8!=4.7.1\n",
      "ANTLR runtime and generated code versions disagree: 4.8!=4.7.1\n"
     ]
    }
   ],
   "source": [
    "sympycode = parse_autolev(open('double_pendulum.al'), include_numeric= True)"
   ]
  },
  {
   "cell_type": "code",
   "execution_count": 3,
   "metadata": {},
   "outputs": [
    {
     "name": "stdout",
     "output_type": "stream",
     "text": [
      "import sympy.physics.mechanics as me\n",
      "import sympy as sm\n",
      "import math as m\n",
      "import numpy as np\n",
      "\n",
      "q1, q2, u1, u2 = me.dynamicsymbols('q1 q2 u1 u2')\n",
      "q1d, q2d, u1d, u2d = me.dynamicsymbols('q1 q2 u1 u2', 1)\n",
      "l, m, g = sm.symbols('l m g', real=True)\n",
      "frame_n = me.ReferenceFrame('n')\n",
      "frame_a = me.ReferenceFrame('a')\n",
      "frame_b = me.ReferenceFrame('b')\n",
      "frame_a.orient(frame_n, 'Axis', [q1, frame_n.z])\n",
      "frame_b.orient(frame_n, 'Axis', [q2, frame_n.z])\n",
      "frame_a.set_ang_vel(frame_n, u1*frame_n.z)\n",
      "frame_b.set_ang_vel(frame_n, u2*frame_n.z)\n",
      "point_o = me.Point('o')\n",
      "particle_p = me.Particle('p', me.Point('p_pt'), sm.Symbol('m'))\n",
      "particle_r = me.Particle('r', me.Point('r_pt'), sm.Symbol('m'))\n",
      "particle_p.point.set_pos(point_o, l*frame_a.x)\n",
      "particle_r.point.set_pos(particle_p.point, l*frame_b.x)\n",
      "point_o.set_vel(frame_n, 0)\n",
      "particle_p.point.v2pt_theory(point_o,frame_n,frame_a)\n",
      "particle_r.point.v2pt_theory(particle_p.point,frame_n,frame_b)\n",
      "particle_p.mass = m\n",
      "particle_r.mass = m\n",
      "force_p = particle_p.mass*(g*frame_n.x)\n",
      "force_r = particle_r.mass*(g*frame_n.x)\n",
      "kd_eqs = [q1d - u1, q2d - u2]\n",
      "forceList = [(particle_p.point,particle_p.mass*(g*frame_n.x)), (particle_r.point,particle_r.mass*(g*frame_n.x))]\n",
      "kane = me.KanesMethod(frame_n, q_ind=[q1,q2], u_ind=[u1, u2], kd_eqs = kd_eqs)\n",
      "fr, frstar = kane.kanes_equations([particle_p, particle_r], forceList)\n",
      "zero = fr+frstar\n",
      "from pydy.system import System\n",
      "sys = System(kane, constants = {l:1, m:1, g:9.81},\n",
      "specifieds={},\n",
      "initial_conditions={q1:.1, q2:.2, u1:0, u2:0},\n",
      "times = np.linspace(0.0, 10, 10/.01))\n",
      "\n",
      "y=sys.integrate()\n",
      "\n"
     ]
    }
   ],
   "source": [
    "print(sympycode)"
   ]
  },
  {
   "cell_type": "code",
   "execution_count": null,
   "metadata": {},
   "outputs": [],
   "source": []
  }
 ],
 "metadata": {
  "kernelspec": {
   "display_name": "Python 3",
   "language": "python",
   "name": "python3"
  },
  "language_info": {
   "codemirror_mode": {
    "name": "ipython",
    "version": 3
   },
   "file_extension": ".py",
   "mimetype": "text/x-python",
   "name": "python",
   "nbconvert_exporter": "python",
   "pygments_lexer": "ipython3",
   "version": "3.7.4"
  }
 },
 "nbformat": 4,
 "nbformat_minor": 4
}
