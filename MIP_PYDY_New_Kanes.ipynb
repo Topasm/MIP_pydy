{
 "cells": [
  {
   "cell_type": "markdown",
   "metadata": {},
   "source": [
    "# Mobile inverted pendulum python dynamics new\n",
    "\n",
    "author:SeongHyeon Kim\n",
    "\n",
    "program:PYDY balancing robot simulator\n"
   ]
  },
  {
   "cell_type": "markdown",
   "metadata": {},
   "source": [
    "필요한 라이브러리 포함\n"
   ]
  },
  {
   "cell_type": "code",
   "execution_count": 1,
   "metadata": {},
   "outputs": [],
   "source": [
    "from sympy import sin, cos, symbols, solve, Matrix, init_printing\n",
    "from sympy.physics.mechanics import *\n",
    "from sympy.physics.vector import ReferenceFrame\n",
    "import sympy.physics.mechanics as me\n",
    "import sympy as sm\n",
    "import math as m\n",
    "import numpy as np"
   ]
  },
  {
   "cell_type": "code",
   "execution_count": 2,
   "metadata": {},
   "outputs": [],
   "source": [
    "init_vprinting()"
   ]
  },
  {
   "cell_type": "markdown",
   "metadata": {},
   "source": [
    "# Reference frames"
   ]
  },
  {
   "cell_type": "markdown",
   "metadata": {},
   "source": [
    "N은 외부의 기준 프레임. 속도를 0으로"
   ]
  },
  {
   "cell_type": "code",
   "execution_count": 3,
   "metadata": {},
   "outputs": [],
   "source": [
    "#Newtonian reference frame\n",
    "N=ReferenceFrame('N')\n",
    "\n",
    "# Define a world coordinate origin\n",
    "No = Point('No')\n",
    "No.set_vel(N, 0)"
   ]
  },
  {
   "cell_type": "code",
   "execution_count": 4,
   "metadata": {},
   "outputs": [],
   "source": [
    "F = ReferenceFrame('F')\n",
    "\n",
    "P = ReferenceFrame('P')"
   ]
  },
  {
   "cell_type": "markdown",
   "metadata": {},
   "source": [
    "F = N.orientnew('F', 'Axis',[psi, N.z] )     # Intermediate reference frame\n",
    "\n",
    "P = F.orientnew('P', 'Axis', [theta, F.y])   # Inverted Pendulum"
   ]
  },
  {
   "cell_type": "markdown",
   "metadata": {},
   "source": [
    "기준프레임.dcm(상대프레임)"
   ]
  },
  {
   "cell_type": "markdown",
   "metadata": {
    "tags": []
   },
   "source": [
    "## Newtonian, Bodies, Frames, Particles, Points\n"
   ]
  },
  {
   "cell_type": "code",
   "execution_count": 5,
   "metadata": {},
   "outputs": [],
   "source": [
    "Mp =sm.symbols('Mp')\n",
    "M = sm.symbols('M')\n",
    "\n",
    "Po = me.Point('p_cm')\n",
    "Lo = me.Point('L_cm')\n",
    "body_l_f = me.ReferenceFrame('L_f')\n",
    "\n",
    "Ro = me.Point('R_cm')\n",
    "body_r_f = me.ReferenceFrame('R_f')\n",
    "\n",
    "frame_f = me.ReferenceFrame('f')\n",
    "Ip = me.Point('I_p')\n",
    "LN = me.Point('ln')\n",
    "RN = me.Point('rn')"
   ]
  },
  {
   "cell_type": "markdown",
   "metadata": {},
   "source": [
    "## Variables, Constants and Specified\n"
   ]
  },
  {
   "cell_type": "code",
   "execution_count": 6,
   "metadata": {
    "scrolled": true
   },
   "outputs": [],
   "source": [
    "\n",
    "\n",
    "x = me.dynamicsymbols('x')            # F1> measure number of Velocity of P in N\n",
    "xd = me.dynamicsymbols('x', 1)\n",
    "xd2 = me.dynamicsymbols('x', 2)\n",
    "theta = me.dynamicsymbols('theta')    # F2> measure number of Angular velocity of P in N\n",
    "thetad = me.dynamicsymbols('theta', 1)\n",
    "thetad2 = me.dynamicsymbols('theta', 2)\n",
    "delta = me.dynamicsymbols('delta')    # N3> measure number of Angular velocity of P in N\n",
    "deltad = me.dynamicsymbols('delta', 1)\n",
    "deltad2 = me.dynamicsymbols('delta', 2)\n",
    "\n",
    "wL = me.dynamicsymbols('wL')          # Angular Position of L in N\n",
    "wR = me.dynamicsymbols('wR')          # Angular Position of R in N\n",
    "\n",
    "\n",
    "g = sm.symbols('g', real=True)        #Gravitational acceleration\n",
    "d = sm.symbols('d', real=True)        # Distance from point I to Lo (or Ro)\n",
    "R = sm.symbols('r', real=True)        #Radius of wheels\n",
    "l = sm.symbols('l', real=True)        # Distance from point I to mass center of P\n",
    "t = sm.symbols('t')\n",
    "\n",
    "\n",
    "# Create q vectors\n",
    "q = Matrix([x, theta, delta])\n",
    "qd = q.diff()"
   ]
  },
  {
   "cell_type": "markdown",
   "metadata": {},
   "source": [
    "## Generalized speed"
   ]
  },
  {
   "cell_type": "code",
   "execution_count": 7,
   "metadata": {},
   "outputs": [],
   "source": [
    "u1 = me.dynamicsymbols('u1')           #x-dot\n",
    "u2 = me.dynamicsymbols('u2')           #theta-dot     \n",
    "u3 = me.dynamicsymbols('u3')           #delta-dot   \n",
    "u4 = me.dynamicsymbols('u4')           #wL-dot\n",
    "u5 = me.dynamicsymbols('u5')           #wR-dot\n",
    "uL = Matrix([u1, u2, u3])"
   ]
  },
  {
   "cell_type": "markdown",
   "metadata": {},
   "source": [
    "## Mass and Inertia\n",
    "\n",
    "관성모멘트함수=inertia(기준 좌표, xx, yy,zz회전)"
   ]
  },
  {
   "cell_type": "code",
   "execution_count": 8,
   "metadata": {},
   "outputs": [],
   "source": [
    "K,J = symbols('K J')"
   ]
  },
  {
   "cell_type": "code",
   "execution_count": 9,
   "metadata": {},
   "outputs": [],
   "source": [
    "I_L = inertia(F, K,J,K)                          #Wheel inertia \n",
    "I_R = inertia(F, K,J,K)\n"
   ]
  },
  {
   "cell_type": "code",
   "execution_count": 10,
   "metadata": {},
   "outputs": [],
   "source": [
    "m_b = symbols('m_b')                              #Mass of the body\n",
    "I1, I2, I3 = symbols('I1 I2 I3')                  #Moments of inertia of body"
   ]
  },
  {
   "cell_type": "code",
   "execution_count": 11,
   "metadata": {},
   "outputs": [],
   "source": [
    "# Calculate inertia of body\n",
    "Ib = inertia(F, I1, I2, I3)"
   ]
  },
  {
   "cell_type": "markdown",
   "metadata": {},
   "source": [
    "###  Geometry relating unit vectors"
   ]
  },
  {
   "cell_type": "code",
   "execution_count": 12,
   "metadata": {},
   "outputs": [],
   "source": [
    "F.orient(N, 'Axis', [delta, N.z])"
   ]
  },
  {
   "cell_type": "code",
   "execution_count": 13,
   "metadata": {},
   "outputs": [],
   "source": [
    "P.orient(F, 'Axis', [theta, F.y])"
   ]
  },
  {
   "cell_type": "code",
   "execution_count": 14,
   "metadata": {
    "scrolled": true
   },
   "outputs": [
    {
     "data": {
      "text/latex": [
       "$\\displaystyle \\left[\\begin{matrix}\\cos{\\left(\\delta \\right)} & - \\sin{\\left(\\delta \\right)} & 0\\\\\\sin{\\left(\\delta \\right)} & \\cos{\\left(\\delta \\right)} & 0\\\\0 & 0 & 1\\end{matrix}\\right]$"
      ],
      "text/plain": [
       "⎡cos(δ)  -sin(δ)  0⎤\n",
       "⎢                  ⎥\n",
       "⎢sin(δ)  cos(δ)   0⎥\n",
       "⎢                  ⎥\n",
       "⎣  0        0     1⎦"
      ]
     },
     "execution_count": 14,
     "metadata": {},
     "output_type": "execute_result"
    }
   ],
   "source": [
    "N.dcm(F)"
   ]
  },
  {
   "cell_type": "code",
   "execution_count": 15,
   "metadata": {},
   "outputs": [
    {
     "data": {
      "text/latex": [
       "$\\displaystyle \\left[\\begin{matrix}\\cos{\\left(\\theta \\right)} & 0 & \\sin{\\left(\\theta \\right)}\\\\0 & 1 & 0\\\\- \\sin{\\left(\\theta \\right)} & 0 & \\cos{\\left(\\theta \\right)}\\end{matrix}\\right]$"
      ],
      "text/plain": [
       "⎡cos(θ)   0  sin(θ)⎤\n",
       "⎢                  ⎥\n",
       "⎢   0     1    0   ⎥\n",
       "⎢                  ⎥\n",
       "⎣-sin(θ)  0  cos(θ)⎦"
      ]
     },
     "execution_count": 15,
     "metadata": {},
     "output_type": "execute_result"
    }
   ],
   "source": [
    "F.dcm(P)"
   ]
  },
  {
   "cell_type": "markdown",
   "metadata": {},
   "source": [
    "## Position vectors\n",
    "\n",
    "기준.locatenew('이름', 이동*단위백터)"
   ]
  },
  {
   "cell_type": "code",
   "execution_count": 16,
   "metadata": {},
   "outputs": [],
   "source": [
    "I = No.locatenew('I', x*F.x)      # Point No to I\n",
    "\n",
    "Po = I.locatenew('Po', l*P.z)     # Point I to mass center of P\n",
    "\n",
    "Lo = I.locatenew('Lo', d*F.y)     # Point I to center of wheel L\n",
    "\n",
    "Ro = I.locatenew('Ro', -d*F.y)    # Point I to center of wheel R"
   ]
  },
  {
   "cell_type": "code",
   "execution_count": 17,
   "metadata": {},
   "outputs": [],
   "source": [
    "LN = Lo.locatenew('LN', -R*F.z)   # Center of wheel L to contact point LN\n",
    "\n",
    "RN = Ro.locatenew('RN', -R*F.z)   # Center of wheel R to contact point RN"
   ]
  },
  {
   "cell_type": "markdown",
   "metadata": {},
   "source": [
    "## Angular Velocities\n"
   ]
  },
  {
   "cell_type": "code",
   "execution_count": 18,
   "metadata": {},
   "outputs": [],
   "source": [
    "F.set_ang_vel(N, u3*N.z)        # Angular velocity of F in N\n",
    "\n",
    "P.set_ang_vel(F, u2*F.y)        # Angular velocity of P in F\n",
    "\n",
    "body_l_f.set_ang_vel(F, u4*F.y)    # wL is related to w and v due to rolling\n",
    "\n",
    "body_r_f.set_ang_vel(F, u5*F.y)    # wR is related to w and v due to rolling"
   ]
  },
  {
   "cell_type": "markdown",
   "metadata": {},
   "source": [
    "## Velocities of relevant points"
   ]
  },
  {
   "cell_type": "markdown",
   "metadata": {},
   "source": [
    "\n",
    "v2pt_theory는 선속도를 의미\n",
    "\n",
    "\n",
    "$$^I\\mathbf{v}^{P_2} = ^I\\mathbf{v}^{P_1} + ^I\\omega^A \\times \\mathbf{r}^{\\frac{P_2}{P_1}}$$\n",
    "\n",
    "The `Point.v2pt_theory()` method makes it easy to do this calculation.\n",
    "\n",
    "측정점.v2pt_theory(회전 중심점, 관찰틀, 회전틀(돌아가는 애))\n",
    "\n",
    "\n",
    "\n",
    "속도를 측정하는게 아니고 부여하는거 같다 좀더 알아보자"
   ]
  },
  {
   "cell_type": "code",
   "execution_count": 19,
   "metadata": {},
   "outputs": [],
   "source": [
    "V_I_N = I.set_vel(N, u1*F.x)             # Velocity of point I in N\n",
    "\n",
    "V_PO_N = Po.v2pt_theory(I,N,P)           # Velocity of center of mass of P\n",
    "\n",
    "V_LO_N = Lo.v2pt_theory(I, N,P,)         # Velocity of center of L\n",
    "\n",
    "V_RO_N = Ro.v2pt_theory(I,N,P)           # Velocity of center of R\n",
    "\n",
    "V_LN_N = LN.v2pt_theory(Lo,N,body_l_f)          # Velocity of contact point of L\n",
    "\n",
    "V_RN_N = RN.v2pt_theory(Ro,N,body_r_f)          # Velocity of contact point of R"
   ]
  },
  {
   "cell_type": "markdown",
   "metadata": {},
   "source": [
    "RigidBody =강체 선언 (입자로 저장된다고 한다)\n",
    "\n",
    "\n",
    " B = RigidBody ( '이름' ,질량 중심, 프레임 ,질량, ( I , P ))\n",
    " "
   ]
  },
  {
   "cell_type": "code",
   "execution_count": 20,
   "metadata": {
    "tags": []
   },
   "outputs": [],
   "source": [
    "body_p = me.RigidBody('body_p', Po, P, Mp, (Ib, Po))\n",
    "body_l = me.RigidBody('body_l', Lo, body_l_f, M, (I_L, Lo))\n",
    "body_r = me.RigidBody('body_r', Ro, body_r_f, M,(I_R, Ro))"
   ]
  },
  {
   "cell_type": "markdown",
   "metadata": {
    "tags": []
   },
   "source": [
    "### Forces"
   ]
  },
  {
   "cell_type": "markdown",
   "metadata": {},
   "source": [
    "#### gravity"
   ]
  },
  {
   "cell_type": "code",
   "execution_count": 21,
   "metadata": {},
   "outputs": [],
   "source": [
    "#중력벡터\n",
    "Gravity = -g * N.z      #Gravity Vector"
   ]
  },
  {
   "cell_type": "code",
   "execution_count": 22,
   "metadata": {},
   "outputs": [],
   "source": [
    "body_gravity_vector =-g*Mp*N.z"
   ]
  },
  {
   "cell_type": "code",
   "execution_count": 23,
   "metadata": {},
   "outputs": [],
   "source": [
    "leftwheel_gravity_vector = - M*g*N.z"
   ]
  },
  {
   "cell_type": "code",
   "execution_count": 24,
   "metadata": {},
   "outputs": [],
   "source": [
    "rightwheel_gravity_vector = - M*g*N.z"
   ]
  },
  {
   "cell_type": "code",
   "execution_count": 25,
   "metadata": {},
   "outputs": [],
   "source": [
    "b_g_f = (Po, body_gravity_vector)"
   ]
  },
  {
   "cell_type": "code",
   "execution_count": 26,
   "metadata": {},
   "outputs": [],
   "source": [
    "l_g_f = (Lo, leftwheel_gravity_vector)"
   ]
  },
  {
   "cell_type": "code",
   "execution_count": 27,
   "metadata": {},
   "outputs": [],
   "source": [
    "r_g_f = (Ro, rightwheel_gravity_vector)"
   ]
  },
  {
   "cell_type": "code",
   "execution_count": 28,
   "metadata": {
    "tags": []
   },
   "outputs": [
    {
     "data": {
      "text/plain": [
       "sympy.physics.vector.point.Point"
      ]
     },
     "execution_count": 28,
     "metadata": {},
     "output_type": "execute_result"
    }
   ],
   "source": [
    "type(Po)"
   ]
  },
  {
   "cell_type": "code",
   "execution_count": 29,
   "metadata": {},
   "outputs": [
    {
     "data": {
      "text/plain": [
       "sympy.physics.vector.vector.Vector"
      ]
     },
     "execution_count": 29,
     "metadata": {},
     "output_type": "execute_result"
    }
   ],
   "source": [
    "type(body_gravity_vector)"
   ]
  },
  {
   "cell_type": "markdown",
   "metadata": {},
   "source": [
    "### Torques"
   ]
  },
  {
   "cell_type": "markdown",
   "metadata": {
    "tags": []
   },
   "source": [
    "바퀴가 받는 토크, 바퀴에 의해 생기는 몸의 반작용 토크"
   ]
  },
  {
   "cell_type": "code",
   "execution_count": 30,
   "metadata": {},
   "outputs": [],
   "source": [
    "body_torque_scala, Lwheel_torque_scala, Rwheel_torque_scala = dynamicsymbols('T_b, T_r, T_l')"
   ]
  },
  {
   "cell_type": "code",
   "execution_count": 31,
   "metadata": {},
   "outputs": [],
   "source": [
    "Lwheel_torque_vector = Lwheel_torque_scala * F.y"
   ]
  },
  {
   "cell_type": "code",
   "execution_count": 32,
   "metadata": {},
   "outputs": [],
   "source": [
    "Rwheel_torque_vector = Rwheel_torque_scala * F.y"
   ]
  },
  {
   "cell_type": "code",
   "execution_count": 33,
   "metadata": {},
   "outputs": [],
   "source": [
    "body_torque_vector = -Lwheel_torque_vector -Rwheel_torque_vector"
   ]
  },
  {
   "cell_type": "code",
   "execution_count": 34,
   "metadata": {},
   "outputs": [],
   "source": [
    "Lwheel_torque = (body_l_f, Lwheel_torque_vector)"
   ]
  },
  {
   "cell_type": "code",
   "execution_count": 35,
   "metadata": {},
   "outputs": [],
   "source": [
    "Rwheel_torque = (body_r_f, Rwheel_torque_vector)"
   ]
  },
  {
   "cell_type": "code",
   "execution_count": 36,
   "metadata": {},
   "outputs": [],
   "source": [
    "body_torque = (P, body_torque_vector)"
   ]
  },
  {
   "cell_type": "code",
   "execution_count": 37,
   "metadata": {
    "tags": []
   },
   "outputs": [
    {
     "data": {
      "text/plain": [
       "(P, (-T_l(t) - T_r(t))*F.y)"
      ]
     },
     "execution_count": 37,
     "metadata": {},
     "output_type": "execute_result"
    }
   ],
   "source": [
    "body_torque"
   ]
  },
  {
   "cell_type": "code",
   "execution_count": 38,
   "metadata": {},
   "outputs": [
    {
     "data": {
      "image/png": "[encoded data removed]",
      "text/latex": [
       "$\\displaystyle T_{r}\\mathbf{\\hat{f}_y}$"
      ],
      "text/plain": [
       "Tᵣ f_y"
      ]
     },
     "execution_count": 38,
     "metadata": {},
     "output_type": "execute_result"
    }
   ],
   "source": [
    "Lwheel_torque_vector"
   ]
  },
  {
   "cell_type": "markdown",
   "metadata": {
    "tags": []
   },
   "source": [
    "### Equations of Motions"
   ]
  },
  {
   "cell_type": "markdown",
   "metadata": {},
   "source": [
    "q는 위치 dq 속력"
   ]
  },
  {
   "cell_type": "code",
   "execution_count": 39,
   "metadata": {},
   "outputs": [
    {
     "data": {
      "text/latex": [
       "$\\displaystyle \\left[\\begin{matrix}x\\\\\\theta\\\\\\delta\\end{matrix}\\right]$"
      ],
      "text/plain": [
       "⎡x⎤\n",
       "⎢ ⎥\n",
       "⎢θ⎥\n",
       "⎢ ⎥\n",
       "⎣δ⎦"
      ]
     },
     "execution_count": 39,
     "metadata": {},
     "output_type": "execute_result"
    }
   ],
   "source": [
    "q"
   ]
  },
  {
   "cell_type": "code",
   "execution_count": 40,
   "metadata": {},
   "outputs": [
    {
     "data": {
      "text/plain": [
       "[(Po, - Mp*g*N.z),\n",
       " (Ro, - M*g*N.z),\n",
       " (Lo, - M*g*N.z),\n",
       " (L_f, T_r(t)*F.y),\n",
       " (R_f, T_l(t)*F.y),\n",
       " (P, (-T_l(t) - T_r(t))*F.y)]"
      ]
     },
     "execution_count": 40,
     "metadata": {},
     "output_type": "execute_result"
    }
   ],
   "source": [
    "FL = [b_g_f,\n",
    "         r_g_f,\n",
    "         l_g_f,\n",
    "         Lwheel_torque,\n",
    "         Rwheel_torque,\n",
    "         body_torque]\n",
    "FL"
   ]
  },
  {
   "cell_type": "markdown",
   "metadata": {},
   "source": [
    "## Constraints"
   ]
  },
  {
   "cell_type": "markdown",
   "metadata": {},
   "source": [
    "어떤 곳에 구속되어있는걸 Holonomic 이라고 하는듯 바퀴를 평면에 구속해야함"
   ]
  },
  {
   "cell_type": "markdown",
   "metadata": {},
   "source": [
    "### holomic"
   ]
  },
  {
   "cell_type": "code",
   "execution_count": 41,
   "metadata": {},
   "outputs": [],
   "source": [
    "Dependent1 =dot(V_LN_N ,F.x)"
   ]
  },
  {
   "cell_type": "code",
   "execution_count": 42,
   "metadata": {},
   "outputs": [],
   "source": [
    "Dependent2 = dot(V_RN_N, F.x)"
   ]
  },
  {
   "cell_type": "code",
   "execution_count": 43,
   "metadata": {},
   "outputs": [
    {
     "data": {
      "image/png": "[encoded data removed]",
      "text/latex": [
       "$\\displaystyle \\left[ - d u_{3} - r u_{4} + u_{1}, \\  d u_{3} - r u_{5} + u_{1}\\right]$"
      ],
      "text/plain": [
       "[-d⋅u₃ - r⋅u₄ + u₁, d⋅u₃ - r⋅u₅ + u₁]"
      ]
     },
     "execution_count": 43,
     "metadata": {},
     "output_type": "execute_result"
    }
   ],
   "source": [
    "v_cons = [Dependent1,\n",
    "          Dependent2]\n",
    "\n",
    "v_cons"
   ]
  },
  {
   "cell_type": "code",
   "execution_count": 44,
   "metadata": {},
   "outputs": [],
   "source": [
    "acc_cons = [Dependent1.diff(t),Dependent2.diff(t)] "
   ]
  },
  {
   "cell_type": "code",
   "execution_count": 45,
   "metadata": {},
   "outputs": [],
   "source": [
    "u_aux = [u4.diff(t), u5.diff(t)]"
   ]
  },
  {
   "cell_type": "markdown",
   "metadata": {
    "tags": []
   },
   "source": [
    "# Kinematical Differential Equations"
   ]
  },
  {
   "cell_type": "code",
   "execution_count": 46,
   "metadata": {},
   "outputs": [
    {
     "data": {
      "image/png": "[encoded data removed]",
      "text/latex": [
       "$\\displaystyle \\left[ - u_{1} + \\dot{x}, \\  - u_{2} + \\dot{\\theta}, \\  - u_{3} + \\dot{\\delta}\\right]$"
      ],
      "text/plain": [
       "[-u₁ + ẋ, -u₂ + θ̇, -u₃ + δ̇]"
      ]
     },
     "execution_count": 46,
     "metadata": {},
     "output_type": "execute_result"
    }
   ],
   "source": [
    "kde = [x.diff() - u1,\n",
    "       theta.diff() - u2,\n",
    "       delta.diff() - u3]\n",
    "kde"
   ]
  },
  {
   "cell_type": "markdown",
   "metadata": {
    "tags": []
   },
   "source": [
    "# 운동방정식으로 만들자"
   ]
  },
  {
   "cell_type": "markdown",
   "metadata": {},
   "source": [
    "## Generalized Forces"
   ]
  },
  {
   "cell_type": "markdown",
   "metadata": {},
   "source": [
    "[토크힘] x [속도,각속도]\n",
    "\n",
    "[Cm속도, 앞바퀴각속도, 뒷바퀴각속도, 몸체 각속도] x [중력, 앞바퀴토크, 뒷바퀴토크, Cm토크] \n",
    "\n",
    "VnWxTnF"
   ]
  },
  {
   "cell_type": "code",
   "execution_count": 47,
   "metadata": {},
   "outputs": [],
   "source": [
    "from __future__ import print_function, division"
   ]
  },
  {
   "cell_type": "code",
   "execution_count": 48,
   "metadata": {},
   "outputs": [],
   "source": [
    "from sympy import trigsimp\n",
    "from sympy.physics.mechanics import KanesMethod\n",
    "from sympy.functions import transpose"
   ]
  },
  {
   "cell_type": "code",
   "execution_count": 49,
   "metadata": {},
   "outputs": [],
   "source": [
    "from sympy.physics.vector import init_vprinting"
   ]
  },
  {
   "cell_type": "code",
   "execution_count": 50,
   "metadata": {},
   "outputs": [
    {
     "data": {
      "text/plain": [
       "[body_p, body_l, body_r]"
      ]
     },
     "execution_count": 50,
     "metadata": {},
     "output_type": "execute_result"
    }
   ],
   "source": [
    "BL = [body_p,body_l,body_r]\n",
    "BL"
   ]
  },
  {
   "cell_type": "code",
   "execution_count": 51,
   "metadata": {},
   "outputs": [],
   "source": [
    "kane = KanesMethod(\n",
    "    N,\n",
    "    q,\n",
    "    uL,\n",
    "    kd_eqs=kde,\n",
    "    q_dependent=None,\n",
    "    configuration_constraints=None,\n",
    "    u_dependent=[u4,u5],\n",
    "    velocity_constraints=v_cons,\n",
    "    acceleration_constraints=acc_cons,\n",
    "    u_auxiliary=u_aux,\n",
    "    bodies=None,\n",
    "    forcelist=None,\n",
    ")"
   ]
  },
  {
   "cell_type": "code",
   "execution_count": 52,
   "metadata": {
    "tags": []
   },
   "outputs": [],
   "source": [
    "fr, frstar = kane.kanes_equations( BL, FL)"
   ]
  },
  {
   "cell_type": "code",
   "execution_count": 53,
   "metadata": {},
   "outputs": [
    {
     "data": {
      "image/png": "[encoded data removed]",
      "text/latex": [
       "$\\displaystyle \\left\\{ \\dot{\\delta} : u_{3}, \\  \\dot{\\theta} : u_{2}, \\  \\dot{x} : u_{1}\\right\\}$"
      ],
      "text/plain": [
       "{δ̇: u₃, θ̇: u₂, ẋ: u₁}"
      ]
     },
     "execution_count": 53,
     "metadata": {},
     "output_type": "execute_result"
    }
   ],
   "source": [
    "kane.kindiffdict()"
   ]
  },
  {
   "cell_type": "markdown",
   "metadata": {
    "tags": []
   },
   "source": [
    "F + F* =0 식 (Kanes equation)"
   ]
  },
  {
   "cell_type": "code",
   "execution_count": 54,
   "metadata": {
    "scrolled": true
   },
   "outputs": [],
   "source": [
    "kanearray = trigsimp(fr + frstar)\n",
    "kanearray = kanearray.subs(u4.diff(), (u1.diff()-d*u3.diff())/R)\n",
    "kanearray = kanearray.subs(u5.diff(), (u1.diff()+d*u3.diff())/R)   #holonomic constrains"
   ]
  },
  {
   "cell_type": "markdown",
   "metadata": {},
   "source": [
    "## Linearization\n",
    "\n",
    "3.52 식 참고"
   ]
  },
  {
   "cell_type": "code",
   "execution_count": 55,
   "metadata": {},
   "outputs": [],
   "source": [
    "update0 =kanearray.expand()"
   ]
  },
  {
   "cell_type": "markdown",
   "metadata": {},
   "source": [
    "a = msubs(rhs, {d: 0}) # 0과 1에서만 작동"
   ]
  },
  {
   "cell_type": "code",
   "execution_count": 56,
   "metadata": {},
   "outputs": [],
   "source": [
    "update1=update0.subs(sin(theta) , theta)"
   ]
  },
  {
   "cell_type": "code",
   "execution_count": 57,
   "metadata": {},
   "outputs": [],
   "source": [
    "update2 = update1.subs(cos(theta) , 1)"
   ]
  },
  {
   "cell_type": "code",
   "execution_count": 58,
   "metadata": {},
   "outputs": [],
   "source": [
    "update3 = update2.subs(sin(2*theta) , 2 *theta)"
   ]
  },
  {
   "cell_type": "code",
   "execution_count": 59,
   "metadata": {},
   "outputs": [
    {
     "data": {
      "text/latex": [
       "$\\displaystyle \\left[\\begin{matrix}- \\frac{2 J \\dot{u}_{1}}{r^{2}} - 2 M \\dot{u}_{1} + Mp l \\theta u_{2}^{2} + Mp l \\theta u_{3}^{2} - Mp l \\dot{u}_{2} - Mp \\dot{u}_{1} + \\frac{T_{l}}{r} + \\frac{T_{r}}{r}\\\\- I_{2} \\dot{u}_{2} + Mp g l \\theta + Mp l^{2} \\theta u_{3}^{2} - Mp l^{2} \\dot{u}_{2} - Mp l \\dot{u}_{1} - T_{l} - T_{r}\\\\- I_{3} \\dot{u}_{3} - \\frac{2 J d^{2} \\dot{u}_{3}}{r^{2}} - 2 K \\dot{u}_{3} - 2 M d^{2} \\dot{u}_{3} - Mp l^{2} \\theta^{2} \\dot{u}_{3} - 2 Mp l^{2} \\theta u_{2} u_{3} - Mp l \\theta u_{1} u_{3} + \\frac{d T_{l}}{r} - \\frac{d T_{r}}{r}\\\\0\\\\0\\end{matrix}\\right]$"
      ],
      "text/plain": [
       "⎡                2⋅J⋅u₁̇                     2            2                   \n",
       "⎢              - ────── - 2⋅M⋅u₁̇ + Mp⋅l⋅θ⋅u₂  + Mp⋅l⋅θ⋅u₃  - Mp⋅l⋅u₂̇ - Mp⋅u₁\n",
       "⎢                   2                                                         \n",
       "⎢                  r                                                          \n",
       "⎢                                                                             \n",
       "⎢                                           2     2       2                   \n",
       "⎢                   -I₂⋅u₂̇ + Mp⋅g⋅l⋅θ + Mp⋅l ⋅θ⋅u₃  - Mp⋅l ⋅u₂̇ - Mp⋅l⋅u₁̇ - \n",
       "⎢                                                                             \n",
       "⎢              2                                                              \n",
       "⎢         2⋅J⋅d ⋅u₃̇                 2          2  2            2             \n",
       "⎢-I₃⋅u₃̇ - ───────── - 2⋅K⋅u₃̇ - 2⋅M⋅d ⋅u₃̇ - Mp⋅l ⋅θ ⋅u₃̇ - 2⋅Mp⋅l ⋅θ⋅u₂⋅u₃ -\n",
       "⎢              2                                                              \n",
       "⎢             r                                                               \n",
       "⎢                                                                             \n",
       "⎢                                                 0                           \n",
       "⎢                                                                             \n",
       "⎣                                                 0                           \n",
       "\n",
       "  Tₗ   Tᵣ               ⎤\n",
       "̇ + ── + ──               ⎥\n",
       " r    r                ⎥\n",
       "                       ⎥\n",
       "                       ⎥\n",
       "                       ⎥\n",
       "Tₗ - Tᵣ                   ⎥\n",
       "                       ⎥\n",
       "                       ⎥\n",
       "             d⋅Tₗ   d⋅Tᵣ⎥\n",
       " Mp⋅l⋅θ⋅u₁⋅u₃ + ──── - ────⎥\n",
       "             r      r  ⎥\n",
       "                       ⎥\n",
       "                       ⎥\n",
       "                       ⎥\n",
       "                       ⎥\n",
       "                       ⎦"
      ]
     },
     "execution_count": 59,
     "metadata": {},
     "output_type": "execute_result"
    }
   ],
   "source": [
    "update3"
   ]
  },
  {
   "cell_type": "code",
   "execution_count": 60,
   "metadata": {
    "tags": []
   },
   "outputs": [],
   "source": [
    "update4 = update3.row_del(3)"
   ]
  },
  {
   "cell_type": "code",
   "execution_count": 61,
   "metadata": {
    "tags": []
   },
   "outputs": [],
   "source": [
    "update5 = update4.row_del(3)"
   ]
  },
  {
   "cell_type": "code",
   "execution_count": 62,
   "metadata": {},
   "outputs": [],
   "source": [
    "update6 = update5.subs(theta*u3,0)"
   ]
  },
  {
   "cell_type": "code",
   "execution_count": 63,
   "metadata": {},
   "outputs": [],
   "source": [
    "update7 = update6.subs(theta*u1,0)"
   ]
  },
  {
   "cell_type": "code",
   "execution_count": 64,
   "metadata": {},
   "outputs": [],
   "source": [
    "linear = update7.subs(theta*u3.diff(),0)"
   ]
  },
  {
   "cell_type": "code",
   "execution_count": 65,
   "metadata": {},
   "outputs": [],
   "source": [
    "linear = linear.subs(u1, x.diff())\n",
    "linear = linear.subs(u2, theta.diff())\n",
    "linear = linear.subs(u3, delta.diff())\n",
    "linear = linear.subs(thetad*thetad,0)         #이유를 잘 모르겠다이건"
   ]
  },
  {
   "cell_type": "code",
   "execution_count": 66,
   "metadata": {},
   "outputs": [
    {
     "data": {
      "text/latex": [
       "$\\displaystyle \\left[\\begin{matrix}- \\frac{2 J \\ddot{x}}{r^{2}} - 2 M \\ddot{x} - Mp l \\ddot{\\theta} - Mp \\ddot{x} + \\frac{T_{l}}{r} + \\frac{T_{r}}{r}\\\\- I_{2} \\ddot{\\theta} + Mp g l \\theta - Mp l^{2} \\ddot{\\theta} - Mp l \\ddot{x} - T_{l} - T_{r}\\\\- I_{3} \\ddot{\\delta} - \\frac{2 J d^{2} \\ddot{\\delta}}{r^{2}} - 2 K \\ddot{\\delta} - 2 M d^{2} \\ddot{\\delta} + \\frac{d T_{l}}{r} - \\frac{d T_{r}}{r}\\end{matrix}\\right]$"
      ],
      "text/plain": [
       "⎡      2⋅J⋅ẍ                           Tₗ   Tᵣ    ⎤\n",
       "⎢    - ───── - 2⋅M⋅ẍ - Mp⋅l⋅θ̈ - Mp⋅ẍ + ── + ──    ⎥\n",
       "⎢         2                            r    r     ⎥\n",
       "⎢        r                                        ⎥\n",
       "⎢                                                 ⎥\n",
       "⎢                         2                       ⎥\n",
       "⎢  -I₂⋅θ̈ + Mp⋅g⋅l⋅θ - Mp⋅l ⋅θ̈ - Mp⋅l⋅ẍ - Tₗ - Tᵣ  ⎥\n",
       "⎢                                                 ⎥\n",
       "⎢             2                                   ⎥\n",
       "⎢        2⋅J⋅d ⋅δ̈                2     d⋅Tₗ   d⋅Tᵣ⎥\n",
       "⎢-I₃⋅δ̈ - ──────── - 2⋅K⋅δ̈ - 2⋅M⋅d ⋅δ̈ + ──── - ────⎥\n",
       "⎢            2                          r      r  ⎥\n",
       "⎣           r                                     ⎦"
      ]
     },
     "execution_count": 66,
     "metadata": {},
     "output_type": "execute_result"
    }
   ],
   "source": [
    "linear = trigsimp(linear)\n",
    "linear"
   ]
  },
  {
   "cell_type": "markdown",
   "metadata": {},
   "source": [
    "Equilibrium Point 에서 선형화한 식과 같다.3.21"
   ]
  },
  {
   "cell_type": "markdown",
   "metadata": {},
   "source": [
    "## Modeling"
   ]
  },
  {
   "cell_type": "code",
   "execution_count": 67,
   "metadata": {},
   "outputs": [
    {
     "data": {
      "text/latex": [
       "$\\displaystyle \\left[\\begin{matrix}T_{r}\\\\T_{l}\\end{matrix}\\right]$"
      ],
      "text/plain": [
       "⎡Tᵣ⎤\n",
       "⎢  ⎥\n",
       "⎣Tₗ⎦"
      ]
     },
     "execution_count": 67,
     "metadata": {},
     "output_type": "execute_result"
    }
   ],
   "source": [
    "torques = Matrix([Lwheel_torque_scala,Rwheel_torque_scala])\n",
    "torques"
   ]
  },
  {
   "cell_type": "code",
   "execution_count": 68,
   "metadata": {},
   "outputs": [
    {
     "data": {
      "text/latex": [
       "$\\displaystyle \\left[\\begin{matrix}\\dot{x}\\\\\\dot{\\theta}\\\\\\dot{\\delta}\\end{matrix}\\right]$"
      ],
      "text/plain": [
       "⎡ẋ⎤\n",
       "⎢ ⎥\n",
       "⎢θ̇⎥\n",
       "⎢ ⎥\n",
       "⎣δ̇⎦"
      ]
     },
     "execution_count": 68,
     "metadata": {},
     "output_type": "execute_result"
    }
   ],
   "source": [
    "qd"
   ]
  },
  {
   "cell_type": "code",
   "execution_count": 69,
   "metadata": {},
   "outputs": [],
   "source": [
    "xdotform = Matrix([1,2,3])"
   ]
  },
  {
   "cell_type": "code",
   "execution_count": 70,
   "metadata": {
    "tags": []
   },
   "outputs": [],
   "source": [
    "sols = sm.linsolve(linear,xd2,thetad2, deltad2)"
   ]
  },
  {
   "cell_type": "code",
   "execution_count": 71,
   "metadata": {},
   "outputs": [],
   "source": [
    "(xdotform[0], xdotform[1], xdotform[2]) = tuple(*sols)"
   ]
  },
  {
   "cell_type": "markdown",
   "metadata": {},
   "source": [
    "u2,u3 에서 nonlinear 로 안풀린다"
   ]
  },
  {
   "cell_type": "code",
   "execution_count": 72,
   "metadata": {},
   "outputs": [
    {
     "data": {
      "text/latex": [
       "$\\displaystyle \\left[\\begin{matrix}0 & 0 & 0\\\\0 & 0 & 0\\\\0 & 0 & 0\\end{matrix}\\right]$"
      ],
      "text/plain": [
       "⎡0  0  0⎤\n",
       "⎢       ⎥\n",
       "⎢0  0  0⎥\n",
       "⎢       ⎥\n",
       "⎣0  0  0⎦"
      ]
     },
     "execution_count": 72,
     "metadata": {},
     "output_type": "execute_result"
    }
   ],
   "source": [
    "Ad = xdotform.jacobian(qd)\n",
    "Ad.simplify()\n",
    "Ad"
   ]
  },
  {
   "cell_type": "code",
   "execution_count": 73,
   "metadata": {},
   "outputs": [
    {
     "data": {
      "text/latex": [
       "$\\displaystyle \\left[\\begin{matrix}0 & - \\frac{Mp^{2} g l^{2} r^{2}}{2 I_{2} J + 2 I_{2} M r^{2} + I_{2} Mp r^{2} + 2 J Mp l^{2} + 2 M Mp l^{2} r^{2}} & 0\\\\0 & \\frac{Mp g l \\left(2 J + 2 M r^{2} + Mp r^{2}\\right)}{2 I_{2} J + 2 I_{2} M r^{2} + I_{2} Mp r^{2} + 2 J Mp l^{2} + 2 M Mp l^{2} r^{2}} & 0\\\\0 & 0 & 0\\end{matrix}\\right]$"
      ],
      "text/plain": [
       "⎡                           2    2  2                          ⎤\n",
       "⎢                        -Mp ⋅g⋅l ⋅r                           ⎥\n",
       "⎢0  ────────────────────────────────────────────────────────  0⎥\n",
       "⎢                    2          2           2           2  2   ⎥\n",
       "⎢   2⋅I₂⋅J + 2⋅I₂⋅M⋅r  + I₂⋅Mp⋅r  + 2⋅J⋅Mp⋅l  + 2⋅M⋅Mp⋅l ⋅r    ⎥\n",
       "⎢                                                              ⎥\n",
       "⎢                       ⎛           2       2⎞                 ⎥\n",
       "⎢                Mp⋅g⋅l⋅⎝2⋅J + 2⋅M⋅r  + Mp⋅r ⎠                 ⎥\n",
       "⎢0  ────────────────────────────────────────────────────────  0⎥\n",
       "⎢                    2          2           2           2  2   ⎥\n",
       "⎢   2⋅I₂⋅J + 2⋅I₂⋅M⋅r  + I₂⋅Mp⋅r  + 2⋅J⋅Mp⋅l  + 2⋅M⋅Mp⋅l ⋅r    ⎥\n",
       "⎢                                                              ⎥\n",
       "⎣0                             0                              0⎦"
      ]
     },
     "execution_count": 73,
     "metadata": {},
     "output_type": "execute_result"
    }
   ],
   "source": [
    "Ac = xdotform.jacobian(q)\n",
    "Ac.simplify()\n",
    "Ac"
   ]
  },
  {
   "cell_type": "code",
   "execution_count": 74,
   "metadata": {},
   "outputs": [
    {
     "data": {
      "text/latex": [
       "$\\displaystyle \\left[\\begin{matrix}1 & 0 & 0\\\\0 & 1 & 0\\\\0 & 0 & 1\\end{matrix}\\right]$"
      ],
      "text/plain": [
       "⎡1  0  0⎤\n",
       "⎢       ⎥\n",
       "⎢0  1  0⎥\n",
       "⎢       ⎥\n",
       "⎣0  0  1⎦"
      ]
     },
     "execution_count": 74,
     "metadata": {},
     "output_type": "execute_result"
    }
   ],
   "source": [
    "Ab = sm.eye(3)\n",
    "Ab"
   ]
  },
  {
   "cell_type": "code",
   "execution_count": 75,
   "metadata": {},
   "outputs": [
    {
     "data": {
      "text/latex": [
       "$\\displaystyle \\left[\\begin{matrix}0 & 0 & 0\\\\0 & 0 & 0\\\\0 & 0 & 0\\end{matrix}\\right]$"
      ],
      "text/plain": [
       "⎡0  0  0⎤\n",
       "⎢       ⎥\n",
       "⎢0  0  0⎥\n",
       "⎢       ⎥\n",
       "⎣0  0  0⎦"
      ]
     },
     "execution_count": 75,
     "metadata": {},
     "output_type": "execute_result"
    }
   ],
   "source": [
    "Aa = sm.zeros(3)\n",
    "Aa"
   ]
  },
  {
   "cell_type": "code",
   "execution_count": 76,
   "metadata": {},
   "outputs": [],
   "source": [
    "A = Matrix([[Aa,Ab],\n",
    "           [Ac,Ad]])"
   ]
  },
  {
   "cell_type": "code",
   "execution_count": 77,
   "metadata": {},
   "outputs": [
    {
     "data": {
      "text/latex": [
       "$\\displaystyle \\left[\\begin{matrix}0 & 0 & 0 & 1 & 0 & 0\\\\0 & 0 & 0 & 0 & 1 & 0\\\\0 & 0 & 0 & 0 & 0 & 1\\\\0 & - \\frac{Mp^{2} g l^{2} r^{2}}{2 I_{2} J + 2 I_{2} M r^{2} + I_{2} Mp r^{2} + 2 J Mp l^{2} + 2 M Mp l^{2} r^{2}} & 0 & 0 & 0 & 0\\\\0 & \\frac{Mp g l \\left(2 J + 2 M r^{2} + Mp r^{2}\\right)}{2 I_{2} J + 2 I_{2} M r^{2} + I_{2} Mp r^{2} + 2 J Mp l^{2} + 2 M Mp l^{2} r^{2}} & 0 & 0 & 0 & 0\\\\0 & 0 & 0 & 0 & 0 & 0\\end{matrix}\\right]$"
      ],
      "text/plain": [
       "⎡0                             0                              0  1  0  0⎤\n",
       "⎢                                                                       ⎥\n",
       "⎢0                             0                              0  0  1  0⎥\n",
       "⎢                                                                       ⎥\n",
       "⎢0                             0                              0  0  0  1⎥\n",
       "⎢                                                                       ⎥\n",
       "⎢                           2    2  2                                   ⎥\n",
       "⎢                        -Mp ⋅g⋅l ⋅r                                    ⎥\n",
       "⎢0  ────────────────────────────────────────────────────────  0  0  0  0⎥\n",
       "⎢                    2          2           2           2  2            ⎥\n",
       "⎢   2⋅I₂⋅J + 2⋅I₂⋅M⋅r  + I₂⋅Mp⋅r  + 2⋅J⋅Mp⋅l  + 2⋅M⋅Mp⋅l ⋅r             ⎥\n",
       "⎢                                                                       ⎥\n",
       "⎢                       ⎛           2       2⎞                          ⎥\n",
       "⎢                Mp⋅g⋅l⋅⎝2⋅J + 2⋅M⋅r  + Mp⋅r ⎠                          ⎥\n",
       "⎢0  ────────────────────────────────────────────────────────  0  0  0  0⎥\n",
       "⎢                    2          2           2           2  2            ⎥\n",
       "⎢   2⋅I₂⋅J + 2⋅I₂⋅M⋅r  + I₂⋅Mp⋅r  + 2⋅J⋅Mp⋅l  + 2⋅M⋅Mp⋅l ⋅r             ⎥\n",
       "⎢                                                                       ⎥\n",
       "⎣0                             0                              0  0  0  0⎦"
      ]
     },
     "execution_count": 77,
     "metadata": {},
     "output_type": "execute_result"
    }
   ],
   "source": [
    "A"
   ]
  },
  {
   "cell_type": "code",
   "execution_count": 78,
   "metadata": {},
   "outputs": [
    {
     "data": {
      "text/latex": [
       "$\\displaystyle \\left[\\begin{matrix}\\frac{r \\left(I_{2} + Mp l^{2} + Mp l r\\right)}{2 I_{2} J + 2 I_{2} M r^{2} + I_{2} Mp r^{2} + 2 J Mp l^{2} + 2 M Mp l^{2} r^{2}} & \\frac{r \\left(I_{2} + Mp l^{2} + Mp l r\\right)}{2 I_{2} J + 2 I_{2} M r^{2} + I_{2} Mp r^{2} + 2 J Mp l^{2} + 2 M Mp l^{2} r^{2}}\\\\- \\frac{2 J + 2 M r^{2} + Mp l r + Mp r^{2}}{2 I_{2} J + 2 I_{2} M r^{2} + I_{2} Mp r^{2} + 2 J Mp l^{2} + 2 M Mp l^{2} r^{2}} & - \\frac{2 J + 2 M r^{2} + Mp l r + Mp r^{2}}{2 I_{2} J + 2 I_{2} M r^{2} + I_{2} Mp r^{2} + 2 J Mp l^{2} + 2 M Mp l^{2} r^{2}}\\\\- \\frac{d r}{I_{3} r^{2} + 2 J d^{2} + 2 K r^{2} + 2 M d^{2} r^{2}} & \\frac{d r}{I_{3} r^{2} + 2 J d^{2} + 2 K r^{2} + 2 M d^{2} r^{2}}\\end{matrix}\\right]$"
      ],
      "text/plain": [
       "⎡                  ⎛         2         ⎞                                     ⎛\n",
       "⎢                r⋅⎝I₂ + Mp⋅l  + Mp⋅l⋅r⎠                                   r⋅⎝\n",
       "⎢────────────────────────────────────────────────────────  ───────────────────\n",
       "⎢                 2          2           2           2  2                   2 \n",
       "⎢2⋅I₂⋅J + 2⋅I₂⋅M⋅r  + I₂⋅Mp⋅r  + 2⋅J⋅Mp⋅l  + 2⋅M⋅Mp⋅l ⋅r   2⋅I₂⋅J + 2⋅I₂⋅M⋅r  \n",
       "⎢                                                                             \n",
       "⎢            ⎛           2                2⎞                           ⎛      \n",
       "⎢           -⎝2⋅J + 2⋅M⋅r  + Mp⋅l⋅r + Mp⋅r ⎠                          -⎝2⋅J + \n",
       "⎢────────────────────────────────────────────────────────  ───────────────────\n",
       "⎢                 2          2           2           2  2                   2 \n",
       "⎢2⋅I₂⋅J + 2⋅I₂⋅M⋅r  + I₂⋅Mp⋅r  + 2⋅J⋅Mp⋅l  + 2⋅M⋅Mp⋅l ⋅r   2⋅I₂⋅J + 2⋅I₂⋅M⋅r  \n",
       "⎢                                                                             \n",
       "⎢                         -d⋅r                                                \n",
       "⎢          ───────────────────────────────────                       ─────────\n",
       "⎢              2        2        2        2  2                           2    \n",
       "⎣          I₃⋅r  + 2⋅J⋅d  + 2⋅K⋅r  + 2⋅M⋅d ⋅r                        I₃⋅r  + 2\n",
       "\n",
       "         2         ⎞                 ⎤\n",
       "I₂ + Mp⋅l  + Mp⋅l⋅r⎠                 ⎥\n",
       "─────────────────────────────────────⎥\n",
       "         2           2           2  2⎥\n",
       "+ I₂⋅Mp⋅r  + 2⋅J⋅Mp⋅l  + 2⋅M⋅Mp⋅l ⋅r ⎥\n",
       "                                     ⎥\n",
       "     2                2⎞             ⎥\n",
       "2⋅M⋅r  + Mp⋅l⋅r + Mp⋅r ⎠             ⎥\n",
       "─────────────────────────────────────⎥\n",
       "         2           2           2  2⎥\n",
       "+ I₂⋅Mp⋅r  + 2⋅J⋅Mp⋅l  + 2⋅M⋅Mp⋅l ⋅r ⎥\n",
       "                                     ⎥\n",
       "       d⋅r                           ⎥\n",
       "──────────────────────────           ⎥\n",
       "    2        2        2  2           ⎥\n",
       "⋅J⋅d  + 2⋅K⋅r  + 2⋅M⋅d ⋅r            ⎦"
      ]
     },
     "execution_count": 78,
     "metadata": {},
     "output_type": "execute_result"
    }
   ],
   "source": [
    "B = xdotform.jacobian(torques)\n",
    "B.simplify()\n",
    "B"
   ]
  },
  {
   "cell_type": "markdown",
   "metadata": {},
   "source": [
    " 토크는 논문과 완전히 같은값이 나옴 pendulum과 rotation  나눠야함"
   ]
  },
  {
   "cell_type": "markdown",
   "metadata": {
    "tags": []
   },
   "source": [
    "## State variable equation"
   ]
  },
  {
   "cell_type": "code",
   "execution_count": 79,
   "metadata": {},
   "outputs": [],
   "source": [
    "control_vector_u = Matrix([[1,1],\n",
    "                          [1, -1]])"
   ]
  },
  {
   "cell_type": "code",
   "execution_count": 80,
   "metadata": {},
   "outputs": [
    {
     "data": {
      "text/latex": [
       "$\\displaystyle \\left[\\begin{matrix}\\frac{r \\left(I_{2} + Mp l^{2} + Mp l r\\right)}{2 I_{2} J + 2 I_{2} M r^{2} + I_{2} Mp r^{2} + 2 J Mp l^{2} + 2 M Mp l^{2} r^{2}} & 0\\\\- \\frac{2 J + 2 M r^{2} + Mp l r + Mp r^{2}}{2 I_{2} J + 2 I_{2} M r^{2} + I_{2} Mp r^{2} + 2 J Mp l^{2} + 2 M Mp l^{2} r^{2}} & 0\\\\0 & - \\frac{d r}{I_{3} r^{2} + 2 J d^{2} + 2 K r^{2} + 2 M d^{2} r^{2}}\\end{matrix}\\right]$"
      ],
      "text/plain": [
       "⎡                  ⎛         2         ⎞                                      \n",
       "⎢                r⋅⎝I₂ + Mp⋅l  + Mp⋅l⋅r⎠                                      \n",
       "⎢────────────────────────────────────────────────────────                   0 \n",
       "⎢                 2          2           2           2  2                     \n",
       "⎢2⋅I₂⋅J + 2⋅I₂⋅M⋅r  + I₂⋅Mp⋅r  + 2⋅J⋅Mp⋅l  + 2⋅M⋅Mp⋅l ⋅r                      \n",
       "⎢                                                                             \n",
       "⎢            ⎛           2                2⎞                                  \n",
       "⎢           -⎝2⋅J + 2⋅M⋅r  + Mp⋅l⋅r + Mp⋅r ⎠                                  \n",
       "⎢────────────────────────────────────────────────────────                   0 \n",
       "⎢                 2          2           2           2  2                     \n",
       "⎢2⋅I₂⋅J + 2⋅I₂⋅M⋅r  + I₂⋅Mp⋅r  + 2⋅J⋅Mp⋅l  + 2⋅M⋅Mp⋅l ⋅r                      \n",
       "⎢                                                                             \n",
       "⎢                                                                         -d⋅r\n",
       "⎢                           0                              ───────────────────\n",
       "⎢                                                              2        2     \n",
       "⎣                                                          I₃⋅r  + 2⋅J⋅d  + 2⋅\n",
       "\n",
       "                ⎤\n",
       "                ⎥\n",
       "                ⎥\n",
       "                ⎥\n",
       "                ⎥\n",
       "                ⎥\n",
       "                ⎥\n",
       "                ⎥\n",
       "                ⎥\n",
       "                ⎥\n",
       "                ⎥\n",
       "                ⎥\n",
       "                ⎥\n",
       "────────────────⎥\n",
       "   2        2  2⎥\n",
       "K⋅r  + 2⋅M⋅d ⋅r ⎦"
      ]
     },
     "execution_count": 80,
     "metadata": {},
     "output_type": "execute_result"
    }
   ],
   "source": [
    "BU = B* control_vector_u/2\n",
    "BU"
   ]
  },
  {
   "cell_type": "code",
   "execution_count": 81,
   "metadata": {},
   "outputs": [],
   "source": [
    "BU = BU.col_del(1)"
   ]
  },
  {
   "cell_type": "code",
   "execution_count": 82,
   "metadata": {},
   "outputs": [],
   "source": [
    "BU"
   ]
  },
  {
   "cell_type": "code",
   "execution_count": 83,
   "metadata": {},
   "outputs": [
    {
     "data": {
      "text/latex": [
       "$\\displaystyle \\left[\\begin{matrix}x\\\\\\theta\\\\\\dot{x}\\\\\\dot{\\theta}\\end{matrix}\\right]$"
      ],
      "text/plain": [
       "⎡x⎤\n",
       "⎢ ⎥\n",
       "⎢θ⎥\n",
       "⎢ ⎥\n",
       "⎢ẋ⎥\n",
       "⎢ ⎥\n",
       "⎣θ̇⎦"
      ]
     },
     "execution_count": 83,
     "metadata": {},
     "output_type": "execute_result"
    }
   ],
   "source": [
    "penx = Matrix([x , theta, xd, thetad])\n",
    "penx"
   ]
  },
  {
   "cell_type": "code",
   "execution_count": 84,
   "metadata": {},
   "outputs": [
    {
     "data": {
      "text/latex": [
       "$\\displaystyle \\left[\\begin{matrix}0 & - \\frac{Mp^{2} g l^{2} r^{2}}{2 I_{2} J + 2 I_{2} M r^{2} + I_{2} Mp r^{2} + 2 J Mp l^{2} + 2 M Mp l^{2} r^{2}} & 0 & 0\\\\0 & \\frac{Mp g l \\left(2 J + 2 M r^{2} + Mp r^{2}\\right)}{2 I_{2} J + 2 I_{2} M r^{2} + I_{2} Mp r^{2} + 2 J Mp l^{2} + 2 M Mp l^{2} r^{2}} & 0 & 0\\\\0 & 0 & 0 & 0\\end{matrix}\\right]$"
      ],
      "text/plain": [
       "⎡                           2    2  2                             ⎤\n",
       "⎢                        -Mp ⋅g⋅l ⋅r                              ⎥\n",
       "⎢0  ────────────────────────────────────────────────────────  0  0⎥\n",
       "⎢                    2          2           2           2  2      ⎥\n",
       "⎢   2⋅I₂⋅J + 2⋅I₂⋅M⋅r  + I₂⋅Mp⋅r  + 2⋅J⋅Mp⋅l  + 2⋅M⋅Mp⋅l ⋅r       ⎥\n",
       "⎢                                                                 ⎥\n",
       "⎢                       ⎛           2       2⎞                    ⎥\n",
       "⎢                Mp⋅g⋅l⋅⎝2⋅J + 2⋅M⋅r  + Mp⋅r ⎠                    ⎥\n",
       "⎢0  ────────────────────────────────────────────────────────  0  0⎥\n",
       "⎢                    2          2           2           2  2      ⎥\n",
       "⎢   2⋅I₂⋅J + 2⋅I₂⋅M⋅r  + I₂⋅Mp⋅r  + 2⋅J⋅Mp⋅l  + 2⋅M⋅Mp⋅l ⋅r       ⎥\n",
       "⎢                                                                 ⎥\n",
       "⎣0                             0                              0  0⎦"
      ]
     },
     "execution_count": 84,
     "metadata": {},
     "output_type": "execute_result"
    }
   ],
   "source": [
    "pen_sys = xdotform.jacobian(penx)\n",
    "pen_sys.simplify()\n",
    "pen_sys"
   ]
  },
  {
   "cell_type": "markdown",
   "metadata": {},
   "source": [
    "# Motor Dynamics"
   ]
  },
  {
   "cell_type": "markdown",
   "metadata": {},
   "source": [
    "마찰은 0"
   ]
  },
  {
   "cell_type": "code",
   "execution_count": 85,
   "metadata": {},
   "outputs": [],
   "source": [
    "# Create dynamic symbols for current and voltage\n",
    "im = dynamicsymbols('im')        # Currents through motor 1 and 2\n",
    "Vm = symbols('Vm')               # Voltages across the motor terminals\n",
    "Nm = symbols('Nm')                             # Gear ratio\n",
    "# Define some motor constants.\n",
    "# Assuming motor 1 and 2 are the same:\n",
    "Rm = symbols('Rm')                             # Coil resistance\n",
    "Kt = symbols('Kt')                           # Motor constant\n",
    "Ke = symbols('Ke')                           #역기전력 상수\n",
    "Tm =  me.dynamicsymbols('Tm')                         #motor torque\n",
    "Wm =  me.dynamicsymbols('Wm')                 #rotor position\n",
    "Wmd = me.dynamicsymbols('Wm',1)\n",
    "Wmd2 = me.dynamicsymbols('Wm',2)\n",
    "Jm = me.dynamicsymbols('Jm')                 #rotor inertia\n",
    "Bm = me.dynamicsymbols('Bm')      #모터의 감쇠상수\n",
    "\n",
    "\n",
    "\n",
    "Ww =  me.dynamicsymbols('Ww')            # Wheel position\n",
    "Wwd = me.dynamicsymbols('Ww', 1)\n",
    "Wwd2 = me.dynamicsymbols('Ww', 2)\n",
    "Tw =  me.dynamicsymbols('Tw')              #torque wheel\n",
    "\n",
    "Mlhs =  Kt*Vm/Rm + Ke*Kt*Wmd/Rm\n",
    "Mrhs = Jm*Wmd2 + Bm*Wmd + Tm"
   ]
  },
  {
   "cell_type": "markdown",
   "metadata": {},
   "source": [
    "Tm = Tw/Nm\n",
    "Wm = Nm*(Ww - theta)"
   ]
  },
  {
   "cell_type": "code",
   "execution_count": 86,
   "metadata": {
    "tags": []
   },
   "outputs": [],
   "source": [
    "Mrhs = Mrhs.subs(Wm , Nm*(Ww - theta))"
   ]
  },
  {
   "cell_type": "code",
   "execution_count": 87,
   "metadata": {},
   "outputs": [],
   "source": [
    "Mrhs = Mrhs.subs(Tm, (Tw/Nm))"
   ]
  },
  {
   "cell_type": "code",
   "execution_count": 88,
   "metadata": {},
   "outputs": [
    {
     "data": {
      "text/latex": [
       "$\\displaystyle \\frac{Ke Kt \\dot{Wm}}{Rm} + \\frac{Kt Vm}{Rm} - Bm \\left(Nm \\left(\\dot{Ww} - \\dot{\\theta}\\right)\\right) - Jm \\left(Nm \\left(\\ddot{Ww} - \\ddot{\\theta}\\right)\\right) - \\frac{Tw}{Nm}$"
      ],
      "text/plain": [
       "                                             2                  \n",
       "Ke⋅Kt⋅Wṁ   Kt⋅Vm      ∂                     ∂                 Tw\n",
       "──────── + ───── - Bm⋅──(Nm⋅(Ww - θ)) - Jm⋅───(Nm⋅(Ww - θ)) - ──\n",
       "   Rm        Rm       ∂t                     2                Nm\n",
       "                                           ∂t                   "
      ]
     },
     "execution_count": 88,
     "metadata": {},
     "output_type": "execute_result"
    }
   ],
   "source": [
    "motoreq = Mlhs-Mrhs\n",
    "motoreq"
   ]
  },
  {
   "cell_type": "code",
   "execution_count": 89,
   "metadata": {},
   "outputs": [
    {
     "data": {
      "text/latex": [
       "$\\displaystyle \\frac{Ke Kt \\left(\\dot{Ww} - \\dot{\\theta}\\right)}{Rm} + \\frac{Kt Vm}{Rm} - Bm \\left(Nm \\left(\\dot{Ww} - \\dot{\\theta}\\right)\\right) - Jm \\left(Nm \\left(\\ddot{Ww} - \\ddot{\\theta}\\right)\\right) - \\frac{Tw}{Nm}$"
      ],
      "text/plain": [
       "                                                   2                  \n",
       "Ke⋅Kt⋅(Wẇ - θ̇)   Kt⋅Vm      ∂                     ∂                 Tw\n",
       "────────────── + ───── - Bm⋅──(Nm⋅(Ww - θ)) - Jm⋅───(Nm⋅(Ww - θ)) - ──\n",
       "      Rm           Rm       ∂t                     2                Nm\n",
       "                                                 ∂t                   "
      ]
     },
     "execution_count": 89,
     "metadata": {},
     "output_type": "execute_result"
    }
   ],
   "source": [
    "motoreq = motoreq.subs(Wm.diff() , Nm.diff()*(Ww.diff() - theta.diff()))\n",
    "motoreq"
   ]
  },
  {
   "cell_type": "code",
   "execution_count": 90,
   "metadata": {},
   "outputs": [
    {
     "data": {
      "image/png": "[encoded data removed]",
      "text/latex": [
       "$\\displaystyle \\left[ \\frac{Nm \\left(Ke Kt \\dot{Ww} - Ke Kt \\dot{\\theta} + Kt Vm - Rm \\left(Nm \\left(\\dot{Ww} - \\dot{\\theta}\\right) Bm + Nm \\left(\\ddot{Ww} - \\ddot{\\theta}\\right) Jm\\right)\\right)}{Rm}\\right]$"
      ],
      "text/plain": [
       "⎡Nm⋅(Ke⋅Kt⋅Wẇ - Ke⋅Kt⋅θ̇ + Kt⋅Vm - Rm⋅(Nm⋅(Wẇ - θ̇)⋅Bm + Nm⋅(Wẅ - θ̈)⋅Jm))⎤\n",
       "⎢──────────────────────────────────────────────────────────────────────⎥\n",
       "⎣                                  Rm                                  ⎦"
      ]
     },
     "execution_count": 90,
     "metadata": {},
     "output_type": "execute_result"
    }
   ],
   "source": [
    "Twe = sm.solve(motoreq, Tw)\n",
    "Twe"
   ]
  },
  {
   "cell_type": "code",
   "execution_count": 91,
   "metadata": {
    "tags": []
   },
   "outputs": [
    {
     "data": {
      "image/png": "[encoded data removed]",
      "text/latex": [
       "$\\displaystyle \\left[ \\frac{Nm \\left(Ke Kt \\dot{Ww} - Ke Kt \\dot{\\theta} + Kt Vm - Rm \\left(Nm \\left(\\dot{Ww} - \\dot{\\theta}\\right) Bm + Nm \\left(\\ddot{Ww} - \\ddot{\\theta}\\right) Jm\\right)\\right)}{Rm}\\right]$"
      ],
      "text/plain": [
       "⎡Nm⋅(Ke⋅Kt⋅Wẇ - Ke⋅Kt⋅θ̇ + Kt⋅Vm - Rm⋅(Nm⋅(Wẇ - θ̇)⋅Bm + Nm⋅(Wẅ - θ̈)⋅Jm))⎤\n",
       "⎢──────────────────────────────────────────────────────────────────────⎥\n",
       "⎣                                  Rm                                  ⎦"
      ]
     },
     "execution_count": 91,
     "metadata": {},
     "output_type": "execute_result"
    }
   ],
   "source": [
    "Twe"
   ]
  },
  {
   "cell_type": "markdown",
   "metadata": {},
   "source": [
    "무엇이 제어 입력 대상인지가 애매하다"
   ]
  },
  {
   "cell_type": "markdown",
   "metadata": {},
   "source": [
    "xdot =  AX + Bu/ Y=CX(?)   /u = Twe"
   ]
  },
  {
   "cell_type": "code",
   "execution_count": 92,
   "metadata": {},
   "outputs": [],
   "source": [
    "C =sm.eye(6)"
   ]
  },
  {
   "cell_type": "markdown",
   "metadata": {},
   "source": [
    "Control"
   ]
  },
  {
   "cell_type": "code",
   "execution_count": 93,
   "metadata": {},
   "outputs": [],
   "source": [
    "import control as con"
   ]
  },
  {
   "cell_type": "code",
   "execution_count": 94,
   "metadata": {},
   "outputs": [
    {
     "ename": "NameError",
     "evalue": "name 'Imat' is not defined",
     "output_type": "error",
     "traceback": [
      "\u001b[0;31m---------------------------------------------------------------------------\u001b[0m",
      "\u001b[0;31mNameError\u001b[0m                                 Traceback (most recent call last)",
      "\u001b[0;32m<ipython-input-94-18148b13d0a1>\u001b[0m in \u001b[0;36m<module>\u001b[0;34m\u001b[0m\n\u001b[0;32m----> 1\u001b[0;31m \u001b[0msys\u001b[0m \u001b[0;34m=\u001b[0m \u001b[0mcon\u001b[0m\u001b[0;34m.\u001b[0m\u001b[0mStateSpace\u001b[0m\u001b[0;34m(\u001b[0m\u001b[0mA\u001b[0m\u001b[0;34m,\u001b[0m\u001b[0mB\u001b[0m\u001b[0;34m,\u001b[0m\u001b[0mImat\u001b[0m\u001b[0;34m,\u001b[0m\u001b[0mzzero\u001b[0m\u001b[0;34m)\u001b[0m\u001b[0;34m\u001b[0m\u001b[0;34m\u001b[0m\u001b[0m\n\u001b[0m",
      "\u001b[0;31mNameError\u001b[0m: name 'Imat' is not defined"
     ]
    }
   ],
   "source": [
    "sys = con.StateSpace(A,B,Imat,zzero)"
   ]
  },
  {
   "cell_type": "markdown",
   "metadata": {},
   "source": [
    "### System parameter"
   ]
  },
  {
   "cell_type": "code",
   "execution_count": null,
   "metadata": {},
   "outputs": [],
   "source": [
    "parameters= [g, m_b ,m_wf, m_wr]\n",
    "parameter_vals=[9.81, 10., 5., 3.]\n",
    "parameter_dict = dict(zip(parameters, parameter_vals))\n",
    "parameter_dict"
   ]
  },
  {
   "cell_type": "code",
   "execution_count": null,
   "metadata": {},
   "outputs": [],
   "source": []
  },
  {
   "cell_type": "code",
   "execution_count": null,
   "metadata": {},
   "outputs": [],
   "source": []
  }
 ],
 "metadata": {
  "kernelspec": {
   "display_name": "Python 3",
   "language": "python",
   "name": "python3"
  },
  "language_info": {
   "codemirror_mode": {
    "name": "ipython",
    "version": 3
   },
   "file_extension": ".py",
   "mimetype": "text/x-python",
   "name": "python",
   "nbconvert_exporter": "python",
   "pygments_lexer": "ipython3",
   "version": "3.9.5"
  }
 },
 "nbformat": 4,
 "nbformat_minor": 4
}
