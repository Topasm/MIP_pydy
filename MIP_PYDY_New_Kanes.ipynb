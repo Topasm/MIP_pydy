{
 "cells": [
  {
   "cell_type": "markdown",
   "metadata": {},
   "source": [
    "# Mobile inverted pendulum python dynamics new\n",
    "\n",
    "author:SeongHyeon Kim\n",
    "\n",
    "program:PYDY balancing robot simulator\n"
   ]
  },
  {
   "cell_type": "markdown",
   "metadata": {},
   "source": [
    "필요한 라이브러리 포함\n"
   ]
  },
  {
   "cell_type": "code",
   "execution_count": 1,
   "metadata": {},
   "outputs": [],
   "source": [
    "from sympy import sin, cos, symbols, solve, Matrix, init_printing\n",
    "from sympy.physics.mechanics import *\n",
    "from sympy.physics.vector import ReferenceFrame\n",
    "import sympy.physics.mechanics as me\n",
    "import sympy as sm\n",
    "import math as m\n",
    "import numpy as np"
   ]
  },
  {
   "cell_type": "code",
   "execution_count": 2,
   "metadata": {},
   "outputs": [],
   "source": [
    "init_vprinting()"
   ]
  },
  {
   "cell_type": "markdown",
   "metadata": {},
   "source": [
    "# Reference frames"
   ]
  },
  {
   "cell_type": "markdown",
   "metadata": {},
   "source": [
    "N은 외부의 기준 프레임. 속도를 0으로"
   ]
  },
  {
   "cell_type": "code",
   "execution_count": 3,
   "metadata": {},
   "outputs": [],
   "source": [
    "#Newtonian reference frame\n",
    "N=ReferenceFrame('N')\n",
    "\n",
    "# Define a world coordinate origin\n",
    "No = Point('No')\n",
    "No.set_vel(N, 0)"
   ]
  },
  {
   "cell_type": "code",
   "execution_count": 4,
   "metadata": {},
   "outputs": [],
   "source": [
    "F = ReferenceFrame('F')\n",
    "\n",
    "P = ReferenceFrame('P')"
   ]
  },
  {
   "cell_type": "markdown",
   "metadata": {},
   "source": [
    "F = N.orientnew('F', 'Axis',[psi, N.z] )     # Intermediate reference frame\n",
    "\n",
    "P = F.orientnew('P', 'Axis', [theta, F.y])   # Inverted Pendulum"
   ]
  },
  {
   "cell_type": "markdown",
   "metadata": {},
   "source": [
    "기준프레임.dcm(상대프레임)"
   ]
  },
  {
   "cell_type": "markdown",
   "metadata": {
    "tags": []
   },
   "source": [
    "## Newtonian, Bodies, Frames, Particles, Points\n"
   ]
  },
  {
   "cell_type": "code",
   "execution_count": 5,
   "metadata": {},
   "outputs": [],
   "source": [
    "Mp =sm.symbols('Mp')\n",
    "M = sm.symbols('M')\n",
    "\n",
    "Po = me.Point('p_cm')\n",
    "Lo = me.Point('L_cm')\n",
    "body_l_f = me.ReferenceFrame('L_f')\n",
    "\n",
    "Ro = me.Point('R_cm')\n",
    "body_r_f = me.ReferenceFrame('R_f')\n",
    "\n",
    "frame_f = me.ReferenceFrame('f')\n",
    "Ip = me.Point('I_p')\n",
    "LN = me.Point('ln')\n",
    "RN = me.Point('rn')"
   ]
  },
  {
   "cell_type": "markdown",
   "metadata": {},
   "source": [
    "## Variables, Constants and Specified\n"
   ]
  },
  {
   "cell_type": "code",
   "execution_count": 6,
   "metadata": {
    "scrolled": true
   },
   "outputs": [],
   "source": [
    "x = me.dynamicsymbols('x')            # F1> measure number of Velocity of P in N\n",
    "xd = me.dynamicsymbols('x', 1)\n",
    "theta = me.dynamicsymbols('theta')    # F2> measure number of Angular velocity of P in N\n",
    "thetad = me.dynamicsymbols('theta', 1)\n",
    "delta = me.dynamicsymbols('delta')    # N3> measure number of Angular velocity of P in N\n",
    "deltad = me.dynamicsymbols('delta', 1)\n",
    "wL = me.dynamicsymbols('wL')          # Angular velocity of L in N\n",
    "wLd = me.dynamicsymbols('wL', 1)\n",
    "wR = me.dynamicsymbols('wR')          # Angular velocity of R in N\n",
    "wRd = me.dynamicsymbols('wR', 1)\n",
    "\n",
    "g = sm.symbols('g', real=True)        #Gravitational acceleration\n",
    "d = sm.symbols('d', real=True)        # Distance from point I to Lo (or Ro)\n",
    "R = sm.symbols('r', real=True)        #Radius of wheels\n",
    "l = sm.symbols('l', real=True)        # Distance from point I to mass center of P\n",
    "t = sm.symbols('t')\n",
    "\n",
    "\n",
    "# Create q and dq vectors\n",
    "q = Matrix([x, theta, delta, wL, wR])\n",
    "dq = q.diff()"
   ]
  },
  {
   "cell_type": "markdown",
   "metadata": {},
   "source": [
    "## Generalized speed"
   ]
  },
  {
   "cell_type": "code",
   "execution_count": 50,
   "metadata": {},
   "outputs": [],
   "source": [
    "u1 = me.dynamicsymbols('u1')           #x-dot\n",
    "u2 = me.dynamicsymbols('u2')           #theta-dot     \n",
    "u3 = me.dynamicsymbols('u3')           #delta-dot   \n",
    "u4 = me.dynamicsymbols('u4')           #wL-dot\n",
    "u5 = me.dynamicsymbols('u5')           #wR-dot\n",
    "uL = Matrix([u1, u2, u3, u4, u5])"
   ]
  },
  {
   "cell_type": "markdown",
   "metadata": {},
   "source": [
    "## Mass and Inertia\n",
    "\n",
    "관성모멘트함수=inertia(기준 좌표, xx, yy,zz회전)"
   ]
  },
  {
   "cell_type": "code",
   "execution_count": 8,
   "metadata": {},
   "outputs": [],
   "source": [
    "K,J = symbols('K J')"
   ]
  },
  {
   "cell_type": "code",
   "execution_count": 9,
   "metadata": {},
   "outputs": [],
   "source": [
    "I_L = inertia(F, K,J,K)                          #Wheel inertia \n",
    "I_R = inertia(F, K,J,K)\n"
   ]
  },
  {
   "cell_type": "code",
   "execution_count": 10,
   "metadata": {},
   "outputs": [],
   "source": [
    "m_b = symbols('m_b')                              #Mass of the body\n",
    "I1, I2, I3 = symbols('I1 I2 I3')                  #Moments of inertia of body"
   ]
  },
  {
   "cell_type": "code",
   "execution_count": 11,
   "metadata": {},
   "outputs": [],
   "source": [
    "# Calculate inertia of body\n",
    "Ib = inertia(F, I1, I2, I3)"
   ]
  },
  {
   "cell_type": "markdown",
   "metadata": {},
   "source": [
    "###  Geometry relating unit vectors"
   ]
  },
  {
   "cell_type": "code",
   "execution_count": 12,
   "metadata": {},
   "outputs": [],
   "source": [
    "F.orient(N, 'Axis', [delta, N.z])"
   ]
  },
  {
   "cell_type": "code",
   "execution_count": 13,
   "metadata": {},
   "outputs": [],
   "source": [
    "P.orient(F, 'Axis', [theta, F.y])"
   ]
  },
  {
   "cell_type": "code",
   "execution_count": 14,
   "metadata": {
    "scrolled": true
   },
   "outputs": [
    {
     "data": {
      "text/latex": [
       "$\\displaystyle \\left[\\begin{matrix}\\cos{\\left(\\delta \\right)} & - \\sin{\\left(\\delta \\right)} & 0\\\\\\sin{\\left(\\delta \\right)} & \\cos{\\left(\\delta \\right)} & 0\\\\0 & 0 & 1\\end{matrix}\\right]$"
      ],
      "text/plain": [
       "⎡cos(δ)  -sin(δ)  0⎤\n",
       "⎢                  ⎥\n",
       "⎢sin(δ)  cos(δ)   0⎥\n",
       "⎢                  ⎥\n",
       "⎣  0        0     1⎦"
      ]
     },
     "execution_count": 14,
     "metadata": {},
     "output_type": "execute_result"
    }
   ],
   "source": [
    "N.dcm(F)"
   ]
  },
  {
   "cell_type": "code",
   "execution_count": 15,
   "metadata": {},
   "outputs": [
    {
     "data": {
      "text/latex": [
       "$\\displaystyle \\left[\\begin{matrix}\\cos{\\left(\\theta \\right)} & 0 & \\sin{\\left(\\theta \\right)}\\\\0 & 1 & 0\\\\- \\sin{\\left(\\theta \\right)} & 0 & \\cos{\\left(\\theta \\right)}\\end{matrix}\\right]$"
      ],
      "text/plain": [
       "⎡cos(θ)   0  sin(θ)⎤\n",
       "⎢                  ⎥\n",
       "⎢   0     1    0   ⎥\n",
       "⎢                  ⎥\n",
       "⎣-sin(θ)  0  cos(θ)⎦"
      ]
     },
     "execution_count": 15,
     "metadata": {},
     "output_type": "execute_result"
    }
   ],
   "source": [
    "F.dcm(P)"
   ]
  },
  {
   "cell_type": "markdown",
   "metadata": {},
   "source": [
    "## Position vectors\n",
    "\n",
    "기준.locatenew('이름', 이동*단위백터)"
   ]
  },
  {
   "cell_type": "markdown",
   "metadata": {},
   "source": [
    "P_No_I = x*F.x    # Point No to I\n",
    "P_I_Po = l*P.z    # Point I to mass center of P\n",
    "P_I_Lo = d*F.y    # Point I to center of wheel L\n",
    "P_I_Ro = -d*F.y   # Point I to center of wheel R\n",
    "P_Lo_LN = -R*F.z   # Center of wheel L to contact point LN\n",
    "P_Ro_RN = -R*F.z   # Center of wheel R to contact point RN"
   ]
  },
  {
   "cell_type": "code",
   "execution_count": 16,
   "metadata": {},
   "outputs": [],
   "source": [
    "I = No.locatenew('I', x*F.x)      # Point No to I\n",
    "\n",
    "Po = I.locatenew('Po', l*P.z)     # Point I to mass center of P\n",
    "\n",
    "Lo = I.locatenew('Lo', d*F.y)     # Point I to center of wheel L\n",
    "\n",
    "Ro = I.locatenew('Ro', -d*F.y)    # Point I to center of wheel R\n",
    "\n",
    "LN = Lo.locatenew('LN', -R*F.z)   # Center of wheel L to contact point LN\n",
    "\n",
    "RN = Ro.locatenew('RN', -R*F.z)   # Center of wheel R to contact point RN"
   ]
  },
  {
   "cell_type": "markdown",
   "metadata": {},
   "source": [
    "## Angular Velocities\n"
   ]
  },
  {
   "cell_type": "code",
   "execution_count": 17,
   "metadata": {},
   "outputs": [],
   "source": [
    "F.set_ang_vel(N, u3*N.z)        # Angular velocity of F in N\n",
    "P.set_ang_vel(F, u2*F.y)        # Angular velocity of P in F\n",
    "body_l_f.set_ang_vel(F, u4*F.y)    # wL is related to w and v due to rolling\n",
    "body_r_f.set_ang_vel(F, u5*F.y)    # wR is related to w and v due to rolling"
   ]
  },
  {
   "cell_type": "markdown",
   "metadata": {},
   "source": [
    "## Velocities of relevant points"
   ]
  },
  {
   "cell_type": "markdown",
   "metadata": {},
   "source": [
    "\n",
    "v2pt_theory는 선속도를 의미\n",
    "\n",
    "\n",
    "$$^I\\mathbf{v}^{P_2} = ^I\\mathbf{v}^{P_1} + ^I\\omega^A \\times \\mathbf{r}^{\\frac{P_2}{P_1}}$$\n",
    "\n",
    "The `Point.v2pt_theory()` method makes it easy to do this calculation.\n",
    "\n",
    "측정점.v2pt_theory(회전 중심점, 관찰틀, 회전틀(돌아가는 애))\n",
    "\n",
    "\n",
    "\n",
    "속도를 측정하는게 아니고 부여하는거 같다 좀더 알아보자"
   ]
  },
  {
   "cell_type": "code",
   "execution_count": 18,
   "metadata": {},
   "outputs": [
    {
     "data": {
      "image/png": "[encoded data removed]",
      "text/latex": [
       "$\\displaystyle u_{1}\\mathbf{\\hat{f}_x} + l u_{2}\\mathbf{\\hat{p}_x} + l u_{3} \\sin{\\left(\\theta \\right)}\\mathbf{\\hat{p}_y}$"
      ],
      "text/plain": [
       "u₁ f_x + l⋅u₂ p_x + l⋅u₃⋅sin(θ) p_y"
      ]
     },
     "execution_count": 18,
     "metadata": {},
     "output_type": "execute_result"
    }
   ],
   "source": [
    "V_I_N = I.set_vel(N, u1*F.x)             # Velocity of point I in N\n",
    "\n",
    "V_PO_N = Po.v2pt_theory(I,N,P)           # Velocity of center of mass of P\n",
    "\n",
    "V_LO_N = Lo.v2pt_theory(I, N,P,)         # Velocity of center of L\n",
    "\n",
    "V_RO_N = Ro.v2pt_theory(I,N,P)           # Velocity of center of R\n",
    "\n",
    "V_LN_N = LN.v2pt_theory(Lo,N,body_l_f)          # Velocity of contact point of L\n",
    "\n",
    "V_RN_N = RN.v2pt_theory(Ro,N,body_r_f)          # Velocity of contact point of R\n",
    "\n",
    "V_PO_N\n"
   ]
  },
  {
   "cell_type": "markdown",
   "metadata": {},
   "source": [
    "RigidBody =강체 선언 (입자로 저장된다고 한다)\n",
    "\n",
    "\n",
    " B = RigidBody ( '이름' ,질량 중심, 프레임 ,질량, ( I , P ))\n",
    " "
   ]
  },
  {
   "cell_type": "code",
   "execution_count": 19,
   "metadata": {
    "tags": []
   },
   "outputs": [],
   "source": [
    "\n",
    "body_p = me.RigidBody('p', Po, P, Mp, (Ib, Po))\n",
    "body_l = me.RigidBody('l', Lo, body_l_f, M, (I_L, Lo))\n",
    "body_r = me.RigidBody('r', Ro, body_r_f, M,(I_R, Ro))"
   ]
  },
  {
   "cell_type": "markdown",
   "metadata": {
    "tags": []
   },
   "source": [
    "### Forces"
   ]
  },
  {
   "cell_type": "markdown",
   "metadata": {},
   "source": [
    "#### gravity"
   ]
  },
  {
   "cell_type": "code",
   "execution_count": 20,
   "metadata": {},
   "outputs": [],
   "source": [
    "#중력벡터\n",
    "Gravity = -g * N.z      #Gravity Vector\n"
   ]
  },
  {
   "cell_type": "code",
   "execution_count": 21,
   "metadata": {},
   "outputs": [],
   "source": [
    "body_gravity_vector =-g*Mp*N.z"
   ]
  },
  {
   "cell_type": "code",
   "execution_count": 22,
   "metadata": {},
   "outputs": [],
   "source": [
    "leftwheel_gravity_vector = - M*g*N.z"
   ]
  },
  {
   "cell_type": "code",
   "execution_count": 23,
   "metadata": {},
   "outputs": [],
   "source": [
    "rightwheel_gravity_vector = - M*g*N.z"
   ]
  },
  {
   "cell_type": "code",
   "execution_count": 24,
   "metadata": {},
   "outputs": [],
   "source": [
    "b_g_f = (Po, body_gravity_vector)"
   ]
  },
  {
   "cell_type": "code",
   "execution_count": 25,
   "metadata": {},
   "outputs": [],
   "source": [
    "l_g_f = (Lo, leftwheel_gravity_vector)"
   ]
  },
  {
   "cell_type": "code",
   "execution_count": 26,
   "metadata": {},
   "outputs": [],
   "source": [
    "r_g_f = (Ro, rightwheel_gravity_vector)"
   ]
  },
  {
   "cell_type": "code",
   "execution_count": 27,
   "metadata": {
    "tags": []
   },
   "outputs": [
    {
     "data": {
      "text/plain": [
       "sympy.physics.vector.point.Point"
      ]
     },
     "execution_count": 27,
     "metadata": {},
     "output_type": "execute_result"
    }
   ],
   "source": [
    "type(Po)"
   ]
  },
  {
   "cell_type": "code",
   "execution_count": 28,
   "metadata": {},
   "outputs": [
    {
     "data": {
      "text/plain": [
       "sympy.physics.vector.vector.Vector"
      ]
     },
     "execution_count": 28,
     "metadata": {},
     "output_type": "execute_result"
    }
   ],
   "source": [
    "type(body_gravity_vector)"
   ]
  },
  {
   "cell_type": "markdown",
   "metadata": {},
   "source": [
    "### Torques"
   ]
  },
  {
   "cell_type": "markdown",
   "metadata": {
    "tags": []
   },
   "source": [
    "바퀴가 받는 토크, 바퀴에 의해 생기는 몸의 반작용 토크"
   ]
  },
  {
   "cell_type": "code",
   "execution_count": 29,
   "metadata": {},
   "outputs": [],
   "source": [
    "body_torque, Lwheel_torque, Rwheel_torque = dynamicsymbols('T_b, T_r, T_l')"
   ]
  },
  {
   "cell_type": "code",
   "execution_count": 30,
   "metadata": {},
   "outputs": [],
   "source": [
    "Lwheel_torque_vector = Lwheel_torque * F.y"
   ]
  },
  {
   "cell_type": "code",
   "execution_count": 31,
   "metadata": {},
   "outputs": [],
   "source": [
    "Rwheel_torque_vector = Rwheel_torque * F.y"
   ]
  },
  {
   "cell_type": "code",
   "execution_count": 32,
   "metadata": {},
   "outputs": [],
   "source": [
    "body_torque_vector = -Lwheel_torque_vector -Rwheel_torque_vector"
   ]
  },
  {
   "cell_type": "code",
   "execution_count": 33,
   "metadata": {},
   "outputs": [],
   "source": [
    "Lwheel_torque = (body_l_f, Lwheel_torque_vector)"
   ]
  },
  {
   "cell_type": "code",
   "execution_count": 34,
   "metadata": {},
   "outputs": [],
   "source": [
    "Rwheel_torque = (body_r_f, Rwheel_torque_vector)"
   ]
  },
  {
   "cell_type": "code",
   "execution_count": 35,
   "metadata": {},
   "outputs": [],
   "source": [
    "body_torque = (P, body_torque_vector)"
   ]
  },
  {
   "cell_type": "code",
   "execution_count": 36,
   "metadata": {},
   "outputs": [
    {
     "data": {
      "text/plain": [
       "(P, (-T_l(t) - T_r(t))*F.y)"
      ]
     },
     "execution_count": 36,
     "metadata": {},
     "output_type": "execute_result"
    }
   ],
   "source": [
    "body_torque"
   ]
  },
  {
   "cell_type": "markdown",
   "metadata": {
    "tags": []
   },
   "source": [
    "### Equations of Motions"
   ]
  },
  {
   "cell_type": "markdown",
   "metadata": {},
   "source": [
    "q는 위치 dq 속력"
   ]
  },
  {
   "cell_type": "code",
   "execution_count": 37,
   "metadata": {},
   "outputs": [
    {
     "data": {
      "text/latex": [
       "$\\displaystyle \\left[\\begin{matrix}x\\\\\\theta\\\\\\delta\\\\wL\\\\wR\\end{matrix}\\right]$"
      ],
      "text/plain": [
       "⎡x ⎤\n",
       "⎢  ⎥\n",
       "⎢θ ⎥\n",
       "⎢  ⎥\n",
       "⎢δ ⎥\n",
       "⎢  ⎥\n",
       "⎢wL⎥\n",
       "⎢  ⎥\n",
       "⎣wR⎦"
      ]
     },
     "execution_count": 37,
     "metadata": {},
     "output_type": "execute_result"
    }
   ],
   "source": [
    "q"
   ]
  },
  {
   "cell_type": "code",
   "execution_count": 39,
   "metadata": {},
   "outputs": [
    {
     "data": {
      "text/plain": [
       "[(Po, - Mp*g*N.z),\n",
       " (Ro, - M*g*N.z),\n",
       " (Lo, - M*g*N.z),\n",
       " (L_f, T_r(t)*F.y),\n",
       " (R_f, T_l(t)*F.y),\n",
       " (P, (-T_l(t) - T_r(t))*F.y)]"
      ]
     },
     "execution_count": 39,
     "metadata": {},
     "output_type": "execute_result"
    }
   ],
   "source": [
    "FL = [b_g_f,\n",
    "         r_g_f,\n",
    "         l_g_f,\n",
    "         Lwheel_torque,\n",
    "         Rwheel_torque,\n",
    "         body_torque]\n",
    "FL"
   ]
  },
  {
   "cell_type": "markdown",
   "metadata": {},
   "source": [
    "## Constranits"
   ]
  },
  {
   "cell_type": "code",
   "execution_count": 40,
   "metadata": {},
   "outputs": [],
   "source": [
    "Dependent1 =dot(V_LN_N ,F.x)"
   ]
  },
  {
   "cell_type": "code",
   "execution_count": 41,
   "metadata": {},
   "outputs": [
    {
     "data": {
      "image/png": "[encoded data removed]",
      "text/latex": [
       "$\\displaystyle - d u_{3} - r u_{4} + u_{1}$"
      ],
      "text/plain": [
       "-d⋅u₃ - r⋅u₄ + u₁"
      ]
     },
     "execution_count": 41,
     "metadata": {},
     "output_type": "execute_result"
    }
   ],
   "source": [
    "Dependent1"
   ]
  },
  {
   "cell_type": "code",
   "execution_count": 42,
   "metadata": {},
   "outputs": [],
   "source": [
    "Dependent2 = dot(V_RN_N, F.x)"
   ]
  },
  {
   "cell_type": "code",
   "execution_count": 43,
   "metadata": {},
   "outputs": [
    {
     "data": {
      "image/png": "[encoded data removed]",
      "text/latex": [
       "$\\displaystyle d u_{3} - r u_{5} + u_{1}$"
      ],
      "text/plain": [
       "d⋅u₃ - r⋅u₅ + u₁"
      ]
     },
     "execution_count": 43,
     "metadata": {},
     "output_type": "execute_result"
    }
   ],
   "source": [
    "Dependent2"
   ]
  },
  {
   "cell_type": "code",
   "execution_count": null,
   "metadata": {},
   "outputs": [],
   "source": []
  },
  {
   "cell_type": "markdown",
   "metadata": {
    "tags": []
   },
   "source": [
    "# Kinematical Differential Equations"
   ]
  },
  {
   "cell_type": "code",
   "execution_count": 88,
   "metadata": {},
   "outputs": [
    {
     "data": {
      "image/png": "[encoded data removed]",
      "text/latex": [
       "$\\displaystyle \\left[ - u_{1} + \\dot{x}, \\  - u_{2} + \\dot{\\theta}, \\  - u_{3} + \\dot{\\delta}, \\  - u_{4} + \\dot{wL}, \\  - u_{5} + \\dot{wR}\\right]$"
      ],
      "text/plain": [
       "[-u₁ + ẋ, -u₂ + θ̇, -u₃ + δ̇, -u₄ + wL̇, -u₅ + wṘ]"
      ]
     },
     "execution_count": 88,
     "metadata": {},
     "output_type": "execute_result"
    }
   ],
   "source": [
    "kde = [xd - u1,\n",
    "       thetad - u2,\n",
    "       deltad - u3,\n",
    "       wLd - u4,\n",
    "       wRd - u5]\n",
    "kde"
   ]
  },
  {
   "cell_type": "markdown",
   "metadata": {
    "tags": []
   },
   "source": [
    "# 운동방정식으로 만들자"
   ]
  },
  {
   "cell_type": "markdown",
   "metadata": {},
   "source": [
    "## Generalized Forces"
   ]
  },
  {
   "cell_type": "markdown",
   "metadata": {},
   "source": [
    "[토크힘] x [속도,각속도]\n",
    "\n",
    "[Cm속도, 앞바퀴각속도, 뒷바퀴각속도, 몸체 각속도] x [중력, 앞바퀴토크, 뒷바퀴토크, Cm토크] \n",
    "\n",
    "VnWxTnF"
   ]
  },
  {
   "cell_type": "code",
   "execution_count": 45,
   "metadata": {},
   "outputs": [],
   "source": [
    "from __future__ import print_function, division"
   ]
  },
  {
   "cell_type": "code",
   "execution_count": 46,
   "metadata": {},
   "outputs": [],
   "source": [
    "from sympy import trigsimp\n",
    "from sympy.physics.mechanics import KanesMethod"
   ]
  },
  {
   "cell_type": "code",
   "execution_count": 47,
   "metadata": {},
   "outputs": [],
   "source": [
    "from sympy.physics.vector import init_vprinting"
   ]
  },
  {
   "cell_type": "code",
   "execution_count": 48,
   "metadata": {},
   "outputs": [
    {
     "data": {
      "text/plain": [
       "[p, l, r]"
      ]
     },
     "execution_count": 86,
     "metadata": {},
     "output_type": "execute_result"
    }
   ],
   "source": [
    "BL = [body_p,body_l,body_r]\n",
    "BL"
   ]
  },
  {
   "cell_type": "code",
   "execution_count": 51,
   "metadata": {},
   "outputs": [
    {
     "ename": "ValueError",
     "evalue": "There must be an equal number of kinematic differential equations and coordinates.",
     "output_type": "error",
     "traceback": [
      "\u001b[0;31m---------------------------------------------------------------------------\u001b[0m",
      "\u001b[0;31mValueError\u001b[0m                                Traceback (most recent call last)",
      "\u001b[0;32m<ipython-input-87-fb13cfb6bbfb>\u001b[0m in \u001b[0;36m<module>\u001b[0;34m\u001b[0m\n\u001b[0;32m----> 1\u001b[0;31m kane = KanesMethod(\n\u001b[0m\u001b[1;32m      2\u001b[0m     \u001b[0mN\u001b[0m\u001b[0;34m,\u001b[0m\u001b[0;34m\u001b[0m\u001b[0;34m\u001b[0m\u001b[0m\n\u001b[1;32m      3\u001b[0m     \u001b[0mq\u001b[0m\u001b[0;34m,\u001b[0m\u001b[0;34m\u001b[0m\u001b[0;34m\u001b[0m\u001b[0m\n\u001b[1;32m      4\u001b[0m     \u001b[0muL\u001b[0m\u001b[0;34m,\u001b[0m\u001b[0;34m\u001b[0m\u001b[0;34m\u001b[0m\u001b[0m\n\u001b[1;32m      5\u001b[0m     \u001b[0mkd_eqs\u001b[0m\u001b[0;34m=\u001b[0m\u001b[0mkde\u001b[0m\u001b[0;34m,\u001b[0m\u001b[0;34m\u001b[0m\u001b[0;34m\u001b[0m\u001b[0m\n",
      "\u001b[0;32m~/miniconda3/lib/python3.9/site-packages/sympy/physics/mechanics/kane.py\u001b[0m in \u001b[0;36m__init__\u001b[0;34m(self, frame, q_ind, u_ind, kd_eqs, q_dependent, configuration_constraints, u_dependent, velocity_constraints, acceleration_constraints, u_auxiliary, bodies, forcelist)\u001b[0m\n\u001b[1;32m    138\u001b[0m         self._initialize_vectors(q_ind, q_dependent, u_ind, u_dependent,\n\u001b[1;32m    139\u001b[0m                 u_auxiliary)\n\u001b[0;32m--> 140\u001b[0;31m         \u001b[0mself\u001b[0m\u001b[0;34m.\u001b[0m\u001b[0m_initialize_kindiffeq_matrices\u001b[0m\u001b[0;34m(\u001b[0m\u001b[0mkd_eqs\u001b[0m\u001b[0;34m)\u001b[0m\u001b[0;34m\u001b[0m\u001b[0;34m\u001b[0m\u001b[0m\n\u001b[0m\u001b[1;32m    141\u001b[0m         self._initialize_constraint_matrices(configuration_constraints,\n\u001b[1;32m    142\u001b[0m                 velocity_constraints, acceleration_constraints)\n",
      "\u001b[0;32m~/miniconda3/lib/python3.9/site-packages/sympy/physics/mechanics/kane.py\u001b[0m in \u001b[0;36m_initialize_kindiffeq_matrices\u001b[0;34m(self, kdeqs)\u001b[0m\n\u001b[1;32m    242\u001b[0m         \u001b[0;32mif\u001b[0m \u001b[0mkdeqs\u001b[0m\u001b[0;34m:\u001b[0m\u001b[0;34m\u001b[0m\u001b[0;34m\u001b[0m\u001b[0m\n\u001b[1;32m    243\u001b[0m             \u001b[0;32mif\u001b[0m \u001b[0mlen\u001b[0m\u001b[0;34m(\u001b[0m\u001b[0mself\u001b[0m\u001b[0;34m.\u001b[0m\u001b[0mq\u001b[0m\u001b[0;34m)\u001b[0m \u001b[0;34m!=\u001b[0m \u001b[0mlen\u001b[0m\u001b[0;34m(\u001b[0m\u001b[0mkdeqs\u001b[0m\u001b[0;34m)\u001b[0m\u001b[0;34m:\u001b[0m\u001b[0;34m\u001b[0m\u001b[0;34m\u001b[0m\u001b[0m\n\u001b[0;32m--> 244\u001b[0;31m                 raise ValueError('There must be an equal number of kinematic '\n\u001b[0m\u001b[1;32m    245\u001b[0m                                  'differential equations and coordinates.')\n\u001b[1;32m    246\u001b[0m             \u001b[0mkdeqs\u001b[0m \u001b[0;34m=\u001b[0m \u001b[0mMatrix\u001b[0m\u001b[0;34m(\u001b[0m\u001b[0mkdeqs\u001b[0m\u001b[0;34m)\u001b[0m\u001b[0;34m\u001b[0m\u001b[0;34m\u001b[0m\u001b[0m\n",
      "\u001b[0;31mValueError\u001b[0m: There must be an equal number of kinematic differential equations and coordinates."
     ]
    }
   ],
   "source": [
    "kane = KanesMethod(\n",
    "    N,\n",
    "    q,\n",
    "    uL,\n",
    "    kd_eqs=kde,\n",
    "    q_dependent=None,\n",
    "    configuration_constraints=None,\n",
    "    u_dependent=None,\n",
    "    velocity_constraints=None,\n",
    "    acceleration_constraints=None,\n",
    "    u_auxiliary=None,\n",
    "    bodies=None,\n",
    "    forcelist=None,\n",
    ")"
   ]
  },
  {
   "cell_type": "code",
   "execution_count": 52,
   "metadata": {},
   "outputs": [
    {
     "data": {
      "text/plain": [
       "<sympy.physics.mechanics.kane.KanesMethod at 0x7fb87722a550>"
      ]
     },
     "execution_count": 52,
     "metadata": {},
     "output_type": "execute_result"
    }
   ],
   "source": [
    "kane"
   ]
  },
  {
   "cell_type": "code",
   "execution_count": 53,
   "metadata": {},
   "outputs": [],
   "source": [
    "fr, frstar = kane.kanes_equations( BL, FL)"
   ]
  },
  {
   "cell_type": "code",
   "execution_count": null,
   "metadata": {},
   "outputs": [],
   "source": []
  },
  {
   "cell_type": "code",
   "execution_count": 89,
   "metadata": {},
   "outputs": [],
   "source": [
    "MM = kane.mass_matrix"
   ]
  },
  {
   "cell_type": "code",
   "execution_count": 90,
   "metadata": {},
   "outputs": [],
   "source": [
    "forcing = kane.forcing"
   ]
  },
  {
   "cell_type": "code",
   "execution_count": 91,
   "metadata": {},
   "outputs": [],
   "source": [
    "rhs = MM.inv() * forcing"
   ]
  },
  {
   "cell_type": "code",
   "execution_count": 92,
   "metadata": {},
   "outputs": [],
   "source": [
    "kdd = kane.kindiffdict()"
   ]
  },
  {
   "cell_type": "code",
   "execution_count": 93,
   "metadata": {},
   "outputs": [],
   "source": [
    "rhs = rhs.subs(kdd)"
   ]
  },
  {
   "cell_type": "code",
   "execution_count": 94,
   "metadata": {},
   "outputs": [],
   "source": [
    "rhs.simplify()"
   ]
  },
  {
   "cell_type": "code",
   "execution_count": 95,
   "metadata": {},
   "outputs": [
    {
     "name": "stdout",
     "output_type": "stream",
     "text": [
      "Matrix([\n",
      "[Mp*l*((I2 + Mp*l**2)*(u2**2 + u3**2)*sin(theta) - (Mp*g*l*sin(theta) + Mp*l**2*u3**2*sin(2*theta)/2 - T_l - T_r)*cos(theta))/(2*I2*M + I2*Mp + 2*M*Mp*l**2 + Mp**2*l**2*sin(theta)**2)],\n",
      "[    (-Mp**2*l**2*(u2**2 + u3**2)*sin(2*theta)/2 + (2*M + Mp)*(Mp*g*l*sin(theta) + Mp*l**2*u3**2*sin(2*theta)/2 - T_l - T_r))/(2*I2*M + I2*Mp + 2*M*Mp*l**2 + Mp**2*l**2*sin(theta)**2)],\n",
      "[                                                                                            -Mp*l*(2*l*u2*cos(theta) + u1)*u3*sin(theta)/(I3 + 2*K + 2*M*d**2 + Mp*l**2*sin(theta)**2)],\n",
      "[                                                                                                                                                                                 T_r/J],\n",
      "[                                                                                                                                                                                 T_l/J]])\n"
     ]
    }
   ],
   "source": [
    "mprint(rhs)"
   ]
  },
  {
   "cell_type": "code",
   "execution_count": 96,
   "metadata": {},
   "outputs": [
    {
     "data": {
      "text/latex": [
       "$\\displaystyle \\left[\\begin{matrix}\\frac{Mp l \\left(\\left(I_{2} + Mp l^{2}\\right) \\left(u_{2}^{2} + u_{3}^{2}\\right) \\sin{\\left(\\theta \\right)} - \\left(Mp g l \\sin{\\left(\\theta \\right)} + \\frac{Mp l^{2} u_{3}^{2} \\sin{\\left(2 \\theta \\right)}}{2} - T_{l} - T_{r}\\right) \\cos{\\left(\\theta \\right)}\\right)}{2 I_{2} M + I_{2} Mp + 2 M Mp l^{2} + Mp^{2} l^{2} \\sin^{2}{\\left(\\theta \\right)}}\\\\\\frac{- \\frac{Mp^{2} l^{2} \\left(u_{2}^{2} + u_{3}^{2}\\right) \\sin{\\left(2 \\theta \\right)}}{2} + \\left(2 M + Mp\\right) \\left(Mp g l \\sin{\\left(\\theta \\right)} + \\frac{Mp l^{2} u_{3}^{2} \\sin{\\left(2 \\theta \\right)}}{2} - T_{l} - T_{r}\\right)}{2 I_{2} M + I_{2} Mp + 2 M Mp l^{2} + Mp^{2} l^{2} \\sin^{2}{\\left(\\theta \\right)}}\\\\- \\frac{Mp l \\left(2 l u_{2} \\cos{\\left(\\theta \\right)} + u_{1}\\right) u_{3} \\sin{\\left(\\theta \\right)}}{I_{3} + 2 K + 2 M d^{2} + Mp l^{2} \\sin^{2}{\\left(\\theta \\right)}}\\\\\\frac{T_{r}}{J}\\\\\\frac{T_{l}}{J}\\end{matrix}\\right]$"
      ],
      "text/plain": [
       "⎡     ⎛                                  ⎛                    2   2           \n",
       "⎢     ⎜⎛         2⎞ ⎛  2     2⎞          ⎜                Mp⋅l ⋅u₃ ⋅sin(2⋅θ)  \n",
       "⎢Mp⋅l⋅⎜⎝I₂ + Mp⋅l ⎠⋅⎝u₂  + u₃ ⎠⋅sin(θ) - ⎜Mp⋅g⋅l⋅sin(θ) + ────────────────── -\n",
       "⎢     ⎝                                  ⎝                        2           \n",
       "⎢─────────────────────────────────────────────────────────────────────────────\n",
       "⎢                                                  2     2  2    2            \n",
       "⎢                         2⋅I₂⋅M + I₂⋅Mp + 2⋅M⋅Mp⋅l  + Mp ⋅l ⋅sin (θ)         \n",
       "⎢                                                                             \n",
       "⎢      2  2 ⎛  2     2⎞                       ⎛                    2   2      \n",
       "⎢    Mp ⋅l ⋅⎝u₂  + u₃ ⎠⋅sin(2⋅θ)              ⎜                Mp⋅l ⋅u₃ ⋅sin(2\n",
       "⎢  - ─────────────────────────── + (2⋅M + Mp)⋅⎜Mp⋅g⋅l⋅sin(θ) + ───────────────\n",
       "⎢                 2                           ⎝                        2      \n",
       "⎢  ───────────────────────────────────────────────────────────────────────────\n",
       "⎢                                                  2     2  2    2            \n",
       "⎢                         2⋅I₂⋅M + I₂⋅Mp + 2⋅M⋅Mp⋅l  + Mp ⋅l ⋅sin (θ)         \n",
       "⎢                                                                             \n",
       "⎢                            -Mp⋅l⋅(2⋅l⋅u₂⋅cos(θ) + u₁)⋅u₃⋅sin(θ)             \n",
       "⎢                            ─────────────────────────────────────            \n",
       "⎢                                              2       2    2                 \n",
       "⎢                              I₃ + 2⋅K + 2⋅M⋅d  + Mp⋅l ⋅sin (θ)              \n",
       "⎢                                                                             \n",
       "⎢                                              Tᵣ                             \n",
       "⎢                                              ──                             \n",
       "⎢                                              J                              \n",
       "⎢                                                                             \n",
       "⎢                                              Tₗ                             \n",
       "⎢                                              ──                             \n",
       "⎣                                              J                              \n",
       "\n",
       "        ⎞       ⎞⎤\n",
       "        ⎟       ⎟⎥\n",
       " Tₗ - Tᵣ⎟⋅cos(θ)⎟⎥\n",
       "        ⎠       ⎠⎥\n",
       "─────────────────⎥\n",
       "                 ⎥\n",
       "                 ⎥\n",
       "                 ⎥\n",
       "             ⎞   ⎥\n",
       "⋅θ)          ⎟   ⎥\n",
       "─── - Tₗ - Tᵣ⎟   ⎥\n",
       "             ⎠   ⎥\n",
       "──────────────   ⎥\n",
       "                 ⎥\n",
       "                 ⎥\n",
       "                 ⎥\n",
       "                 ⎥\n",
       "                 ⎥\n",
       "                 ⎥\n",
       "                 ⎥\n",
       "                 ⎥\n",
       "                 ⎥\n",
       "                 ⎥\n",
       "                 ⎥\n",
       "                 ⎥\n",
       "                 ⎥\n",
       "                 ⎥\n",
       "                 ⎦"
      ]
     },
     "execution_count": 96,
     "metadata": {},
     "output_type": "execute_result"
    }
   ],
   "source": [
    "showme = trigsimp(rhs)\n",
    "showme"
   ]
  },
  {
   "cell_type": "markdown",
   "metadata": {},
   "source": [
    "### F + F* =0 식 (Kanes equation)"
   ]
  },
  {
   "cell_type": "code",
   "execution_count": 54,
   "metadata": {
    "scrolled": true
   },
   "outputs": [
    {
     "data": {
      "text/latex": [
       "$\\displaystyle \\left[\\begin{matrix}- 2 M \\dot{u}_{1} + Mp l u_{2}^{2} \\sin{\\left(\\theta \\right)} + Mp l u_{3}^{2} \\sin{\\left(\\theta \\right)} - Mp l \\cos{\\left(\\theta \\right)} \\dot{u}_{2} - Mp \\dot{u}_{1}\\\\Mp g l \\sin{\\left(\\theta \\right)} + \\frac{Mp l^{2} u_{3}^{2} \\sin{\\left(2 \\theta \\right)}}{2} - Mp l \\cos{\\left(\\theta \\right)} \\dot{u}_{1} - \\left(I_{2} + Mp l^{2}\\right) \\dot{u}_{2} - T_{l} - T_{r}\\\\- Mp l^{2} u_{2} u_{3} \\sin{\\left(2 \\theta \\right)} - Mp l u_{1} u_{3} \\sin{\\left(\\theta \\right)} - \\left(I_{3} + 2 K + 2 M d^{2} + Mp l^{2} \\sin^{2}{\\left(\\theta \\right)}\\right) \\dot{u}_{3}\\\\- J \\dot{u}_{4} + T_{r}\\\\- J \\dot{u}_{5} + T_{l}\\end{matrix}\\right]$"
      ],
      "text/plain": [
       "⎡                        2                 2                                  \n",
       "⎢       -2⋅M⋅u₁̇ + Mp⋅l⋅u₂ ⋅sin(θ) + Mp⋅l⋅u₃ ⋅sin(θ) - Mp⋅l⋅cos(θ)⋅u₂̇ - Mp⋅u₁\n",
       "⎢                                                                             \n",
       "⎢                      2   2                                                  \n",
       "⎢                  Mp⋅l ⋅u₃ ⋅sin(2⋅θ)                    ⎛         2⎞         \n",
       "⎢  Mp⋅g⋅l⋅sin(θ) + ────────────────── - Mp⋅l⋅cos(θ)⋅u₁̇ - ⎝I₂ + Mp⋅l ⎠⋅u₂̇ - T\n",
       "⎢                          2                                                  \n",
       "⎢                                                                             \n",
       "⎢      2                                      ⎛                2       2    2 \n",
       "⎢- Mp⋅l ⋅u₂⋅u₃⋅sin(2⋅θ) - Mp⋅l⋅u₁⋅u₃⋅sin(θ) - ⎝I₃ + 2⋅K + 2⋅M⋅d  + Mp⋅l ⋅sin (\n",
       "⎢                                                                             \n",
       "⎢                                    -J⋅u₄̇ + Tᵣ                              \n",
       "⎢                                                                             \n",
       "⎣                                    -J⋅u₅̇ + Tₗ                              \n",
       "\n",
       "      ⎤\n",
       "̇        ⎥\n",
       "      ⎥\n",
       "      ⎥\n",
       "      ⎥\n",
       "ₗ - Tᵣ  ⎥\n",
       "      ⎥\n",
       "      ⎥\n",
       "  ⎞   ⎥\n",
       "θ)⎠⋅u₃̇⎥\n",
       "      ⎥\n",
       "       ⎥\n",
       "      ⎥\n",
       "       ⎦"
      ]
     },
     "execution_count": 54,
     "metadata": {},
     "output_type": "execute_result"
    }
   ],
   "source": [
    "trigsimp(fr + frstar)"
   ]
  },
  {
   "cell_type": "code",
   "execution_count": 55,
   "metadata": {
    "scrolled": true
   },
   "outputs": [
    {
     "data": {
      "text/latex": [
       "$\\displaystyle \\left[\\begin{matrix}1 & 0 & 0 & 0 & 0 & 0 & 0 & 0 & 0 & 0\\\\0 & 1 & 0 & 0 & 0 & 0 & 0 & 0 & 0 & 0\\\\0 & 0 & 1 & 0 & 0 & 0 & 0 & 0 & 0 & 0\\\\0 & 0 & 0 & 1 & 0 & 0 & 0 & 0 & 0 & 0\\\\0 & 0 & 0 & 0 & 1 & 0 & 0 & 0 & 0 & 0\\\\0 & 0 & 0 & 0 & 0 & 2 M + Mp & Mp l \\cos{\\left(\\theta \\right)} & 0 & 0 & 0\\\\0 & 0 & 0 & 0 & 0 & Mp l \\cos{\\left(\\theta \\right)} & I_{2} + Mp l^{2} & 0 & 0 & 0\\\\0 & 0 & 0 & 0 & 0 & 0 & 0 & I_{3} + 2 K + 2 M d^{2} + Mp l^{2} \\sin^{2}{\\left(\\theta \\right)} & 0 & 0\\\\0 & 0 & 0 & 0 & 0 & 0 & 0 & 0 & J & 0\\\\0 & 0 & 0 & 0 & 0 & 0 & 0 & 0 & 0 & J\\end{matrix}\\right]$"
      ],
      "text/plain": [
       "⎡1  0  0  0  0       0            0                       0                  0\n",
       "⎢                                                                             \n",
       "⎢0  1  0  0  0       0            0                       0                  0\n",
       "⎢                                                                             \n",
       "⎢0  0  1  0  0       0            0                       0                  0\n",
       "⎢                                                                             \n",
       "⎢0  0  0  1  0       0            0                       0                  0\n",
       "⎢                                                                             \n",
       "⎢0  0  0  0  1       0            0                       0                  0\n",
       "⎢                                                                             \n",
       "⎢0  0  0  0  0   2⋅M + Mp    Mp⋅l⋅cos(θ)                  0                  0\n",
       "⎢                                                                             \n",
       "⎢                                     2                                       \n",
       "⎢0  0  0  0  0  Mp⋅l⋅cos(θ)  I₂ + Mp⋅l                    0                  0\n",
       "⎢                                                                             \n",
       "⎢                                                         2       2    2      \n",
       "⎢0  0  0  0  0       0            0       I₃ + 2⋅K + 2⋅M⋅d  + Mp⋅l ⋅sin (θ)  0\n",
       "⎢                                                                             \n",
       "⎢0  0  0  0  0       0            0                       0                  J\n",
       "⎢                                                                             \n",
       "⎣0  0  0  0  0       0            0                       0                  0\n",
       "\n",
       "  0⎤\n",
       "   ⎥\n",
       "  0⎥\n",
       "   ⎥\n",
       "  0⎥\n",
       "   ⎥\n",
       "  0⎥\n",
       "   ⎥\n",
       "  0⎥\n",
       "   ⎥\n",
       "  0⎥\n",
       "   ⎥\n",
       "   ⎥\n",
       "  0⎥\n",
       "   ⎥\n",
       "   ⎥\n",
       "  0⎥\n",
       "   ⎥\n",
       "  0⎥\n",
       "   ⎥\n",
       "  J⎦"
      ]
     },
     "execution_count": 55,
     "metadata": {},
     "output_type": "execute_result"
    }
   ],
   "source": [
    "mass_matrix = trigsimp(kane.mass_matrix_full)\n",
    "mass_matrix"
   ]
  },
  {
   "cell_type": "code",
   "execution_count": 56,
   "metadata": {},
   "outputs": [
    {
     "data": {
      "text/latex": [
       "$\\displaystyle \\left[\\begin{matrix}u_{1}\\\\u_{2}\\\\u_{3}\\\\u_{4}\\\\u_{5}\\\\Mp l \\left(u_{2}^{2} + u_{3}^{2}\\right) \\sin{\\left(\\theta \\right)}\\\\Mp g l \\sin{\\left(\\theta \\right)} + \\frac{Mp l^{2} u_{3}^{2} \\sin{\\left(2 \\theta \\right)}}{2} - T_{l} - T_{r}\\\\- Mp l \\left(2 l u_{2} \\cos{\\left(\\theta \\right)} + u_{1}\\right) u_{3} \\sin{\\left(\\theta \\right)}\\\\T_{r}\\\\T_{l}\\end{matrix}\\right]$"
      ],
      "text/plain": [
       "⎡                     u₁                     ⎤\n",
       "⎢                                            ⎥\n",
       "⎢                     u₂                     ⎥\n",
       "⎢                                            ⎥\n",
       "⎢                     u₃                     ⎥\n",
       "⎢                                            ⎥\n",
       "⎢                     u₄                     ⎥\n",
       "⎢                                            ⎥\n",
       "⎢                     u₅                     ⎥\n",
       "⎢                                            ⎥\n",
       "⎢               ⎛  2     2⎞                  ⎥\n",
       "⎢          Mp⋅l⋅⎝u₂  + u₃ ⎠⋅sin(θ)           ⎥\n",
       "⎢                                            ⎥\n",
       "⎢                    2   2                   ⎥\n",
       "⎢                Mp⋅l ⋅u₃ ⋅sin(2⋅θ)          ⎥\n",
       "⎢Mp⋅g⋅l⋅sin(θ) + ────────────────── - Tₗ - Tᵣ⎥\n",
       "⎢                        2                   ⎥\n",
       "⎢                                            ⎥\n",
       "⎢    -Mp⋅l⋅(2⋅l⋅u₂⋅cos(θ) + u₁)⋅u₃⋅sin(θ)    ⎥\n",
       "⎢                                            ⎥\n",
       "⎢                     Tᵣ                     ⎥\n",
       "⎢                                            ⎥\n",
       "⎣                     Tₗ                     ⎦"
      ]
     },
     "execution_count": 56,
     "metadata": {},
     "output_type": "execute_result"
    }
   ],
   "source": [
    "forcing_vector = trigsimp(kane.forcing_full)\n",
    "forcing_vector"
   ]
  },
  {
   "cell_type": "code",
   "execution_count": 57,
   "metadata": {},
   "outputs": [
    {
     "data": {
      "image/png": "[encoded data removed]",
      "text/latex": [
       "$\\displaystyle \\left\\{T_{l}, T_{r}, \\theta, u_{1}, u_{2}, u_{3}\\right\\}$"
      ],
      "text/plain": [
       "{Tₗ, Tᵣ, θ, u₁, u₂, u₃}"
      ]
     },
     "execution_count": 57,
     "metadata": {},
     "output_type": "execute_result"
    }
   ],
   "source": [
    "find_dynamicsymbols(kane.forcing)"
   ]
  },
  {
   "cell_type": "code",
   "execution_count": 58,
   "metadata": {},
   "outputs": [
    {
     "data": {
      "text/latex": [
       "$\\displaystyle \\left[\\begin{matrix}0\\\\Mp g l \\sin{\\left(\\theta \\right)} - T_{l} - T_{r}\\\\0\\\\T_{r}\\\\T_{l}\\end{matrix}\\right]$"
      ],
      "text/plain": [
       "⎡           0           ⎤\n",
       "⎢                       ⎥\n",
       "⎢Mp⋅g⋅l⋅sin(θ) - Tₗ - Tᵣ⎥\n",
       "⎢                       ⎥\n",
       "⎢           0           ⎥\n",
       "⎢                       ⎥\n",
       "⎢          Tᵣ           ⎥\n",
       "⎢                       ⎥\n",
       "⎣          Tₗ           ⎦"
      ]
     },
     "execution_count": 58,
     "metadata": {},
     "output_type": "execute_result"
    }
   ],
   "source": [
    "fr"
   ]
  },
  {
   "cell_type": "code",
   "execution_count": 59,
   "metadata": {
    "scrolled": true
   },
   "outputs": [
    {
     "data": {
      "text/latex": [
       "$\\displaystyle \\left[\\begin{matrix}Mp l u_{3}^{2} \\sin{\\left(\\theta \\right)} \\cos^{2}{\\left(\\theta \\right)} - Mp l \\cos{\\left(\\theta \\right)} \\dot{u}_{2} - Mp \\left(- l u_{2}^{2} - l u_{3}^{2} \\sin^{2}{\\left(\\theta \\right)}\\right) \\sin{\\left(\\theta \\right)} - \\left(2 M + Mp\\right) \\dot{u}_{1}\\\\Mp l^{2} u_{3}^{2} \\sin{\\left(\\theta \\right)} \\cos{\\left(\\theta \\right)} - Mp l \\cos{\\left(\\theta \\right)} \\dot{u}_{1} - \\left(I_{2} + Mp l^{2}\\right) \\dot{u}_{2}\\\\- 2 Mp l^{2} u_{2} u_{3} \\sin{\\left(\\theta \\right)} \\cos{\\left(\\theta \\right)} - Mp l u_{1} u_{3} \\sin{\\left(\\theta \\right)} - \\left(I_{3} + 2 K + 2 M d^{2} + Mp l^{2} \\sin^{2}{\\left(\\theta \\right)}\\right) \\dot{u}_{3}\\\\- J \\dot{u}_{4}\\\\- J \\dot{u}_{5}\\end{matrix}\\right]$"
      ],
      "text/plain": [
       "⎡       2           2                          ⎛      2       2    2   ⎞      \n",
       "⎢Mp⋅l⋅u₃ ⋅sin(θ)⋅cos (θ) - Mp⋅l⋅cos(θ)⋅u₂̇ - Mp⋅⎝- l⋅u₂  - l⋅u₃ ⋅sin (θ)⎠⋅sin(\n",
       "⎢                                                                             \n",
       "⎢                      2   2                                  ⎛         2⎞    \n",
       "⎢                  Mp⋅l ⋅u₃ ⋅sin(θ)⋅cos(θ) - Mp⋅l⋅cos(θ)⋅u₁̇ - ⎝I₂ + Mp⋅l ⎠⋅u₂\n",
       "⎢                                                                             \n",
       "⎢          2                                           ⎛                2     \n",
       "⎢  - 2⋅Mp⋅l ⋅u₂⋅u₃⋅sin(θ)⋅cos(θ) - Mp⋅l⋅u₁⋅u₃⋅sin(θ) - ⎝I₃ + 2⋅K + 2⋅M⋅d  + Mp\n",
       "⎢                                                                             \n",
       "⎢                                            -J⋅u₄̇                           \n",
       "⎢                                                                             \n",
       "⎣                                            -J⋅u₅̇                           \n",
       "\n",
       "                 ⎤\n",
       "θ) - (2⋅M + Mp)⋅u₁̇⎥\n",
       "                 ⎥\n",
       "                 ⎥\n",
       "̇                  ⎥\n",
       "                 ⎥\n",
       "  2    2   ⎞     ⎥\n",
       "⋅l ⋅sin (θ)⎠⋅u₃̇  ⎥\n",
       "                 ⎥\n",
       "                  ⎥\n",
       "                 ⎥\n",
       "                  ⎦"
      ]
     },
     "execution_count": 59,
     "metadata": {},
     "output_type": "execute_result"
    }
   ],
   "source": [
    "frstar"
   ]
  },
  {
   "cell_type": "code",
   "execution_count": 61,
   "metadata": {},
   "outputs": [],
   "source": [
    "from numpy import array, zeros, eye, asarray, dot, rad2deg\n",
    "from numpy.linalg import inv"
   ]
  },
  {
   "cell_type": "code",
   "execution_count": 62,
   "metadata": {},
   "outputs": [],
   "source": [
    "%matplotlib inline"
   ]
  },
  {
   "cell_type": "code",
   "execution_count": 63,
   "metadata": {},
   "outputs": [],
   "source": [
    "from matplotlib.pyplot import plot, xlabel, ylabel, legend, rcParams"
   ]
  },
  {
   "cell_type": "code",
   "execution_count": 64,
   "metadata": {},
   "outputs": [],
   "source": [
    "rcParams['figure.figsize'] = (14, 8)"
   ]
  },
  {
   "cell_type": "code",
   "execution_count": 65,
   "metadata": {},
   "outputs": [],
   "source": [
    "from sympy import simplify, Matrix, matrix2numpy\n",
    "from sympy.physics.vector import init_vprinting, vlatex"
   ]
  },
  {
   "cell_type": "code",
   "execution_count": 66,
   "metadata": {},
   "outputs": [
    {
     "data": {
      "text/plain": [
       "'%.3f'"
      ]
     },
     "execution_count": 66,
     "metadata": {},
     "output_type": "execute_result"
    }
   ],
   "source": [
    "%precision 3"
   ]
  },
  {
   "cell_type": "code",
   "execution_count": 67,
   "metadata": {},
   "outputs": [
    {
     "data": {
      "text/plain": [
       "array([0., 0., 0., 0., 0.])"
      ]
     },
     "execution_count": 67,
     "metadata": {},
     "output_type": "execute_result"
    }
   ],
   "source": [
    "equilibrium_point = zeros(len(q + dq))\n",
    "equilibrium_point"
   ]
  },
  {
   "cell_type": "code",
   "execution_count": 77,
   "metadata": {},
   "outputs": [
    {
     "data": {
      "image/png": "[encoded data removed]",
      "text/latex": [
       "$\\displaystyle \\left\\{ \\delta + u_{3} : 0.0, \\  \\theta + u_{2} : 0.0, \\  u_{1} + x : 0.0, \\  u_{4} + wL : 0.0, \\  u_{5} + wR : 0.0\\right\\}$"
      ],
      "text/plain": [
       "{δ + u₃: 0.0, θ + u₂: 0.0, u₁ + x: 0.0, u₄ + wL: 0.0, u₅ + wR: 0.0}"
      ]
     },
     "execution_count": 77,
     "metadata": {},
     "output_type": "execute_result"
    }
   ],
   "source": [
    "equilibrium_dict = dict(zip(q + uL, equilibrium_point))\n",
    "equilibrium_dict"
   ]
  },
  {
   "cell_type": "code",
   "execution_count": 78,
   "metadata": {},
   "outputs": [],
   "source": [
    "M, F_A, F_B, r = kane.linearize(new_method=True, op_point=equilibrium_dict)"
   ]
  },
  {
   "cell_type": "code",
   "execution_count": 79,
   "metadata": {},
   "outputs": [
    {
     "data": {
      "text/latex": [
       "$\\displaystyle \\left[\\begin{matrix}1 & 0 & 0 & 0 & 0 & 0 & 0 & 0 & 0 & 0\\\\0 & 1 & 0 & 0 & 0 & 0 & 0 & 0 & 0 & 0\\\\0 & 0 & 1 & 0 & 0 & 0 & 0 & 0 & 0 & 0\\\\0 & 0 & 0 & 1 & 0 & 0 & 0 & 0 & 0 & 0\\\\0 & 0 & 0 & 0 & 1 & 0 & 0 & 0 & 0 & 0\\\\0 & 0 & 0 & 0 & 0 & - 2 M - Mp & - Mp l \\cos{\\left(\\theta \\right)} & 0 & 0 & 0\\\\0 & 0 & 0 & 0 & 0 & - Mp l \\cos{\\left(\\theta \\right)} & - I_{2} - Mp l^{2} & 0 & 0 & 0\\\\0 & 0 & 0 & 0 & 0 & 0 & 0 & - I_{3} - 2 K - 2 M d^{2} - Mp l^{2} \\sin^{2}{\\left(\\theta \\right)} & 0 & 0\\\\0 & 0 & 0 & 0 & 0 & 0 & 0 & 0 & - J & 0\\\\0 & 0 & 0 & 0 & 0 & 0 & 0 & 0 & 0 & - J\\end{matrix}\\right]$"
      ],
      "text/plain": [
       "⎡1  0  0  0  0       0             0                        0                 \n",
       "⎢                                                                             \n",
       "⎢0  1  0  0  0       0             0                        0                 \n",
       "⎢                                                                             \n",
       "⎢0  0  1  0  0       0             0                        0                 \n",
       "⎢                                                                             \n",
       "⎢0  0  0  1  0       0             0                        0                 \n",
       "⎢                                                                             \n",
       "⎢0  0  0  0  1       0             0                        0                 \n",
       "⎢                                                                             \n",
       "⎢0  0  0  0  0   -2⋅M - Mp    -Mp⋅l⋅cos(θ)                  0                 \n",
       "⎢                                                                             \n",
       "⎢                                       2                                     \n",
       "⎢0  0  0  0  0  -Mp⋅l⋅cos(θ)  -I₂ - Mp⋅l                    0                 \n",
       "⎢                                                                             \n",
       "⎢                                                            2       2    2   \n",
       "⎢0  0  0  0  0       0             0        -I₃ - 2⋅K - 2⋅M⋅d  - Mp⋅l ⋅sin (θ)\n",
       "⎢                                                                             \n",
       "⎢0  0  0  0  0       0             0                        0                 \n",
       "⎢                                                                             \n",
       "⎣0  0  0  0  0       0             0                        0                 \n",
       "\n",
       "  0   0 ⎤\n",
       "        ⎥\n",
       "  0   0 ⎥\n",
       "        ⎥\n",
       "  0   0 ⎥\n",
       "        ⎥\n",
       "  0   0 ⎥\n",
       "        ⎥\n",
       "  0   0 ⎥\n",
       "        ⎥\n",
       "  0   0 ⎥\n",
       "        ⎥\n",
       "        ⎥\n",
       "  0   0 ⎥\n",
       "        ⎥\n",
       "        ⎥\n",
       "  0   0 ⎥\n",
       "        ⎥\n",
       "  -J  0 ⎥\n",
       "        ⎥\n",
       "  0   -J⎦"
      ]
     },
     "execution_count": 79,
     "metadata": {},
     "output_type": "execute_result"
    }
   ],
   "source": [
    "simplify(M)"
   ]
  },
  {
   "cell_type": "code",
   "execution_count": 80,
   "metadata": {},
   "outputs": [
    {
     "data": {
      "text/latex": [
       "$\\displaystyle \\left[\\begin{matrix}0 & 0 & 0 & 0 & 0 & 1 & 0 & 0 & 0 & 0\\\\0 & 0 & 0 & 0 & 0 & 0 & 1 & 0 & 0 & 0\\\\0 & 0 & 0 & 0 & 0 & 0 & 0 & 1 & 0 & 0\\\\0 & 0 & 0 & 0 & 0 & 0 & 0 & 0 & 1 & 0\\\\0 & 0 & 0 & 0 & 0 & 0 & 0 & 0 & 0 & 1\\\\0 & - Mp l \\left(u_{2}^{2} \\cos{\\left(\\theta \\right)} + u_{3}^{2} \\cos{\\left(\\theta \\right)} + \\sin{\\left(\\theta \\right)} \\dot{u}_{2}\\right) & 0 & 0 & 0 & 0 & - 2 Mp l u_{2} \\sin{\\left(\\theta \\right)} & - 2 Mp l u_{3} \\sin{\\left(\\theta \\right)} & 0 & 0\\\\0 & Mp l \\left(- g \\cos{\\left(\\theta \\right)} - 2 l u_{3}^{2} \\cos^{2}{\\left(\\theta \\right)} + l u_{3}^{2} - \\sin{\\left(\\theta \\right)} \\dot{u}_{1}\\right) & 0 & 0 & 0 & 0 & 0 & - Mp l^{2} u_{3} \\sin{\\left(2 \\theta \\right)} & 0 & 0\\\\0 & Mp l \\left(2 l u_{2} u_{3} \\cos{\\left(2 \\theta \\right)} + l \\sin{\\left(2 \\theta \\right)} \\dot{u}_{3} + u_{1} u_{3} \\cos{\\left(\\theta \\right)}\\right) & 0 & 0 & 0 & Mp l u_{3} \\sin{\\left(\\theta \\right)} & Mp l^{2} u_{3} \\sin{\\left(2 \\theta \\right)} & Mp l \\left(2 l u_{2} \\cos{\\left(\\theta \\right)} + u_{1}\\right) \\sin{\\left(\\theta \\right)} & 0 & 0\\\\0 & 0 & 0 & 0 & 0 & 0 & 0 & 0 & 0 & 0\\\\0 & 0 & 0 & 0 & 0 & 0 & 0 & 0 & 0 & 0\\end{matrix}\\right]$"
      ],
      "text/plain": [
       "⎡0                             0                              0  0  0        1\n",
       "⎢                                                                             \n",
       "⎢0                             0                              0  0  0        0\n",
       "⎢                                                                             \n",
       "⎢0                             0                              0  0  0        0\n",
       "⎢                                                                             \n",
       "⎢0                             0                              0  0  0        0\n",
       "⎢                                                                             \n",
       "⎢0                             0                              0  0  0        0\n",
       "⎢                                                                             \n",
       "⎢               ⎛  2            2                   ⎞                         \n",
       "⎢0        -Mp⋅l⋅⎝u₂ ⋅cos(θ) + u₃ ⋅cos(θ) + sin(θ)⋅u₂̇⎠         0  0  0        \n",
       "⎢                                                                             \n",
       "⎢         ⎛                  2    2          2            ⎞                   \n",
       "⎢0   Mp⋅l⋅⎝-g⋅cos(θ) - 2⋅l⋅u₃ ⋅cos (θ) + l⋅u₃  - sin(θ)⋅u₁̇⎠   0  0  0        \n",
       "⎢                                                                             \n",
       "⎢                                                                             \n",
       "⎢0  Mp⋅l⋅(2⋅l⋅u₂⋅u₃⋅cos(2⋅θ) + l⋅sin(2⋅θ)⋅u₃̇ + u₁⋅u₃⋅cos(θ))  0  0  0  Mp⋅l⋅u\n",
       "⎢                                                                             \n",
       "⎢0                             0                              0  0  0        0\n",
       "⎢                                                                             \n",
       "⎣0                             0                              0  0  0        0\n",
       "\n",
       "                 0                         0                  0  0⎤\n",
       "                                                                  ⎥\n",
       "                 1                         0                  0  0⎥\n",
       "                                                                  ⎥\n",
       "                 0                         1                  0  0⎥\n",
       "                                                                  ⎥\n",
       "                 0                         0                  1  0⎥\n",
       "                                                                  ⎥\n",
       "                 0                         0                  0  1⎥\n",
       "                                                                  ⎥\n",
       "                                                                  ⎥\n",
       "0         -2⋅Mp⋅l⋅u₂⋅sin(θ)         -2⋅Mp⋅l⋅u₃⋅sin(θ)          0  0⎥\n",
       "                                                                  ⎥\n",
       "                                        2                         ⎥\n",
       "0                 0                 -Mp⋅l ⋅u₃⋅sin(2⋅θ)         0  0⎥\n",
       "                                                                  ⎥\n",
       "             2                                                    ⎥\n",
       "₃⋅sin(θ)  Mp⋅l ⋅u₃⋅sin(2⋅θ)  Mp⋅l⋅(2⋅l⋅u₂⋅cos(θ) + u₁)⋅sin(θ)  0  0⎥\n",
       "                                                                  ⎥\n",
       "                 0                         0                  0  0⎥\n",
       "                                                                  ⎥\n",
       "                 0                         0                  0  0⎦"
      ]
     },
     "execution_count": 80,
     "metadata": {},
     "output_type": "execute_result"
    }
   ],
   "source": [
    "simplify(F_A)"
   ]
  },
  {
   "cell_type": "code",
   "execution_count": 81,
   "metadata": {},
   "outputs": [
    {
     "data": {
      "text/latex": [
       "$\\displaystyle \\left[\\begin{matrix}0 & 0\\\\0 & 0\\\\0 & 0\\\\0 & 0\\\\0 & 0\\\\0 & 0\\\\1 & 1\\\\0 & 0\\\\0 & -1\\\\-1 & 0\\end{matrix}\\right]$"
      ],
      "text/plain": [
       "⎡0   0 ⎤\n",
       "⎢      ⎥\n",
       "⎢0   0 ⎥\n",
       "⎢      ⎥\n",
       "⎢0   0 ⎥\n",
       "⎢      ⎥\n",
       "⎢0   0 ⎥\n",
       "⎢      ⎥\n",
       "⎢0   0 ⎥\n",
       "⎢      ⎥\n",
       "⎢0   0 ⎥\n",
       "⎢      ⎥\n",
       "⎢1   1 ⎥\n",
       "⎢      ⎥\n",
       "⎢0   0 ⎥\n",
       "⎢      ⎥\n",
       "⎢0   -1⎥\n",
       "⎢      ⎥\n",
       "⎣-1  0 ⎦"
      ]
     },
     "execution_count": 81,
     "metadata": {},
     "output_type": "execute_result"
    }
   ],
   "source": [
    "simplify(F_B) "
   ]
  },
  {
   "cell_type": "markdown",
   "metadata": {},
   "source": [
    "# Simulation"
   ]
  },
  {
   "cell_type": "code",
   "execution_count": 73,
   "metadata": {},
   "outputs": [
    {
     "ename": "ModuleNotFoundError",
     "evalue": "No module named 'scipy'",
     "output_type": "error",
     "traceback": [
      "\u001b[0;31m---------------------------------------------------------------------------\u001b[0m",
      "\u001b[0;31mModuleNotFoundError\u001b[0m                       Traceback (most recent call last)",
      "\u001b[0;32m<ipython-input-73-d5c8baf28a34>\u001b[0m in \u001b[0;36m<module>\u001b[0;34m\u001b[0m\n\u001b[1;32m      2\u001b[0m \u001b[0;32mfrom\u001b[0m \u001b[0mnumpy\u001b[0m \u001b[0;32mimport\u001b[0m \u001b[0marray\u001b[0m\u001b[0;34m,\u001b[0m \u001b[0mhstack\u001b[0m\u001b[0;34m,\u001b[0m \u001b[0mzeros\u001b[0m\u001b[0;34m,\u001b[0m \u001b[0mlinspace\u001b[0m\u001b[0;34m,\u001b[0m \u001b[0mpi\u001b[0m\u001b[0;34m\u001b[0m\u001b[0;34m\u001b[0m\u001b[0m\n\u001b[1;32m      3\u001b[0m \u001b[0;32mfrom\u001b[0m \u001b[0mnumpy\u001b[0m\u001b[0;34m.\u001b[0m\u001b[0mlinalg\u001b[0m \u001b[0;32mimport\u001b[0m \u001b[0msolve\u001b[0m\u001b[0;34m\u001b[0m\u001b[0;34m\u001b[0m\u001b[0m\n\u001b[0;32m----> 4\u001b[0;31m \u001b[0;32mfrom\u001b[0m \u001b[0mscipy\u001b[0m\u001b[0;34m.\u001b[0m\u001b[0mintegrate\u001b[0m \u001b[0;32mimport\u001b[0m \u001b[0modeint\u001b[0m\u001b[0;34m\u001b[0m\u001b[0;34m\u001b[0m\u001b[0m\n\u001b[0m",
      "\u001b[0;31mModuleNotFoundError\u001b[0m: No module named 'scipy'"
     ]
    }
   ],
   "source": [
    "from sympy import Dummy, lambdify\n",
    "from numpy import array, hstack, zeros, linspace, pi\n",
    "from numpy.linalg import solve\n",
    "from scipy.integrate import odeint"
   ]
  },
  {
   "cell_type": "markdown",
   "metadata": {},
   "source": [
    "### System parameter"
   ]
  },
  {
   "cell_type": "code",
   "execution_count": 74,
   "metadata": {},
   "outputs": [
    {
     "ename": "NameError",
     "evalue": "name 'm_wf' is not defined",
     "output_type": "error",
     "traceback": [
      "\u001b[0;31m---------------------------------------------------------------------------\u001b[0m",
      "\u001b[0;31mNameError\u001b[0m                                 Traceback (most recent call last)",
      "\u001b[0;32m<ipython-input-74-c443f13f755a>\u001b[0m in \u001b[0;36m<module>\u001b[0;34m\u001b[0m\n\u001b[0;32m----> 1\u001b[0;31m \u001b[0mparameters\u001b[0m\u001b[0;34m=\u001b[0m \u001b[0;34m[\u001b[0m\u001b[0mg\u001b[0m\u001b[0;34m,\u001b[0m \u001b[0mm_b\u001b[0m \u001b[0;34m,\u001b[0m\u001b[0mm_wf\u001b[0m\u001b[0;34m,\u001b[0m \u001b[0mm_wr\u001b[0m\u001b[0;34m]\u001b[0m\u001b[0;34m\u001b[0m\u001b[0;34m\u001b[0m\u001b[0m\n\u001b[0m\u001b[1;32m      2\u001b[0m \u001b[0mparameter_vals\u001b[0m\u001b[0;34m=\u001b[0m\u001b[0;34m[\u001b[0m\u001b[0;36m9.81\u001b[0m\u001b[0;34m,\u001b[0m \u001b[0;36m10.\u001b[0m\u001b[0;34m,\u001b[0m \u001b[0;36m5.\u001b[0m\u001b[0;34m,\u001b[0m \u001b[0;36m3.\u001b[0m\u001b[0;34m]\u001b[0m\u001b[0;34m\u001b[0m\u001b[0;34m\u001b[0m\u001b[0m\n\u001b[1;32m      3\u001b[0m \u001b[0mparameter_dict\u001b[0m \u001b[0;34m=\u001b[0m \u001b[0mdict\u001b[0m\u001b[0;34m(\u001b[0m\u001b[0mzip\u001b[0m\u001b[0;34m(\u001b[0m\u001b[0mparameters\u001b[0m\u001b[0;34m,\u001b[0m \u001b[0mparameter_vals\u001b[0m\u001b[0;34m)\u001b[0m\u001b[0;34m)\u001b[0m\u001b[0;34m\u001b[0m\u001b[0;34m\u001b[0m\u001b[0m\n\u001b[1;32m      4\u001b[0m \u001b[0mparameter_dict\u001b[0m\u001b[0;34m\u001b[0m\u001b[0;34m\u001b[0m\u001b[0m\n",
      "\u001b[0;31mNameError\u001b[0m: name 'm_wf' is not defined"
     ]
    }
   ],
   "source": [
    "parameters= [g, m_b ,m_wf, m_wr]\n",
    "parameter_vals=[9.81, 10., 5., 3.]\n",
    "parameter_dict = dict(zip(parameters, parameter_vals))\n",
    "parameter_dict"
   ]
  },
  {
   "cell_type": "markdown",
   "metadata": {},
   "source": [
    "# Control"
   ]
  },
  {
   "cell_type": "code",
   "execution_count": 75,
   "metadata": {},
   "outputs": [
    {
     "ename": "ModuleNotFoundError",
     "evalue": "No module named 'control'",
     "output_type": "error",
     "traceback": [
      "\u001b[0;31m---------------------------------------------------------------------------\u001b[0m",
      "\u001b[0;31mModuleNotFoundError\u001b[0m                       Traceback (most recent call last)",
      "\u001b[0;32m<ipython-input-75-c1b1f46d5ffb>\u001b[0m in \u001b[0;36m<module>\u001b[0;34m\u001b[0m\n\u001b[0;32m----> 1\u001b[0;31m \u001b[0;32mimport\u001b[0m \u001b[0mcontrol\u001b[0m\u001b[0;34m\u001b[0m\u001b[0;34m\u001b[0m\u001b[0m\n\u001b[0m\u001b[1;32m      2\u001b[0m \u001b[0;32mfrom\u001b[0m \u001b[0mnumpy\u001b[0m \u001b[0;32mimport\u001b[0m \u001b[0mdot\u001b[0m\u001b[0;34m\u001b[0m\u001b[0;34m\u001b[0m\u001b[0m\n\u001b[1;32m      3\u001b[0m \u001b[0;32mfrom\u001b[0m \u001b[0mnumpy\u001b[0m\u001b[0;34m.\u001b[0m\u001b[0mlinalg\u001b[0m \u001b[0;32mimport\u001b[0m \u001b[0mmatrix_rank\u001b[0m\u001b[0;34m\u001b[0m\u001b[0;34m\u001b[0m\u001b[0m\n",
      "\u001b[0;31mModuleNotFoundError\u001b[0m: No module named 'control'"
     ]
    }
   ],
   "source": [
    "import control\n",
    "from numpy import dot\n",
    "from numpy.linalg import matrix_rank"
   ]
  },
  {
   "cell_type": "code",
   "execution_count": null,
   "metadata": {},
   "outputs": [],
   "source": []
  },
  {
   "cell_type": "code",
   "execution_count": null,
   "metadata": {},
   "outputs": [],
   "source": []
  },
  {
   "cell_type": "code",
   "execution_count": null,
   "metadata": {},
   "outputs": [],
   "source": []
  }
 ],
 "metadata": {
  "kernelspec": {
   "display_name": "Python 3",
   "language": "python",
   "name": "python3"
  },
  "language_info": {
   "codemirror_mode": {
    "name": "ipython",
    "version": 3
   },
   "file_extension": ".py",
   "mimetype": "text/x-python",
   "name": "python",
   "nbconvert_exporter": "python",
   "pygments_lexer": "ipython3",
   "version": "3.9.5"
  }
 },
 "nbformat": 4,
 "nbformat_minor": 4
}
