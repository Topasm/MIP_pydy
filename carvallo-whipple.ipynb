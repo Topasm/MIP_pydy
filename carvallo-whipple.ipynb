{
 "cells": [
  {
   "cell_type": "code",
   "execution_count": 1,
   "id": "wireless-booking",
   "metadata": {
    "tags": []
   },
   "outputs": [],
   "source": [
    "import numpy as np\n",
    "from scipy.optimize import fsolve\n",
    "import sympy as sm\n",
    "import sympy.physics.mechanics as mec\n",
    "#from pydy.system import System\n",
    "#from pydy.viz import Sphere, Cylinder, VisualizationFrame, Scene"
   ]
  },
  {
   "cell_type": "code",
   "execution_count": 2,
   "id": "abandoned-architecture",
   "metadata": {
    "tags": []
   },
   "outputs": [],
   "source": [
    "class ReferenceFrame(mec.ReferenceFrame):\n",
    "   \"\"\"Subclass that enforces the desired unit vector indice style.\"\"\"\n",
    "\n",
    "   def __init__(self, *args, **kwargs):\n",
    "\n",
    "      kwargs.pop('indices', None)\n",
    "      kwargs.pop('latexs', None)\n",
    "\n",
    "      lab = args[0].lower()\n",
    "      tex = r'\\hat{{{}}}_{}'\n",
    "\n",
    "      super(ReferenceFrame, self).__init__(*args,\n",
    "                                             indices=('1', '2', '3'),\n",
    "                                             latexs=(tex.format(lab, '1'),\n",
    "                                                   tex.format(lab, '2'),\n",
    "                                                   tex.format(lab, '3')),\n",
    "                                             **kwargs)"
   ]
  },
  {
   "cell_type": "code",
   "execution_count": 3,
   "id": "global-place",
   "metadata": {
    "tags": []
   },
   "outputs": [],
   "source": [
    "N = ReferenceFrame('N')\n",
    "A = ReferenceFrame('A')\n",
    "B = ReferenceFrame('B')\n",
    "C = ReferenceFrame('C')\n",
    "D = ReferenceFrame('D')\n",
    "E = ReferenceFrame('E')\n",
    "F = ReferenceFrame('F')"
   ]
  },
  {
   "cell_type": "code",
   "execution_count": 4,
   "id": "covered-programming",
   "metadata": {
    "tags": []
   },
   "outputs": [],
   "source": [
    "q1, q2, q3, q4 = mec.dynamicsymbols('q1 q2 q3 q4')\n",
    "q5, q6, q7, q8 = mec.dynamicsymbols('q5 q6 q7 q8')\n",
    "\n",
    "u1, u2, u3, u4 = mec.dynamicsymbols('u1 u2 u3 u4')\n",
    "u5, u6, u7, u8 = mec.dynamicsymbols('u5 u6 u7 u8')"
   ]
  },
  {
   "cell_type": "code",
   "execution_count": 5,
   "id": "dressed-setup",
   "metadata": {
    "tags": []
   },
   "outputs": [],
   "source": [
    "# rear frame yaw\n",
    "A.orient(N, 'Axis', (q3, N['3']))\n",
    "# rear frame roll\n",
    "B.orient(A, 'Axis', (q4, A['1']))\n",
    "# rear frame pitch\n",
    "C.orient(B, 'Axis', (q5, B['2']))\n",
    "# front frame steer\n",
    "E.orient(C, 'Axis', (q7, C['3']))"
   ]
  },
  {
   "cell_type": "code",
   "execution_count": 6,
   "id": "vertical-cooking",
   "metadata": {
    "tags": []
   },
   "outputs": [],
   "source": [
    "rf, rr = sm.symbols('rf rr')\n",
    "d1, d2, d3 = sm.symbols('d1 d2 d3')\n",
    "l1, l2, l3, l4 = sm.symbols('l1 l2 l3 l4')\n",
    "\n",
    "# acceleration due to gravity\n",
    "g = sm.symbols('g')\n",
    "\n",
    "# mass\n",
    "mc, md, me, mf = sm.symbols('mc md me mf')\n",
    "\n",
    "# inertia\n",
    "ic11, ic22, ic33, ic31 = sm.symbols('ic11 ic22 ic33 ic31')\n",
    "id11, id22 = sm.symbols('id11 id22')\n",
    "ie11, ie22, ie33, ie31 = sm.symbols('ie11 ie22 ie33 ie31')\n",
    "if11, if22 = sm.symbols('if11 if22')"
   ]
  },
  {
   "cell_type": "code",
   "execution_count": 7,
   "id": "dynamic-microphone",
   "metadata": {
    "tags": []
   },
   "outputs": [],
   "source": [
    "T4, T6, T7 = mec.dynamicsymbols('T4 T6 T7')"
   ]
  },
  {
   "cell_type": "code",
   "execution_count": 8,
   "id": "desirable-ownership",
   "metadata": {
    "tags": []
   },
   "outputs": [],
   "source": [
    "# rear wheel contact point\n",
    "dn = mec.Point('dn')\n",
    "\n",
    "# rear wheel contact point to rear wheel center\n",
    "do = mec.Point('do')\n",
    "do.set_pos(dn, -rr * B['3'])\n",
    "\n",
    "# rear wheel center to bicycle frame center\n",
    "co = mec.Point('co')\n",
    "co.set_pos(do, l1 * C['1'] + l2 * C['3'])\n",
    "\n",
    "# rear wheel center to steer axis point\n",
    "ce = mec.Point('ce')\n",
    "ce.set_pos(do, d1 * C['1'])\n",
    "\n",
    "# steer axis point to the front wheel center\n",
    "fo = mec.Point('fo')\n",
    "fo.set_pos(ce, d2 * E['3'] + d3 * E['1'])\n",
    "\n",
    "# front wheel center to front frame center\n",
    "eo = mec.Point('eo')\n",
    "eo.set_pos(fo, l3 * E['1'] + l4 * E['3'])\n",
    "\n",
    "# locate the point fixed on the wheel which instantaneously touches the\n",
    "# ground\n",
    "fn = mec.Point('fn')\n",
    "fn.set_pos(fo, rf * E['2'].cross(A['3']).cross(E['2']).normalize())"
   ]
  },
  {
   "cell_type": "code",
   "execution_count": 9,
   "id": "impressed-ecuador",
   "metadata": {
    "tags": []
   },
   "outputs": [],
   "source": [
    "holonomic = fn.pos_from(dn).dot(A['3'])"
   ]
  },
  {
   "cell_type": "code",
   "execution_count": 10,
   "id": "enhanced-intensity",
   "metadata": {
    "tags": []
   },
   "outputs": [
    {
     "data": {
      "text/plain": [
       "{q4(t), q5(t), q7(t)}"
      ]
     },
     "execution_count": 10,
     "metadata": {},
     "output_type": "execute_result"
    }
   ],
   "source": [
    "mec.find_dynamicsymbols(holonomic)"
   ]
  },
  {
   "cell_type": "code",
   "execution_count": 11,
   "id": "22f0617e-1268-40fb-a88f-70b501d369f4",
   "metadata": {},
   "outputs": [
    {
     "data": {
      "text/latex": [
       "$\\displaystyle - d_{1} \\sin{\\left(\\operatorname{q_{5}}{\\left(t \\right)} \\right)} \\cos{\\left(\\operatorname{q_{4}}{\\left(t \\right)} \\right)} - rr \\cos{\\left(\\operatorname{q_{4}}{\\left(t \\right)} \\right)} + \\left(d_{2} + \\frac{rf \\left(\\left(- \\sin{\\left(\\operatorname{q_{4}}{\\left(t \\right)} \\right)} \\sin{\\left(\\operatorname{q_{5}}{\\left(t \\right)} \\right)} \\sin{\\left(\\operatorname{q_{7}}{\\left(t \\right)} \\right)} + \\cos{\\left(\\operatorname{q_{4}}{\\left(t \\right)} \\right)} \\cos{\\left(\\operatorname{q_{7}}{\\left(t \\right)} \\right)}\\right) \\cos{\\left(\\operatorname{q_{5}}{\\left(t \\right)} \\right)} \\cos{\\left(\\operatorname{q_{7}}{\\left(t \\right)} \\right)} + \\left(\\sin{\\left(\\operatorname{q_{4}}{\\left(t \\right)} \\right)} \\sin{\\left(\\operatorname{q_{5}}{\\left(t \\right)} \\right)} \\cos{\\left(\\operatorname{q_{7}}{\\left(t \\right)} \\right)} + \\sin{\\left(\\operatorname{q_{7}}{\\left(t \\right)} \\right)} \\cos{\\left(\\operatorname{q_{4}}{\\left(t \\right)} \\right)}\\right) \\sin{\\left(\\operatorname{q_{7}}{\\left(t \\right)} \\right)} \\cos{\\left(\\operatorname{q_{5}}{\\left(t \\right)} \\right)}\\right)}{\\sqrt{\\left(- \\left(- \\sin{\\left(\\operatorname{q_{4}}{\\left(t \\right)} \\right)} \\sin{\\left(\\operatorname{q_{5}}{\\left(t \\right)} \\right)} \\sin{\\left(\\operatorname{q_{7}}{\\left(t \\right)} \\right)} + \\cos{\\left(\\operatorname{q_{4}}{\\left(t \\right)} \\right)} \\cos{\\left(\\operatorname{q_{7}}{\\left(t \\right)} \\right)}\\right) \\sin{\\left(\\operatorname{q_{5}}{\\left(t \\right)} \\right)} + \\sin{\\left(\\operatorname{q_{4}}{\\left(t \\right)} \\right)} \\sin{\\left(\\operatorname{q_{7}}{\\left(t \\right)} \\right)} \\cos^{2}{\\left(\\operatorname{q_{5}}{\\left(t \\right)} \\right)}\\right)^{2} + \\left(\\left(- \\sin{\\left(\\operatorname{q_{4}}{\\left(t \\right)} \\right)} \\sin{\\left(\\operatorname{q_{5}}{\\left(t \\right)} \\right)} \\sin{\\left(\\operatorname{q_{7}}{\\left(t \\right)} \\right)} + \\cos{\\left(\\operatorname{q_{4}}{\\left(t \\right)} \\right)} \\cos{\\left(\\operatorname{q_{7}}{\\left(t \\right)} \\right)}\\right) \\cos{\\left(\\operatorname{q_{5}}{\\left(t \\right)} \\right)} \\cos{\\left(\\operatorname{q_{7}}{\\left(t \\right)} \\right)} + \\left(\\sin{\\left(\\operatorname{q_{4}}{\\left(t \\right)} \\right)} \\sin{\\left(\\operatorname{q_{5}}{\\left(t \\right)} \\right)} \\cos{\\left(\\operatorname{q_{7}}{\\left(t \\right)} \\right)} + \\sin{\\left(\\operatorname{q_{7}}{\\left(t \\right)} \\right)} \\cos{\\left(\\operatorname{q_{4}}{\\left(t \\right)} \\right)}\\right) \\sin{\\left(\\operatorname{q_{7}}{\\left(t \\right)} \\right)} \\cos{\\left(\\operatorname{q_{5}}{\\left(t \\right)} \\right)}\\right)^{2}}}\\right) \\cos{\\left(\\operatorname{q_{4}}{\\left(t \\right)} \\right)} \\cos{\\left(\\operatorname{q_{5}}{\\left(t \\right)} \\right)} + \\left(d_{3} + \\frac{rf \\left(- \\left(- \\sin{\\left(\\operatorname{q_{4}}{\\left(t \\right)} \\right)} \\sin{\\left(\\operatorname{q_{5}}{\\left(t \\right)} \\right)} \\sin{\\left(\\operatorname{q_{7}}{\\left(t \\right)} \\right)} + \\cos{\\left(\\operatorname{q_{4}}{\\left(t \\right)} \\right)} \\cos{\\left(\\operatorname{q_{7}}{\\left(t \\right)} \\right)}\\right) \\sin{\\left(\\operatorname{q_{5}}{\\left(t \\right)} \\right)} + \\sin{\\left(\\operatorname{q_{4}}{\\left(t \\right)} \\right)} \\sin{\\left(\\operatorname{q_{7}}{\\left(t \\right)} \\right)} \\cos^{2}{\\left(\\operatorname{q_{5}}{\\left(t \\right)} \\right)}\\right)}{\\sqrt{\\left(- \\left(- \\sin{\\left(\\operatorname{q_{4}}{\\left(t \\right)} \\right)} \\sin{\\left(\\operatorname{q_{5}}{\\left(t \\right)} \\right)} \\sin{\\left(\\operatorname{q_{7}}{\\left(t \\right)} \\right)} + \\cos{\\left(\\operatorname{q_{4}}{\\left(t \\right)} \\right)} \\cos{\\left(\\operatorname{q_{7}}{\\left(t \\right)} \\right)}\\right) \\sin{\\left(\\operatorname{q_{5}}{\\left(t \\right)} \\right)} + \\sin{\\left(\\operatorname{q_{4}}{\\left(t \\right)} \\right)} \\sin{\\left(\\operatorname{q_{7}}{\\left(t \\right)} \\right)} \\cos^{2}{\\left(\\operatorname{q_{5}}{\\left(t \\right)} \\right)}\\right)^{2} + \\left(\\left(- \\sin{\\left(\\operatorname{q_{4}}{\\left(t \\right)} \\right)} \\sin{\\left(\\operatorname{q_{5}}{\\left(t \\right)} \\right)} \\sin{\\left(\\operatorname{q_{7}}{\\left(t \\right)} \\right)} + \\cos{\\left(\\operatorname{q_{4}}{\\left(t \\right)} \\right)} \\cos{\\left(\\operatorname{q_{7}}{\\left(t \\right)} \\right)}\\right) \\cos{\\left(\\operatorname{q_{5}}{\\left(t \\right)} \\right)} \\cos{\\left(\\operatorname{q_{7}}{\\left(t \\right)} \\right)} + \\left(\\sin{\\left(\\operatorname{q_{4}}{\\left(t \\right)} \\right)} \\sin{\\left(\\operatorname{q_{5}}{\\left(t \\right)} \\right)} \\cos{\\left(\\operatorname{q_{7}}{\\left(t \\right)} \\right)} + \\sin{\\left(\\operatorname{q_{7}}{\\left(t \\right)} \\right)} \\cos{\\left(\\operatorname{q_{4}}{\\left(t \\right)} \\right)}\\right) \\sin{\\left(\\operatorname{q_{7}}{\\left(t \\right)} \\right)} \\cos{\\left(\\operatorname{q_{5}}{\\left(t \\right)} \\right)}\\right)^{2}}}\\right) \\left(\\sin{\\left(\\operatorname{q_{4}}{\\left(t \\right)} \\right)} \\sin{\\left(\\operatorname{q_{7}}{\\left(t \\right)} \\right)} - \\sin{\\left(\\operatorname{q_{5}}{\\left(t \\right)} \\right)} \\cos{\\left(\\operatorname{q_{4}}{\\left(t \\right)} \\right)} \\cos{\\left(\\operatorname{q_{7}}{\\left(t \\right)} \\right)}\\right)$"
      ],
      "text/plain": [
       "-d1*sin(q5(t))*cos(q4(t)) - rr*cos(q4(t)) + (d2 + rf*((-sin(q4(t))*sin(q5(t))*sin(q7(t)) + cos(q4(t))*cos(q7(t)))*cos(q5(t))*cos(q7(t)) + (sin(q4(t))*sin(q5(t))*cos(q7(t)) + sin(q7(t))*cos(q4(t)))*sin(q7(t))*cos(q5(t)))/sqrt((-(-sin(q4(t))*sin(q5(t))*sin(q7(t)) + cos(q4(t))*cos(q7(t)))*sin(q5(t)) + sin(q4(t))*sin(q7(t))*cos(q5(t))**2)**2 + ((-sin(q4(t))*sin(q5(t))*sin(q7(t)) + cos(q4(t))*cos(q7(t)))*cos(q5(t))*cos(q7(t)) + (sin(q4(t))*sin(q5(t))*cos(q7(t)) + sin(q7(t))*cos(q4(t)))*sin(q7(t))*cos(q5(t)))**2))*cos(q4(t))*cos(q5(t)) + (d3 + rf*(-(-sin(q4(t))*sin(q5(t))*sin(q7(t)) + cos(q4(t))*cos(q7(t)))*sin(q5(t)) + sin(q4(t))*sin(q7(t))*cos(q5(t))**2)/sqrt((-(-sin(q4(t))*sin(q5(t))*sin(q7(t)) + cos(q4(t))*cos(q7(t)))*sin(q5(t)) + sin(q4(t))*sin(q7(t))*cos(q5(t))**2)**2 + ((-sin(q4(t))*sin(q5(t))*sin(q7(t)) + cos(q4(t))*cos(q7(t)))*cos(q5(t))*cos(q7(t)) + (sin(q4(t))*sin(q5(t))*cos(q7(t)) + sin(q7(t))*cos(q4(t)))*sin(q7(t))*cos(q5(t)))**2))*(sin(q4(t))*sin(q7(t)) - sin(q5(t))*cos(q4(t))*cos(q7(t)))"
      ]
     },
     "execution_count": 11,
     "metadata": {},
     "output_type": "execute_result"
    }
   ],
   "source": [
    "holonomic"
   ]
  },
  {
   "cell_type": "code",
   "execution_count": 12,
   "id": "respected-dimension",
   "metadata": {
    "tags": []
   },
   "outputs": [],
   "source": [
    "t = mec.dynamicsymbols._t\n",
    "\n",
    "kinematical = [q3.diff(t) - u3,  # yaw\n",
    "               q4.diff(t) - u4,  # roll\n",
    "               q5.diff(t) - u5,  # pitch\n",
    "               q7.diff(t) - u7]  # steer"
   ]
  },
  {
   "cell_type": "code",
   "execution_count": 13,
   "id": "immediate-president",
   "metadata": {},
   "outputs": [],
   "source": [
    "A.set_ang_vel(N, u3 * N['3'])  # yaw rate\n",
    "B.set_ang_vel(A, u4 * A['1'])  # roll rate\n",
    "C.set_ang_vel(B, u5 * B['2'])  # pitch rate\n",
    "D.set_ang_vel(C, u6 * C['2'])  # rear wheel rate\n",
    "E.set_ang_vel(C, u7 * C['3'])  # steer rate\n",
    "F.set_ang_vel(E, u8 * E['2'])  # front wheel rate"
   ]
  },
  {
   "cell_type": "code",
   "execution_count": 14,
   "id": "streaming-background",
   "metadata": {},
   "outputs": [],
   "source": [
    "# rear wheel contact stays in ground plane and does not slip\n",
    "dn.set_vel(N, 0.0 * N['1'])\n",
    "\n",
    "# mass centers\n",
    "do.v2pt_theory(dn, N, D)\n",
    "co.v2pt_theory(do, N, C)\n",
    "ce.v2pt_theory(do, N, C)\n",
    "fo.v2pt_theory(ce, N, E)\n",
    "eo.v2pt_theory(fo, N, E)\n",
    "\n",
    "# wheel contact velocities\n",
    "fn.v2pt_theory(fo, N, F);  # supress output"
   ]
  },
  {
   "cell_type": "code",
   "execution_count": 15,
   "id": "theoretical-macintosh",
   "metadata": {},
   "outputs": [],
   "source": [
    "nonholonomic = [fn.vel(N).dot(A['1']),\n",
    "                fn.vel(N).dot(A['2']),\n",
    "                fn.vel(N).dot(A['3'])]"
   ]
  },
  {
   "cell_type": "code",
   "execution_count": 17,
   "id": "alive-mailing",
   "metadata": {},
   "outputs": [],
   "source": [
    "Ic = mec.inertia(C, ic11, ic22, ic33, 0.0, 0.0, ic31)\n",
    "Id = mec.inertia(C, id11, id22, id11, 0.0, 0.0, 0.0)\n",
    "Ie = mec.inertia(E, ie11, ie22, ie33, 0.0, 0.0, ie31)\n",
    "If = mec.inertia(E, if11, if22, if11, 0.0, 0.0, 0.0)"
   ]
  },
  {
   "cell_type": "code",
   "execution_count": 18,
   "id": "unlimited-discrimination",
   "metadata": {},
   "outputs": [],
   "source": [
    "rear_frame = mec.RigidBody('Rear Frame', co, C, mc, (Ic, co))\n",
    "rear_wheel = mec.RigidBody('Rear Wheel', do, D, md, (Id, do))\n",
    "front_frame = mec.RigidBody('Front Frame', eo, E, me, (Ie, eo))\n",
    "front_wheel = mec.RigidBody('Front Wheel', fo, F, mf, (If, fo))\n",
    "\n",
    "bodies = [rear_frame, rear_wheel, front_frame, front_wheel]"
   ]
  },
  {
   "cell_type": "code",
   "execution_count": 19,
   "id": "coordinate-turkey",
   "metadata": {},
   "outputs": [],
   "source": [
    "# gravity\n",
    "Fco = (co, mc*g*A['3'])\n",
    "Fdo = (do, md*g*A['3'])\n",
    "Feo = (eo, me*g*A['3'])\n",
    "Ffo = (fo, mf*g*A['3'])\n",
    "\n",
    "# input torques\n",
    "Tc = (C, T4*A['1'] - T6*B['2'] - T7*C['3'])\n",
    "Td = (D, T6*C['2'])\n",
    "Te = (E, T7*C['3'])\n",
    "\n",
    "loads = [Fco, Fdo, Feo, Ffo, Tc, Td, Te]"
   ]
  },
  {
   "cell_type": "code",
   "execution_count": 20,
   "id": "single-lebanon",
   "metadata": {},
   "outputs": [],
   "source": [
    "kane = mec.KanesMethod(N,\n",
    "                       [q3, q4, q7],  # yaw, roll, steer\n",
    "                       [u4, u6, u7],  # roll rate, rear wheel rate, steer rate\n",
    "                       kd_eqs=kinematical,\n",
    "                       q_dependent=[q5],  # pitch angle\n",
    "                       configuration_constraints=[holonomic],\n",
    "                       u_dependent=[u3, u5, u8],  # yaw rate, pitch rate, front wheel rate\n",
    "                       velocity_constraints=nonholonomic)\n",
    "\n",
    "fr, frstar = kane.kanes_equations(bodies, loads)"
   ]
  },
  {
   "cell_type": "code",
   "execution_count": 21,
   "id": "generic-literacy",
   "metadata": {},
   "outputs": [
    {
     "ename": "ModuleNotFoundError",
     "evalue": "No module named 'pydy'",
     "output_type": "error",
     "traceback": [
      "\u001b[0;31m---------------------------------------------------------------------------\u001b[0m",
      "\u001b[0;31mModuleNotFoundError\u001b[0m                       Traceback (most recent call last)",
      "\u001b[0;32m<ipython-input-21-4480ee3ed84f>\u001b[0m in \u001b[0;36m<module>\u001b[0;34m\u001b[0m\n\u001b[0;32m----> 1\u001b[0;31m \u001b[0;32mfrom\u001b[0m \u001b[0mpydy\u001b[0m\u001b[0;34m.\u001b[0m\u001b[0msystem\u001b[0m \u001b[0;32mimport\u001b[0m \u001b[0mSystem\u001b[0m\u001b[0;34m\u001b[0m\u001b[0;34m\u001b[0m\u001b[0m\n\u001b[0m\u001b[1;32m      2\u001b[0m \u001b[0msys\u001b[0m \u001b[0;34m=\u001b[0m \u001b[0mSystem\u001b[0m\u001b[0;34m(\u001b[0m\u001b[0mkane\u001b[0m\u001b[0;34m)\u001b[0m\u001b[0;34m\u001b[0m\u001b[0;34m\u001b[0m\u001b[0m\n",
      "\u001b[0;31mModuleNotFoundError\u001b[0m: No module named 'pydy'"
     ]
    }
   ],
   "source": [
    "from pydy.system import System\n",
    "sys = System(kane)"
   ]
  },
  {
   "cell_type": "code",
   "execution_count": 23,
   "id": "assisted-shield",
   "metadata": {},
   "outputs": [
    {
     "ename": "NameError",
     "evalue": "name 'sys' is not defined",
     "output_type": "error",
     "traceback": [
      "\u001b[0;31m---------------------------------------------------------------------------\u001b[0m",
      "\u001b[0;31mNameError\u001b[0m                                 Traceback (most recent call last)",
      "\u001b[0;32m<ipython-input-23-0f6d147e5fea>\u001b[0m in \u001b[0;36m<module>\u001b[0;34m\u001b[0m\n\u001b[0;32m----> 1\u001b[0;31m sys.constants = {\n\u001b[0m\u001b[1;32m      2\u001b[0m    \u001b[0mrf\u001b[0m\u001b[0;34m:\u001b[0m \u001b[0;36m0.35\u001b[0m\u001b[0;34m,\u001b[0m\u001b[0;34m\u001b[0m\u001b[0;34m\u001b[0m\u001b[0m\n\u001b[1;32m      3\u001b[0m    \u001b[0mrr\u001b[0m\u001b[0;34m:\u001b[0m \u001b[0;36m0.3\u001b[0m\u001b[0;34m,\u001b[0m\u001b[0;34m\u001b[0m\u001b[0;34m\u001b[0m\u001b[0m\n\u001b[1;32m      4\u001b[0m    \u001b[0md1\u001b[0m\u001b[0;34m:\u001b[0m \u001b[0;36m0.9534570696121849\u001b[0m\u001b[0;34m,\u001b[0m\u001b[0;34m\u001b[0m\u001b[0;34m\u001b[0m\u001b[0m\n\u001b[1;32m      5\u001b[0m    \u001b[0md3\u001b[0m\u001b[0;34m:\u001b[0m \u001b[0;36m0.03207142672761929\u001b[0m\u001b[0;34m,\u001b[0m\u001b[0;34m\u001b[0m\u001b[0;34m\u001b[0m\u001b[0m\n",
      "\u001b[0;31mNameError\u001b[0m: name 'sys' is not defined"
     ]
    }
   ],
   "source": [
    "sys.constants = {\n",
    "   rf: 0.35,\n",
    "   rr: 0.3,\n",
    "   d1: 0.9534570696121849,\n",
    "   d3: 0.03207142672761929,\n",
    "   d2: 0.2676445084476887,\n",
    "   l1: 0.4707271515135145,\n",
    "   l2: -0.47792881146460797,\n",
    "   l4: -0.3699518200282974,\n",
    "   l3: -0.00597083392418685,\n",
    "   mc: 85.0,\n",
    "   md: 2.0,\n",
    "   me: 4.0,\n",
    "   mf: 3.0,\n",
    "   id11: 0.0603,\n",
    "   id22: 0.12,\n",
    "   if11: 0.1405,\n",
    "   if22: 0.28,\n",
    "   ic11: 7.178169776497895,\n",
    "   ic22: 11.0,\n",
    "   ic31: 3.8225535938357873,\n",
    "   ic33: 4.821830223502103,\n",
    "   ie11: 0.05841337700152972,\n",
    "   ie22: 0.06,\n",
    "   ie31: 0.009119225261946298,\n",
    "   ie33: 0.007586622998470264,\n",
    "   g: 9.81\n",
    "}"
   ]
  },
  {
   "cell_type": "code",
   "execution_count": null,
   "id": "wrong-validity",
   "metadata": {},
   "outputs": [],
   "source": [
    "initial_speed = 4.6  # m/s\n",
    "initial_roll_rate = 0.5  # rad/s"
   ]
  },
  {
   "cell_type": "code",
   "execution_count": 22,
   "id": "allied-alias",
   "metadata": {},
   "outputs": [
    {
     "ename": "NameError",
     "evalue": "name 'sys' is not defined",
     "output_type": "error",
     "traceback": [
      "\u001b[0;31m---------------------------------------------------------------------------\u001b[0m",
      "\u001b[0;31mNameError\u001b[0m                                 Traceback (most recent call last)",
      "\u001b[0;32m<ipython-input-22-7c4738084285>\u001b[0m in \u001b[0;36m<module>\u001b[0;34m\u001b[0m\n\u001b[1;32m      3\u001b[0m                                    args=(0.0,  # q4\n\u001b[1;32m      4\u001b[0m                                          \u001b[0;36m1e-8\u001b[0m\u001b[0;34m,\u001b[0m  \u001b[0;31m# q7\u001b[0m\u001b[0;34m\u001b[0m\u001b[0;34m\u001b[0m\u001b[0m\n\u001b[0;32m----> 5\u001b[0;31m                                          \u001b[0msys\u001b[0m\u001b[0;34m.\u001b[0m\u001b[0mconstants\u001b[0m\u001b[0;34m[\u001b[0m\u001b[0md1\u001b[0m\u001b[0;34m]\u001b[0m\u001b[0;34m,\u001b[0m\u001b[0;34m\u001b[0m\u001b[0;34m\u001b[0m\u001b[0m\n\u001b[0m\u001b[1;32m      6\u001b[0m                                          \u001b[0msys\u001b[0m\u001b[0;34m.\u001b[0m\u001b[0mconstants\u001b[0m\u001b[0;34m[\u001b[0m\u001b[0md2\u001b[0m\u001b[0;34m]\u001b[0m\u001b[0;34m,\u001b[0m\u001b[0;34m\u001b[0m\u001b[0;34m\u001b[0m\u001b[0m\n\u001b[1;32m      7\u001b[0m                                          \u001b[0msys\u001b[0m\u001b[0;34m.\u001b[0m\u001b[0mconstants\u001b[0m\u001b[0;34m[\u001b[0m\u001b[0md3\u001b[0m\u001b[0;34m]\u001b[0m\u001b[0;34m,\u001b[0m\u001b[0;34m\u001b[0m\u001b[0;34m\u001b[0m\u001b[0m\n",
      "\u001b[0;31mNameError\u001b[0m: name 'sys' is not defined"
     ]
    }
   ],
   "source": [
    "eval_holonomic = sm.lambdify((q5, q4, q7, d1, d2, d3, rf, rr), holonomic)\n",
    "initial_pitch_angle = float(fsolve(eval_holonomic, 0.0,\n",
    "                                   args=(0.0,  # q4\n",
    "                                         1e-8,  # q7\n",
    "                                         sys.constants[d1],\n",
    "                                         sys.constants[d2],\n",
    "                                         sys.constants[d3],\n",
    "                                         sys.constants[rf],\n",
    "                                         sys.constants[rr])))\n",
    "np.rad2deg(initial_pitch_angle)"
   ]
  },
  {
   "cell_type": "code",
   "execution_count": null,
   "id": "practical-talent",
   "metadata": {},
   "outputs": [],
   "source": [
    "sys.initial_conditions = {q3: 0.0,\n",
    "                          q4: 0.0,\n",
    "                          q5: initial_pitch_angle,\n",
    "                          q7: 1e-8,\n",
    "                          u3: 0.0,\n",
    "                          u4: initial_roll_rate,\n",
    "                          u5: 0.0,\n",
    "                          u6: -initial_speed/sys.constants[rr],\n",
    "                          u7: 0.0,\n",
    "                          u8: -initial_speed/sys.constants[rf]}"
   ]
  },
  {
   "cell_type": "code",
   "execution_count": null,
   "id": "disturbed-clause",
   "metadata": {},
   "outputs": [],
   "source": [
    "fps = 60  # frames per second\n",
    "duration = 5.0  # seconds\n",
    "sys.times = np.linspace(0.0, duration, num=int(duration*fps))"
   ]
  },
  {
   "cell_type": "code",
   "execution_count": null,
   "id": "extra-piece",
   "metadata": {},
   "outputs": [],
   "source": [
    "sys.generate_ode_function(generator='cython')\n",
    "\n",
    "x_trajectory = sys.integrate()"
   ]
  },
  {
   "cell_type": "code",
   "execution_count": null,
   "id": "supposed-maximum",
   "metadata": {},
   "outputs": [],
   "source": [
    "holonomic_vs_time  = eval_holonomic(x_trajectory[:, 3],  # q5\n",
    "                                    x_trajectory[:, 1],  # q4\n",
    "                                    x_trajectory[:, 2],  # q7\n",
    "                                    sys.constants[d1],\n",
    "                                    sys.constants[d2],\n",
    "                                    sys.constants[d3],\n",
    "                                    sys.constants[rf],\n",
    "                                    sys.constants[rr])"
   ]
  },
  {
   "cell_type": "code",
   "execution_count": null,
   "id": "retired-conspiracy",
   "metadata": {},
   "outputs": [],
   "source": [
    "import matplotlib.pyplot as plt\n",
    "fig, axes = plt.subplots(len(sys.states) + 1, 1, sharex=True)\n",
    "fig.set_size_inches(8, 10)\n",
    "for ax, traj, s in zip(axes, x_trajectory.T, sys.states):\n",
    "    ax.plot(sys.times, traj)\n",
    "    ax.set_ylabel(s)\n",
    "axes[-1].plot(sys.times, np.squeeze(holonomic_vs_time))\n",
    "axes[-1].set_ylabel('Holonomic\\nconstraint [m]')\n",
    "axes[-1].set_xlabel('Time [s]')\n",
    "plt.tight_layout()"
   ]
  },
  {
   "cell_type": "code",
   "execution_count": null,
   "id": "italic-distinction",
   "metadata": {},
   "outputs": [],
   "source": [
    "rear_wheel_circle = Cylinder(radius=sys.constants[rr], length=0.01,\n",
    "                             color=\"green\", name='rear wheel')\n",
    "front_wheel_circle = Cylinder(radius=sys.constants[rf], length=0.01,\n",
    "                              color=\"green\", name='front wheel')\n",
    "rear_wheel_vframe = VisualizationFrame(B, do, rear_wheel_circle)\n",
    "front_wheel_vframe = VisualizationFrame(E, fo, front_wheel_circle)"
   ]
  },
  {
   "cell_type": "code",
   "execution_count": null,
   "id": "still-confirmation",
   "metadata": {},
   "outputs": [],
   "source": [
    "d1_cylinder = Cylinder(radius=0.02, length=sys.constants[d1],\n",
    "                       color='black', name='rear frame d1')\n",
    "d2_cylinder = Cylinder(radius=0.02, length=sys.constants[d2],\n",
    "                       color='black', name='front frame d2')\n",
    "d3_cylinder = Cylinder(radius=0.02, length=sys.constants[d3],\n",
    "                       color='black', name='front frame d3')\n",
    "\n",
    "d1_frame = VisualizationFrame(C.orientnew('C_r', 'Axis', (sm.pi/2, C.z)),\n",
    "                              do.locatenew('d1_half', d1/2*C.x), d1_cylinder)\n",
    "d2_frame = VisualizationFrame(E.orientnew('E_r', 'Axis', (-sm.pi/2, E.x)),\n",
    "                              fo.locatenew('d2_half', -d3*E.x - d2/2*E.z), d2_cylinder)\n",
    "d3_frame = VisualizationFrame(E.orientnew('E_r', 'Axis', (sm.pi/2, E.z)),\n",
    "                              fo.locatenew('d3_half', -d3/2*E.x), d3_cylinder)"
   ]
  },
  {
   "cell_type": "code",
   "execution_count": null,
   "id": "running-template",
   "metadata": {},
   "outputs": [],
   "source": [
    "co_sphere = Sphere(radius=0.05, color='blue', name='rear frame co')\n",
    "eo_sphere = Sphere(radius=0.05, color='blue', name='rear frame eo')\n",
    "co_frame = VisualizationFrame(C, co, co_sphere)\n",
    "eo_frame = VisualizationFrame(E, eo, eo_sphere)"
   ]
  },
  {
   "cell_type": "code",
   "execution_count": null,
   "id": "given-jewelry",
   "metadata": {},
   "outputs": [],
   "source": [
    "scene = Scene(N, dn, system=sys)\n",
    "scene.visualization_frames = [front_wheel_vframe, rear_wheel_vframe,\n",
    "                              d1_frame, d2_frame, d3_frame,\n",
    "                              co_frame, eo_frame]"
   ]
  },
  {
   "cell_type": "code",
   "execution_count": null,
   "id": "compressed-aurora",
   "metadata": {
    "tags": []
   },
   "outputs": [],
   "source": [
    "scene.display_jupyter(axes_arrow_length=5.0)"
   ]
  }
 ],
 "metadata": {
  "kernelspec": {
   "display_name": "Python 3",
   "language": "python",
   "name": "python3"
  },
  "language_info": {
   "codemirror_mode": {
    "name": "ipython",
    "version": 3
   },
   "file_extension": ".py",
   "mimetype": "text/x-python",
   "name": "python",
   "nbconvert_exporter": "python",
   "pygments_lexer": "ipython3",
   "version": "3.9.5"
  },
  "widgets": {
   "application/vnd.jupyter.widget-state+json": {
    "state": {
     "0ace21a116de4d0aaff0d4df44622086": {
      "model_module": "jupyter-threejs",
      "model_module_version": "^2.1.0",
      "model_name": "OrbitControlsModel",
      "state": {
       "_model_module": "jupyter-threejs",
       "_model_module_version": "^2.1.0",
       "_model_name": "OrbitControlsModel",
       "_view_count": null,
       "_view_module": null,
       "_view_module_version": "",
       "_view_name": null,
       "autoRotate": false,
       "autoRotateSpeed": 2,
       "controlling": "IPY_MODEL_5093844205594cbf9a4ca91432c3c618",
       "dampingFactor": 0.25,
       "enableDamping": false,
       "enableKeys": true,
       "enablePan": true,
       "enableRotate": true,
       "enableZoom": true,
       "enabled": true,
       "keyPanSpeed": 7,
       "maxAzimuthAngle": "inf",
       "maxDistance": "inf",
       "maxPolarAngle": 3.141592653589793,
       "maxZoom": "inf",
       "minAzimuthAngle": "-inf",
       "minDistance": 0,
       "minPolarAngle": 0,
       "minZoom": 0,
       "panSpeed": 1,
       "rotateSpeed": 1,
       "screenSpacePanning": true,
       "target": [
        0,
        0,
        0
       ],
       "zoomSpeed": 1
      }
     },
     "0e577830424c4893ad3f06cce1809ac0": {
      "model_module": "jupyter-threejs",
      "model_module_version": "^2.1.0",
      "model_name": "WebGLShadowMapModel",
      "state": {
       "_model_module": "jupyter-threejs",
       "_model_module_version": "^2.1.0",
       "_model_name": "WebGLShadowMapModel",
       "_view_count": null,
       "_view_module": null,
       "_view_module_version": "",
       "_view_name": null,
       "enabled": false,
       "type": "PCFShadowMap"
      }
     },
     "10430c86866e4f1397fdb93934188fd6": {
      "model_module": "jupyter-threejs",
      "model_module_version": "^2.1.0",
      "model_name": "MeshModel",
      "state": {
       "_model_module": "jupyter-threejs",
       "_model_module_version": "^2.1.0",
       "_model_name": "MeshModel",
       "_view_count": null,
       "_view_module": null,
       "_view_module_version": "",
       "_view_name": null,
       "castShadow": false,
       "children": [],
       "drawMode": "TrianglesDrawMode",
       "frustumCulled": true,
       "geometry": "IPY_MODEL_a92750f1ab9548499b03952aaba2808a",
       "material": "IPY_MODEL_db43f27371084eed8834160c51e8528f",
       "matrix": [
        -9.510565162951535e-09,
        1,
        3.0901699437494753e-09,
        0,
        -0.9510565162951535,
        -1e-08,
        0.3090169943749475,
        0,
        0.3090169943749475,
        0,
        0.9510565162951535,
        0,
        1.0047491303119078,
        1.6035713363809645e-10,
        -0.34504469205365745,
        1
       ],
       "matrixAutoUpdate": false,
       "matrixWorld": [
        1,
        0,
        0,
        0,
        0,
        1,
        0,
        0,
        0,
        0,
        1,
        0,
        0,
        0,
        0,
        1
       ],
       "matrixWorldNeedsUpdate": false,
       "modelViewMatrix": [
        1,
        0,
        0,
        0,
        0,
        1,
        0,
        0,
        0,
        0,
        1,
        0,
        0,
        0,
        0,
        1
       ],
       "morphTargetInfluences": [],
       "name": "front frame d3",
       "normalMatrix": [
        1,
        0,
        0,
        0,
        1,
        0,
        0,
        0,
        1
       ],
       "position": [
        0,
        0,
        0
       ],
       "quaternion": [
        0,
        0,
        0,
        1
       ],
       "receiveShadow": false,
       "renderOrder": 0,
       "rotation": [
        0,
        0,
        0,
        "XYZ"
       ],
       "scale": [
        1,
        1,
        1
       ],
       "type": "Mesh",
       "up": [
        0,
        1,
        0
       ],
       "visible": true
      }
     },
     "16964f1179304e2a815a62fd2f8efc72": {
      "model_module": "jupyter-threejs",
      "model_module_version": "^2.1.0",
      "model_name": "CylinderBufferGeometryModel",
      "state": {
       "_model_module": "jupyter-threejs",
       "_model_module_version": "^2.1.0",
       "_model_name": "CylinderBufferGeometryModel",
       "_view_count": null,
       "_view_module": null,
       "_view_module_version": "",
       "_view_name": null,
       "height": 0.9534570696121849,
       "heightSegments": 1,
       "name": "",
       "openEnded": false,
       "radialSegments": 100,
       "radiusBottom": 0.02,
       "radiusTop": 0.02,
       "thetaLength": 6.283185307179586,
       "thetaStart": 0,
       "type": "CylinderBufferGeometry"
      }
     },
     "19a46fa64ca9440a87c554a93608abcf": {
      "buffers": [
       {
        "data": "AAAAAG79iDxu/Qg9JnxNPW79iD3KPKs9JnzNPYG77z1u/Qg+HB0aPso8Kz54XDw+JnxNPtObXj6Bu28+mG2APm79iD5FjZE+HB2aPvOsoj7KPKs+ocyzPnhcvD5P7MQ+JnzNPv0L1j7Tm94+qivnPoG77z5YS/g+mG0AP4O1BD9u/Qg/WkUNP0WNET8x1RU/HB0aPwhlHj/zrCI/3/QmP8o8Kz+2hC8/ocwzP4wUOD94XDw/Y6RAP0/sRD86NEk/JnxNPxHEUT/9C1Y/6FNaP9ObXj+/42I/qitnP5Zzaz+Bu28/bQN0P1hLeD9Ek3w/mG2AP42Rgj+DtYQ/edmGP279iD9kIYs/WkWNP1Bpjz9FjZE/O7GTPzHVlT8n+Zc/HB2aPxJBnD8IZZ4//YigP/Osoj/p0KQ/3/SmP9QYqT/KPKs/wGCtP7aErz+rqLE/ocyzP5fwtT+MFLg/gji6P3hcvD9ugL4/Y6TAP1nIwj9P7MQ/RBDHPzo0yT8wWMs/JnzNPxugzz8RxNE/B+jTP/0L1j/yL9g/6FPaP9533D/Tm94/yb/gP7/j4j+1B+U/qivnP6BP6T+Wc+s/jJftP4G77z933/E/bQP0P2In9j9YS/g/Tm/6P0ST/D85t/4/mG0AQJJ/AUCNkQJAiKMDQIO1BEB+xwVAedkGQHTrB0Bu/QhAaQ8KQGQhC0BfMwxAWkUNQFVXDkBQaQ9ASnsQQEWNEUBAnxJAO7ETQDbDFEAx1RVALOcWQCf5F0AhCxlAHB0aQBcvG0ASQRxADVMdQAhlHkADdx9A/YggQPiaIUDzrCJA7r4jQOnQJEDk4iVA3/QmQNkGKEDUGClAzyoqQMo8K0DFTixAwGAtQLtyLkC2hC9AsJYwQKuoMUCmujJAocwzQJzeNECX8DVAkgI3QIwUOECHJjlAgjg6QH1KO0B4XDxAc249QG6APkBokj9AY6RAQF62QUBZyEJAVNpDQE/sREBK/kVARBBHQD8iSEA6NElANUZKQDBYS0ArakxAJnxNQCGOTkAboE9AFrJQQBHEUUAM1lJAB+hTQAL6VED9C1ZA9x1XQPIvWEDtQVlA6FNaQONlW0Ded1xA2YldQNObXkDOrV9Ayb9gQMTRYUC/42JAuvVjQLUHZUCwGWZAqitnQKU9aECgT2lAm2FqQJZza0CRhWxAjJdtQIapbkCBu29AfM1wQHffcUBy8XJAbQN0QGgVdUBiJ3ZAXTl3QFhLeEBTXXlATm96QEmBe0BEk3xAP6V9QDm3fkA0yX9AmG2AQJX2gECSf4FAkAiCQI2RgkCLGoNAiKODQIYshECDtYRAgD6FQH7HhUB7UIZAedmGQHZih0B064dAcXSIQG79iEBsholAaQ+KQGeYikBkIYtAYqqLQF8zjEBcvIxAWkWNQFfOjUBVV45AUuCOQFBpj0BN8o9ASnuQQEgEkUBFjZFAQxaSQECfkkA+KJNAO7GTQDk6lEA2w5RAM0yVQDHVlUAuXpZALOeWQClwl0An+ZdAJIKYQCELmUAflJlAHB2aQBqmmkAXL5tAFbibQBJBnEAPypxADVOdQArcnUAIZZ5ABe6eQAN3n0AAAKBA",
        "encoding": "base64",
        "path": [
         "times",
         "buffer"
        ]
       },
       {
        "data": "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",
        "encoding": "base64",
        "path": [
         "values",
         "buffer"
        ]
       }
      ],
      "model_module": "jupyter-threejs",
      "model_module_version": "^2.1.0",
      "model_name": "VectorKeyframeTrackModel",
      "state": {
       "_model_module": "jupyter-threejs",
       "_model_module_version": "^2.1.0",
       "_model_name": "VectorKeyframeTrackModel",
       "_view_count": null,
       "_view_module": null,
       "_view_module_version": "",
       "_view_name": null,
       "interpolation": "InterpolateLinear",
       "name": "scene/rear frame eo.matrix",
       "times": {
        "dtype": "float32",
        "shape": [
         300
        ]
       },
       "values": {
        "dtype": "float32",
        "shape": [
         300,
         16
        ]
       }
      }
     },
     "1cc4c663197e4c16ab36645a75dfecb0": {
      "buffers": [
       {
        "data": "AAAAAG79iDxu/Qg9JnxNPW79iD3KPKs9JnzNPYG77z1u/Qg+HB0aPso8Kz54XDw+JnxNPtObXj6Bu28+mG2APm79iD5FjZE+HB2aPvOsoj7KPKs+ocyzPnhcvD5P7MQ+JnzNPv0L1j7Tm94+qivnPoG77z5YS/g+mG0AP4O1BD9u/Qg/WkUNP0WNET8x1RU/HB0aPwhlHj/zrCI/3/QmP8o8Kz+2hC8/ocwzP4wUOD94XDw/Y6RAP0/sRD86NEk/JnxNPxHEUT/9C1Y/6FNaP9ObXj+/42I/qitnP5Zzaz+Bu28/bQN0P1hLeD9Ek3w/mG2AP42Rgj+DtYQ/edmGP279iD9kIYs/WkWNP1Bpjz9FjZE/O7GTPzHVlT8n+Zc/HB2aPxJBnD8IZZ4//YigP/Osoj/p0KQ/3/SmP9QYqT/KPKs/wGCtP7aErz+rqLE/ocyzP5fwtT+MFLg/gji6P3hcvD9ugL4/Y6TAP1nIwj9P7MQ/RBDHPzo0yT8wWMs/JnzNPxugzz8RxNE/B+jTP/0L1j/yL9g/6FPaP9533D/Tm94/yb/gP7/j4j+1B+U/qivnP6BP6T+Wc+s/jJftP4G77z933/E/bQP0P2In9j9YS/g/Tm/6P0ST/D85t/4/mG0AQJJ/AUCNkQJAiKMDQIO1BEB+xwVAedkGQHTrB0Bu/QhAaQ8KQGQhC0BfMwxAWkUNQFVXDkBQaQ9ASnsQQEWNEUBAnxJAO7ETQDbDFEAx1RVALOcWQCf5F0AhCxlAHB0aQBcvG0ASQRxADVMdQAhlHkADdx9A/YggQPiaIUDzrCJA7r4jQOnQJEDk4iVA3/QmQNkGKEDUGClAzyoqQMo8K0DFTixAwGAtQLtyLkC2hC9AsJYwQKuoMUCmujJAocwzQJzeNECX8DVAkgI3QIwUOECHJjlAgjg6QH1KO0B4XDxAc249QG6APkBokj9AY6RAQF62QUBZyEJAVNpDQE/sREBK/kVARBBHQD8iSEA6NElANUZKQDBYS0ArakxAJnxNQCGOTkAboE9AFrJQQBHEUUAM1lJAB+hTQAL6VED9C1ZA9x1XQPIvWEDtQVlA6FNaQONlW0Ded1xA2YldQNObXkDOrV9Ayb9gQMTRYUC/42JAuvVjQLUHZUCwGWZAqitnQKU9aECgT2lAm2FqQJZza0CRhWxAjJdtQIapbkCBu29AfM1wQHffcUBy8XJAbQN0QGgVdUBiJ3ZAXTl3QFhLeEBTXXlATm96QEmBe0BEk3xAP6V9QDm3fkA0yX9AmG2AQJX2gECSf4FAkAiCQI2RgkCLGoNAiKODQIYshECDtYRAgD6FQH7HhUB7UIZAedmGQHZih0B064dAcXSIQG79iEBsholAaQ+KQGeYikBkIYtAYqqLQF8zjEBcvIxAWkWNQFfOjUBVV45AUuCOQFBpj0BN8o9ASnuQQEgEkUBFjZFAQxaSQECfkkA+KJNAO7GTQDk6lEA2w5RAM0yVQDHVlUAuXpZALOeWQClwl0An+ZdAJIKYQCELmUAflJlAHB2aQBqmmkAXL5tAFbibQBJBnEAPypxADVOdQArcnUAIZZ5ABe6eQAN3n0AAAKBA",
        "encoding": "base64",
        "path": [
         "times",
         "buffer"
        ]
       },
       {
        "data": "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",
        "encoding": "base64",
        "path": [
         "values",
         "buffer"
        ]
       }
      ],
      "model_module": "jupyter-threejs",
      "model_module_version": "^2.1.0",
      "model_name": "VectorKeyframeTrackModel",
      "state": {
       "_model_module": "jupyter-threejs",
       "_model_module_version": "^2.1.0",
       "_model_name": "VectorKeyframeTrackModel",
       "_view_count": null,
       "_view_module": null,
       "_view_module_version": "",
       "_view_name": null,
       "interpolation": "InterpolateLinear",
       "name": "scene/rear frame co.matrix",
       "times": {
        "dtype": "float32",
        "shape": [
         300
        ]
       },
       "values": {
        "dtype": "float32",
        "shape": [
         300,
         16
        ]
       }
      }
     },
     "2742828c528345c0ba0581053d5a48f1": {
      "model_module": "jupyter-threejs",
      "model_module_version": "^2.1.0",
      "model_name": "AnimationClipModel",
      "state": {
       "_model_module": "jupyter-threejs",
       "_model_module_version": "^2.1.0",
       "_model_name": "AnimationClipModel",
       "_view_count": null,
       "_view_module": null,
       "_view_module_version": "",
       "_view_name": null,
       "duration": 5,
       "name": null,
       "tracks": [
        "IPY_MODEL_2a55f623aee444318fc1214fbc4433d0",
        "IPY_MODEL_7c2cbd00912442099362e25380c350c5",
        "IPY_MODEL_4981ee9b9d5c4b62baf29d47f87bd2a9",
        "IPY_MODEL_6a62ee52ddad43d493cba77fdd15d0dd",
        "IPY_MODEL_a4b871c6f5f74cd9916b0a028449b72a",
        "IPY_MODEL_1cc4c663197e4c16ab36645a75dfecb0",
        "IPY_MODEL_19a46fa64ca9440a87c554a93608abcf"
       ]
      }
     },
     "2a55f623aee444318fc1214fbc4433d0": {
      "buffers": [
       {
        "data": "AAAAAG79iDxu/Qg9JnxNPW79iD3KPKs9JnzNPYG77z1u/Qg+HB0aPso8Kz54XDw+JnxNPtObXj6Bu28+mG2APm79iD5FjZE+HB2aPvOsoj7KPKs+ocyzPnhcvD5P7MQ+JnzNPv0L1j7Tm94+qivnPoG77z5YS/g+mG0AP4O1BD9u/Qg/WkUNP0WNET8x1RU/HB0aPwhlHj/zrCI/3/QmP8o8Kz+2hC8/ocwzP4wUOD94XDw/Y6RAP0/sRD86NEk/JnxNPxHEUT/9C1Y/6FNaP9ObXj+/42I/qitnP5Zzaz+Bu28/bQN0P1hLeD9Ek3w/mG2AP42Rgj+DtYQ/edmGP279iD9kIYs/WkWNP1Bpjz9FjZE/O7GTPzHVlT8n+Zc/HB2aPxJBnD8IZZ4//YigP/Osoj/p0KQ/3/SmP9QYqT/KPKs/wGCtP7aErz+rqLE/ocyzP5fwtT+MFLg/gji6P3hcvD9ugL4/Y6TAP1nIwj9P7MQ/RBDHPzo0yT8wWMs/JnzNPxugzz8RxNE/B+jTP/0L1j/yL9g/6FPaP9533D/Tm94/yb/gP7/j4j+1B+U/qivnP6BP6T+Wc+s/jJftP4G77z933/E/bQP0P2In9j9YS/g/Tm/6P0ST/D85t/4/mG0AQJJ/AUCNkQJAiKMDQIO1BEB+xwVAedkGQHTrB0Bu/QhAaQ8KQGQhC0BfMwxAWkUNQFVXDkBQaQ9ASnsQQEWNEUBAnxJAO7ETQDbDFEAx1RVALOcWQCf5F0AhCxlAHB0aQBcvG0ASQRxADVMdQAhlHkADdx9A/YggQPiaIUDzrCJA7r4jQOnQJEDk4iVA3/QmQNkGKEDUGClAzyoqQMo8K0DFTixAwGAtQLtyLkC2hC9AsJYwQKuoMUCmujJAocwzQJzeNECX8DVAkgI3QIwUOECHJjlAgjg6QH1KO0B4XDxAc249QG6APkBokj9AY6RAQF62QUBZyEJAVNpDQE/sREBK/kVARBBHQD8iSEA6NElANUZKQDBYS0ArakxAJnxNQCGOTkAboE9AFrJQQBHEUUAM1lJAB+hTQAL6VED9C1ZA9x1XQPIvWEDtQVlA6FNaQONlW0Ded1xA2YldQNObXkDOrV9Ayb9gQMTRYUC/42JAuvVjQLUHZUCwGWZAqitnQKU9aECgT2lAm2FqQJZza0CRhWxAjJdtQIapbkCBu29AfM1wQHffcUBy8XJAbQN0QGgVdUBiJ3ZAXTl3QFhLeEBTXXlATm96QEmBe0BEk3xAP6V9QDm3fkA0yX9AmG2AQJX2gECSf4FAkAiCQI2RgkCLGoNAiKODQIYshECDtYRAgD6FQH7HhUB7UIZAedmGQHZih0B064dAcXSIQG79iEBsholAaQ+KQGeYikBkIYtAYqqLQF8zjEBcvIxAWkWNQFfOjUBVV45AUuCOQFBpj0BN8o9ASnuQQEgEkUBFjZFAQxaSQECfkkA+KJNAO7GTQDk6lEA2w5RAM0yVQDHVlUAuXpZALOeWQClwl0An+ZdAJIKYQCELmUAflJlAHB2aQBqmmkAXL5tAFbibQBJBnEAPypxADVOdQArcnUAIZZ5ABe6eQAN3n0AAAKBA",
        "encoding": "base64",
        "path": [
         "times",
         "buffer"
        ]
       },
       {
        "data": "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",
        "encoding": "base64",
        "path": [
         "values",
         "buffer"
        ]
       }
      ],
      "model_module": "jupyter-threejs",
      "model_module_version": "^2.1.0",
      "model_name": "VectorKeyframeTrackModel",
      "state": {
       "_model_module": "jupyter-threejs",
       "_model_module_version": "^2.1.0",
       "_model_name": "VectorKeyframeTrackModel",
       "_view_count": null,
       "_view_module": null,
       "_view_module_version": "",
       "_view_name": null,
       "interpolation": "InterpolateLinear",
       "name": "scene/front wheel.matrix",
       "times": {
        "dtype": "float32",
        "shape": [
         300
        ]
       },
       "values": {
        "dtype": "float32",
        "shape": [
         300,
         16
        ]
       }
      }
     },
     "43c7c2fadebc4e658f3a5a1ea0e00629": {
      "model_module": "jupyter-threejs",
      "model_module_version": "^2.1.0",
      "model_name": "AxesHelperModel",
      "state": {
       "_model_module": "jupyter-threejs",
       "_model_module_version": "^2.1.0",
       "_model_name": "AxesHelperModel",
       "_view_count": null,
       "_view_module": null,
       "_view_module_version": "",
       "_view_name": null,
       "castShadow": false,
       "children": [],
       "frustumCulled": true,
       "matrix": [
        1,
        0,
        0,
        0,
        0,
        1,
        0,
        0,
        0,
        0,
        1,
        0,
        0,
        0,
        0,
        1
       ],
       "matrixAutoUpdate": true,
       "matrixWorld": [
        1,
        0,
        0,
        0,
        0,
        1,
        0,
        0,
        0,
        0,
        1,
        0,
        0,
        0,
        0,
        1
       ],
       "matrixWorldNeedsUpdate": false,
       "modelViewMatrix": [
        1,
        0,
        0,
        0,
        0,
        1,
        0,
        0,
        0,
        0,
        1,
        0,
        0,
        0,
        0,
        1
       ],
       "name": "",
       "normalMatrix": [
        1,
        0,
        0,
        0,
        1,
        0,
        0,
        0,
        1
       ],
       "position": [
        0,
        0,
        0
       ],
       "quaternion": [
        0,
        0,
        0,
        1
       ],
       "receiveShadow": false,
       "renderOrder": 0,
       "rotation": [
        0,
        0,
        0,
        "XYZ"
       ],
       "scale": [
        1,
        1,
        1
       ],
       "size": 5,
       "type": "AxesHelper",
       "up": [
        0,
        1,
        0
       ],
       "visible": true
      }
     },
     "4981ee9b9d5c4b62baf29d47f87bd2a9": {
      "buffers": [
       {
        "data": "AAAAAG79iDxu/Qg9JnxNPW79iD3KPKs9JnzNPYG77z1u/Qg+HB0aPso8Kz54XDw+JnxNPtObXj6Bu28+mG2APm79iD5FjZE+HB2aPvOsoj7KPKs+ocyzPnhcvD5P7MQ+JnzNPv0L1j7Tm94+qivnPoG77z5YS/g+mG0AP4O1BD9u/Qg/WkUNP0WNET8x1RU/HB0aPwhlHj/zrCI/3/QmP8o8Kz+2hC8/ocwzP4wUOD94XDw/Y6RAP0/sRD86NEk/JnxNPxHEUT/9C1Y/6FNaP9ObXj+/42I/qitnP5Zzaz+Bu28/bQN0P1hLeD9Ek3w/mG2AP42Rgj+DtYQ/edmGP279iD9kIYs/WkWNP1Bpjz9FjZE/O7GTPzHVlT8n+Zc/HB2aPxJBnD8IZZ4//YigP/Osoj/p0KQ/3/SmP9QYqT/KPKs/wGCtP7aErz+rqLE/ocyzP5fwtT+MFLg/gji6P3hcvD9ugL4/Y6TAP1nIwj9P7MQ/RBDHPzo0yT8wWMs/JnzNPxugzz8RxNE/B+jTP/0L1j/yL9g/6FPaP9533D/Tm94/yb/gP7/j4j+1B+U/qivnP6BP6T+Wc+s/jJftP4G77z933/E/bQP0P2In9j9YS/g/Tm/6P0ST/D85t/4/mG0AQJJ/AUCNkQJAiKMDQIO1BEB+xwVAedkGQHTrB0Bu/QhAaQ8KQGQhC0BfMwxAWkUNQFVXDkBQaQ9ASnsQQEWNEUBAnxJAO7ETQDbDFEAx1RVALOcWQCf5F0AhCxlAHB0aQBcvG0ASQRxADVMdQAhlHkADdx9A/YggQPiaIUDzrCJA7r4jQOnQJEDk4iVA3/QmQNkGKEDUGClAzyoqQMo8K0DFTixAwGAtQLtyLkC2hC9AsJYwQKuoMUCmujJAocwzQJzeNECX8DVAkgI3QIwUOECHJjlAgjg6QH1KO0B4XDxAc249QG6APkBokj9AY6RAQF62QUBZyEJAVNpDQE/sREBK/kVARBBHQD8iSEA6NElANUZKQDBYS0ArakxAJnxNQCGOTkAboE9AFrJQQBHEUUAM1lJAB+hTQAL6VED9C1ZA9x1XQPIvWEDtQVlA6FNaQONlW0Ded1xA2YldQNObXkDOrV9Ayb9gQMTRYUC/42JAuvVjQLUHZUCwGWZAqitnQKU9aECgT2lAm2FqQJZza0CRhWxAjJdtQIapbkCBu29AfM1wQHffcUBy8XJAbQN0QGgVdUBiJ3ZAXTl3QFhLeEBTXXlATm96QEmBe0BEk3xAP6V9QDm3fkA0yX9AmG2AQJX2gECSf4FAkAiCQI2RgkCLGoNAiKODQIYshECDtYRAgD6FQH7HhUB7UIZAedmGQHZih0B064dAcXSIQG79iEBsholAaQ+KQGeYikBkIYtAYqqLQF8zjEBcvIxAWkWNQFfOjUBVV45AUuCOQFBpj0BN8o9ASnuQQEgEkUBFjZFAQxaSQECfkkA+KJNAO7GTQDk6lEA2w5RAM0yVQDHVlUAuXpZALOeWQClwl0An+ZdAJIKYQCELmUAflJlAHB2aQBqmmkAXL5tAFbibQBJBnEAPypxADVOdQArcnUAIZZ5ABe6eQAN3n0AAAKBA",
        "encoding": "base64",
        "path": [
         "times",
         "buffer"
        ]
       },
       {
        "data": "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",
        "encoding": "base64",
        "path": [
         "values",
         "buffer"
        ]
       }
      ],
      "model_module": "jupyter-threejs",
      "model_module_version": "^2.1.0",
      "model_name": "VectorKeyframeTrackModel",
      "state": {
       "_model_module": "jupyter-threejs",
       "_model_module_version": "^2.1.0",
       "_model_name": "VectorKeyframeTrackModel",
       "_view_count": null,
       "_view_module": null,
       "_view_module_version": "",
       "_view_name": null,
       "interpolation": "InterpolateLinear",
       "name": "scene/rear frame d1.matrix",
       "times": {
        "dtype": "float32",
        "shape": [
         300
        ]
       },
       "values": {
        "dtype": "float32",
        "shape": [
         300,
         16
        ]
       }
      }
     },
     "5093844205594cbf9a4ca91432c3c618": {
      "model_module": "jupyter-threejs",
      "model_module_version": "^2.1.0",
      "model_name": "PerspectiveCameraModel",
      "state": {
       "_model_module": "jupyter-threejs",
       "_model_module_version": "^2.1.0",
       "_model_name": "PerspectiveCameraModel",
       "_view_count": null,
       "_view_module": null,
       "_view_module_version": "",
       "_view_name": null,
       "aspect": 1.3333333333333333,
       "castShadow": false,
       "children": [],
       "far": 2000,
       "focus": 10,
       "fov": 50,
       "frustumCulled": true,
       "matrix": [
        1,
        0,
        0,
        0,
        0,
        1,
        0,
        0,
        0,
        0,
        1,
        0,
        0,
        0,
        0,
        1
       ],
       "matrixAutoUpdate": true,
       "matrixWorld": [
        1,
        0,
        0,
        0,
        0,
        1,
        0,
        0,
        0,
        0,
        1,
        0,
        0,
        0,
        0,
        1
       ],
       "matrixWorldInverse": [
        1,
        0,
        0,
        0,
        0,
        1,
        0,
        0,
        0,
        0,
        1,
        0,
        0,
        0,
        0,
        1
       ],
       "matrixWorldNeedsUpdate": false,
       "modelViewMatrix": [
        1,
        0,
        0,
        0,
        0,
        1,
        0,
        0,
        0,
        0,
        1,
        0,
        0,
        0,
        0,
        1
       ],
       "name": "",
       "near": 0.1,
       "normalMatrix": [
        1,
        0,
        0,
        0,
        1,
        0,
        0,
        0,
        1
       ],
       "position": [
        1,
        1,
        1
       ],
       "projectionMatrix": [
        1,
        0,
        0,
        0,
        0,
        1,
        0,
        0,
        0,
        0,
        1,
        0,
        0,
        0,
        0,
        1
       ],
       "quaternion": [
        0,
        0,
        0,
        1
       ],
       "receiveShadow": false,
       "renderOrder": 0,
       "rotation": [
        0,
        0,
        0,
        "XYZ"
       ],
       "scale": [
        1,
        1,
        1
       ],
       "type": "PerspectiveCamera",
       "up": [
        0,
        1,
        0
       ],
       "visible": true,
       "zoom": 1
      }
     },
     "5b6fe9e649b744d5a3f9adf23084aa01": {
      "model_module": "jupyter-threejs",
      "model_module_version": "^2.1.0",
      "model_name": "MeshStandardMaterialModel",
      "state": {
       "_model_module": "jupyter-threejs",
       "_model_module_version": "^2.1.0",
       "_model_name": "MeshStandardMaterialModel",
       "_view_count": null,
       "_view_module": null,
       "_view_module_version": "",
       "_view_name": null,
       "alphaMap": null,
       "alphaTest": 0,
       "aoMap": null,
       "aoMapIntensity": 1,
       "blendDst": "OneMinusSrcAlphaFactor",
       "blendDstAlpha": 0,
       "blendEquation": "AddEquation",
       "blendEquationAlpha": 0,
       "blendSrc": "SrcAlphaFactor",
       "blendSrcAlpha": 0,
       "blending": "NormalBlending",
       "bumpMap": null,
       "bumpScale": 1,
       "clipIntersection": false,
       "clipShadows": false,
       "clippingPlanes": [],
       "color": "blue",
       "colorWrite": true,
       "defines": {
        "STANDARD": ""
       },
       "depthFunc": "LessEqualDepth",
       "depthTest": true,
       "depthWrite": true,
       "displacementBias": 0,
       "displacementMap": null,
       "displacementScale": 1,
       "dithering": false,
       "emissive": "#000000",
       "emissiveIntensity": 1,
       "emissiveMap": null,
       "envMap": null,
       "envMapIntensity": 1,
       "flatShading": false,
       "fog": true,
       "lightMap": null,
       "lightMapIntensity": 1,
       "lights": true,
       "map": null,
       "metalness": 0.5,
       "metalnessMap": null,
       "morphNormals": false,
       "morphTargets": false,
       "name": "",
       "normalMap": null,
       "normalScale": [
        1,
        1
       ],
       "opacity": 1,
       "overdraw": 0,
       "polygonOffset": false,
       "polygonOffsetFactor": 0,
       "polygonOffsetUnits": 0,
       "precision": null,
       "premultipliedAlpha": false,
       "refractionRatio": 0.98,
       "roughness": 0.5,
       "roughnessMap": null,
       "shadowSide": null,
       "side": "FrontSide",
       "skinning": false,
       "transparent": false,
       "type": "MeshStandardMaterial",
       "vertexColors": "NoColors",
       "visible": true,
       "wireframe": false,
       "wireframeLinecap": "round",
       "wireframeLinejoin": "round",
       "wireframeLinewidth": 1
      }
     },
     "6a62ee52ddad43d493cba77fdd15d0dd": {
      "buffers": [
       {
        "data": "AAAAAG79iDxu/Qg9JnxNPW79iD3KPKs9JnzNPYG77z1u/Qg+HB0aPso8Kz54XDw+JnxNPtObXj6Bu28+mG2APm79iD5FjZE+HB2aPvOsoj7KPKs+ocyzPnhcvD5P7MQ+JnzNPv0L1j7Tm94+qivnPoG77z5YS/g+mG0AP4O1BD9u/Qg/WkUNP0WNET8x1RU/HB0aPwhlHj/zrCI/3/QmP8o8Kz+2hC8/ocwzP4wUOD94XDw/Y6RAP0/sRD86NEk/JnxNPxHEUT/9C1Y/6FNaP9ObXj+/42I/qitnP5Zzaz+Bu28/bQN0P1hLeD9Ek3w/mG2AP42Rgj+DtYQ/edmGP279iD9kIYs/WkWNP1Bpjz9FjZE/O7GTPzHVlT8n+Zc/HB2aPxJBnD8IZZ4//YigP/Osoj/p0KQ/3/SmP9QYqT/KPKs/wGCtP7aErz+rqLE/ocyzP5fwtT+MFLg/gji6P3hcvD9ugL4/Y6TAP1nIwj9P7MQ/RBDHPzo0yT8wWMs/JnzNPxugzz8RxNE/B+jTP/0L1j/yL9g/6FPaP9533D/Tm94/yb/gP7/j4j+1B+U/qivnP6BP6T+Wc+s/jJftP4G77z933/E/bQP0P2In9j9YS/g/Tm/6P0ST/D85t/4/mG0AQJJ/AUCNkQJAiKMDQIO1BEB+xwVAedkGQHTrB0Bu/QhAaQ8KQGQhC0BfMwxAWkUNQFVXDkBQaQ9ASnsQQEWNEUBAnxJAO7ETQDbDFEAx1RVALOcWQCf5F0AhCxlAHB0aQBcvG0ASQRxADVMdQAhlHkADdx9A/YggQPiaIUDzrCJA7r4jQOnQJEDk4iVA3/QmQNkGKEDUGClAzyoqQMo8K0DFTixAwGAtQLtyLkC2hC9AsJYwQKuoMUCmujJAocwzQJzeNECX8DVAkgI3QIwUOECHJjlAgjg6QH1KO0B4XDxAc249QG6APkBokj9AY6RAQF62QUBZyEJAVNpDQE/sREBK/kVARBBHQD8iSEA6NElANUZKQDBYS0ArakxAJnxNQCGOTkAboE9AFrJQQBHEUUAM1lJAB+hTQAL6VED9C1ZA9x1XQPIvWEDtQVlA6FNaQONlW0Ded1xA2YldQNObXkDOrV9Ayb9gQMTRYUC/42JAuvVjQLUHZUCwGWZAqitnQKU9aECgT2lAm2FqQJZza0CRhWxAjJdtQIapbkCBu29AfM1wQHffcUBy8XJAbQN0QGgVdUBiJ3ZAXTl3QFhLeEBTXXlATm96QEmBe0BEk3xAP6V9QDm3fkA0yX9AmG2AQJX2gECSf4FAkAiCQI2RgkCLGoNAiKODQIYshECDtYRAgD6FQH7HhUB7UIZAedmGQHZih0B064dAcXSIQG79iEBsholAaQ+KQGeYikBkIYtAYqqLQF8zjEBcvIxAWkWNQFfOjUBVV45AUuCOQFBpj0BN8o9ASnuQQEgEkUBFjZFAQxaSQECfkkA+KJNAO7GTQDk6lEA2w5RAM0yVQDHVlUAuXpZALOeWQClwl0An+ZdAJIKYQCELmUAflJlAHB2aQBqmmkAXL5tAFbibQBJBnEAPypxADVOdQArcnUAIZZ5ABe6eQAN3n0AAAKBA",
        "encoding": "base64",
        "path": [
         "times",
         "buffer"
        ]
       },
       {
        "data": "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",
        "encoding": "base64",
        "path": [
         "values",
         "buffer"
        ]
       }
      ],
      "model_module": "jupyter-threejs",
      "model_module_version": "^2.1.0",
      "model_name": "VectorKeyframeTrackModel",
      "state": {
       "_model_module": "jupyter-threejs",
       "_model_module_version": "^2.1.0",
       "_model_name": "VectorKeyframeTrackModel",
       "_view_count": null,
       "_view_module": null,
       "_view_module_version": "",
       "_view_name": null,
       "interpolation": "InterpolateLinear",
       "name": "scene/front frame d2.matrix",
       "times": {
        "dtype": "float32",
        "shape": [
         300
        ]
       },
       "values": {
        "dtype": "float32",
        "shape": [
         300,
         16
        ]
       }
      }
     },
     "6d45b5ecbdab4181a5fb23ea04ceef19": {
      "model_module": "jupyter-threejs",
      "model_module_version": "^2.1.0",
      "model_name": "SphereBufferGeometryModel",
      "state": {
       "_model_module": "jupyter-threejs",
       "_model_module_version": "^2.1.0",
       "_model_name": "SphereBufferGeometryModel",
       "_view_count": null,
       "_view_module": null,
       "_view_module_version": "",
       "_view_name": null,
       "heightSegments": 100,
       "name": "",
       "phiLength": 6.283185307179586,
       "phiStart": 0,
       "radius": 0.05,
       "thetaLength": 3.141592653589793,
       "thetaStart": 0,
       "type": "SphereBufferGeometry",
       "widthSegments": 100
      }
     },
     "6e02a69cef3544f99a41b701b02d6907": {
      "model_module": "jupyter-threejs",
      "model_module_version": "^2.1.0",
      "model_name": "CylinderBufferGeometryModel",
      "state": {
       "_model_module": "jupyter-threejs",
       "_model_module_version": "^2.1.0",
       "_model_name": "CylinderBufferGeometryModel",
       "_view_count": null,
       "_view_module": null,
       "_view_module_version": "",
       "_view_name": null,
       "height": 0.2676445084476887,
       "heightSegments": 1,
       "name": "",
       "openEnded": false,
       "radialSegments": 100,
       "radiusBottom": 0.02,
       "radiusTop": 0.02,
       "thetaLength": 6.283185307179586,
       "thetaStart": 0,
       "type": "CylinderBufferGeometry"
      }
     },
     "70da9a9a51cc461393ed4727cadd19a0": {
      "model_module": "jupyter-threejs",
      "model_module_version": "^2.1.0",
      "model_name": "AnimationActionModel",
      "state": {
       "_dom_classes": [],
       "_model_module": "jupyter-threejs",
       "_model_module_version": "^2.1.0",
       "_model_name": "AnimationActionModel",
       "_view_count": null,
       "_view_module": "jupyter-threejs",
       "_view_module_version": "^2.1.0",
       "_view_name": "AnimationActionView",
       "clampWhenFinished": false,
       "clip": "IPY_MODEL_2742828c528345c0ba0581053d5a48f1",
       "enabled": true,
       "layout": "IPY_MODEL_880a6c5141fb46e2b9ba36a07b9550c5",
       "localRoot": "IPY_MODEL_a320ff32be664840a6396e00e79604a9",
       "loop": "LoopRepeat",
       "mixer": "IPY_MODEL_f72e0baa93c647a6a84530d22ac8d32d",
       "paused": false,
       "repititions": "inf",
       "time": 0,
       "timeScale": 1,
       "weigth": 1,
       "zeroSlopeAtEnd": true,
       "zeroSlopeAtStart": true
      }
     },
     "7181c6540bb849328c592b64ee2e1aac": {
      "model_module": "jupyter-threejs",
      "model_module_version": "^2.1.0",
      "model_name": "MeshModel",
      "state": {
       "_model_module": "jupyter-threejs",
       "_model_module_version": "^2.1.0",
       "_model_name": "MeshModel",
       "_view_count": null,
       "_view_module": null,
       "_view_module_version": "",
       "_view_name": null,
       "castShadow": false,
       "children": [],
       "drawMode": "TrianglesDrawMode",
       "frustumCulled": true,
       "geometry": "IPY_MODEL_6e02a69cef3544f99a41b701b02d6907",
       "material": "IPY_MODEL_9237f924ac3747f2b4df82d1a974a7ea",
       "matrix": [
        0.9510565162951535,
        1e-08,
        -0.3090169943749475,
        0,
        -0.3090169943749475,
        0,
        -0.9510565162951535,
        0,
        -9.510565162951535e-09,
        1,
        3.0901699437494753e-09,
        0,
        0.9481449098430829,
        0,
        -0.46736191101220864,
        1
       ],
       "matrixAutoUpdate": false,
       "matrixWorld": [
        1,
        0,
        0,
        0,
        0,
        1,
        0,
        0,
        0,
        0,
        1,
        0,
        0,
        0,
        0,
        1
       ],
       "matrixWorldNeedsUpdate": false,
       "modelViewMatrix": [
        1,
        0,
        0,
        0,
        0,
        1,
        0,
        0,
        0,
        0,
        1,
        0,
        0,
        0,
        0,
        1
       ],
       "morphTargetInfluences": [],
       "name": "front frame d2",
       "normalMatrix": [
        1,
        0,
        0,
        0,
        1,
        0,
        0,
        0,
        1
       ],
       "position": [
        0,
        0,
        0
       ],
       "quaternion": [
        0,
        0,
        0,
        1
       ],
       "receiveShadow": false,
       "renderOrder": 0,
       "rotation": [
        0,
        0,
        0,
        "XYZ"
       ],
       "scale": [
        1,
        1,
        1
       ],
       "type": "Mesh",
       "up": [
        0,
        1,
        0
       ],
       "visible": true
      }
     },
     "72e933345e3b4402b9ac44cbd75ad044": {
      "model_module": "jupyter-threejs",
      "model_module_version": "^2.1.0",
      "model_name": "MeshStandardMaterialModel",
      "state": {
       "_model_module": "jupyter-threejs",
       "_model_module_version": "^2.1.0",
       "_model_name": "MeshStandardMaterialModel",
       "_view_count": null,
       "_view_module": null,
       "_view_module_version": "",
       "_view_name": null,
       "alphaMap": null,
       "alphaTest": 0,
       "aoMap": null,
       "aoMapIntensity": 1,
       "blendDst": "OneMinusSrcAlphaFactor",
       "blendDstAlpha": 0,
       "blendEquation": "AddEquation",
       "blendEquationAlpha": 0,
       "blendSrc": "SrcAlphaFactor",
       "blendSrcAlpha": 0,
       "blending": "NormalBlending",
       "bumpMap": null,
       "bumpScale": 1,
       "clipIntersection": false,
       "clipShadows": false,
       "clippingPlanes": [],
       "color": "black",
       "colorWrite": true,
       "defines": {
        "STANDARD": ""
       },
       "depthFunc": "LessEqualDepth",
       "depthTest": true,
       "depthWrite": true,
       "displacementBias": 0,
       "displacementMap": null,
       "displacementScale": 1,
       "dithering": false,
       "emissive": "#000000",
       "emissiveIntensity": 1,
       "emissiveMap": null,
       "envMap": null,
       "envMapIntensity": 1,
       "flatShading": false,
       "fog": true,
       "lightMap": null,
       "lightMapIntensity": 1,
       "lights": true,
       "map": null,
       "metalness": 0.5,
       "metalnessMap": null,
       "morphNormals": false,
       "morphTargets": false,
       "name": "",
       "normalMap": null,
       "normalScale": [
        1,
        1
       ],
       "opacity": 1,
       "overdraw": 0,
       "polygonOffset": false,
       "polygonOffsetFactor": 0,
       "polygonOffsetUnits": 0,
       "precision": null,
       "premultipliedAlpha": false,
       "refractionRatio": 0.98,
       "roughness": 0.5,
       "roughnessMap": null,
       "shadowSide": null,
       "side": "FrontSide",
       "skinning": false,
       "transparent": false,
       "type": "MeshStandardMaterial",
       "vertexColors": "NoColors",
       "visible": true,
       "wireframe": false,
       "wireframeLinecap": "round",
       "wireframeLinejoin": "round",
       "wireframeLinewidth": 1
      }
     },
     "7c2cbd00912442099362e25380c350c5": {
      "buffers": [
       {
        "data": "AAAAAG79iDxu/Qg9JnxNPW79iD3KPKs9JnzNPYG77z1u/Qg+HB0aPso8Kz54XDw+JnxNPtObXj6Bu28+mG2APm79iD5FjZE+HB2aPvOsoj7KPKs+ocyzPnhcvD5P7MQ+JnzNPv0L1j7Tm94+qivnPoG77z5YS/g+mG0AP4O1BD9u/Qg/WkUNP0WNET8x1RU/HB0aPwhlHj/zrCI/3/QmP8o8Kz+2hC8/ocwzP4wUOD94XDw/Y6RAP0/sRD86NEk/JnxNPxHEUT/9C1Y/6FNaP9ObXj+/42I/qitnP5Zzaz+Bu28/bQN0P1hLeD9Ek3w/mG2AP42Rgj+DtYQ/edmGP279iD9kIYs/WkWNP1Bpjz9FjZE/O7GTPzHVlT8n+Zc/HB2aPxJBnD8IZZ4//YigP/Osoj/p0KQ/3/SmP9QYqT/KPKs/wGCtP7aErz+rqLE/ocyzP5fwtT+MFLg/gji6P3hcvD9ugL4/Y6TAP1nIwj9P7MQ/RBDHPzo0yT8wWMs/JnzNPxugzz8RxNE/B+jTP/0L1j/yL9g/6FPaP9533D/Tm94/yb/gP7/j4j+1B+U/qivnP6BP6T+Wc+s/jJftP4G77z933/E/bQP0P2In9j9YS/g/Tm/6P0ST/D85t/4/mG0AQJJ/AUCNkQJAiKMDQIO1BEB+xwVAedkGQHTrB0Bu/QhAaQ8KQGQhC0BfMwxAWkUNQFVXDkBQaQ9ASnsQQEWNEUBAnxJAO7ETQDbDFEAx1RVALOcWQCf5F0AhCxlAHB0aQBcvG0ASQRxADVMdQAhlHkADdx9A/YggQPiaIUDzrCJA7r4jQOnQJEDk4iVA3/QmQNkGKEDUGClAzyoqQMo8K0DFTixAwGAtQLtyLkC2hC9AsJYwQKuoMUCmujJAocwzQJzeNECX8DVAkgI3QIwUOECHJjlAgjg6QH1KO0B4XDxAc249QG6APkBokj9AY6RAQF62QUBZyEJAVNpDQE/sREBK/kVARBBHQD8iSEA6NElANUZKQDBYS0ArakxAJnxNQCGOTkAboE9AFrJQQBHEUUAM1lJAB+hTQAL6VED9C1ZA9x1XQPIvWEDtQVlA6FNaQONlW0Ded1xA2YldQNObXkDOrV9Ayb9gQMTRYUC/42JAuvVjQLUHZUCwGWZAqitnQKU9aECgT2lAm2FqQJZza0CRhWxAjJdtQIapbkCBu29AfM1wQHffcUBy8XJAbQN0QGgVdUBiJ3ZAXTl3QFhLeEBTXXlATm96QEmBe0BEk3xAP6V9QDm3fkA0yX9AmG2AQJX2gECSf4FAkAiCQI2RgkCLGoNAiKODQIYshECDtYRAgD6FQH7HhUB7UIZAedmGQHZih0B064dAcXSIQG79iEBsholAaQ+KQGeYikBkIYtAYqqLQF8zjEBcvIxAWkWNQFfOjUBVV45AUuCOQFBpj0BN8o9ASnuQQEgEkUBFjZFAQxaSQECfkkA+KJNAO7GTQDk6lEA2w5RAM0yVQDHVlUAuXpZALOeWQClwl0An+ZdAJIKYQCELmUAflJlAHB2aQBqmmkAXL5tAFbibQBJBnEAPypxADVOdQArcnUAIZZ5ABe6eQAN3n0AAAKBA",
        "encoding": "base64",
        "path": [
         "times",
         "buffer"
        ]
       },
       {
        "data": "AACAPwAAAAAAAAAAAAAAAAAAAIAAAIA/AAAAAAAAAAAAAAAAAAAAgAAAgD8AAAAAAAAAgAAAAACamZm+AACAPwAAgD9fN+M4AAAAAAAAAABcNeO4u/1/P8xUCDwAAAAAXAFyNcxUCLy7/X8/AAAAAAQ0kbT1mCM7PZiZvgAAgD/+/38/Q08EOgAAAAAAAAAAoUoEugj3fz+MeIc8AAAAADQIDDeLeIe8Cvd/PwAAAADYCSi2p5CiOzmUmb4AAIA/8v9/Pwl3pzoAAAAAAAAAAAxqp7oY7H8/P5/JPAAAAACi5AM4NJ/JvCbsfz8AAAAAj0Uetz/y8TuwjZm+AACAP8z/fz+ufCM7AAAAAAAAAACOZiO7J91/PycrBT0AAAAAqhaqOAsrBb1b3X8/AAAAADMbzLdBzR880ISZvgAAgD9s/38/qtCJOwAAAAAAAAAAJLSJu3DKfz9ErCQ9AAAAANRMMTnlqyS9BMt/PwAAAACYwlS4E5tFPM95mb4AAIA/o/5/P1dC0zsAAAAAAAAAAOUE07sutH8/6DFDPQAAAAC3FKE53jBDvYu1fz8AAAAAD0zBuKQ6ajztbJm+AACAPzP9fz/qbhc8AAAAAAAAAACVNBe8mJp/P4+cYD0AAAAAqd0EOhuaYL1knX8/AAAAAGVwH7ndwoY8b16ZvgAAgD/L+n8/K41OPAAAAAAAAAAAWyhOvNt9fz9Wznw9AAAAAHH5SzoyyXy9DoN/PwAAAADuxHS566uXPKJOmb4AAIA/B/d/Px6KhzwAAAAAAAAAACQ5h7wcXn8/g9WLPQAAAAASEpQ6nNCLvQ9nfz8AAAAASa+xuSLHpzzWPZm+AACAP3jxfz/pfqw8AAAAAAAAAAA+BKy8dTt/PxiMmD0AAAAAgJPNOm+DmL3ySX8/AAAAAACx9rkfBLc8XiyZvgAAgD+e6X8/exTWPAAAAAAAAAAAamPVvPQVfz+jfqQ9AAAAAAWPCTtBcKS9Qyx/PwAAAAAGEiW6glPFPI8amb4AAIA/8N5/PzwXAj0AAAAAAAAAAIucAb2g7X4/3qGvPQAAAABHgDI7L4uvvZEOfz8AAAAAiDNWugWn0jy9CJm+AACAP93Qfz/pUhs9AAAAAAAAAAC5rhq9c8J+P47ruT0AAAAAq5thO1PJub1k8X4/AAAAAGddh7qW8d48PPeYvgAAgD/Qvn8/4aQ2PQAAAAAAAAAAv881vWCUfj+ZUsM9AAAAAIVaizvcIMO9RNV+PwAAAABtOae6byfqPFzmmL4AAIA/Nqh/P1LwUz0AAAAAAAAAAP7iUr1TY34/Dc/LPQAAAAD7uqg7KYnLva26fj8AAAAA+nnKujE+9Dxo1pi+AACAP36Mfz9cFHM9AAAAAAAAAAAbyHG9MS9+PzRa0z0AAAAAb6/IO9f60r0Von4/AAAAAIXS8LoCLf08pseYvgAAgD8ia38/O/aJPQAAAAAAAAAAsi2Jvd/3fT+b7tk9AAAAAJ3k6jvgb9m95Yt+PwAAAACR7wy7U3YCPVa6mL4AAIA/p0N/P2Uomz0AAAAAAAAAABg7mr0/vX0/HIjfPQAAAACuegc8puPevXh4fj8AAAAAN5Miu8q7BT2urpi+AACAP6QVfz9RC609AAAAAAAAAACZ96u9NX99P+Ej5D0AAAAAVTYaPAZT470baH4/AAAAAP8NObsEZQg93aSYvgAAgD/F4H4/aIi/PQAAAAAAAAAAdk2+vao9fT9swOc9AAAAAA1kLTxmvOa9DFt+PwAAAACpEVC7CnEKPQedmL4AAIA/zqR+PxKI0j0AAAAAAAAAAAEm0b2N+Hw/kV3qPQAAAABTvUA8th/pvXhRfj8AAAAAl0lnu9TfCz1Il5i+AACAP5thfj/y8eU9AAAAAAAAAADZaeS91698P3b86z0AAAAA3fdTPHZ+6r15S34/AAAAAKNcfrtHsgw9r5OYvgAAgD8pF34/Ka35PQAAAAAAAAAAGwH4vYljfD+Gn+w9AAAAADfHZjyv2+q9G0l+PwAAAACId4q7NuoMPUOSmL4AAIA/j8V9P0jQBj4AAAAAAAAAAM7pBb61E3w/bkrsPQAAAABp3ng85zvqvVdKfj8AAAAAP1KVu1iKDD0Bk5i+AACAPwVtfT+B2RA+AAAAAAAAAACP5A++d8B7PwYC6z0AAAAAzviEPBOl6L0ZT34/AAAAAPiQn7s/lgs93JWYvgAAgD/fDX0/yuUaPgAAAAAAAAAAxeQZvvxpez9HzOg9AAAAANnbjDx/Hua9Old+PwAAAADRB6m7TBIKPbyamL4AAIA/kah8P+noJD4AAAAAAAAAAJDeI75/EHs/N7DlPQAAAADc9ZM8tLDivYlifj8AAAAAbo2xu58DCD2FoZi+AACAP6c9fD//1i4+AAAAAAAAAABWxi2+S7R6P9O14T0AAAAAJCeaPFhl3r3GcH4/AAAAAMX7uLsCcAU9EaqYvgAAgD/KzXs/nKQ4PgAAAAAAAAAA2JA3vrlVej/85dw9AAAAAFdTnzwQR9m9qoF+PwAAAADOML+7110CPTO0mL4AAIA/tVl7P9hGQj4AAAAAAAAAAEczQb4w9Xk/XUrXPQAAAADvYaM8W2HTveKUfj8AAAAAHw/Euwao/Ty7v5i+AACAPzniej9ms0s+AAAAAAAAAABWo0q+JZN5P1vt0D0AAAAAoD6mPGvAzL0Xqn4/AAAAAFp+x7u0s/U8dMyYvgAAgD82aHo/neBUPgAAAAAAAAAARtdTvhgweT/42ck9AAAAAJzZpzwHccW96cB+PwAAAACIa8m7CO7sPCXamL4AAIA/lex5P4vFXT4AAAAAAAAAAPfFXL6QzHg/whvCPQAAAAC/J6g8YoC9vfrYfj8AAAAAS8nJu9xm4zyW6Ji+AACAP0tweT/yWWY+AAAAAAAAAADpZmW+H2l4P7y+uT0AAAAAoCKnPP/7tL3n8X4/AAAAAPOPyLtlLtk8i/eYvgAAgD9P9Hg/U5ZuPgAAAAAAAAAASLJtvlsGeD9Oz7A9AAAAAI3IpDyP8au9UAt/PwAAAAB2vcW7ElXOPMkGmb4AAIA/mHl4P+xzdj4AAAAAAAAAAO2gdb7epHc/K1qnPQAAAABuHKE8126ivdUkfz8AAAAAUFXBu2jrwjwZFpm+AACAPxsBeD+z7H0+AAAAAAAAAABgLH2+REV3P0tsnT0AAAAAlCWcPJaBmL0bPn8/AAAAAEtgu7voAbc8QyWZvgAAgD/Ii3c/q32CPgAAAAAAAAAAayeCvinodj/OEpM9AAAAAH7vlTxzN469y1Z/PwAAAAAx7LO78KiqPBM0mb4AAIA/hRp3P5fNhT4AAAAAAAAAAJaBhb4ojnY/+FqIPQAAAACJiY485p2DvZVufz8AAAAAcQuru63wnTxZQpm+AACAPy2udj8h5Ig+AAAAAAAAAAB1ooi+1Td2Pz+kej0AAAAAnAaGPFyEcb0whX8/AAAAALvUoLsE6ZA86k+ZvgAAgD+OR3Y/mb+LPgAAAAAAAAAAHIiLvsPldT8+C2Q9AAAAAI/5eDyKYlu9Wpp/PwAAAACJYpW7hqGDPJxcmb4AAIA/Zud1P51ejj4AAAAAAAAAAO4wjr59mHU/mAVNPQAAAADACWQ8rO9Evdqtfz8AAAAAp9KIu85SbDxQaJm+AACAP2KOdT8QwJA+AAAAAAAAAACYm5C+hFB1P9itNT0AAAAAL3RNPGxELr2Av38/AAAAAGyLdrvoHlE853KZvgAAgD8fPXU/GeOSPgAAAAAAAAAAEceSvlMOdT9VHh49AAAAACFzNTzIeBe9J89/PwAAAABbvVm7I8Q1PEp8mb4AAIA/I/R0PxvHlD4AAAAAAAAAAJaylL5Z0nQ/G3EGPQAAAADoQxw8BKQAvbDcfz8AAAAAsIQ7u2xeGjxqhJm+AACAP+KzdD+5a5Y+AAAAAAAAAAClXZa++5x0P7x/3TwAAAAADSYCPGS507wK6H8/AAAAAKktHLurEf47OYuZvgAAgD+8fHQ/yNCXPgAAAAAAAAAA/MeXvpFudD/IR648AAAAAPK0zjtVcaa8K/F/PwAAAABWDPi6M7vHO7OQmb4AAIA/+U50P1X2mD4AAAAAAAAAAJjxmL5oR3Q/1dd+PAAAAABfRZg7VTRzvBL4fz8AAAAApbm2ujPskTvYlJm+AACAP9AqdD+f3Jk+AAAAAAAAAACx2pm+vyd0Py45IjwAAAAA9f9CO6G5GrzK/H8/AAAAAPP/abqOqzk7rJeZvgAAgD9eEHQ/FYSaPgAAAAAAAAAAtYOavsgPdD/+I447AAAAAPmVqzpkg4e7Yv9/PwAAAAAr5825rJ2iOjuZmb4AAIA/sP9zP1Ttmj4AAAAAAAAAAE7tmr6m/3M/9BCSugAAAAA4y7C5+jeLOvb/fz8AAAAAECfUOPkPp7mTmZm+AACAP7n4cz8pGZs+AAAAAAAAAABXGJu+bvdzPznV0rsAAAAApHf/uj3tyDul/n8/AAAAAMlHGTqvHPG6yZiZvgAAgD9d+3M/jQibPgAAAAAAAAAA4QWbvin3cz9EEj68AAAAANA2Zrv3JTU8l/t/PwAAAADjIIo6wmBZu/SWmb4AAIA/aQd0P6W8mj4AAAAAAAAAADG3mr7O/nM/vPOHvAAAAACcWaS7P5iBPPn2fz8AAAAAVTjFOn6Dm7svlJm+AACAP5ccdD/FNpo+AAAAAAAAAAC7LZq+SA50P0FOr7wAAAAAKjXTuysqpzz+8H8/AAAAAP9y/ToAmci7mJCZvgAAgD+TOnQ/bHiZPgAAAAAAAAAAJWuZvnIldD/s89S8AAAAAOhT/7s2Kcs82ul/PwAAAABYMhk7Dsvzu1CMmb4AAIA/9GB0P0aDmD4AAAAAAAAAAEVxmL4bRHQ/LcL4vAAAAADbMhS8SXftPMfhfz8AAAAAoNYxO8Z6Drx3h5m+AACAP0WPdD8tWZc+AAAAAAAAAAAeQpe+AWp0P2pMDb0AAAAAlhInvOn7Bj3+2H8/AAAAALR8SDsX+yG8MoKZvgAAgD8BxXQ/J/yVPgAAAAAAAAAA39+VvtqWdD8WLR29AAAAABssOLztRxY9u89/PwAAAAC6AV07T1Y0vKR8mb4AAIA/lwF1P2ZulD4AAAAAAAAAAOZMlL5KynQ/jPUrvQAAAAA6aEe8EJMkPTnGfz8AAAAA30lvO0Z9Rbzvdpm+AACAP2xEdT9LspI+AAAAAAAAAAC4i5K+7gN1P5yZOb0AAAAAvbVUvJ7RMT2vvH8/AAAAAHxAfzvxYVW8NnGZvgAAgD/djHU/YcqQPgAAAAAAAAAABp+QvlVDdT+ADka9AAAAAHUJYLzc+D09V7N/PwAAAAATbIY7bvdjvJtrmb4AAIA/Ptp1P125jj4AAAAAAAAAAKOJjr4HiHU/5kpRvQAAAAAuXmm8G/9IPWSqfz8AAAAATwWMOyAycbw8Zpm+AACAP+Erdj8fgow+AAAAAAAAAACKToy+gtF1P/tGW70AAAAAi7RwvMrbUj0Fon8/AAAAAFNskDu/B328NmGZvgAAgD8RgXY/qyeKPgAAAAAAAAAA1/CJvj0fdj9y/GO9AAAAANISdryHh1s9Z5p/PwAAAADkpJM7t7eDvKRcmb4AAIA/HNl2Pyuthz4AAAAAAAAAAMJzh76qcHY/i2ZrvQAAAACehHm8LfxiPa6Tfz8AAAAA+LWVO+gwiLycWJm+AACAP1Azdz/oFYU+AAAAAAAAAACi2oS+N8V2PxSCcb0AAAAAfxp7vOo0aT38jX8/AAAAAH+pljuM7Iu8MVWZvgAAgD/+jnc/TGWCPgAAAAAAAAAA5CiCvk8cdz9qTXa9AAAAAIrperxELm49aIl/PwAAAAAgjJY7j+iOvHJSmb4AAIA/fOt3P6o9fz4AAAAAAAAAAA7Efr5ddXc/dch5vQAAAADXCnm8LeZxPQeGfz8AAAAA52yVO7QjkbxrUJm+AACAPydIeD8xjHk+AAAAAAAAAAA3E3m+ys93P6f0e70AAAAA8Jp1vARcdD3lg38/AAAAAPZckzucnZK8I0+ZvgAAgD9lpHg/dL1zPgAAAAAAAAAAeEZzvgQreD/v1Hy9AAAAADu5cLykkHU9CIN/PwAAAAAjb5A7yVaTvJ5Omb4AAIA/pP94P8/YbT4AAAAAAAAAABJlbb56hng/tm18vQAAAABbh2q8XIZ1PW6Dfz8AAAAAnbeMO51Qk7zbTpm+AACAP2BZeT+n5Wc+AAAAAAAAAABKdme+ouF4P8zEer0AAAAAiihjvPdAdD0QhX8/AAAAAIZLiDthjZK81k+ZvgAAgD8esXk/XuthPgAAAAAAAAAAXYFhvvU7eT9e4Xe9AAAAAPvAWry0xXE94Yd/PwAAAACWQIM7ORCRvIdRmb4AAIA/cQZ6P0jxWz4AAAAAAAAAAHWNW772lHk/5ctzvQAAAAA0dVG8QBtuPc+Lfz8AAAAAcll7OybdjrzjU5m+AACAP/lYej+i/lU+AAAAAAAAAACloVW+L+x5PxKObr0AAAAAfWlHvKZJaT3CkH8/AAAAAGNLbzv9+Iu821aZvgAAgD9iqHo/hRpQPgAAAAAAAAAA2cRPvjFBej/BMmi9AAAAAErBPLxKWmM9nJZ/PwAAAACMgWI7YGmIvF5amb4AAIA/Z/R6P91LSj4AAAAAAAAAANT9Sb6Zk3o/3cVgvQAAAAC8njG80VdcPUCdfz8AAAAA4iRVO7A0hLxZXpm+AACAP888ez9fmUQ+AAAAAAAAAAAhU0S+C+N6P1FUWL0AAAAAKSImvA5OVD2IpH8/AAAAADFcRzsRxH68uGKZvgAAgD9tgXs/gQk/PgAAAAAAAAAAD8s+vjcvez/y6069AAAAALhpGrzzSUs9Uqx/PwAAAACqSzk7V/JzvGRnmb4AAIA/IMJ7P3KiOT4AAAAAAAAAAKtrOb7Wd3s/ZptEvQAAAAAOkQ68c1lBPXa0fz8AAAAAeBQrO/AEaLxHbJm+AACAP9H+ez8UajQ+AAAAAAAAAAC3OjS+qrx7PxByOb0AAAAAC7ECvGyLNj3MvH8/AAAAAHTUHDu1DVu8R3GZvgAAgD9zN3w/82UvPgAAAAAAAAAApj0vvoD9ez/+fy29AAAAAC2/7buT7yo9LsV/PwAAAADopQ47fR9NvE92mb4AAIA/BWx8P0SbKj4AAAAAAAAAAJV5Kr4vOnw/zNUgvQAAAAAMX9a7UpYePXXNfz8AAAAAbZ8AO/xNPrxGe5m+AACAP4icfD/fDiY+AAAAAAAAAABL8yW+lHJ8P5aEE70AAAAAFmG/u7eQET181X8/AAAAALSn5TqorS68F4CZvgAAgD8IyXw/PcUhPgAAAAAAAAAAMq8hvpemfD/dnQW9AAAAAHXeqLtT8AM9H91/PwAAAACMpMo6l1MevKyEmb4AAIA/lPF8P3LCHT4AAAAAAAAAAFexHb4n1nw/82buvAAAAAA36pK7T47rPD7kfz8AAAAAQkywOmNVDbzyiJm+AACAP0AWfT8wCho+AAAAAAAAAABk/Rm+OQF9PwCv0LwAAAAAKCN7uxZPzjy86n8/AAAAALKuljoakve714yZvgAAgD8jN30/xJ8WPgAAAAAAAAAApJYWvssnfT9pOLK8AAAAAI+4UbsiSLA8ffB/PwAAAABFqns6w4nTu0uQmb4AAIA/VVR9PxSGEz4AAAAAAAAAAPx/E77eSX0/6SeTvAAAAAD7mSm7656RPG31fz8AAAAAk4VLOrS+rrtBk5m+AACAP/FtfT+ivxA+AAAAAAAAAADxuxC+emd9P49EZ7wAAAAAr8MCuxTyZDx5+X8/AAAAANLqHDoMXom7r5WZvgAAgD8QhH0/iE4OPgAAAAAAAAAAoEwOvquAfT92mCe8AAAAAPVTuroi+CU8kvx/PwAAAADzl985wilHu4uXmb4AAIA/zJZ9P3w0DD4AAAAAAAAAAMUzDL6AlX0/ACnPuwAAAADK6WK6jDXNO7H+fz8AAAAA4CWIOUJA9rrQmJm+AACAPz2mfT/Scgo+AAAAAAAAAAC4cgq+DKZ9P90DHrsAAAAA6emquW2QHDvP/38/AAAAALEYzTiD4Du6fJmZvgAAgD94sn0/eAoJPgAAAAAAAAAAbgoJvmWyfT+L1sI6AAAAAJCZUDncFcG67f9/PwAAAADgUXq41LPnOY6Zmb4AAIA/kLt9P/r7Bz4AAAAAAAAAAHr7B76iun0/eXGvOwAAAAANYzo6sOOtuxD/fz8AAAAAEKpfudOq0DoJmZm+AACAP5jBfT+FRwc+AAAAAAAAAAAQRge+2759PyRUFjwAAAAAveCeOtYCFbw+/X8/AAAAAEmnvrk00DI78peZvgAAgD+bxH0/5OwGPgAAAAAAAAAAAeoGviy/fT8Y6lM8AAAAAENh3zoZEVK8hfp/PwAAAAAoBwa6hRR8O1CWmb4AAIA/p8R9P4frBj4AAAAAAAAAAMLmBr6vu30/zByIPAAAAACaeA87Be2GvPT2fz8AAAAAUiosujnpoTsslJm+AACAP8LBfT98Qgc+AAAAAAAAAABrOwe+gLR9P+yBpTwAAAAA/+QuO6sOpLyg8n8/AAAAAJjfUbpn3sQ7k5GZvgAAgD/zu30/e/AHPgAAAAAAAAAAuOYHvrqpfT85BsI8AAAAABcPTjuZTsC8nu1/PwAAAABPRXe6uMTmO5KOmb4AAIA/O7N9P+DzCD4AAAAAAAAAAA7nCL55m30/04zdPAAAAAC+C207SY/bvAfofz8AAAAAPzqOul+8Azw4i5m+AACAP5unfT+xSgo+AAAAAAAAAAB4Ogq+2Yl9P0b69zwAAAAAQ/WFO7G09bz44X8/AAAAAOq/oLpqbBM8lYeZvgAAgD8TmX0/nPILPgAAAAAAAAAAr94LvvV0fT9Tmgg9AAAAAIFalTsyUge9i9t/PwAAAABnObO6omIiPLqDmb4AAIA/n4d9PwDpDT4AAAAAAAAAABnRDb7pXH0/1JEUPQAAAAAVt6Q70yITveDUfz8AAAAAgKjFujGQMDy6f5m+AACAPz1zfT/qKhA+AAAAAAAAAADNDhC+0UF9P1zYHz0AAAAA/wi0O8hAHr0Uzn8/AAAAAMwK2LpW5z08pnuZvgAAgD/rW30/GrUSPgAAAAAAAAAAmJQSvsYjfT+KYyo9AAAAAJ1KwzuNoSi9Rsd/PwAAAACKWeq6dltKPJB3mb4AAIA/pUF9PwiEFT4AAAAAAAAAAP1eFb7mAn0/7Sk0PQAAAACkctI7ojsyvZPAfz8AAAAAkon8uinhVTyLc5m+AACAP2skfT/mkxg+AAAAAAAAAAA7ahi+S998Pw4jPT0AAAAAKnThO40GO70Yun8/AAAAALNFB7tDbmA8qG+ZvgAAgD8+BH0/peAbPgAAAAAAAAAAVbIbvhK5fD95R0U9AAAAAMg+8Dvo+kK98bN/PwAAAACrJRC74/lpPPdrmb4AAIA/I+F8P/tlHz4AAAAAAAAAAA8zH75ZkHw/wpBMPQAAAADNvv47ZhJKvTeufz8AAAAA4dgYu3p8cjyIaJm+AACAPyC7fD9oHyM+AAAAAAAAAAD65yK+PmV8P4r5Uj0AAAAAxW4GPNtHUL0CqX8/AAAAALlRIbvT73k8aGWZvgAAgD9Bknw/OwgnPgAAAAAAAAAAdswmvuE3fD+GfVg9AAAAANhADTw/l1W9ZqR/PwAAAAADgSm7jCeAPKNimb4AAIA/l2Z8P5cbKz4AAAAAAAAAALrbKr5iCHw/fBldPQAAAADaxxM8sP1ZvXSgfz8AAAAAOFYxu2rLgjxFYJm+AACAPzY4fD99VC8+AAAAAAAAAADYEC++5tZ7P0jLYD0AAAAAJ/UZPHZ5Xb07nX8/AAAAAMi/OLt64oQ8Vl6ZvgAAgD84B3w/0q0zPgAAAAAAAAAAxWYzvpGjez/ZkWM9AAAAAH+5Hzz9CWC9xpp/PwAAAABlqz+7ZGyGPN1cmb4AAIA/wNN7P2MiOD4AAAAAAAAAAGLYN76Kbns/MG1lPQAAAABMBSU8069hvR2Zfz8AAAAAWwZGu39phzzeW5m+AACAP/Gdez/wrDw+AAAAAAAAAAB8YDy+/Dd7P1xeZj0AAAAA68gpPKVsYr1EmH8/AAAAAOe9S7vK2oc8XFuZvgAAgD/6ZXs/MkhBPgAAAAAAAAAA2vlAvhQAez9zZ2Y9AAAAAPj0LTw2Q2K9PJh/PwAAAACPv1C77cGHPFdbmb4AAIA/DCx7P+LuRT4AAAAAAAAAAECfRb7/xno/jYtlPQAAAACWejE8UjdhvQKZfz8AAAAAgflUuzEhhzzOW5m+AACAP2Dwej/Cm0o+AAAAAAAAAAB5S0q+8Yx6P7vOYz0AAAAAuks0PMpNX72Qmn8/AAAAAOBaWLt5+4U8vVyZvgAAgD8zs3o/oUlPPgAAAAAAAAAAW/lOvh1Sej8ANmE9AAAAAHBbNjxhjFy93Zx/PwAAAAAg1Fq7OlSEPB5emb4AAIA/yXR6P2fzUz4AAAAAAAAAAM6jU767Fno/QcddPQAAAAAYnjc8wvlYvd2ffz8AAAAAUFdcu3UvgjzrX5m+AACAP2k1ej8UlFg+AAAAAAAAAADURVi+A9t5P0OJWT0AAAAApQk4PG6dVL2Co38/AAAAAF/YXLtRI388G2KZvgAAgD9g9Xk/zyZdPgAAAAAAAAAAjtpcvjGfeT+Ug1Q9AAAAAM6VNzysf0+9vKd/PwAAAABdTVy7m/94PKRkmb4AAIA//bR5P+SmYT4AAAAAAAAAAEJdYb6BY3k/hr5OPQAAAAA7PDY8eqlJvXesfz8AAAAArq5au5P+cTx6Z5m+AACAP5J0eT/PD2Y+AAAAAAAAAABfyWW+Myh5Px9DSD0AAAAAq/gzPHokQ72gsX8/AAAAADT3V7vFK2o8k2qZvgAAgD91NHk/PF1qPgAAAAAAAAAAhRpqvoXteD8KG0E9AAAAAAvJMDzf+ju9Ibd/PwAAAAB0JFS7cpNhPOBtmb4AAIA//PR4Pw2Lbj4AAAAAAAAAAIVMbr65s3g/i1A5PQAAAACJrSw8XTc0veS8fz8AAAAApTZPu3BCWDxWcZm+AACAP322eD9hlXI+AAAAAAAAAABqW3K+D3t4P2zuMD0AAAAAoKgnPBjlK73Uwn8/AAAAAMAwSbsdRk485nSZvgAAgD9OeXg/kHh2PgAAAAAAAAAAd0N2vsdDeD/0/yc9AAAAABO/ITyQDyO92sh/PwAAAAB9GEK7RqxDPIN4mb4AAIA/xj14PzIxej4AAAAAAAAAAC8Ber4jDng/1ZAePQAAAADp9xo8kcIZveDOfz8AAAAAS/Y5uxWDODwgfJm+AACAPzYEeD8ivH0+AAAAAAAAAABUkX2+X9p3PxytFD0AAAAAWFwTPCYKEL3Q1H8/AAAAADbVMLv62Cw8sH+ZvgAAgD/xzHc/PouAPgAAAAAAAAAAdXiAvruodz8lYQo9AAAAAK73CjyD8gW9l9p/PwAAAADRwia7nbwgPCeDmb4AAIA/Q5h3P88egj4AAAAAAAAAAJwOgr5weXc/GHP/PAAAAAAw1wE8+w/3vCHgfz8AAAAAB88bu8o8FDx6hpm+AACAP3Zmdz+Yl4M+AAAAAAAAAADniYO+uUx3PzeG6TwAAAAA7RPwO/at4bxe5X8/AAAAAPULELtgaAc8n4mZvgAAgD/NN3c/i/SEPgAAAAAAAAAAPumEvsoidz+FFdM8AAAAAHhB2zvG18u8Pup/PwAAAACujQO7h5z0O4uMmb4AAIA/iAx3P8E0hj4AAAAAAAAAAK8rhr7V+3Y/CDu8PAAAAABgW8U7LKa1vLPufz8AAAAADdTsupv62Ts4j5m+AACAP+Dkdj9xV4c+AAAAAAAAAABoUIe+C9h2P9YQpTwAAAAAhYiuO8Exn7yy8n8/AAAAAJ9w0bqBCL87npGZvgAAgD8HwXY/9luIPgAAAAAAAAAAvVaIvpS3dj/1sI08AAAAANDxljvhkoi8MvZ/PwAAAAAtIrW6deOjO7iTmb4AAIA/KaF2P85BiT4AAAAAAAAAACU+ib6WmnY/impsPAAAAACRg307NcNjvC35fz8AAAAAvRuYulOoiDuClZm+AACAP2uFdj+UCIo+AAAAAAAAAAA4Boq+M4F2P8tuPTwAAAAAJkhMOzFrNryf+38/AAAAAGAjdboI51o7+ZaZvgAAgD/rbXY/CbCKPgAAAAAAAAAAsa6Kvodrdj85oQ48AAAAAPmJGjsqTAm8hP1/PwAAAABecjm6zcEkOxyYmb4AAIA/vlp2Pwo4iz4AAAAAAAAAAG03i76oWXY/8mbAOwAAAAAHRNE6ICe5u9/+fz8AAAAAbh77ufMu3jrsmJm+AACAP/NLdj+WoIs+AAAAAAAAAABroIu+p0t2P3NYSTsAAAAAqKJbOru2Qbux/38/AAAAAP7Hg7ngdGg6apmZvgAAgD+QQXY/y+mLPgAAAAAAAAAAyumLvo9Bdj+IDqc5AAAAAOiatji/sqC5//9/PwAAAABKINu3f9bAOJmZmb4AAIA/lTt2P+QTjD4AAAAAAAAAAMoTjL5nO3Y/gN4buwAAAACVkyq6FuwVO9H/fz8AAAAAGbFMORroM7p9mZm+AACAP/c5dj88H4w+AAAAAAAAAADJHoy+LTl2P7IbpLsAAAAAVqazusbXnTsu/38/AAAAAGeU1zlUab26G5mZvgAAgD+pPHY/SgyMPgAAAAAAAAAARAuMvtw6dj9mv/e7AAAAAJCIB7ugTO47IP5/PwAAAADgoyI6x/oOu3qYmb4AAIA/k0N2P6Lbiz4AAAAAAAAAANbZi75oQHY/lEQkvAAAAABWfDO7QgUePLX8fz8AAAAAAWJXOumfPbugl5m+AACAP5dOdj/1jYs+AAAAAAAAAAA2i4u+v0l2P/MVS7wAAAAAEGtdu3BlQzz3+n8/AAAAANfZhDq6eWq7lJaZvgAAgD+RXXY/DCSLPgAAAAAAAAAAOCCLvspWdj97L3C8AAAAAJmLgrtqJWc89fh/PwAAAACFp5w6DLCKu2CVmb4AAIA/WHB2P8yeij4AAAAAAAAAAMiZir5uZ3Y/lbeJvAAAAADHJJW72JKEPL32fz8AAAAA7viyOp0Wn7sLlJm+AACAP7uGdj80/4k+AAAAAAAAAADv+Im+h3t2P7hamrwAAAAA2Wimu2mklDxe9H8/AAAAAASxxzrkXrK7n5KZvgAAgD+HoHY/W0aJPgAAAAAAAAAAyz6JvvCSdj+n8qm8AAAAACBDtru9uaM85fF/PwAAAADztto6fXjEuyORmb4AAIA/gr12P2x1iD4AAAAAAAAAAJFsiL5/rXY/NXK4vAAAAACNosS7ScaxPGPvfz8AAAAAQ/brOlhU1buij5m+AACAP2/ddj+sjYc+AAAAAAAAAACOg4e+Ast2P5fNxbwAAAAAxHnRu6e+vjzl7H8/AAAAAOte+zrJ5OS7I46ZvgAAgD8PAHc/c5CGPgAAAAAAAAAAIoWGvknrdj9m+tG8AAAAABm/3LulmMo8eOp/PwAAAACocgQ7kh3zu66Mmb4AAIA/HyV3Pyt/hT4AAAAAAAAAALxyhb4cDnc/re/cvAAAAACJbOa7SUvVPCnofz8AAAAAH0EKO/Hz/7tMi5m+AACAP1pMdz9RW4Q+AAAAAAAAAADiTYS+QTN3P+2l5rwAAAAAp3/uu+LO3jwF5n8/AAAAAGQZDztUrwW8A4qZvgAAgD97dXc/cSaDPgAAAAAAAAAAJBiDvn5adz8gF++8AAAAAHn59LsIHec8FeR/PwAAAAAW/BI7BasKvNmImb4AAIA/OaB3PyfigT4AAAAAAAAAACHTgb6Ug3c/wD72vAAAAABP3vm7qTDuPGPifz8AAAAAyesVO//pDrzVh5m+AACAP1DMdz8akIA+AAAAAAAAAACEgIC+RK53P78Z/LwAAAAAkDX9uwoG9Dz24H8/AAAAAPDsFzsGahK8+oaZvgAAgD93+Xc/+mN+PgAAAAAAAAAAAkR+vk7adz9HUwC9AAAAAH0J/7vOmvg81N9/PwAAAACyBRk7rykVvEyGmb4AAIA/aid4PxSTez4AAAAAAAAAAKlye75wB3g/jPIBvQAAAADxZv+79O37PAPffz8AAAAAxD0ZO18oF7zOhZm+AACAP+VVeD8GsXg+AAAAAAAAAAB/kHi+ajV4P13rAr0AAAAAE13+u97//TyE3n8/AAAAAD+eGDtSZhi8goWZvgAAgD+lhHg/XMF1PgAAAAAAAAAADqF1vvpjeD8dPwO9AAAAABL9+7tM0v48Wd5/PwAAAABxMRc7lOQYvGmFmb4AAIA/bLN4P6fHcj4AAAAAAAAAAOOncr7ikng/5u8CvQAAAADKWfi7WGj+PILefz8AAAAArQIVOwGlGLyBhZm+AACAP/zheD94x28+AAAAAAAAAACMqG++4sF4P3wAAr0AAAAAfofzu3TG/Dz83n8/AAAAABgeEjtGqhe8yoWZvgAAgD8bEHk/X8RsPgAAAAAAAAAAj6Zsvr7weD9LdAC9AAAAAHyb7btj8vk8xN9/PwAAAAB9kA471fcVvEKGmb4AAIA/lD15P+LBaT4AAAAAAAAAAGylab47H3k/w578vAAAAADSq+a7L/P1PNXgfz8AAAAAF2cKO+mRE7zmhpm+AACAPzNqeT96w2Y+AAAAAAAAAACUqGa+IU15P88s97wAAAAA/87eux/R8Dwp4n8/AAAAAGavBTt5fRC8soeZvgAAgD/JlXk/k8xjPgAAAAAAAAAAarNjvjh6eT8wnfC8AAAAAKkb1rusleo8uuN/PwAAAAD/dgA7NMAMvKOImb4AAIA/LMB5P4PgYD4AAAAAAAAAADnJYL5Ppnk/bvvovAAAAABTqMy7ckvjPH7lfz8AAAAAypb1OnhgCLyyiZm+AACAPzPpeT+JAl4+AAAAAAAAAAA57V2+NdF5PxZU4LwAAAAAI4vCuyL+2jxs538/AAAAAMRz6TpIZQO824qZvgAAgD+7EHo/yTVbPgAAAAAAAAAAgiJbvr76eT+ltNa8AAAAAKXZt7tyutE8fel/PwAAAADGntw6iaz7uxiMmb4AAIA/pTZ6P0h9WD4AAAAAAAAAABFsWL6/Ino/eSvMvAAAAACYqKy7CI7HPKXrfz8AAAAAtzDPOj1377tjjZm+AACAP9Naej/q21U+AAAAAAAAAADAzFW+FEl6P7bHwLwAAAAAxQuhu22HvDza7X8/AAAAAFNBwTocPOK7to6ZvgAAgD8ufXo/bVRTPgAAAAAAAAAAR0dTvpltej85mbS8AAAAANkVlbvxtbA8E/B/PwAAAAAF57I6iA3UuwuQmb4AAIA/oJ16P2rpUD4AAAAAAAAAADbeUL4vkHo/g7CnvAAAAABP2Ii7oCmkPEXyfz8AAAAAxjakOsD+xLtckZm+AACAPxe8ej9QnU4+AAAAAAAAAADzk06+u7B6P58emrwAAAAAscZ4uyTzljxn9H8/AAAAAARElTrEI7W7pJKZvgAAgD+E2Ho/YHJMPgAAAAAAAAAAvGpMviTPej8V9Yu8AAAAAKiLX7u1I4k8b/Z/PwAAAACYIIY6QJGku9yTmb4AAIA/2vJ6P69qSj4AAAAAAAAAAKBkSr5X63o/nIt6vAAAAACSGka7A5p1PFb4fz8AAAAAfbltOmhck7sBlZm+AACAPw8Lez8liEg+AAAAAAAAAACCg0i+QAV7PwpGXLwAAAAA3YssuzACWDwU+n8/AAAAAD0OTzrpmoG7DJaZvgAAgD8cIXs/d8xGPgAAAAAAAAAAEslGvtIcez9ePj28AAAAAGL1ErugpDk8oft/PwAAAACpWTA6jMVeu/qWmb4AAIA/+zR7Pyk5RT4AAAAAAAAAANM2Rb4CMns/zpkdvAAAAAAX1fK6a6YaPPj8fz8AAAAADrMROoCUObvIl5m+AACAP6lGez+Lz0M+AAAAAAAAAAATzkO+xkR7P2n7+rsAAAAA+/i/usZZ9jsU/n8/AAAAAPpd5jl3zxO7cpiZvgAAgD8jVns/vpBCPgAAAAAAAAAA8I9CvhlVez/RHrq7AAAAAJZ0jbrXurY78f5/PwAAAAAav6k5m0bbuveYmb4AAIA/aGN7P6x9QT4AAAAAAAAAAFV9Qb74Yns/UtBxuwAAAADDxDa6JnVtO47/fz8AAAAAg1JbOX15jrpVmZm+AACAP3luez8Ml0A+AAAAAAAAAAD5lkC+YW57P4aE3roAAAAArmanufWL2jro/38/AAAAAJ7hyDjGIAO6i5mZvgAAgD9Yd3s/Yd0/PgAAAAAAAAAAYd0/vlh3ez9a2JY5AAAAALobYjhzLJS5//9/PwAAAAA9qoe38M6xOJmZmb4AAIA/CH57P/1QPz4AAAAAAAAAAN1QP77efXs/jfgTOwAAAACDKt05i10Ru9X/fz8AAAAAG7MEuUFwLjqAmZm+AACAP4uCez/78T4+AAAAAAAAAACN8T6++YF7Px/FiTsAAAAADoVNOodah7ts/38/AAAAAKufdrmibKI6QZmZvgAAgD/mhHs/R8A+PgAAAAAAAAAAXb8+vrKDez/Vg8g7AAAAAHJolTpaAcW7xv5/PwAAAAAjSrO5BmjsOt2Ymb4AAIA/H4V7P5e7Pj4AAAAAAAAAAAi6Pr4Qg3s/HPsCPAAAAACzLMM6ULAAvOj9fz8AAAAAozXquS1tGjtYmJm+AACAPzuDez914z4+AAAAAAAAAAAa4T6+IIB7PzHuIDwAAAAAi//vOgkcHrzX/H8/AAAAALr/D7o+uz07tJeZvgAAgD9Bf3s/ODc/PgAAAAAAAAAA7TM/vu16ez99/D08AAAAAFzoDTv/pDq8mPt/PwAAAAAISiq6MvlfO/WWmb4AAIA/OHl7Pwm2Pz4AAAAAAAAAALCxP76Fc3s/sghaPAAAAACHRyM7xS1WvDL6fz8AAAAAbu9Dut2BgDselpm+AACAPylxez/jXkA+AAAAAAAAAABiWUC+92l7PwP3dDwAAAAADxQ4O3iacLyt+H8/AAAAAN7kXLqvXJA7NJWZvgAAgD8cZ3s/mTBBPgAAAAAAAAAA2SlBvlReez+bVoc8AAAAAPhDTDtt6IS8Dvd/PwAAAABdHnW6T32fOzyUmb4AAIA/HFt7P9EpQj4AAAAAAAAAAMEhQr6sUHs/YYmTPAAAAABpzF87NNyQvF/1fz8AAAAAckeGugvVrTs5k5m+AACAPzRNez8KSUM+AAAAAAAAAACeP0O+FEF7P28InzwAAAAAmaFyOzsdnLym838/AAAAACiUkbpHVrs7MZKZvgAAgD9vPXs/noxEPgAAAAAAAAAAz4FEvp4vez9Ryak8AAAAAGVbgjshoaa87PF/PwAAAACsbZy6jvTHOyeRmb4AAIA/2yt7P8PyRT4AAAAAAAAAAJDmRb5gHHs/gsKzPAAAAAAl/4o7gV6wvDjwfz8AAAAAxsumupuk0zsikJm+AACAP4gYez+PeUc+AAAAAAAAAAD7a0e+bwd7P3/rvDwAAAAAxDSTO/9MubyS7n8/AAAAALmlsLpmXN47JI+ZvgAAgD+EA3s/+R5JPgAAAAAAAAAADBBJvuTwej/CPMU8AAAAAJL0mjtIZcG8AO1/PwAAAABJ8rm6IxPoOzOOmb4AAIA/4+x6P9zgSj4AAAAAAAAAAKXQSr7V2Ho/1K/MPAAAAACHNqI7HKHIvIrrfz8AAAAA1afCulXB8DtTjZm+AACAP7bUej/7vEw+AAAAAAAAAACNq0y+XL96P0M/0zwAAAAAW/KoO077zrw16n8/AAAAAG28yrrEYPg7hoyZvgAAgD8Tu3o/AbFOPgAAAAAAAAAAdJ5OvpOkej+x5tg8AAAAAJofrzvKb9S8Bul/PwAAAADsJdK6jOz+O9GLmb4AAIA/EaB6P4e6UD4AAAAAAAAAAPimUL6ViHo/zqLdPAAAAADEtbQ7kfvYvAPofz8AAAAAH9rYuoowAjw1i5m+AACAP8iDej8Y11I+AAAAAAAAAACnwlK+fmt6P1lx4TwAAAAAZ6y5O7+c3Lwu538/AAAAAOLO3roMXgQ8tYqZvgAAgD9SZno/LwRVPgAAAAAAAAAAAO9UvmtNej8lUeQ8AAAAAED7vTuAUt+8i+Z/PwAAAABM+uO6Tf4FPFOKmb4AAIA/ykd6Pz8/Vz4AAAAAAAAAAHopV756Lno/DkLmPAAAAABdmsE7FB3hvBvmfz8AAAAA1lLounMRBzwQipm+AACAP08oej+0hVk+AAAAAAAAAACCb1m+yQ56P/xE5zwAAAAAQ4LEO8j94bzh5X8/AAAAAIPP67pFmAc87YmZvgAAgD//B3o/9dRbPgAAAAAAAAAAg75bvnfueT/aW+c8AAAAAAmsxjvt9uG83OV/PwAAAAALaO66KJQHPOqJmb4AAIA//OZ5P2wqXj4AAAAAAAAAAOUTXr6lzXk/lInmPAAAAACCEcg71AvhvAvmfz8AAAAAAxXwuhkHBzwHipm+AACAP2bFeT+Cg2A+AAAAAAAAAAAVbWC+dKx5Pw7S5DwAAAAAWK3IO8FA37xu5n8/AAAAAAPQ8Lqn8wU8QoqZvgAAgD9jo3k/qd1iPgAAAAAAAAAAgsdivgOLeT8bOuI8AAAAAC17yDvmmty8Aed/PwAAAADPk/C68VwEPJqKmb4AAIA/FYF5P1g2ZT4AAAAAAAAAAKUgZb51aXk/dsfePAAAAAC4d8c7VyDZvMPnfz8AAAAAdlzvuptGAjwPi5m+AACAP6NeeT8Wi2c+AAAAAAAAAAD/dWe+7Ed5P7qA2jwAAAAA3qDFO/vX1Lyv6H8/AAAAAHEn7bqTaf87nIuZvgAAgD8yPHk/c9lpPgAAAAAAAAAAIcVpvoomeT9QbdU8AAAAAMj1wjuCyc+8wel/PwAAAAC88+m6Nlj5O0GMmb4AAIA/6Rl5PxUfbD4AAAAAAAAAAKwLbL5vBXk/bZXPPAAAAAD0dr87Wv3JvPXqfz8AAAAA8sHlujhj8jv5jJm+AACAP/D3eD+xWW4+AAAAAAAAAABSR26+wOR4P/4ByTwAAAAARya7O5x8w7xF7H8/AAAAAFWU4LqIleo7w42ZvgAAgD9t1ng/E4dwPgAAAAAAAAAA2nVwvpzEeD+hvME8AAAAAA8HtjsCUby8rO1/PwAAAADfbtq60PrhO5qOmb4AAIA/h7V4Px6lcj4AAAAAAAAAACOVcr4mpXg/lM+5PAAAAAASHrA72YS0vCTvfz8AAAAASVfTumuf2Dt8j5m+AACAP2SVeD/QsXQ+AAAAAAAAAAAko3S+fYZ4P6lFsTwAAAAAhnGpO+4irLyn8H8/AAAAAAdVy7pRkM47ZJCZvgAAgD8qdng/P6t2PgAAAAAAAAAA8Z12vsJoeD82Kqg8AAAAAA4JojuENqO8MfJ/PwAAAABEccK6BNvDO1CRmb4AAIA//Fd4P6KPeD4AAAAAAAAAALiDeL4UTHg/C4mePAAAAAC27Zk7QMuZvLrzfz8AAAAA27a4uoCNuDs8kpm+AACAP/46eD9LXXo+AAAAAAAAAADGUnq+kDB4P15ulDwAAAAA3ymROyDtj7w+9X8/AAAAAD8yrromtqw7JZOZvgAAgD9TH3g/rBJ8PgAAAAAAAAAAhwl8vlIWeD++5ok8AAAAADLJhztoqIW8t/Z/PwAAAABv8aK6sGOgOweUmb4AAIA/GAV4P1iufT4AAAAAAAAAAIqmfb53/Xc/DP59PAAAAAAMsXs7KhN2vCD4fz8AAAAA1AOXuhmlkzvglJm+AACAP23sdz8DL38+AAAAAAAAAAB9KH++F+Z3P5eIZzwAAAAAlMtmO586YLx1+X8/AAAAACV6irqSiYY7rJWZvgAAgD9t1Xc/wkmAPgAAAAAAAAAAGUeAvknQdz+ih1A8AAAAAMv/UDu34Em8sfp/PwAAAACNzHq620ByO2qWmb4AAIA/McB3P2rtgD4AAAAAAAAAAE7rgL4lvHc/6hU5PAAAAAA1bTo7GR8zvNH7fz8AAAAAQLZfuh7yVjsXl5m+AACAP8+sdz8GgoE+AAAAAAAAAABrgIG+val3P01OITwAAAAAxTQjO3APHLzT/H8/AAAAAO3YQ7q5RTs7speZvgAAgD9cm3c/OAeCPgAAAAAAAAAADQaCviOZdz+nSwk8AAAAAJR4CztQywS8s/1/PwAAAAB+XSe6YFofOziYmb4AAIA/6Yt3P7F8gj4AAAAAAAAAAOV7gr5minc/bFHiOwAAAAApt+Y6P9jau3D+fz8AAAAA5W0KuoxOAzuqmJm+AACAP4N+dz8z4oI+AAAAAAAAAAC04YK+lH13PwEAsjsAAAAAjwK2OvgVrLsI/38/AAAAAHlp2rnDgM46BZmZvgAAgD81c3c/lDeDPgAAAAAAAAAAUDeDvrZydz9t14E7AAAAANoahTqRAnu7fP9/PwAAAADSuZ+5JJuWOkuZmb4AAIA/CGp3P7t8gz4AAAAAAAAAAKB8g77VaXc/YBYkOwAAAADMjig6jZUeu8v/fz8AAAAA9URKuRBNPjp6mZm+AACAP/9idz+gsYM+AAAAAAAAAACbsYO+9mJ3P942izoAAAAAVzuPOcaHhrr3/38/AAAAAM7gq7i6b6E5lJmZvgAAgD8dXnc/S9aDPgAAAAAAAAAAS9aDvhxedz+L/bq5AAAAAIqYwLhgr7Q5//9/PwAAAABzHec3c9LYuJmZmb4AAIA/YFt3P9nqgz4AAAAAAAAAAMzqg75HW3c/TvfkugAAAAAy+eu5VjzdOub/fz8AAAAAhJUNOc29BLqKmZm+AACAP8Nadz9z74M+AAAAAAAAAABJ74O+dVp3P2ZcS7sAAAAA/ZxRukB+RDuv/38/AAAAADCJezmzymu6aZmZvgAAgD8+XHc/VOSDPgAAAAAAAAAAAOSDvqBbdz/E1JC7AAAAABs8lbp58Ys7XP9/PwAAAADuFLM5ku6nujeZmb4AAIA/yF93P8jJgz4AAAAAAAAAADzJg77BXnc/UYe6uwAAAACJDMC6WT60O/D+fz8AAAAAcXXmOdFK2Lr3mJm+AACAP1Jldz8poIM+AAAAAAAAAABbn4O+zmN3P8ad4rsAAAAABgnpuuv/2jtv/n8/AAAAADfSCzpaZgO7qZiZvgAAgD/NbHc/4GeDPgAAAAAAAAAAxmaDvrtqdz8teQS8AAAAAIX/B7s4CQA83P1/PwAAAACgMiM6qaQZu1GYmb4AAIA/JnZ3P2Mhgz4AAAAAAAAAAPgfg754c3c/2LAWvAAAAABLYBq7LKoRPDr9fz8AAAAAWkA5OjXMLrvwl5m+AACAP0mBdz84zYI+AAAAAAAAAAB2y4K+9X13P3jlJ7wAAAAAPpIruzFTIjyP/H8/AAAAALDiTTo7ykK7iZeZvgAAgD8ejnc/8WuCPgAAAAAAAAAA1mmCvh6Kdz/2Bzi8AAAAAEeDO7vY9TE83vt/PwAAAADvA2E6ao1Vux+Xmb4AAIA/jZx3Pyv+gT4AAAAAAAAAALb7gb7fl3c/mApHvAAAAADpI0q78YRAPCr7fz8AAAAAfpFyOu4FZ7uzlpm+AACAP3usdz+PhIE+AAAAAAAAAADCgYG+Iad3PxDhVLwAAAAAR2dXu5P0TTx4+n8/AAAAAPc9gTp+JXe7SJaZvgAAgD/MvXc/0P+APgAAAAAAAAAAsPyAvsq3dz9/gGG8AAAAACxDY7sqOlo8y/l/PwAAAACBW4g6s++Cu+CVmb4AAIA/Y9B3P65wgD4AAAAAAAAAAD5tgL7ByXc/g99svAAAAAAIsG27eExlPCf5fz8AAAAA0pyOOkiUibt+lZm+AACAPyHkdz/ar38+AAAAAAAAAABrqH++69x3Pzj2drwAAAAA56h2u6QjbzyO+H8/AAAAAPH+kzrJe4+7IpWZvgAAgD/o+Hc/uWx+PgAAAAAAAAAAymR+vizxdz8+vn+8AAAAAF8rfrs2uXc8BPh/PwAAAABsgJg6U6KUu8+Umb4AAIA/lw54P6QZfT4AAAAAAAAAAEcRfb5lBng/XJmDvAAAAAC+G4K7Iwh/PIv3fz8AAAAASyGcOuIEmbuHlJm+AACAPw4leD9PuHs+AAAAAAAAAACbr3u+eRx4PymohrwAAAAA02eEu2aGgjwl938/AAAAAP7injpHoZy7SpSZvgAAgD8uPHg/fkp6PgAAAAAAAAAAh0F6vkkzeD+dCom8AAAAAD78hbuA4oQ81PZ/PwAAAABLyKA6M3afuxmUmb4AAIA/1VN4P/nReD4AAAAAAAAAANXIeL62Sng/kMCKvAAAAABZ3Ia7+5eGPJn2fz8AAAAAONWhOi6Dobv2k5m+AACAP+RreD+OUHc+AAAAAAAAAABWR3e+oWJ4P5fKi7wAAAAAdAyHuyynhzx19n8/AAAAAPIOojqcyKK74JOZvgAAgD87hHg/Ech1PgAAAAAAAAAA2751vut6eD8DKoy8AAAAAL+RhrsZEYg8aPZ/PwAAAACye6E6t0eju9iTmb4AAIA/vJx4P1c6dD4AAAAAAAAAADkxdL50k3g/2+CLvAAAAAAxcoW7eNeHPHL2fz8AAAAAoSKgOpACo7vek5m+AACAP0e1eD80qXI+AAAAAAAAAABFoHK+H6x4P9rxirwAAAAAdrSDu6/8hjyT9n8/AAAAAMELnjoF/KG78pOZvgAAgD/BzXg/fBZxPgAAAAAAAAAAzg1xvszEeD9mYIm8AAAAANFfgbvMg4U8yfZ/PwAAAADHP5s6wjeguxKUmb4AAIA/C+Z4P/2Dbz4AAAAAAAAAAKN7b75e3Xg/izCHvAAAAAAL+Hy7gnCDPBP3fz8AAAAABsiXOja6nbs/lJm+AACAPwz+eD9/820+AAAAAAAAAACK622+ufV4P/dmhLwAAAAAhCJ2uyTHgDxx938/AAAAAE+ukzqSiJq7d5SZvgAAgD+qFXk/wmZsPgAAAAAAAAAAQF9svsENeT/vCIG8AAAAAA9Qbrs3GXs83/d/PwAAAADW/I46u6iWu7mUmb4AAIA/yyx5P33faj4AAAAAAAAAAHrYar5aJXk/jjh6vAAAAAAkkmW7y4xzPFv4fz8AAAAAFb6JOkYhkrsElZm+AACAP1lDeT9bX2k+AAAAAAAAAADgWGm+bTx5P7tOcbwAAAAAivpbuxD1ajzk+H8/AAAAALn8gzpw+Yy7VpWZvgAAgD8+WXk/9+dnPgAAAAAAAAAADOJnvuBSeT8dYme8AAAAADGbUbsXX2E8d/l/PwAAAAAIh3s6DjmHu66Vmb4AAIA/ZW55P+J6Zj4AAAAAAAAAAIp1Zr6caHk/V4FcvAAAAAAMhka75NhWPBD6fz8AAAAAdDpuOonogLsKlpm+AACAP7uCeT+WGWU+AAAAAAAAAADUFGW+jH15P+S7ULwAAAAA8Mw6u1lxSzyu+n8/AAAAACApYDqeIXS7aZaZvgAAgD8wlnk/gcVjPgAAAAAAAAAAU8FjvpyReT8EIkS8AAAAAHqBLrsnOD88Tvt/PwAAAAAsaFE6lXZlu8iWmb4AAIA/tKh5P/h/Yj4AAAAAAAAAAF18Yr66pHk/pcQ2vAAAAAD3tCG7tj0yPOz7fz8AAAAAXAxCOqjjVbsnl5m+AACAPze6eT9ASmE+AAAAAAAAAAAxR2G+07Z5P1G1KLwAAAAAS3gUuxSTJDyH/H8/AAAAAPMpMjpLfUW7hJeZvgAAgD+tynk/hSVgPgAAAAAAAAAA/CJgvtrHeT8TBhq8AAAAAOTbBrvaSRY8G/1/PwAAAACr1CE6n1g0u92Xmb4AAIA/Ctp5P90SXz4AAAAAAAAAANEQX76/13k/askKvAAAAABb3/G6HnQHPKb9fz8AAAAAnR8ROleLIrswmJm+AACAP0XoeT9HE14+AAAAAAAAAACsEV6+d+Z5P1gk9rsAAAAADYbVuq1I8Dsn/n8/AAAAADsdADqbKxC7fpiZvgAAgD9U9Xk/qCddPgAAAAAAAAAAcyZdvvfzeT/m5tW7AAAAAHfJuLqS2tA7m/5/PwAAAACPvt0545/6usOYmb4AAIA/LwF6P8xQXD4AAAAAAAAAAPBPXL41AHo/EAG1uwAAAAAKxpu64MOwOwD/fz8AAAAApu26OUAe1LoAmZm+AACAP9ELej9nj1s+AAAAAAAAAADVjlu+Kwt6P5iZk7sAAAAAJi59us8qkDtW/38/AAAAAH3olzksAK26M5mZvgAAgD81FXo/EORaPgAAAAAAAAAAueNavtIUej+OrmO7AAAAAHutQrpTa147m/9/PwAAAAD6nGk5mHOFul2Zmb4AAIA/VR16P0ZPWj4AAAAAAAAAABtPWr4lHXo/hMEfuwAAAABDPAi6SRUcO87/fz8AAAAAg3sjOb5MO7p8mZm+AACAPzEkej9s0Vk+AAAAAAAAAABe0Vm+ISR6P4Fxt7oAAAAARxWcucc+szrw/38/AAAAALxMuzgiGNe5kJmZvgAAgD/GKXo/yWpZPgAAAAAAAAAAyGpZvsQpej9FAL+5AAAAAOc2orhupbo5//9/PwAAAABJqMI3t/nfuJmZmb4AAIA/Ey56P40bWT4AAAAAAAAAAIobWb4PLno/b/gtOgAAAABPihM57AMquvz/fz8AAAAAXwwxuLQETDmXmZm+AACAPxgxej/K41g+AAAAAAAAAAC241i+ATF6P1cx3DoAAAAAjo26OWky17ro/38/AAAAABHd37g/HgE6i5mZvgAAgD/ZMno/eMNYPgAAAAAAAAAARcNYvp4yej92qC87AAAAAEO8FDpnrSu7xP9/PwAAAACEezK5SANOOnWZmb4AAIA/VTN6P3e6WD4AAAAAAAAAABi6WL7nMno/ZuhvOwAAAADVGks6D3lqu5D/fz8AAAAAzLlzuQmvjDpWmZm+AACAP5Iyej+MyFg+AAAAAAAAAAD0x1i+4zF6P+FKlzsAAAAAsx2AOgPdk7tN/38/AAAAAD69mbmdb7E6LpmZvgAAgD+TMHo/Y+1YPgAAAAAAAAAAiexYvpcvej84uLU7AAAAAPH7mTpimLG7/v5/PwAAAADux7i5Qh3VOv+Ymb4AAIA/Xi16P5IoWT4AAAAAAAAAAGonWb4JLHo/lx3TOwAAAACKFbM6T1DOu6T+fz8AAAAApebWuZKT9zrJmJm+AACAP/goej+UeVk+AAAAAAAAAAAYeFm+Qid6P+ld7zsAAAAASFjLOgTo6btA/n8/AAAAAIoD9LkCWAw7jZiZvgAAgD9oI3o/0d9ZPgAAAAAAAAAA+d1Zvkshej/eLgU8AAAAAFay4joxIgK81v1/PwAAAACaBAi6BykcO02Ymb4AAIA/txx6P5laWj4AAAAAAAAAAGFYWr4sGno/rwESPAAAAAA2Evk6BqYOvGb9fz8AAAAAVHEVuqEtKzsKmJm+AACAP+0Uej8p6Vo+AAAAAAAAAACN5lq+8hF6P3gbHjwAAAAAZDMHO8BzGrzz/H8/AAAAAKs9IrqzVzk7xZeZvgAAgD8UDHo/qopbPgAAAAAAAAAAqIdbvqgIej88cSk8AAAAAKVPETuTgCW8f/x/PwAAAACTXy66SppGO3+Xmb4AAIA/",
        "encoding": "base64",
        "path": [
         "values",
         "buffer"
        ]
       }
      ],
      "model_module": "jupyter-threejs",
      "model_module_version": "^2.1.0",
      "model_name": "VectorKeyframeTrackModel",
      "state": {
       "_model_module": "jupyter-threejs",
       "_model_module_version": "^2.1.0",
       "_model_name": "VectorKeyframeTrackModel",
       "_view_count": null,
       "_view_module": null,
       "_view_module_version": "",
       "_view_name": null,
       "interpolation": "InterpolateLinear",
       "name": "scene/rear wheel.matrix",
       "times": {
        "dtype": "float32",
        "shape": [
         300
        ]
       },
       "values": {
        "dtype": "float32",
        "shape": [
         300,
         16
        ]
       }
      }
     },
     "7d50d22ec915407ab19425e74b7ce95a": {
      "model_module": "jupyter-threejs",
      "model_module_version": "^2.1.0",
      "model_name": "RendererModel",
      "state": {
       "_alpha": false,
       "_antialias": false,
       "_dom_classes": [],
       "_height": 600,
       "_model_module": "jupyter-threejs",
       "_model_module_version": "^2.1.0",
       "_model_name": "RendererModel",
       "_pause_autorender": false,
       "_view_count": null,
       "_view_module": "jupyter-threejs",
       "_view_module_version": "^2.1.0",
       "_view_name": "RendererView",
       "_webgl_version": 2,
       "_width": 800,
       "autoClear": true,
       "autoClearColor": true,
       "autoClearDepth": true,
       "autoClearStencil": true,
       "background": "black",
       "background_opacity": 1,
       "camera": "IPY_MODEL_5093844205594cbf9a4ca91432c3c618",
       "clearColor": "#000000",
       "clearOpacity": 1,
       "clippingPlanes": [],
       "controls": [
        "IPY_MODEL_0ace21a116de4d0aaff0d4df44622086"
       ],
       "gammaFactor": 2,
       "gammaInput": false,
       "gammaOutput": false,
       "layout": "IPY_MODEL_ef85136e90cb4cca9998c68244d5cb2c",
       "localClippingEnabled": false,
       "maxMorphNormals": 4,
       "maxMorphTargets": 8,
       "physicallyCorrectLights": false,
       "scene": "IPY_MODEL_a320ff32be664840a6396e00e79604a9",
       "shadowMap": "IPY_MODEL_0e577830424c4893ad3f06cce1809ac0",
       "sortObject": true,
       "toneMapping": "LinearToneMapping",
       "toneMappingExposure": 1,
       "toneMappingWhitePoint": 1
      }
     },
     "880a6c5141fb46e2b9ba36a07b9550c5": {
      "model_module": "@jupyter-widgets/base",
      "model_module_version": "1.2.0",
      "model_name": "LayoutModel",
      "state": {
       "_model_module": "@jupyter-widgets/base",
       "_model_module_version": "1.2.0",
       "_model_name": "LayoutModel",
       "_view_count": null,
       "_view_module": "@jupyter-widgets/base",
       "_view_module_version": "1.2.0",
       "_view_name": "LayoutView",
       "align_content": null,
       "align_items": null,
       "align_self": null,
       "border": null,
       "bottom": null,
       "display": null,
       "flex": null,
       "flex_flow": null,
       "grid_area": null,
       "grid_auto_columns": null,
       "grid_auto_flow": null,
       "grid_auto_rows": null,
       "grid_column": null,
       "grid_gap": null,
       "grid_row": null,
       "grid_template_areas": null,
       "grid_template_columns": null,
       "grid_template_rows": null,
       "height": null,
       "justify_content": null,
       "justify_items": null,
       "left": null,
       "margin": null,
       "max_height": null,
       "max_width": null,
       "min_height": null,
       "min_width": null,
       "object_fit": null,
       "object_position": null,
       "order": null,
       "overflow": null,
       "overflow_x": null,
       "overflow_y": null,
       "padding": null,
       "right": null,
       "top": null,
       "visibility": null,
       "width": null
      }
     },
     "8db5b12cebb848e79c2c627594523b16": {
      "model_module": "jupyter-threejs",
      "model_module_version": "^2.1.0",
      "model_name": "MeshStandardMaterialModel",
      "state": {
       "_model_module": "jupyter-threejs",
       "_model_module_version": "^2.1.0",
       "_model_name": "MeshStandardMaterialModel",
       "_view_count": null,
       "_view_module": null,
       "_view_module_version": "",
       "_view_name": null,
       "alphaMap": null,
       "alphaTest": 0,
       "aoMap": null,
       "aoMapIntensity": 1,
       "blendDst": "OneMinusSrcAlphaFactor",
       "blendDstAlpha": 0,
       "blendEquation": "AddEquation",
       "blendEquationAlpha": 0,
       "blendSrc": "SrcAlphaFactor",
       "blendSrcAlpha": 0,
       "blending": "NormalBlending",
       "bumpMap": null,
       "bumpScale": 1,
       "clipIntersection": false,
       "clipShadows": false,
       "clippingPlanes": [],
       "color": "green",
       "colorWrite": true,
       "defines": {
        "STANDARD": ""
       },
       "depthFunc": "LessEqualDepth",
       "depthTest": true,
       "depthWrite": true,
       "displacementBias": 0,
       "displacementMap": null,
       "displacementScale": 1,
       "dithering": false,
       "emissive": "#000000",
       "emissiveIntensity": 1,
       "emissiveMap": null,
       "envMap": null,
       "envMapIntensity": 1,
       "flatShading": false,
       "fog": true,
       "lightMap": null,
       "lightMapIntensity": 1,
       "lights": true,
       "map": null,
       "metalness": 0.5,
       "metalnessMap": null,
       "morphNormals": false,
       "morphTargets": false,
       "name": "",
       "normalMap": null,
       "normalScale": [
        1,
        1
       ],
       "opacity": 1,
       "overdraw": 0,
       "polygonOffset": false,
       "polygonOffsetFactor": 0,
       "polygonOffsetUnits": 0,
       "precision": null,
       "premultipliedAlpha": false,
       "refractionRatio": 0.98,
       "roughness": 0.5,
       "roughnessMap": null,
       "shadowSide": null,
       "side": "FrontSide",
       "skinning": false,
       "transparent": false,
       "type": "MeshStandardMaterial",
       "vertexColors": "NoColors",
       "visible": true,
       "wireframe": false,
       "wireframeLinecap": "round",
       "wireframeLinejoin": "round",
       "wireframeLinewidth": 1
      }
     },
     "8e21de4069f946b99a3208734aaf89cc": {
      "model_module": "@jupyter-widgets/controls",
      "model_module_version": "1.5.0",
      "model_name": "VBoxModel",
      "state": {
       "_dom_classes": [],
       "_model_module": "@jupyter-widgets/controls",
       "_model_module_version": "1.5.0",
       "_model_name": "VBoxModel",
       "_view_count": null,
       "_view_module": "@jupyter-widgets/controls",
       "_view_module_version": "1.5.0",
       "_view_name": "VBoxView",
       "box_style": "",
       "children": [
        "IPY_MODEL_70da9a9a51cc461393ed4727cadd19a0",
        "IPY_MODEL_7d50d22ec915407ab19425e74b7ce95a"
       ],
       "layout": "IPY_MODEL_948c2227b3824b1897170b9c4f476a47"
      }
     },
     "8febbcbe0b1f4ef7aa312ad488b5b681": {
      "model_module": "jupyter-threejs",
      "model_module_version": "^2.1.0",
      "model_name": "MeshModel",
      "state": {
       "_model_module": "jupyter-threejs",
       "_model_module_version": "^2.1.0",
       "_model_name": "MeshModel",
       "_view_count": null,
       "_view_module": null,
       "_view_module_version": "",
       "_view_name": null,
       "castShadow": false,
       "children": [],
       "drawMode": "TrianglesDrawMode",
       "frustumCulled": true,
       "geometry": "IPY_MODEL_fc07ae3feb2349d681527e28751037ad",
       "material": "IPY_MODEL_8db5b12cebb848e79c2c627594523b16",
       "matrix": [
        0.9510565162951535,
        1e-08,
        -0.3090169943749475,
        0,
        -9.510565162951535e-09,
        1,
        3.0901699437494753e-09,
        0,
        0.3090169943749475,
        0,
        0.9510565162951535,
        0,
        1.0200000000000002,
        3.207142672761929e-10,
        -0.3500000000000001,
        1
       ],
       "matrixAutoUpdate": false,
       "matrixWorld": [
        1,
        0,
        0,
        0,
        0,
        1,
        0,
        0,
        0,
        0,
        1,
        0,
        0,
        0,
        0,
        1
       ],
       "matrixWorldNeedsUpdate": false,
       "modelViewMatrix": [
        1,
        0,
        0,
        0,
        0,
        1,
        0,
        0,
        0,
        0,
        1,
        0,
        0,
        0,
        0,
        1
       ],
       "morphTargetInfluences": [],
       "name": "front wheel",
       "normalMatrix": [
        1,
        0,
        0,
        0,
        1,
        0,
        0,
        0,
        1
       ],
       "position": [
        0,
        0,
        0
       ],
       "quaternion": [
        0,
        0,
        0,
        1
       ],
       "receiveShadow": false,
       "renderOrder": 0,
       "rotation": [
        0,
        0,
        0,
        "XYZ"
       ],
       "scale": [
        1,
        1,
        1
       ],
       "type": "Mesh",
       "up": [
        0,
        1,
        0
       ],
       "visible": true
      }
     },
     "9237f924ac3747f2b4df82d1a974a7ea": {
      "model_module": "jupyter-threejs",
      "model_module_version": "^2.1.0",
      "model_name": "MeshStandardMaterialModel",
      "state": {
       "_model_module": "jupyter-threejs",
       "_model_module_version": "^2.1.0",
       "_model_name": "MeshStandardMaterialModel",
       "_view_count": null,
       "_view_module": null,
       "_view_module_version": "",
       "_view_name": null,
       "alphaMap": null,
       "alphaTest": 0,
       "aoMap": null,
       "aoMapIntensity": 1,
       "blendDst": "OneMinusSrcAlphaFactor",
       "blendDstAlpha": 0,
       "blendEquation": "AddEquation",
       "blendEquationAlpha": 0,
       "blendSrc": "SrcAlphaFactor",
       "blendSrcAlpha": 0,
       "blending": "NormalBlending",
       "bumpMap": null,
       "bumpScale": 1,
       "clipIntersection": false,
       "clipShadows": false,
       "clippingPlanes": [],
       "color": "black",
       "colorWrite": true,
       "defines": {
        "STANDARD": ""
       },
       "depthFunc": "LessEqualDepth",
       "depthTest": true,
       "depthWrite": true,
       "displacementBias": 0,
       "displacementMap": null,
       "displacementScale": 1,
       "dithering": false,
       "emissive": "#000000",
       "emissiveIntensity": 1,
       "emissiveMap": null,
       "envMap": null,
       "envMapIntensity": 1,
       "flatShading": false,
       "fog": true,
       "lightMap": null,
       "lightMapIntensity": 1,
       "lights": true,
       "map": null,
       "metalness": 0.5,
       "metalnessMap": null,
       "morphNormals": false,
       "morphTargets": false,
       "name": "",
       "normalMap": null,
       "normalScale": [
        1,
        1
       ],
       "opacity": 1,
       "overdraw": 0,
       "polygonOffset": false,
       "polygonOffsetFactor": 0,
       "polygonOffsetUnits": 0,
       "precision": null,
       "premultipliedAlpha": false,
       "refractionRatio": 0.98,
       "roughness": 0.5,
       "roughnessMap": null,
       "shadowSide": null,
       "side": "FrontSide",
       "skinning": false,
       "transparent": false,
       "type": "MeshStandardMaterial",
       "vertexColors": "NoColors",
       "visible": true,
       "wireframe": false,
       "wireframeLinecap": "round",
       "wireframeLinejoin": "round",
       "wireframeLinewidth": 1
      }
     },
     "948c2227b3824b1897170b9c4f476a47": {
      "model_module": "@jupyter-widgets/base",
      "model_module_version": "1.2.0",
      "model_name": "LayoutModel",
      "state": {
       "_model_module": "@jupyter-widgets/base",
       "_model_module_version": "1.2.0",
       "_model_name": "LayoutModel",
       "_view_count": null,
       "_view_module": "@jupyter-widgets/base",
       "_view_module_version": "1.2.0",
       "_view_name": "LayoutView",
       "align_content": null,
       "align_items": null,
       "align_self": null,
       "border": null,
       "bottom": null,
       "display": null,
       "flex": null,
       "flex_flow": null,
       "grid_area": null,
       "grid_auto_columns": null,
       "grid_auto_flow": null,
       "grid_auto_rows": null,
       "grid_column": null,
       "grid_gap": null,
       "grid_row": null,
       "grid_template_areas": null,
       "grid_template_columns": null,
       "grid_template_rows": null,
       "height": null,
       "justify_content": null,
       "justify_items": null,
       "left": null,
       "margin": null,
       "max_height": null,
       "max_width": null,
       "min_height": null,
       "min_width": null,
       "object_fit": null,
       "object_position": null,
       "order": null,
       "overflow": null,
       "overflow_x": null,
       "overflow_y": null,
       "padding": null,
       "right": null,
       "top": null,
       "visibility": null,
       "width": null
      }
     },
     "94ee8416d1e44afeb490d3381de256c1": {
      "model_module": "jupyter-threejs",
      "model_module_version": "^2.1.0",
      "model_name": "MeshStandardMaterialModel",
      "state": {
       "_model_module": "jupyter-threejs",
       "_model_module_version": "^2.1.0",
       "_model_name": "MeshStandardMaterialModel",
       "_view_count": null,
       "_view_module": null,
       "_view_module_version": "",
       "_view_name": null,
       "alphaMap": null,
       "alphaTest": 0,
       "aoMap": null,
       "aoMapIntensity": 1,
       "blendDst": "OneMinusSrcAlphaFactor",
       "blendDstAlpha": 0,
       "blendEquation": "AddEquation",
       "blendEquationAlpha": 0,
       "blendSrc": "SrcAlphaFactor",
       "blendSrcAlpha": 0,
       "blending": "NormalBlending",
       "bumpMap": null,
       "bumpScale": 1,
       "clipIntersection": false,
       "clipShadows": false,
       "clippingPlanes": [],
       "color": "green",
       "colorWrite": true,
       "defines": {
        "STANDARD": ""
       },
       "depthFunc": "LessEqualDepth",
       "depthTest": true,
       "depthWrite": true,
       "displacementBias": 0,
       "displacementMap": null,
       "displacementScale": 1,
       "dithering": false,
       "emissive": "#000000",
       "emissiveIntensity": 1,
       "emissiveMap": null,
       "envMap": null,
       "envMapIntensity": 1,
       "flatShading": false,
       "fog": true,
       "lightMap": null,
       "lightMapIntensity": 1,
       "lights": true,
       "map": null,
       "metalness": 0.5,
       "metalnessMap": null,
       "morphNormals": false,
       "morphTargets": false,
       "name": "",
       "normalMap": null,
       "normalScale": [
        1,
        1
       ],
       "opacity": 1,
       "overdraw": 0,
       "polygonOffset": false,
       "polygonOffsetFactor": 0,
       "polygonOffsetUnits": 0,
       "precision": null,
       "premultipliedAlpha": false,
       "refractionRatio": 0.98,
       "roughness": 0.5,
       "roughnessMap": null,
       "shadowSide": null,
       "side": "FrontSide",
       "skinning": false,
       "transparent": false,
       "type": "MeshStandardMaterial",
       "vertexColors": "NoColors",
       "visible": true,
       "wireframe": false,
       "wireframeLinecap": "round",
       "wireframeLinejoin": "round",
       "wireframeLinewidth": 1
      }
     },
     "9c5762c4872f474fb24830f70b2481a7": {
      "model_module": "jupyter-threejs",
      "model_module_version": "^2.1.0",
      "model_name": "CylinderBufferGeometryModel",
      "state": {
       "_model_module": "jupyter-threejs",
       "_model_module_version": "^2.1.0",
       "_model_name": "CylinderBufferGeometryModel",
       "_view_count": null,
       "_view_module": null,
       "_view_module_version": "",
       "_view_name": null,
       "height": 0.01,
       "heightSegments": 1,
       "name": "",
       "openEnded": false,
       "radialSegments": 100,
       "radiusBottom": 0.3,
       "radiusTop": 0.3,
       "thetaLength": 6.283185307179586,
       "thetaStart": 0,
       "type": "CylinderBufferGeometry"
      }
     },
     "a0a2e90fb0a64cccb308fd706268c19e": {
      "model_module": "jupyter-threejs",
      "model_module_version": "^2.1.0",
      "model_name": "SphereBufferGeometryModel",
      "state": {
       "_model_module": "jupyter-threejs",
       "_model_module_version": "^2.1.0",
       "_model_name": "SphereBufferGeometryModel",
       "_view_count": null,
       "_view_module": null,
       "_view_module_version": "",
       "_view_name": null,
       "heightSegments": 100,
       "name": "",
       "phiLength": 6.283185307179586,
       "phiStart": 0,
       "radius": 0.05,
       "thetaLength": 3.141592653589793,
       "thetaStart": 0,
       "type": "SphereBufferGeometry",
       "widthSegments": 100
      }
     },
     "a320ff32be664840a6396e00e79604a9": {
      "model_module": "jupyter-threejs",
      "model_module_version": "^2.1.0",
      "model_name": "SceneModel",
      "state": {
       "_model_module": "jupyter-threejs",
       "_model_module_version": "^2.1.0",
       "_model_name": "SceneModel",
       "_view_count": null,
       "_view_module": null,
       "_view_module_version": "",
       "_view_name": null,
       "autoUpdate": true,
       "background": "#ffffff",
       "castShadow": false,
       "children": [
        "IPY_MODEL_8febbcbe0b1f4ef7aa312ad488b5b681",
        "IPY_MODEL_ce2196d4c0494f2dbc80c3cd7b938c2f",
        "IPY_MODEL_a898708e522840fab17ddd9c8d095963",
        "IPY_MODEL_7181c6540bb849328c592b64ee2e1aac",
        "IPY_MODEL_10430c86866e4f1397fdb93934188fd6",
        "IPY_MODEL_e1cbd52814294ff98dc93ece1a5ec493",
        "IPY_MODEL_cb359eecf97846eea97bd04b8c3b6d94",
        "IPY_MODEL_5093844205594cbf9a4ca91432c3c618",
        "IPY_MODEL_cd7b5ed2d14745f29fc106a83f357161",
        "IPY_MODEL_a3dba153dcac41b2b5297b96dc1d453f",
        "IPY_MODEL_43c7c2fadebc4e658f3a5a1ea0e00629"
       ],
       "fog": null,
       "frustumCulled": true,
       "matrix": [
        1,
        0,
        0,
        0,
        0,
        1,
        0,
        0,
        0,
        0,
        1,
        0,
        0,
        0,
        0,
        1
       ],
       "matrixAutoUpdate": true,
       "matrixWorld": [
        1,
        0,
        0,
        0,
        0,
        1,
        0,
        0,
        0,
        0,
        1,
        0,
        0,
        0,
        0,
        1
       ],
       "matrixWorldNeedsUpdate": false,
       "modelViewMatrix": [
        1,
        0,
        0,
        0,
        0,
        1,
        0,
        0,
        0,
        0,
        1,
        0,
        0,
        0,
        0,
        1
       ],
       "name": "",
       "normalMatrix": [
        1,
        0,
        0,
        0,
        1,
        0,
        0,
        0,
        1
       ],
       "overrideMaterial": null,
       "position": [
        0,
        0,
        0
       ],
       "quaternion": [
        0,
        0,
        0,
        1
       ],
       "receiveShadow": false,
       "renderOrder": 0,
       "rotation": [
        0,
        0,
        0,
        "XYZ"
       ],
       "scale": [
        1,
        1,
        1
       ],
       "type": "Scene",
       "up": [
        0,
        1,
        0
       ],
       "visible": true
      }
     },
     "a3dba153dcac41b2b5297b96dc1d453f": {
      "model_module": "jupyter-threejs",
      "model_module_version": "^2.1.0",
      "model_name": "AmbientLightModel",
      "state": {
       "_model_module": "jupyter-threejs",
       "_model_module_version": "^2.1.0",
       "_model_name": "AmbientLightModel",
       "_view_count": null,
       "_view_module": null,
       "_view_module_version": "",
       "_view_name": null,
       "castShadow": false,
       "children": [],
       "color": "#ffffff",
       "frustumCulled": true,
       "intensity": 1,
       "matrix": [
        1,
        0,
        0,
        0,
        0,
        1,
        0,
        0,
        0,
        0,
        1,
        0,
        0,
        0,
        0,
        1
       ],
       "matrixAutoUpdate": true,
       "matrixWorld": [
        1,
        0,
        0,
        0,
        0,
        1,
        0,
        0,
        0,
        0,
        1,
        0,
        0,
        0,
        0,
        1
       ],
       "matrixWorldNeedsUpdate": false,
       "modelViewMatrix": [
        1,
        0,
        0,
        0,
        0,
        1,
        0,
        0,
        0,
        0,
        1,
        0,
        0,
        0,
        0,
        1
       ],
       "name": "",
       "normalMatrix": [
        1,
        0,
        0,
        0,
        1,
        0,
        0,
        0,
        1
       ],
       "position": [
        0,
        0,
        0
       ],
       "quaternion": [
        0,
        0,
        0,
        1
       ],
       "receiveShadow": false,
       "renderOrder": 0,
       "rotation": [
        0,
        0,
        0,
        "XYZ"
       ],
       "scale": [
        1,
        1,
        1
       ],
       "type": "AmbientLight",
       "up": [
        0,
        1,
        0
       ],
       "visible": true
      }
     },
     "a4b871c6f5f74cd9916b0a028449b72a": {
      "buffers": [
       {
        "data": "AAAAAG79iDxu/Qg9JnxNPW79iD3KPKs9JnzNPYG77z1u/Qg+HB0aPso8Kz54XDw+JnxNPtObXj6Bu28+mG2APm79iD5FjZE+HB2aPvOsoj7KPKs+ocyzPnhcvD5P7MQ+JnzNPv0L1j7Tm94+qivnPoG77z5YS/g+mG0AP4O1BD9u/Qg/WkUNP0WNET8x1RU/HB0aPwhlHj/zrCI/3/QmP8o8Kz+2hC8/ocwzP4wUOD94XDw/Y6RAP0/sRD86NEk/JnxNPxHEUT/9C1Y/6FNaP9ObXj+/42I/qitnP5Zzaz+Bu28/bQN0P1hLeD9Ek3w/mG2AP42Rgj+DtYQ/edmGP279iD9kIYs/WkWNP1Bpjz9FjZE/O7GTPzHVlT8n+Zc/HB2aPxJBnD8IZZ4//YigP/Osoj/p0KQ/3/SmP9QYqT/KPKs/wGCtP7aErz+rqLE/ocyzP5fwtT+MFLg/gji6P3hcvD9ugL4/Y6TAP1nIwj9P7MQ/RBDHPzo0yT8wWMs/JnzNPxugzz8RxNE/B+jTP/0L1j/yL9g/6FPaP9533D/Tm94/yb/gP7/j4j+1B+U/qivnP6BP6T+Wc+s/jJftP4G77z933/E/bQP0P2In9j9YS/g/Tm/6P0ST/D85t/4/mG0AQJJ/AUCNkQJAiKMDQIO1BEB+xwVAedkGQHTrB0Bu/QhAaQ8KQGQhC0BfMwxAWkUNQFVXDkBQaQ9ASnsQQEWNEUBAnxJAO7ETQDbDFEAx1RVALOcWQCf5F0AhCxlAHB0aQBcvG0ASQRxADVMdQAhlHkADdx9A/YggQPiaIUDzrCJA7r4jQOnQJEDk4iVA3/QmQNkGKEDUGClAzyoqQMo8K0DFTixAwGAtQLtyLkC2hC9AsJYwQKuoMUCmujJAocwzQJzeNECX8DVAkgI3QIwUOECHJjlAgjg6QH1KO0B4XDxAc249QG6APkBokj9AY6RAQF62QUBZyEJAVNpDQE/sREBK/kVARBBHQD8iSEA6NElANUZKQDBYS0ArakxAJnxNQCGOTkAboE9AFrJQQBHEUUAM1lJAB+hTQAL6VED9C1ZA9x1XQPIvWEDtQVlA6FNaQONlW0Ded1xA2YldQNObXkDOrV9Ayb9gQMTRYUC/42JAuvVjQLUHZUCwGWZAqitnQKU9aECgT2lAm2FqQJZza0CRhWxAjJdtQIapbkCBu29AfM1wQHffcUBy8XJAbQN0QGgVdUBiJ3ZAXTl3QFhLeEBTXXlATm96QEmBe0BEk3xAP6V9QDm3fkA0yX9AmG2AQJX2gECSf4FAkAiCQI2RgkCLGoNAiKODQIYshECDtYRAgD6FQH7HhUB7UIZAedmGQHZih0B064dAcXSIQG79iEBsholAaQ+KQGeYikBkIYtAYqqLQF8zjEBcvIxAWkWNQFfOjUBVV45AUuCOQFBpj0BN8o9ASnuQQEgEkUBFjZFAQxaSQECfkkA+KJNAO7GTQDk6lEA2w5RAM0yVQDHVlUAuXpZALOeWQClwl0An+ZdAJIKYQCELmUAflJlAHB2aQBqmmkAXL5tAFbibQBJBnEAPypxADVOdQArcnUAIZZ5ABe6eQAN3n0AAAKBA",
        "encoding": "base64",
        "path": [
         "times",
         "buffer"
        ]
       },
       {
        "data": "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",
        "encoding": "base64",
        "path": [
         "values",
         "buffer"
        ]
       }
      ],
      "model_module": "jupyter-threejs",
      "model_module_version": "^2.1.0",
      "model_name": "VectorKeyframeTrackModel",
      "state": {
       "_model_module": "jupyter-threejs",
       "_model_module_version": "^2.1.0",
       "_model_name": "VectorKeyframeTrackModel",
       "_view_count": null,
       "_view_module": null,
       "_view_module_version": "",
       "_view_name": null,
       "interpolation": "InterpolateLinear",
       "name": "scene/front frame d3.matrix",
       "times": {
        "dtype": "float32",
        "shape": [
         300
        ]
       },
       "values": {
        "dtype": "float32",
        "shape": [
         300,
         16
        ]
       }
      }
     },
     "a898708e522840fab17ddd9c8d095963": {
      "model_module": "jupyter-threejs",
      "model_module_version": "^2.1.0",
      "model_name": "MeshModel",
      "state": {
       "_model_module": "jupyter-threejs",
       "_model_module_version": "^2.1.0",
       "_model_name": "MeshModel",
       "_view_count": null,
       "_view_module": null,
       "_view_module_version": "",
       "_view_name": null,
       "castShadow": false,
       "children": [],
       "drawMode": "TrianglesDrawMode",
       "frustumCulled": true,
       "geometry": "IPY_MODEL_16964f1179304e2a815a62fd2f8efc72",
       "material": "IPY_MODEL_72e933345e3b4402b9ac44cbd75ad044",
       "matrix": [
        0,
        1,
        0,
        0,
        -0.9510565162951535,
        0,
        0.3090169943749475,
        0,
        0.3090169943749475,
        0,
        0.9510565162951535,
        0,
        0.45339577953117516,
        0,
        -0.44731721895855125,
        1
       ],
       "matrixAutoUpdate": false,
       "matrixWorld": [
        1,
        0,
        0,
        0,
        0,
        1,
        0,
        0,
        0,
        0,
        1,
        0,
        0,
        0,
        0,
        1
       ],
       "matrixWorldNeedsUpdate": false,
       "modelViewMatrix": [
        1,
        0,
        0,
        0,
        0,
        1,
        0,
        0,
        0,
        0,
        1,
        0,
        0,
        0,
        0,
        1
       ],
       "morphTargetInfluences": [],
       "name": "rear frame d1",
       "normalMatrix": [
        1,
        0,
        0,
        0,
        1,
        0,
        0,
        0,
        1
       ],
       "position": [
        0,
        0,
        0
       ],
       "quaternion": [
        0,
        0,
        0,
        1
       ],
       "receiveShadow": false,
       "renderOrder": 0,
       "rotation": [
        0,
        0,
        0,
        "XYZ"
       ],
       "scale": [
        1,
        1,
        1
       ],
       "type": "Mesh",
       "up": [
        0,
        1,
        0
       ],
       "visible": true
      }
     },
     "a92750f1ab9548499b03952aaba2808a": {
      "model_module": "jupyter-threejs",
      "model_module_version": "^2.1.0",
      "model_name": "CylinderBufferGeometryModel",
      "state": {
       "_model_module": "jupyter-threejs",
       "_model_module_version": "^2.1.0",
       "_model_name": "CylinderBufferGeometryModel",
       "_view_count": null,
       "_view_module": null,
       "_view_module_version": "",
       "_view_name": null,
       "height": 0.03207142672761929,
       "heightSegments": 1,
       "name": "",
       "openEnded": false,
       "radialSegments": 100,
       "radiusBottom": 0.02,
       "radiusTop": 0.02,
       "thetaLength": 6.283185307179586,
       "thetaStart": 0,
       "type": "CylinderBufferGeometry"
      }
     },
     "ae50b762ed974380b5f0113fd45ae8e1": {
      "model_module": "jupyter-threejs",
      "model_module_version": "^2.1.0",
      "model_name": "MeshStandardMaterialModel",
      "state": {
       "_model_module": "jupyter-threejs",
       "_model_module_version": "^2.1.0",
       "_model_name": "MeshStandardMaterialModel",
       "_view_count": null,
       "_view_module": null,
       "_view_module_version": "",
       "_view_name": null,
       "alphaMap": null,
       "alphaTest": 0,
       "aoMap": null,
       "aoMapIntensity": 1,
       "blendDst": "OneMinusSrcAlphaFactor",
       "blendDstAlpha": 0,
       "blendEquation": "AddEquation",
       "blendEquationAlpha": 0,
       "blendSrc": "SrcAlphaFactor",
       "blendSrcAlpha": 0,
       "blending": "NormalBlending",
       "bumpMap": null,
       "bumpScale": 1,
       "clipIntersection": false,
       "clipShadows": false,
       "clippingPlanes": [],
       "color": "blue",
       "colorWrite": true,
       "defines": {
        "STANDARD": ""
       },
       "depthFunc": "LessEqualDepth",
       "depthTest": true,
       "depthWrite": true,
       "displacementBias": 0,
       "displacementMap": null,
       "displacementScale": 1,
       "dithering": false,
       "emissive": "#000000",
       "emissiveIntensity": 1,
       "emissiveMap": null,
       "envMap": null,
       "envMapIntensity": 1,
       "flatShading": false,
       "fog": true,
       "lightMap": null,
       "lightMapIntensity": 1,
       "lights": true,
       "map": null,
       "metalness": 0.5,
       "metalnessMap": null,
       "morphNormals": false,
       "morphTargets": false,
       "name": "",
       "normalMap": null,
       "normalScale": [
        1,
        1
       ],
       "opacity": 1,
       "overdraw": 0,
       "polygonOffset": false,
       "polygonOffsetFactor": 0,
       "polygonOffsetUnits": 0,
       "precision": null,
       "premultipliedAlpha": false,
       "refractionRatio": 0.98,
       "roughness": 0.5,
       "roughnessMap": null,
       "shadowSide": null,
       "side": "FrontSide",
       "skinning": false,
       "transparent": false,
       "type": "MeshStandardMaterial",
       "vertexColors": "NoColors",
       "visible": true,
       "wireframe": false,
       "wireframeLinecap": "round",
       "wireframeLinejoin": "round",
       "wireframeLinewidth": 1
      }
     },
     "cb359eecf97846eea97bd04b8c3b6d94": {
      "model_module": "jupyter-threejs",
      "model_module_version": "^2.1.0",
      "model_name": "MeshModel",
      "state": {
       "_model_module": "jupyter-threejs",
       "_model_module_version": "^2.1.0",
       "_model_name": "MeshModel",
       "_view_count": null,
       "_view_module": null,
       "_view_module_version": "",
       "_view_name": null,
       "castShadow": false,
       "children": [],
       "drawMode": "TrianglesDrawMode",
       "frustumCulled": true,
       "geometry": "IPY_MODEL_6d45b5ecbdab4181a5fb23ea04ceef19",
       "material": "IPY_MODEL_ae50b762ed974380b5f0113fd45ae8e1",
       "matrix": [
        0.9510565162951535,
        1e-08,
        -0.3090169943749475,
        0,
        -9.510565162951535e-09,
        1,
        3.0901699437494753e-09,
        0,
        0.3090169943749475,
        0,
        0.9510565162951535,
        0,
        0.9000000000000002,
        2.610059280343244e-10,
        -0.7000000000000001,
        1
       ],
       "matrixAutoUpdate": false,
       "matrixWorld": [
        1,
        0,
        0,
        0,
        0,
        1,
        0,
        0,
        0,
        0,
        1,
        0,
        0,
        0,
        0,
        1
       ],
       "matrixWorldNeedsUpdate": false,
       "modelViewMatrix": [
        1,
        0,
        0,
        0,
        0,
        1,
        0,
        0,
        0,
        0,
        1,
        0,
        0,
        0,
        0,
        1
       ],
       "morphTargetInfluences": [],
       "name": "rear frame eo",
       "normalMatrix": [
        1,
        0,
        0,
        0,
        1,
        0,
        0,
        0,
        1
       ],
       "position": [
        0,
        0,
        0
       ],
       "quaternion": [
        0,
        0,
        0,
        1
       ],
       "receiveShadow": false,
       "renderOrder": 0,
       "rotation": [
        0,
        0,
        0,
        "XYZ"
       ],
       "scale": [
        1,
        1,
        1
       ],
       "type": "Mesh",
       "up": [
        0,
        1,
        0
       ],
       "visible": true
      }
     },
     "cd7b5ed2d14745f29fc106a83f357161": {
      "model_module": "jupyter-threejs",
      "model_module_version": "^2.1.0",
      "model_name": "DirectionalLightModel",
      "state": {
       "_model_module": "jupyter-threejs",
       "_model_module_version": "^2.1.0",
       "_model_name": "DirectionalLightModel",
       "_view_count": null,
       "_view_module": null,
       "_view_module_version": "",
       "_view_name": null,
       "castShadow": false,
       "children": [],
       "color": "#ffffff",
       "frustumCulled": true,
       "intensity": 1,
       "matrix": [
        1,
        0,
        0,
        0,
        0,
        1,
        0,
        0,
        0,
        0,
        1,
        0,
        0,
        0,
        0,
        1
       ],
       "matrixAutoUpdate": true,
       "matrixWorld": [
        1,
        0,
        0,
        0,
        0,
        1,
        0,
        0,
        0,
        0,
        1,
        0,
        0,
        0,
        0,
        1
       ],
       "matrixWorldNeedsUpdate": false,
       "modelViewMatrix": [
        1,
        0,
        0,
        0,
        0,
        1,
        0,
        0,
        0,
        0,
        1,
        0,
        0,
        0,
        0,
        1
       ],
       "name": "",
       "normalMatrix": [
        1,
        0,
        0,
        0,
        1,
        0,
        0,
        0,
        1
       ],
       "position": [
        0,
        0,
        0
       ],
       "quaternion": [
        0,
        0,
        0,
        1
       ],
       "receiveShadow": false,
       "renderOrder": 0,
       "rotation": [
        0,
        0,
        0,
        "XYZ"
       ],
       "scale": [
        1,
        1,
        1
       ],
       "shadow": "uninitialized",
       "target": "uninitialized",
       "type": "DirectionalLight",
       "up": [
        0,
        1,
        0
       ],
       "visible": true
      }
     },
     "ce2196d4c0494f2dbc80c3cd7b938c2f": {
      "model_module": "jupyter-threejs",
      "model_module_version": "^2.1.0",
      "model_name": "MeshModel",
      "state": {
       "_model_module": "jupyter-threejs",
       "_model_module_version": "^2.1.0",
       "_model_name": "MeshModel",
       "_view_count": null,
       "_view_module": null,
       "_view_module_version": "",
       "_view_name": null,
       "castShadow": false,
       "children": [],
       "drawMode": "TrianglesDrawMode",
       "frustumCulled": true,
       "geometry": "IPY_MODEL_9c5762c4872f474fb24830f70b2481a7",
       "material": "IPY_MODEL_94ee8416d1e44afeb490d3381de256c1",
       "matrix": [
        1,
        0,
        0,
        0,
        0,
        1,
        0,
        0,
        0,
        0,
        1,
        0,
        0,
        0,
        -0.3,
        1
       ],
       "matrixAutoUpdate": false,
       "matrixWorld": [
        1,
        0,
        0,
        0,
        0,
        1,
        0,
        0,
        0,
        0,
        1,
        0,
        0,
        0,
        0,
        1
       ],
       "matrixWorldNeedsUpdate": false,
       "modelViewMatrix": [
        1,
        0,
        0,
        0,
        0,
        1,
        0,
        0,
        0,
        0,
        1,
        0,
        0,
        0,
        0,
        1
       ],
       "morphTargetInfluences": [],
       "name": "rear wheel",
       "normalMatrix": [
        1,
        0,
        0,
        0,
        1,
        0,
        0,
        0,
        1
       ],
       "position": [
        0,
        0,
        0
       ],
       "quaternion": [
        0,
        0,
        0,
        1
       ],
       "receiveShadow": false,
       "renderOrder": 0,
       "rotation": [
        0,
        0,
        0,
        "XYZ"
       ],
       "scale": [
        1,
        1,
        1
       ],
       "type": "Mesh",
       "up": [
        0,
        1,
        0
       ],
       "visible": true
      }
     },
     "db43f27371084eed8834160c51e8528f": {
      "model_module": "jupyter-threejs",
      "model_module_version": "^2.1.0",
      "model_name": "MeshStandardMaterialModel",
      "state": {
       "_model_module": "jupyter-threejs",
       "_model_module_version": "^2.1.0",
       "_model_name": "MeshStandardMaterialModel",
       "_view_count": null,
       "_view_module": null,
       "_view_module_version": "",
       "_view_name": null,
       "alphaMap": null,
       "alphaTest": 0,
       "aoMap": null,
       "aoMapIntensity": 1,
       "blendDst": "OneMinusSrcAlphaFactor",
       "blendDstAlpha": 0,
       "blendEquation": "AddEquation",
       "blendEquationAlpha": 0,
       "blendSrc": "SrcAlphaFactor",
       "blendSrcAlpha": 0,
       "blending": "NormalBlending",
       "bumpMap": null,
       "bumpScale": 1,
       "clipIntersection": false,
       "clipShadows": false,
       "clippingPlanes": [],
       "color": "black",
       "colorWrite": true,
       "defines": {
        "STANDARD": ""
       },
       "depthFunc": "LessEqualDepth",
       "depthTest": true,
       "depthWrite": true,
       "displacementBias": 0,
       "displacementMap": null,
       "displacementScale": 1,
       "dithering": false,
       "emissive": "#000000",
       "emissiveIntensity": 1,
       "emissiveMap": null,
       "envMap": null,
       "envMapIntensity": 1,
       "flatShading": false,
       "fog": true,
       "lightMap": null,
       "lightMapIntensity": 1,
       "lights": true,
       "map": null,
       "metalness": 0.5,
       "metalnessMap": null,
       "morphNormals": false,
       "morphTargets": false,
       "name": "",
       "normalMap": null,
       "normalScale": [
        1,
        1
       ],
       "opacity": 1,
       "overdraw": 0,
       "polygonOffset": false,
       "polygonOffsetFactor": 0,
       "polygonOffsetUnits": 0,
       "precision": null,
       "premultipliedAlpha": false,
       "refractionRatio": 0.98,
       "roughness": 0.5,
       "roughnessMap": null,
       "shadowSide": null,
       "side": "FrontSide",
       "skinning": false,
       "transparent": false,
       "type": "MeshStandardMaterial",
       "vertexColors": "NoColors",
       "visible": true,
       "wireframe": false,
       "wireframeLinecap": "round",
       "wireframeLinejoin": "round",
       "wireframeLinewidth": 1
      }
     },
     "e1cbd52814294ff98dc93ece1a5ec493": {
      "model_module": "jupyter-threejs",
      "model_module_version": "^2.1.0",
      "model_name": "MeshModel",
      "state": {
       "_model_module": "jupyter-threejs",
       "_model_module_version": "^2.1.0",
       "_model_name": "MeshModel",
       "_view_count": null,
       "_view_module": null,
       "_view_module_version": "",
       "_view_name": null,
       "castShadow": false,
       "children": [],
       "drawMode": "TrianglesDrawMode",
       "frustumCulled": true,
       "geometry": "IPY_MODEL_a0a2e90fb0a64cccb308fd706268c19e",
       "material": "IPY_MODEL_5b6fe9e649b744d5a3f9adf23084aa01",
       "matrix": [
        0.9510565162951535,
        0,
        -0.3090169943749475,
        0,
        0,
        1,
        0,
        0,
        0.3090169943749475,
        0,
        0.9510565162951535,
        0,
        0.29999999999999993,
        0,
        -0.9,
        1
       ],
       "matrixAutoUpdate": false,
       "matrixWorld": [
        1,
        0,
        0,
        0,
        0,
        1,
        0,
        0,
        0,
        0,
        1,
        0,
        0,
        0,
        0,
        1
       ],
       "matrixWorldNeedsUpdate": false,
       "modelViewMatrix": [
        1,
        0,
        0,
        0,
        0,
        1,
        0,
        0,
        0,
        0,
        1,
        0,
        0,
        0,
        0,
        1
       ],
       "morphTargetInfluences": [],
       "name": "rear frame co",
       "normalMatrix": [
        1,
        0,
        0,
        0,
        1,
        0,
        0,
        0,
        1
       ],
       "position": [
        0,
        0,
        0
       ],
       "quaternion": [
        0,
        0,
        0,
        1
       ],
       "receiveShadow": false,
       "renderOrder": 0,
       "rotation": [
        0,
        0,
        0,
        "XYZ"
       ],
       "scale": [
        1,
        1,
        1
       ],
       "type": "Mesh",
       "up": [
        0,
        1,
        0
       ],
       "visible": true
      }
     },
     "ef85136e90cb4cca9998c68244d5cb2c": {
      "model_module": "@jupyter-widgets/base",
      "model_module_version": "1.2.0",
      "model_name": "LayoutModel",
      "state": {
       "_model_module": "@jupyter-widgets/base",
       "_model_module_version": "1.2.0",
       "_model_name": "LayoutModel",
       "_view_count": null,
       "_view_module": "@jupyter-widgets/base",
       "_view_module_version": "1.2.0",
       "_view_name": "LayoutView",
       "align_content": null,
       "align_items": null,
       "align_self": null,
       "border": null,
       "bottom": null,
       "display": null,
       "flex": null,
       "flex_flow": null,
       "grid_area": null,
       "grid_auto_columns": null,
       "grid_auto_flow": null,
       "grid_auto_rows": null,
       "grid_column": null,
       "grid_gap": null,
       "grid_row": null,
       "grid_template_areas": null,
       "grid_template_columns": null,
       "grid_template_rows": null,
       "height": null,
       "justify_content": null,
       "justify_items": null,
       "left": null,
       "margin": null,
       "max_height": null,
       "max_width": null,
       "min_height": null,
       "min_width": null,
       "object_fit": null,
       "object_position": null,
       "order": null,
       "overflow": null,
       "overflow_x": null,
       "overflow_y": null,
       "padding": null,
       "right": null,
       "top": null,
       "visibility": null,
       "width": null
      }
     },
     "f72e0baa93c647a6a84530d22ac8d32d": {
      "model_module": "jupyter-threejs",
      "model_module_version": "^2.1.0",
      "model_name": "AnimationMixerModel",
      "state": {
       "_model_module": "jupyter-threejs",
       "_model_module_version": "^2.1.0",
       "_model_name": "AnimationMixerModel",
       "_view_count": null,
       "_view_module": null,
       "_view_module_version": "",
       "_view_name": null,
       "rootObject": "IPY_MODEL_a320ff32be664840a6396e00e79604a9",
       "time": 0,
       "timeScale": 1
      }
     },
     "fc07ae3feb2349d681527e28751037ad": {
      "model_module": "jupyter-threejs",
      "model_module_version": "^2.1.0",
      "model_name": "CylinderBufferGeometryModel",
      "state": {
       "_model_module": "jupyter-threejs",
       "_model_module_version": "^2.1.0",
       "_model_name": "CylinderBufferGeometryModel",
       "_view_count": null,
       "_view_module": null,
       "_view_module_version": "",
       "_view_name": null,
       "height": 0.01,
       "heightSegments": 1,
       "name": "",
       "openEnded": false,
       "radialSegments": 100,
       "radiusBottom": 0.35,
       "radiusTop": 0.35,
       "thetaLength": 6.283185307179586,
       "thetaStart": 0,
       "type": "CylinderBufferGeometry"
      }
     }
    },
    "version_major": 2,
    "version_minor": 0
   }
  }
 },
 "nbformat": 4,
 "nbformat_minor": 5
}
