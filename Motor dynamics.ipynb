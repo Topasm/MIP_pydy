{
 "cells": [
  {
   "cell_type": "code",
   "execution_count": null,
   "metadata": {},
   "outputs": [],
   "source": [
    "# Motor Dynamics\n",
    "\n",
    "Kt_r, Kt_f = symbols('Kt_r, Kt_f')     #motor torque constant\n",
    "\n",
    "I_r, I_f = symbols('I_r, I_f')       #motor amp\n",
    "\n",
    "#중력벡터\n",
    "Gravity = -m_b * g * N.z\n",
    "\n",
    "#모터 토크선언\n",
    "F_torque, R_torque = dynamicsymbols('tau_f, tau_r')\n",
    "\n",
    "F_torque = Kt_f * I_f\n",
    "\n",
    "R_torque = Kt_r * I_r\n",
    "\n",
    "#토크벡터 (바퀴>몸체로 전달하는 토크)\n",
    "motor_F = F_torque/R_f * F.y\n",
    "motor_R = R_torque/R_r * F.y\n",
    "\n",
    "Body_torque = -(motor_F + motor_R)\n",
    "Body_torque"
   ]
  }
 ],
 "metadata": {
  "kernelspec": {
   "display_name": "Python 3",
   "language": "python",
   "name": "python3"
  },
  "language_info": {
   "codemirror_mode": {
    "name": "ipython",
    "version": 3
   },
   "file_extension": ".py",
   "mimetype": "text/x-python",
   "name": "python",
   "nbconvert_exporter": "python",
   "pygments_lexer": "ipython3",
   "version": "3.9.5"
  }
 },
 "nbformat": 4,
 "nbformat_minor": 4
}
