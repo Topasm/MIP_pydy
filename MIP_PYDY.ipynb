{
 "cells": [
  {
   "cell_type": "markdown",
   "metadata": {},
   "source": [
    "# Mobile inverted pendulum python dynamics\n",
    "author:SeongHyeon Kim\n",
    "\n",
    "program:PYDY balancing robot simulator\n"
   ]
  },
  {
   "cell_type": "markdown",
   "metadata": {},
   "source": [
    "필요한 라이브러리 포함\n"
   ]
  },
  {
   "cell_type": "code",
   "execution_count": 75,
   "metadata": {},
   "outputs": [],
   "source": [
    "from sympy import sin, cos, symbols, solve, Matrix, init_printing\n",
    "from sympy.physics.mechanics import *\n",
    "from sympy.physics.vector import ReferenceFrame\n",
    "import sympy.physics.mechanics as me\n",
    "import sympy as sm\n",
    "import math as m\n",
    "import numpy as np\n"
   ]
  },
  {
   "cell_type": "code",
   "execution_count": 76,
   "metadata": {},
   "outputs": [],
   "source": [
    "init_vprinting()"
   ]
  },
  {
   "cell_type": "markdown",
   "metadata": {},
   "source": [
    "# Reference frames"
   ]
  },
  {
   "cell_type": "markdown",
   "metadata": {},
   "source": [
    "N은 외부의 기준 프레임. 속도를 0으로"
   ]
  },
  {
   "cell_type": "code",
   "execution_count": 108,
   "metadata": {},
   "outputs": [],
   "source": [
    "#Newtonian reference frame\n",
    "N=ReferenceFrame('N')\n",
    "\n",
    "# Define a world coordinate origin\n",
    "No = Point('No')\n",
    "No.set_vel(N, 0)"
   ]
  },
  {
   "cell_type": "markdown",
   "metadata": {},
   "source": [
    "변수선언"
   ]
  },
  {
   "cell_type": "code",
   "execution_count": 109,
   "metadata": {},
   "outputs": [],
   "source": [
    "#Robot heading Frame\n",
    "F = N.orientnew('F', 'Axis',[psi, N.z] )\n",
    "\n",
    "# Robot Reference Frame(Center of mass)\n",
    "P = F.orientnew('P', 'Axis', [theta, F.y])"
   ]
  },
  {
   "cell_type": "markdown",
   "metadata": {},
   "source": [
    "기준프레임.dcm(상대프레임)"
   ]
  },
  {
   "cell_type": "code",
   "execution_count": 110,
   "metadata": {
    "scrolled": true
   },
   "outputs": [
    {
     "data": {
      "text/latex": [
       "$\\displaystyle \\left[\\begin{matrix}\\operatorname{cos}\\left(\\psi\\right) & - \\operatorname{sin}\\left(\\psi\\right) & 0\\\\\\operatorname{sin}\\left(\\psi\\right) & \\operatorname{cos}\\left(\\psi\\right) & 0\\\\0 & 0 & 1\\end{matrix}\\right]$"
      ],
      "text/plain": [
       "⎡cos(ψ)  -sin(ψ)  0⎤\n",
       "⎢                  ⎥\n",
       "⎢sin(ψ)  cos(ψ)   0⎥\n",
       "⎢                  ⎥\n",
       "⎣  0        0     1⎦"
      ]
     },
     "execution_count": 110,
     "metadata": {},
     "output_type": "execute_result"
    }
   ],
   "source": [
    "N.dcm(F)"
   ]
  },
  {
   "cell_type": "code",
   "execution_count": 111,
   "metadata": {
    "scrolled": false
   },
   "outputs": [
    {
     "data": {
      "text/latex": [
       "$\\displaystyle \\left[\\begin{matrix}\\operatorname{cos}\\left(\\theta\\right) & 0 & \\operatorname{sin}\\left(\\theta\\right)\\\\0 & 1 & 0\\\\- \\operatorname{sin}\\left(\\theta\\right) & 0 & \\operatorname{cos}\\left(\\theta\\right)\\end{matrix}\\right]$"
      ],
      "text/plain": [
       "⎡cos(θ)   0  sin(θ)⎤\n",
       "⎢                  ⎥\n",
       "⎢   0     1    0   ⎥\n",
       "⎢                  ⎥\n",
       "⎣-sin(θ)  0  cos(θ)⎦"
      ]
     },
     "execution_count": 111,
     "metadata": {},
     "output_type": "execute_result"
    }
   ],
   "source": [
    "F.dcm(P)"
   ]
  },
  {
   "cell_type": "markdown",
   "metadata": {},
   "source": [
    "## Newtonian, Bodies, Frames, Particles, Points\n"
   ]
  },
  {
   "cell_type": "code",
   "execution_count": 130,
   "metadata": {},
   "outputs": [],
   "source": [
    "body_p_cm = me.Point('p_cm')\n",
    "body_p_f = me.ReferenceFrame('p_f')\n",
    "body_p = me.RigidBody('p', body_p_cm, body_p_f, sm.symbols('m'), (me.outer(body_p_f.x,body_p_f.x),body_p_cm))\n",
    "body_l_cm = me.Point('l_cm')\n",
    "body_l_f = me.ReferenceFrame('l_f')\n",
    "body_l = me.RigidBody('l', body_l_cm, body_l_f, sm.symbols('m'), (me.outer(body_l_f.x,body_l_f.x),body_l_cm))\n",
    "body_r_cm = me.Point('r_cm')\n",
    "body_r_f = me.ReferenceFrame('r_f')\n",
    "body_r = me.RigidBody('r', body_r_cm, body_r_f, sm.symbols('m'), (me.outer(body_r_f.x,body_r_f.x),body_r_cm))\n",
    "frame_f = me.ReferenceFrame('f')\n",
    "I = me.Point('i')\n",
    "LN = me.Point('ln')\n",
    "RN = me.Point('rn')\n",
    "\n"
   ]
  },
  {
   "cell_type": "markdown",
   "metadata": {},
   "source": [
    "## Variables, Constants and Specified"
   ]
  },
  {
   "cell_type": "code",
   "execution_count": 148,
   "metadata": {
    "scrolled": true
   },
   "outputs": [],
   "source": [
    "x = me.dynamicsymbols('x')\n",
    "xd = me.dynamicsymbols('x', 1)\n",
    "xd2 = me.dynamicsymbols('x', 2)\n",
    "theta = me.dynamicsymbols('theta')\n",
    "thetad = me.dynamicsymbols('theta', 1)\n",
    "thetad2 = me.dynamicsymbols('theta', 2)\n",
    "delta = me.dynamicsymbols('delta')\n",
    "deltad = me.dynamicsymbols('delta', 1)\n",
    "deltad2 = me.dynamicsymbols('delta', 2)\n",
    "wL = me.dynamicsymbols('wL')\n",
    "wLd = me.dynamicsymbols('wL', 1)\n",
    "wLd2 = me.dynamicsymbols('wL', 2)\n",
    "wR = me.dynamicsymbols('wR')\n",
    "wRd = me.dynamicsymbols('wR', 1)\n",
    "wRd2 = me.dynamicsymbols('wR', 2)\n",
    "tl, tr = me.dynamicsymbols('tL tR')\n",
    "g = sm.symbols('g', real=True)\n",
    "d = sm.symbols('d', real=True)\n",
    "R = sm.symbols('R', real=True)\n",
    "L = sm.symbols('L', real=True)"
   ]
  },
  {
   "cell_type": "markdown",
   "metadata": {},
   "source": [
    "## Position vectors"
   ]
  },
  {
   "cell_type": "markdown",
   "metadata": {},
   "source": [
    "P_No_I = x*F.x    # Point No to I\n",
    "P_I_Po = l*P.z    # Point I to mass center of P\n",
    "P_I_Lo = d*F.y    # Point I to center of wheel L\n",
    "P_I_Ro = -d*F.y   # Point I to center of wheel R\n",
    "P_Lo_LN = -R*F.z   # Center of wheel L to contact point LN\n",
    "P_Ro_RN = -R*F.z   # Center of wheel R to contact point RN"
   ]
  },
  {
   "cell_type": "code",
   "execution_count": 149,
   "metadata": {},
   "outputs": [],
   "source": [
    "I = No.locatenew('I', x*F.x)      # Point No to I\n",
    "\n",
    "Po = I.locatenew('Po', l*P.z)     # Point I to mass center of P\n",
    "\n",
    "Lo = I.locatenew('Lo', d*F.y)     # Point I to center of wheel L\n",
    "\n",
    "Ro = I.locatenew('Ro', -d*F.y)    # Point I to center of wheel R\n",
    "\n",
    "LN = Lo.locatenew('LN', -R*F.z)   # Center of wheel L to contact point LN\n",
    "\n",
    "RN = Ro.locatenew('RN', -R*F.z)   # Center of wheel R to contact point RN"
   ]
  },
  {
   "cell_type": "markdown",
   "metadata": {},
   "source": [
    "## Angular Velocities\n"
   ]
  },
  {
   "cell_type": "code",
   "execution_count": 150,
   "metadata": {},
   "outputs": [],
   "source": [
    "F.set_ang_vel(N, deltad*N.z)        # Angular velocity of F in N\n",
    "P.set_ang_vel(F, thetad*F.y)        # Angular velocity of P in F\n",
    "body_l_f.set_ang_vel(F, wLd*F.y)    # wL is related to w and v due to rolling\n",
    "body_r_f.set_ang_vel(F, wRd*F.y)    # wR is related to w and v due to rolling"
   ]
  },
  {
   "cell_type": "markdown",
   "metadata": {},
   "source": [
    "## Velocities of relevant points"
   ]
  },
  {
   "cell_type": "code",
   "execution_count": 167,
   "metadata": {},
   "outputs": [
    {
     "data": {
      "image/png": "[encoded data removed]",
      "text/latex": [
       "$\\displaystyle (- R \\dot{wL} - d \\dot{\\delta} + \\dot{x})\\mathbf{\\hat{f}_x}$"
      ],
      "text/plain": [
       "(-R⋅wL̇ - d⋅δ̇ + ẋ) f_x"
      ]
     },
     "execution_count": 167,
     "metadata": {},
     "output_type": "execute_result"
    }
   ],
   "source": [
    "V_I_N = I.set_vel(N, xd*F.x)            # Velocity of point I in N\n",
    "\n",
    "V_PO_N = Po.v2pt_theory(I,N,P)           # Velocity of center of mass of P\n",
    "\n",
    "V_LO_N = Lo.v2pt_theory(I, N,P,)         # Velocity of center of L\n",
    "\n",
    "V_RO_N = Ro.v2pt_theory(I,N,P)           # Velocity of center of R\n",
    "\n",
    "V_LN_N = LN.v2pt_theory(Lo,N,body_l_f)          # Velocity of contact point of L\n",
    "\n",
    "V_RN_N = RN.v2pt_theory(Ro,N,body_r_f)          # Velocity of contact point of R\n",
    "\n",
    "V_LN_N"
   ]
  },
  {
   "cell_type": "markdown",
   "metadata": {},
   "source": [
    "## Motion Constraints (relates wL and wR to w and v)\n"
   ]
  },
  {
   "cell_type": "code",
   "execution_count": 171,
   "metadata": {},
   "outputs": [
    {
     "data": {
      "image/png": "[encoded data removed]",
      "text/latex": [
       "$\\displaystyle - R \\dot{wR} + d \\dot{\\delta} + \\dot{x}$"
      ],
      "text/plain": [
       "-R⋅wṘ + d⋅δ̇ + ẋ"
      ]
     },
     "execution_count": 171,
     "metadata": {},
     "output_type": "execute_result"
    }
   ],
   "source": [
    " D1 = dot(V_LN_N, F.x)     #Rolling without slipping condition of L\n",
    "    \n",
    "# Dependent[1] = x' - d*delta' - R*wL'\n",
    " D2 = dot(V_RN_N, F.x)    #Rolling without slipping condition of R\n",
    "\n",
    " #Dependent[2] = x' + d*delta' - R*wR'\n",
    " D2\n",
    " "
   ]
  },
  {
   "cell_type": "code",
   "execution_count": 175,
   "metadata": {},
   "outputs": [],
   "source": [
    "#Constrain(Dependent[wLd,wRd])\n",
    "wLd = (xd-d*deltad)/R\n",
    "wRd = (xd+d*deltad)/R\n",
    "wLd2 = (xd2-d*deltad2)/R\n",
    "wRd2 = (xd2+d*deltad2)/R\n"
   ]
  },
  {
   "cell_type": "markdown",
   "metadata": {},
   "source": [
    "### Forces"
   ]
  },
  {
   "cell_type": "code",
   "execution_count": null,
   "metadata": {},
   "outputs": [],
   "source": [
    "Gravity(-g*N3>)\n",
    "FORCE_LO> = -g*M*N3>\n",
    "FORCE_PO> = -g*Mp*N3>\n",
    "FORCE_RO> = -g*M*N3>\n",
    "Torque(P/L, TL*F2>)\n",
    " % Torques on L\n",
    "TORQUE_L> = TL*F2>\n",
    " TORQUE_P> = -TL*F2>\n",
    ") Torque(P/R, TR*F2>)\n",
    " % Torques on R\n",
    " TORQUE_R> = TR*F2>\n",
    " TORQUE_P> = (-TL-TR)*F2>\n",
    ") %-----------------------------------------------------------------------------------\n"
   ]
  },
  {
   "cell_type": "code",
   "execution_count": null,
   "metadata": {},
   "outputs": [],
   "source": []
  },
  {
   "cell_type": "code",
   "execution_count": null,
   "metadata": {},
   "outputs": [],
   "source": []
  },
  {
   "cell_type": "code",
   "execution_count": null,
   "metadata": {},
   "outputs": [],
   "source": []
  },
  {
   "cell_type": "code",
   "execution_count": null,
   "metadata": {},
   "outputs": [],
   "source": []
  },
  {
   "cell_type": "code",
   "execution_count": null,
   "metadata": {},
   "outputs": [],
   "source": []
  },
  {
   "cell_type": "code",
   "execution_count": null,
   "metadata": {},
   "outputs": [],
   "source": []
  },
  {
   "cell_type": "code",
   "execution_count": null,
   "metadata": {},
   "outputs": [],
   "source": []
  },
  {
   "cell_type": "code",
   "execution_count": null,
   "metadata": {},
   "outputs": [],
   "source": []
  },
  {
   "cell_type": "code",
   "execution_count": null,
   "metadata": {},
   "outputs": [],
   "source": []
  },
  {
   "cell_type": "code",
   "execution_count": null,
   "metadata": {},
   "outputs": [],
   "source": []
  },
  {
   "cell_type": "markdown",
   "metadata": {},
   "source": [
    "## Body variables"
   ]
  },
  {
   "cell_type": "markdown",
   "metadata": {},
   "source": [
    "바퀴간 거리, 질량, 관성모멘트"
   ]
  },
  {
   "cell_type": "code",
   "execution_count": 10,
   "metadata": {},
   "outputs": [],
   "source": [
    "#Constants for the Robot body\n",
    "d = symbols('d')                                       #Distance from Front wheel to Rear wheel\n",
    "m_b = symbols('m_b')                                   #Mass of the body\n",
    "Ixx, Iyy, Izz = symbols('Ixx, Iyy, Izz')               #Moments of inertia of body"
   ]
  },
  {
   "cell_type": "markdown",
   "metadata": {},
   "source": [
    "P는 로봇의 무게중심기준계.F는 로봇 방향 기준계. Ff는 앞바퀴의 기준계.\n",
    "\n",
    "Ff의 속도 설정 diff() 는 미분을 의미한다."
   ]
  },
  {
   "cell_type": "code",
   "execution_count": 11,
   "metadata": {},
   "outputs": [],
   "source": [
    "# Front wheel Point\n",
    "Ff = O.locatenew('Ff', x*H.x)\n",
    "\n",
    "# Set the velocity of point Ff\n",
    "Ff.set_vel(N, dx*H.x)"
   ]
  },
  {
   "cell_type": "markdown",
   "metadata": {},
   "source": [
    "# Modeling Wheel (Joints)"
   ]
  },
  {
   "cell_type": "markdown",
   "metadata": {},
   "source": [
    "## Wheel Frames & Angular Velocities"
   ]
  },
  {
   "cell_type": "code",
   "execution_count": 12,
   "metadata": {},
   "outputs": [
    {
     "data": {
      "image/png": "[encoded data removed]",
      "text/latex": [
       "$\\displaystyle -  \\dot{\\omega}_{1}\\mathbf{\\hat{h}_y}$"
      ],
      "text/plain": [
       "-ω₁̇ h_y"
      ]
     },
     "execution_count": 12,
     "metadata": {},
     "output_type": "execute_result"
    }
   ],
   "source": [
    "# Create reference frames for wheels\n",
    "Wf = H.orientnew('Wf', 'Axis', [omega1, H.y])\n",
    "Wr = H.orientnew('Wr', 'Axis', [omega2, H.x])\n",
    "\n",
    "H.ang_vel_in(Wf)"
   ]
  },
  {
   "cell_type": "markdown",
   "metadata": {},
   "source": [
    "바퀴위치, 바퀴회전, 바퀴의 프레임 선언, 바퀴 강체선언\n",
    "\n",
    "\n",
    "기준.locatenew('이름', 이동*단위백터)\n"
   ]
  },
  {
   "cell_type": "code",
   "execution_count": 13,
   "metadata": {},
   "outputs": [],
   "source": [
    "# Points of front wheel\n",
    "F_wheel = Ff.locatenew('F_wheel', 0)\n",
    "R_wheel= Ff.locatenew('R_wheel', d*H.x)"
   ]
  },
  {
   "cell_type": "code",
   "execution_count": 14,
   "metadata": {},
   "outputs": [],
   "source": [
    "# Create rigid bodies for wheels\n",
    "Wheel_f = RigidBody('Wheel_f', F_wheel, Wf, m_wf, (Iw_f, F_wheel))\n",
    "Wheel_r = RigidBody('Wheel_r', R_wheel, Wr, m_wr, (Iw_r, R_wheel))"
   ]
  },
  {
   "cell_type": "markdown",
   "metadata": {},
   "source": [
    "## Modeling body"
   ]
  },
  {
   "cell_type": "code",
   "execution_count": 15,
   "metadata": {},
   "outputs": [],
   "source": [
    "# Calculate inertia of body\n",
    "Ib = inertia(H, Ixx, Iyy, Izz)\n",
    "\n",
    "# Center of mass of body\n",
    "CoM_x, CoM_z=symbols('M_x, M_z')\n",
    "\n",
    "#Point Center of mass\n",
    "Cm = Ff.locatenew('Cm', CoM_x*H.x + CoM_z*H.z)  #CoM 몸체 위치\n",
    "\n",
    "# Create a rigid body object for body\n",
    "Body = RigidBody('Body', Cm, P, m_b, (Ib, Cm))"
   ]
  },
  {
   "cell_type": "markdown",
   "metadata": {},
   "source": [
    "# Kinematical Differential Equations"
   ]
  },
  {
   "cell_type": "code",
   "execution_count": 16,
   "metadata": {},
   "outputs": [
    {
     "data": {
      "image/png": "[encoded data removed]",
      "text/latex": [
       "$\\displaystyle \\left[ x_{d} - \\dot{x}, \\  \\theta_{d} - \\dot{\\theta}, \\  \\psi_{d} - \\dot{\\psi}\\right]$"
      ],
      "text/plain": [
       "[x_d - ẋ, θ_d - θ̇, ψ_d - ψ̇]"
      ]
     },
     "execution_count": 16,
     "metadata": {},
     "output_type": "execute_result"
    }
   ],
   "source": [
    "kinematical_differential_equations = [dx - x.diff(),\n",
    "                                      dtheta - theta.diff(),\n",
    "                                      dpsi - psi.diff()]\n",
    "kinematical_differential_equations"
   ]
  },
  {
   "cell_type": "markdown",
   "metadata": {},
   "source": [
    "# 입력 속도"
   ]
  },
  {
   "cell_type": "code",
   "execution_count": 17,
   "metadata": {},
   "outputs": [],
   "source": [
    "H.set_ang_vel(N, dpsi*N.z )"
   ]
  },
  {
   "cell_type": "code",
   "execution_count": 18,
   "metadata": {},
   "outputs": [],
   "source": [
    "P.set_ang_vel(H, dtheta*H.x)"
   ]
  },
  {
   "cell_type": "markdown",
   "metadata": {},
   "source": [
    "### 각각의 각속도 (손풀이랑 같음)"
   ]
  },
  {
   "cell_type": "code",
   "execution_count": 19,
   "metadata": {},
   "outputs": [
    {
     "data": {
      "image/png": "[encoded data removed]",
      "text/latex": [
       "$\\displaystyle -  \\psi_{d}\\mathbf{\\hat{n}_z}$"
      ],
      "text/plain": [
       "-ψ_d n_z"
      ]
     },
     "execution_count": 19,
     "metadata": {},
     "output_type": "execute_result"
    }
   ],
   "source": [
    "#Yaw 각속도\n",
    "N.ang_vel_in(H)"
   ]
  },
  {
   "cell_type": "code",
   "execution_count": 20,
   "metadata": {
    "scrolled": true
   },
   "outputs": [
    {
     "data": {
      "image/png": "[encoded data removed]",
      "text/latex": [
       "$\\displaystyle -  \\psi_{d}\\mathbf{\\hat{n}_z} -  \\theta_{d}\\mathbf{\\hat{h}_x}$"
      ],
      "text/plain": [
       "-ψ_d n_z + -θ_d h_x"
      ]
     },
     "execution_count": 20,
     "metadata": {},
     "output_type": "execute_result"
    }
   ],
   "source": [
    "#몸체 각속도\n",
    "N.ang_vel_in(P)"
   ]
  },
  {
   "cell_type": "code",
   "execution_count": 21,
   "metadata": {},
   "outputs": [
    {
     "data": {
      "image/png": "[encoded data removed]",
      "text/latex": [
       "$\\displaystyle -  \\psi_{d}\\mathbf{\\hat{n}_z} -  \\dot{\\omega}_{1}\\mathbf{\\hat{h}_y}$"
      ],
      "text/plain": [
       "-ψ_d n_z + -ω₁̇ h_y"
      ]
     },
     "execution_count": 21,
     "metadata": {},
     "output_type": "execute_result"
    }
   ],
   "source": [
    "#앞바퀴 각속도\n",
    "N.ang_vel_in(Wf)"
   ]
  },
  {
   "cell_type": "code",
   "execution_count": 22,
   "metadata": {},
   "outputs": [
    {
     "data": {
      "image/png": "[encoded data removed]",
      "text/latex": [
       "$\\displaystyle -  \\psi_{d}\\mathbf{\\hat{n}_z} -  \\dot{\\omega}_{2}\\mathbf{\\hat{h}_x}$"
      ],
      "text/plain": [
       "-ψ_d n_z + -ω₂̇ h_x"
      ]
     },
     "execution_count": 22,
     "metadata": {},
     "output_type": "execute_result"
    }
   ],
   "source": [
    "#뒷바퀴 각속도\n",
    "N.ang_vel_in(Wr)"
   ]
  },
  {
   "cell_type": "markdown",
   "metadata": {},
   "source": [
    "### 각각의 Mass center 에서의 속도"
   ]
  },
  {
   "cell_type": "markdown",
   "metadata": {},
   "source": [
    "\n",
    "v2pt_theory는 선속도를 의미\n",
    "\n",
    "\n",
    "$$^I\\mathbf{v}^{P_2} = ^I\\mathbf{v}^{P_1} + ^I\\omega^A \\times \\mathbf{r}^{\\frac{P_2}{P_1}}$$\n",
    "\n",
    "The `Point.v2pt_theory()` method makes it easy to do this calculation.\n",
    "\n",
    "측정점.v2pt_theory(회전 중심점, 관찰틀, 회전틀(돌아가는 애))"
   ]
  },
  {
   "cell_type": "code",
   "execution_count": 23,
   "metadata": {},
   "outputs": [
    {
     "data": {
      "image/png": "[encoded data removed]",
      "text/latex": [
       "$\\displaystyle x_{d}\\mathbf{\\hat{h}_x}$"
      ],
      "text/plain": [
       "x_d h_x"
      ]
     },
     "execution_count": 23,
     "metadata": {},
     "output_type": "execute_result"
    }
   ],
   "source": [
    "#앞바퀴의 선속도\n",
    "F_wheel.v2pt_theory(Ff, N, Wf)"
   ]
  },
  {
   "cell_type": "code",
   "execution_count": 24,
   "metadata": {},
   "outputs": [
    {
     "data": {
      "image/png": "[encoded data removed]",
      "text/latex": [
       "$\\displaystyle x_{d}\\mathbf{\\hat{h}_x} + d \\psi_{d}\\mathbf{\\hat{h}_y}$"
      ],
      "text/plain": [
       "x_d h_x + d⋅ψ_d h_y"
      ]
     },
     "execution_count": 24,
     "metadata": {},
     "output_type": "execute_result"
    }
   ],
   "source": [
    "#뒷바퀴의 선속도\n",
    "R_wheel.v2pt_theory(Ff, N, Wr)"
   ]
  },
  {
   "cell_type": "code",
   "execution_count": 25,
   "metadata": {},
   "outputs": [
    {
     "data": {
      "image/png": "[encoded data removed]",
      "text/latex": [
       "$\\displaystyle x_{d}\\mathbf{\\hat{h}_x} + (M_{x} \\psi_{d} - M_{z} \\theta_{d})\\mathbf{\\hat{h}_y}$"
      ],
      "text/plain": [
       "x_d h_x + (Mₓ⋅ψ_d - M_z⋅θ_d) h_y"
      ]
     },
     "execution_count": 25,
     "metadata": {},
     "output_type": "execute_result"
    }
   ],
   "source": [
    "#몸의 질량중심의 속도\n",
    "Cm.v2pt_theory(Ff, N, P)"
   ]
  },
  {
   "cell_type": "markdown",
   "metadata": {},
   "source": [
    "### 토크와 힘 작용"
   ]
  },
  {
   "cell_type": "markdown",
   "metadata": {},
   "source": [
    "# Equation of motion include Motor Dynamics"
   ]
  },
  {
   "cell_type": "code",
   "execution_count": 26,
   "metadata": {},
   "outputs": [],
   "source": [
    "Kt_r, Kt_f = symbols('Kt_r, Kt_f')     #motor torque constant"
   ]
  },
  {
   "cell_type": "code",
   "execution_count": 27,
   "metadata": {},
   "outputs": [],
   "source": [
    "I_r, I_f = symbols('I_r, I_f')       #motor amp"
   ]
  },
  {
   "cell_type": "code",
   "execution_count": 28,
   "metadata": {},
   "outputs": [],
   "source": [
    "#중력벡터\n",
    "Gravity = -m_b * g * N.z"
   ]
  },
  {
   "cell_type": "code",
   "execution_count": 29,
   "metadata": {},
   "outputs": [],
   "source": [
    "#모터 토크선언\n",
    "F_torque, R_torque = dynamicsymbols('tau_f, tau_r')"
   ]
  },
  {
   "cell_type": "code",
   "execution_count": 30,
   "metadata": {},
   "outputs": [],
   "source": [
    "F_torque = Kt_f * I_f"
   ]
  },
  {
   "cell_type": "code",
   "execution_count": 31,
   "metadata": {},
   "outputs": [],
   "source": [
    "R_torque = Kt_r * I_r"
   ]
  },
  {
   "cell_type": "code",
   "execution_count": 32,
   "metadata": {},
   "outputs": [],
   "source": [
    "#토크벡터 (바퀴>몸체로 전달하는 토크)\n",
    "motor_F = F_torque/R_f * H.y\n",
    "motor_R = R_torque/R_r * H.x"
   ]
  },
  {
   "cell_type": "code",
   "execution_count": 33,
   "metadata": {},
   "outputs": [
    {
     "data": {
      "image/png": "[encoded data removed]",
      "text/latex": [
       "$\\displaystyle -  \\frac{I_{r} Kt_{r}}{R_{r}}\\mathbf{\\hat{h}_x} -  \\frac{I_{f} Kt_{f}}{R_{f}}\\mathbf{\\hat{h}_y}$"
      ],
      "text/plain": [
       "-Iᵣ⋅Ktᵣ        -I_f⋅Kt_f\n",
       "──────── h_x + ────────── h_y\n",
       "   Rᵣ             R_f"
      ]
     },
     "execution_count": 33,
     "metadata": {},
     "output_type": "execute_result"
    }
   ],
   "source": [
    "Body_torque = -(motor_F + motor_R)\n",
    "Body_torque"
   ]
  },
  {
   "cell_type": "code",
   "execution_count": 34,
   "metadata": {},
   "outputs": [],
   "source": [
    "Cm_grav_force = (Cm, Gravity)"
   ]
  },
  {
   "cell_type": "code",
   "execution_count": 35,
   "metadata": {},
   "outputs": [],
   "source": [
    "Fwheel_torque = (Wf, motor_F)"
   ]
  },
  {
   "cell_type": "code",
   "execution_count": 36,
   "metadata": {},
   "outputs": [],
   "source": [
    "Rwheel_torque = (Wr, motor_R)"
   ]
  },
  {
   "cell_type": "code",
   "execution_count": 37,
   "metadata": {},
   "outputs": [],
   "source": [
    "Body_torque = (P, Body_torque)"
   ]
  },
  {
   "cell_type": "markdown",
   "metadata": {},
   "source": [
    "# 운동방정식으로 만들자"
   ]
  },
  {
   "cell_type": "markdown",
   "metadata": {},
   "source": [
    "## Generalized Forces"
   ]
  },
  {
   "cell_type": "markdown",
   "metadata": {},
   "source": [
    "[토크힘] x [속도,각속도]\n",
    "\n",
    "[Cm속도, 앞바퀴각속도, 뒷바퀴각속도, 몸체 각속도] x [중력, 앞바퀴토크, 뒷바퀴토크, Cm토크] \n",
    "\n",
    "VnWxTnF"
   ]
  },
  {
   "cell_type": "code",
   "execution_count": 38,
   "metadata": {},
   "outputs": [],
   "source": [
    "from __future__ import print_function, division"
   ]
  },
  {
   "cell_type": "code",
   "execution_count": 39,
   "metadata": {},
   "outputs": [],
   "source": [
    "from sympy import trigsimp\n",
    "from sympy.physics.mechanics import KanesMethod"
   ]
  },
  {
   "cell_type": "code",
   "execution_count": 40,
   "metadata": {},
   "outputs": [],
   "source": [
    "from sympy.physics.vector import init_vprinting"
   ]
  },
  {
   "cell_type": "code",
   "execution_count": 41,
   "metadata": {
    "scrolled": true
   },
   "outputs": [
    {
     "data": {
      "image/png": "[encoded data removed]",
      "text/latex": [
       "$\\displaystyle \\left[ x, \\  \\theta, \\  \\psi\\right]$"
      ],
      "text/plain": [
       "[x, θ, ψ]"
      ]
     },
     "execution_count": 41,
     "metadata": {},
     "output_type": "execute_result"
    }
   ],
   "source": [
    "q = [x, theta, psi]\n",
    "q"
   ]
  },
  {
   "cell_type": "code",
   "execution_count": 42,
   "metadata": {},
   "outputs": [
    {
     "data": {
      "image/png": "[encoded data removed]",
      "text/latex": [
       "$\\displaystyle \\left[ x_{d}, \\  \\theta_{d}, \\  \\psi_{d}\\right]$"
      ],
      "text/plain": [
       "[x_d, θ_d, ψ_d]"
      ]
     },
     "execution_count": 42,
     "metadata": {},
     "output_type": "execute_result"
    }
   ],
   "source": [
    "dq = [dx,dtheta, dpsi]\n",
    "dq"
   ]
  },
  {
   "cell_type": "code",
   "execution_count": 43,
   "metadata": {},
   "outputs": [],
   "source": [
    "kane = KanesMethod(N, q, dq, kinematical_differential_equations)"
   ]
  },
  {
   "cell_type": "code",
   "execution_count": 44,
   "metadata": {},
   "outputs": [
    {
     "data": {
      "text/plain": [
       "[(Cm, - g*m_b*N.z),\n",
       " (Wf, I_f*Kt_f/R_f*H.y),\n",
       " (Wr, I_r*Kt_r/R_r*H.x),\n",
       " (P, - I_r*Kt_r/R_r*H.x - I_f*Kt_f/R_f*H.y)]"
      ]
     },
     "execution_count": 44,
     "metadata": {},
     "output_type": "execute_result"
    }
   ],
   "source": [
    "loads = [Cm_grav_force,\n",
    "        Fwheel_torque,\n",
    "        Rwheel_torque,\n",
    "        Body_torque]\n",
    "loads"
   ]
  },
  {
   "cell_type": "code",
   "execution_count": 45,
   "metadata": {},
   "outputs": [
    {
     "data": {
      "text/plain": [
       "[Body, Wheel_f, Wheel_r]"
      ]
     },
     "execution_count": 45,
     "metadata": {},
     "output_type": "execute_result"
    }
   ],
   "source": [
    "bodies = [Body, Wheel_f, Wheel_r]\n",
    "bodies"
   ]
  },
  {
   "cell_type": "code",
   "execution_count": 46,
   "metadata": {},
   "outputs": [],
   "source": [
    "fr, frstar = kane.kanes_equations(bodies, loads)"
   ]
  },
  {
   "cell_type": "markdown",
   "metadata": {},
   "source": [
    "### F + F* =0 식 (Kanes equation)"
   ]
  },
  {
   "cell_type": "code",
   "execution_count": 47,
   "metadata": {
    "scrolled": true
   },
   "outputs": [
    {
     "data": {
      "text/latex": [
       "$\\displaystyle \\left[\\begin{matrix}d m_{wr} \\psi^{2}_{d} + m_{b} \\left(M_{x} \\psi_{d} - M_{z} \\theta_{d}\\right) \\psi_{d} - \\left(m_{b} + m_{wf} + m_{wr}\\right) \\dot{x}_{d}\\\\- \\frac{I_{r} Kt_{r}}{R_{r}} + M_{x} M_{z} m_{b} \\dot{\\psi}_{d} + M_{z} m_{b} \\psi_{d} x_{d} - \\left(Ixx + M_{z}^{2} m_{b}\\right) \\dot{\\theta}_{d}\\\\M_{x} M_{z} m_{b} \\dot{\\theta}_{d} - M_{x} m_{b} \\psi_{d} x_{d} - d m_{wr} \\psi_{d} x_{d} - \\left(Izz + M_{x}^{2} m_{b} + d^{2} m_{wr} + 10\\right) \\dot{\\psi}_{d}\\end{matrix}\\right]$"
      ],
      "text/plain": [
       "⎡                   2                                                         \n",
       "⎢         d⋅m_wr⋅ψ_d  + m_b⋅(Mₓ⋅ψ_d - M_z⋅θ_d)⋅ψ_d - (m_b + m_wf + m_wr)⋅x_̇d \n",
       "⎢                                                                             \n",
       "⎢           Iᵣ⋅Ktᵣ                                      ⎛         2    ⎞      \n",
       "⎢         - ────── + Mₓ⋅M_z⋅m_b⋅ψ_̇d + M_z⋅m_b⋅ψ_d⋅x_d - ⎝Ixx + M_z ⋅m_b⎠⋅θ_̇d\n",
       "⎢             Rᵣ                                                              \n",
       "⎢                                                                             \n",
       "⎢                                                   ⎛        2        2       \n",
       "⎣Mₓ⋅M_z⋅m_b⋅θ_̇d - Mₓ⋅m_b⋅ψ_d⋅x_d - d⋅m_wr⋅ψ_d⋅x_d - ⎝Izz + Mₓ ⋅m_b + d ⋅m_wr \n",
       "\n",
       "        ⎤\n",
       "         ⎥\n",
       "        ⎥\n",
       "        ⎥\n",
       "          ⎥\n",
       "        ⎥\n",
       "        ⎥\n",
       "   ⎞    ⎥\n",
       "+ 10⎠⋅ψ_̇d⎦"
      ]
     },
     "execution_count": 47,
     "metadata": {},
     "output_type": "execute_result"
    }
   ],
   "source": [
    "trigsimp(fr + frstar)"
   ]
  },
  {
   "cell_type": "code",
   "execution_count": 48,
   "metadata": {
    "scrolled": true
   },
   "outputs": [
    {
     "data": {
      "text/latex": [
       "$\\displaystyle \\left[\\begin{matrix}1 & 0 & 0 & 0 & 0 & 0\\\\0 & 1 & 0 & 0 & 0 & 0\\\\0 & 0 & 1 & 0 & 0 & 0\\\\0 & 0 & 0 & m_{b} + m_{wf} + m_{wr} & 0 & 0\\\\0 & 0 & 0 & 0 & Ixx + M_{z}^{2} m_{b} & - M_{x} M_{z} m_{b}\\\\0 & 0 & 0 & 0 & - M_{x} M_{z} m_{b} & Izz + M_{x}^{2} m_{b} + d^{2} m_{wr} + 10\\end{matrix}\\right]$"
      ],
      "text/plain": [
       "⎡1  0  0          0                0                      0              ⎤\n",
       "⎢                                                                        ⎥\n",
       "⎢0  1  0          0                0                      0              ⎥\n",
       "⎢                                                                        ⎥\n",
       "⎢0  0  1          0                0                      0              ⎥\n",
       "⎢                                                                        ⎥\n",
       "⎢0  0  0  m_b + m_wf + m_wr        0                      0              ⎥\n",
       "⎢                                                                        ⎥\n",
       "⎢                                     2                                  ⎥\n",
       "⎢0  0  0          0          Ixx + M_z ⋅m_b          -Mₓ⋅M_z⋅m_b         ⎥\n",
       "⎢                                                                        ⎥\n",
       "⎢                                                    2        2          ⎥\n",
       "⎣0  0  0          0           -Mₓ⋅M_z⋅m_b    Izz + Mₓ ⋅m_b + d ⋅m_wr + 10⎦"
      ]
     },
     "execution_count": 48,
     "metadata": {},
     "output_type": "execute_result"
    }
   ],
   "source": [
    "mass_matrix = trigsimp(kane.mass_matrix_full)\n",
    "mass_matrix"
   ]
  },
  {
   "cell_type": "code",
   "execution_count": 49,
   "metadata": {
    "scrolled": false
   },
   "outputs": [
    {
     "data": {
      "text/latex": [
       "$\\displaystyle \\left[\\begin{matrix}x_{d}\\\\\\theta_{d}\\\\\\psi_{d}\\\\d m_{wr} \\psi^{2}_{d} + m_{b} \\left(M_{x} \\psi_{d} - M_{z} \\theta_{d}\\right) \\psi_{d}\\\\- \\frac{I_{r} Kt_{r}}{R_{r}} + M_{z} m_{b} \\psi_{d} x_{d}\\\\- M_{x} m_{b} \\psi_{d} x_{d} - d m_{wr} \\psi_{d} x_{d}\\end{matrix}\\right]$"
      ],
      "text/plain": [
       "⎡                  x_d                   ⎤\n",
       "⎢                                        ⎥\n",
       "⎢                  θ_d                   ⎥\n",
       "⎢                                        ⎥\n",
       "⎢                  ψ_d                   ⎥\n",
       "⎢                                        ⎥\n",
       "⎢          2                             ⎥\n",
       "⎢d⋅m_wr⋅ψ_d  + m_b⋅(Mₓ⋅ψ_d - M_z⋅θ_d)⋅ψ_d⎥\n",
       "⎢                                        ⎥\n",
       "⎢         Iᵣ⋅Ktᵣ                         ⎥\n",
       "⎢       - ────── + M_z⋅m_b⋅ψ_d⋅x_d       ⎥\n",
       "⎢           Rᵣ                           ⎥\n",
       "⎢                                        ⎥\n",
       "⎣    -Mₓ⋅m_b⋅ψ_d⋅x_d - d⋅m_wr⋅ψ_d⋅x_d    ⎦"
      ]
     },
     "execution_count": 49,
     "metadata": {},
     "output_type": "execute_result"
    }
   ],
   "source": [
    "forcing_vector = trigsimp(kane.forcing_full)\n",
    "forcing_vector"
   ]
  },
  {
   "cell_type": "code",
   "execution_count": 50,
   "metadata": {},
   "outputs": [
    {
     "data": {
      "image/png": "[encoded data removed]",
      "text/latex": [
       "$\\displaystyle \\left\\{\\psi_{d}, \\theta_{d}, x_{d}\\right\\}$"
      ],
      "text/plain": [
       "{ψ_d, θ_d, x_d}"
      ]
     },
     "execution_count": 50,
     "metadata": {},
     "output_type": "execute_result"
    }
   ],
   "source": [
    "find_dynamicsymbols(kane.forcing)"
   ]
  },
  {
   "cell_type": "code",
   "execution_count": 51,
   "metadata": {},
   "outputs": [
    {
     "data": {
      "text/latex": [
       "$\\displaystyle \\left[\\begin{matrix}0\\\\- \\frac{I_{r} Kt_{r}}{R_{r}}\\\\0\\end{matrix}\\right]$"
      ],
      "text/plain": [
       "⎡   0    ⎤\n",
       "⎢        ⎥\n",
       "⎢-Iᵣ⋅Ktᵣ ⎥\n",
       "⎢────────⎥\n",
       "⎢   Rᵣ   ⎥\n",
       "⎢        ⎥\n",
       "⎣   0    ⎦"
      ]
     },
     "execution_count": 51,
     "metadata": {},
     "output_type": "execute_result"
    }
   ],
   "source": [
    "fr"
   ]
  },
  {
   "cell_type": "code",
   "execution_count": 52,
   "metadata": {
    "scrolled": true
   },
   "outputs": [
    {
     "data": {
      "text/latex": [
       "$\\displaystyle \\left[\\begin{matrix}d m_{wr} \\psi^{2}_{d} + m_{b} \\left(M_{x} \\psi_{d} - M_{z} \\theta_{d}\\right) \\psi_{d} - \\left(m_{b} + m_{wf} + m_{wr}\\right) \\dot{x}_{d}\\\\M_{x} M_{z} m_{b} \\dot{\\psi}_{d} + M_{z} m_{b} \\psi_{d} x_{d} - \\left(Ixx + M_{z}^{2} m_{b}\\right) \\dot{\\theta}_{d}\\\\M_{x} M_{z} m_{b} \\dot{\\theta}_{d} - M_{x} m_{b} \\psi_{d} x_{d} - d m_{wr} \\psi_{d} x_{d} - \\left(Izz + M_{x}^{2} m_{b} + d^{2} m_{wr} + 10\\right) \\dot{\\psi}_{d}\\end{matrix}\\right]$"
      ],
      "text/plain": [
       "⎡                   2                                                         \n",
       "⎢         d⋅m_wr⋅ψ_d  + m_b⋅(Mₓ⋅ψ_d - M_z⋅θ_d)⋅ψ_d - (m_b + m_wf + m_wr)⋅x_̇d \n",
       "⎢                                                                             \n",
       "⎢                                                  ⎛         2    ⎞           \n",
       "⎢               Mₓ⋅M_z⋅m_b⋅ψ_̇d + M_z⋅m_b⋅ψ_d⋅x_d - ⎝Ixx + M_z ⋅m_b⎠⋅θ_̇d     \n",
       "⎢                                                                             \n",
       "⎢                                                   ⎛        2        2       \n",
       "⎣Mₓ⋅M_z⋅m_b⋅θ_̇d - Mₓ⋅m_b⋅ψ_d⋅x_d - d⋅m_wr⋅ψ_d⋅x_d - ⎝Izz + Mₓ ⋅m_b + d ⋅m_wr \n",
       "\n",
       "        ⎤\n",
       "         ⎥\n",
       "        ⎥\n",
       "        ⎥\n",
       "          ⎥\n",
       "        ⎥\n",
       "   ⎞    ⎥\n",
       "+ 10⎠⋅ψ_̇d⎦"
      ]
     },
     "execution_count": 52,
     "metadata": {},
     "output_type": "execute_result"
    }
   ],
   "source": [
    "frstar"
   ]
  },
  {
   "cell_type": "markdown",
   "metadata": {},
   "source": [
    "# 선형화"
   ]
  },
  {
   "cell_type": "code",
   "execution_count": 53,
   "metadata": {},
   "outputs": [],
   "source": [
    "from numpy import array, zeros, eye, asarray, dot, rad2deg\n",
    "from numpy.linalg import inv"
   ]
  },
  {
   "cell_type": "code",
   "execution_count": 54,
   "metadata": {},
   "outputs": [],
   "source": [
    "%matplotlib inline"
   ]
  },
  {
   "cell_type": "code",
   "execution_count": 55,
   "metadata": {},
   "outputs": [],
   "source": [
    "from matplotlib.pyplot import plot, xlabel, ylabel, legend, rcParams"
   ]
  },
  {
   "cell_type": "code",
   "execution_count": 56,
   "metadata": {},
   "outputs": [],
   "source": [
    "rcParams['figure.figsize'] = (14, 8)"
   ]
  },
  {
   "cell_type": "code",
   "execution_count": 57,
   "metadata": {},
   "outputs": [],
   "source": [
    "from sympy import simplify, Matrix, matrix2numpy\n",
    "from sympy.physics.vector import init_vprinting, vlatex"
   ]
  },
  {
   "cell_type": "code",
   "execution_count": 58,
   "metadata": {},
   "outputs": [
    {
     "data": {
      "text/plain": [
       "'%.3f'"
      ]
     },
     "execution_count": 58,
     "metadata": {},
     "output_type": "execute_result"
    }
   ],
   "source": [
    "%precision 3"
   ]
  },
  {
   "cell_type": "code",
   "execution_count": 59,
   "metadata": {},
   "outputs": [
    {
     "data": {
      "text/plain": [
       "array([0., 0., 0., 0., 0., 0.])"
      ]
     },
     "execution_count": 59,
     "metadata": {},
     "output_type": "execute_result"
    }
   ],
   "source": [
    "equilibrium_point = zeros(len(q + dq))\n",
    "equilibrium_point"
   ]
  },
  {
   "cell_type": "code",
   "execution_count": 60,
   "metadata": {},
   "outputs": [
    {
     "data": {
      "image/png": "[encoded data removed]",
      "text/latex": [
       "$\\displaystyle \\left\\{ \\psi : 0.0, \\  \\psi_{d} : 0.0, \\  \\theta : 0.0, \\  \\theta_{d} : 0.0, \\  x : 0.0, \\  x_{d} : 0.0\\right\\}$"
      ],
      "text/plain": [
       "{ψ: 0.0, ψ_d: 0.0, θ: 0.0, θ_d: 0.0, x: 0.0, x_d: 0.0}"
      ]
     },
     "execution_count": 60,
     "metadata": {},
     "output_type": "execute_result"
    }
   ],
   "source": [
    "equilibrium_dict = dict(zip(q + dq, equilibrium_point))\n",
    "equilibrium_dict"
   ]
  },
  {
   "cell_type": "code",
   "execution_count": 61,
   "metadata": {},
   "outputs": [],
   "source": [
    "M, F_A, F_B, r = kane.linearize(new_method=True, op_point=equilibrium_dict)"
   ]
  },
  {
   "cell_type": "code",
   "execution_count": 62,
   "metadata": {},
   "outputs": [
    {
     "data": {
      "text/latex": [
       "$\\displaystyle \\left[\\begin{matrix}1 & 0 & 0 & 0 & 0 & 0\\\\0 & 1 & 0 & 0 & 0 & 0\\\\0 & 0 & 1 & 0 & 0 & 0\\\\0 & 0 & 0 & - m_{b} - m_{wf} - m_{wr} & 0 & 0\\\\0 & 0 & 0 & 0 & - Ixx - M_{z}^{2} m_{b} & M_{x} M_{z} m_{b}\\\\0 & 0 & 0 & 0 & M_{x} M_{z} m_{b} & - Izz - M_{x}^{2} m_{b} - d^{2} m_{wr} - 10\\end{matrix}\\right]$"
      ],
      "text/plain": [
       "⎡1  0  0          0                  0                       0              ⎤\n",
       "⎢                                                                           ⎥\n",
       "⎢0  1  0          0                  0                       0              ⎥\n",
       "⎢                                                                           ⎥\n",
       "⎢0  0  1          0                  0                       0              ⎥\n",
       "⎢                                                                           ⎥\n",
       "⎢0  0  0  -m_b - m_wf - m_wr         0                       0              ⎥\n",
       "⎢                                                                           ⎥\n",
       "⎢                                       2                                   ⎥\n",
       "⎢0  0  0          0           -Ixx - M_z ⋅m_b           Mₓ⋅M_z⋅m_b          ⎥\n",
       "⎢                                                                           ⎥\n",
       "⎢                                                       2        2          ⎥\n",
       "⎣0  0  0          0             Mₓ⋅M_z⋅m_b     -Izz - Mₓ ⋅m_b - d ⋅m_wr - 10⎦"
      ]
     },
     "execution_count": 62,
     "metadata": {},
     "output_type": "execute_result"
    }
   ],
   "source": [
    "simplify(M)"
   ]
  },
  {
   "cell_type": "code",
   "execution_count": 63,
   "metadata": {},
   "outputs": [
    {
     "data": {
      "text/latex": [
       "$\\displaystyle \\left[\\begin{matrix}0 & 0 & 0 & 1 & 0 & 0\\\\0 & 0 & 0 & 0 & 1 & 0\\\\0 & 0 & 0 & 0 & 0 & 1\\\\0 & 0 & 0 & 0 & 0 & 0\\\\0 & 0 & 0 & 0 & 0 & 0\\\\0 & 0 & 0 & 0 & 0 & 0\\end{matrix}\\right]$"
      ],
      "text/plain": [
       "⎡0  0  0  1  0  0⎤\n",
       "⎢                ⎥\n",
       "⎢0  0  0  0  1  0⎥\n",
       "⎢                ⎥\n",
       "⎢0  0  0  0  0  1⎥\n",
       "⎢                ⎥\n",
       "⎢0  0  0  0  0  0⎥\n",
       "⎢                ⎥\n",
       "⎢0  0  0  0  0  0⎥\n",
       "⎢                ⎥\n",
       "⎣0  0  0  0  0  0⎦"
      ]
     },
     "execution_count": 63,
     "metadata": {},
     "output_type": "execute_result"
    }
   ],
   "source": [
    "simplify(F_A)"
   ]
  },
  {
   "cell_type": "code",
   "execution_count": 64,
   "metadata": {},
   "outputs": [
    {
     "data": {
      "text/latex": [
       "$\\displaystyle \\left[\\begin{matrix}\\end{matrix}\\right]$"
      ],
      "text/plain": [
       "[]"
      ]
     },
     "execution_count": 64,
     "metadata": {},
     "output_type": "execute_result"
    }
   ],
   "source": [
    "simplify(F_B) "
   ]
  },
  {
   "cell_type": "markdown",
   "metadata": {},
   "source": [
    "# Simulation"
   ]
  },
  {
   "cell_type": "code",
   "execution_count": 65,
   "metadata": {},
   "outputs": [],
   "source": [
    "from sympy import Dummy, lambdify\n",
    "from numpy import array, hstack, zeros, linspace, pi\n",
    "from numpy.linalg import solve\n",
    "from scipy.integrate import odeint"
   ]
  },
  {
   "cell_type": "markdown",
   "metadata": {},
   "source": [
    "### System parameter"
   ]
  },
  {
   "cell_type": "code",
   "execution_count": 66,
   "metadata": {},
   "outputs": [
    {
     "data": {
      "image/png": "[encoded data removed]",
      "text/latex": [
       "$\\displaystyle \\left\\{ g : 9.81, \\  m_{b} : 10.0, \\  m_{wf} : 5.0, \\  m_{wr} : 3.0\\right\\}$"
      ],
      "text/plain": [
       "{g: 9.81, m_b: 10.0, m_wf: 5.0, m_wr: 3.0}"
      ]
     },
     "execution_count": 66,
     "metadata": {},
     "output_type": "execute_result"
    }
   ],
   "source": [
    "parameters= [g, m_b ,m_wf, m_wr]\n",
    "parameter_vals=[9.81, 10., 5., 3.]\n",
    "parameter_dict = dict(zip(parameters, parameter_vals))\n",
    "parameter_dict"
   ]
  },
  {
   "cell_type": "markdown",
   "metadata": {},
   "source": [
    "# Control"
   ]
  },
  {
   "cell_type": "code",
   "execution_count": 67,
   "metadata": {},
   "outputs": [],
   "source": [
    "import control\n",
    "from numpy import dot\n",
    "from numpy.linalg import matrix_rank"
   ]
  },
  {
   "cell_type": "code",
   "execution_count": null,
   "metadata": {},
   "outputs": [],
   "source": []
  },
  {
   "cell_type": "code",
   "execution_count": null,
   "metadata": {},
   "outputs": [],
   "source": []
  }
 ],
 "metadata": {
  "kernelspec": {
   "display_name": "Python 3",
   "language": "python",
   "name": "python3"
  },
  "language_info": {
   "codemirror_mode": {
    "name": "ipython",
    "version": 3
   },
   "file_extension": ".py",
   "mimetype": "text/x-python",
   "name": "python",
   "nbconvert_exporter": "python",
   "pygments_lexer": "ipython3",
   "version": "3.7.4"
  }
 },
 "nbformat": 4,
 "nbformat_minor": 2
}
